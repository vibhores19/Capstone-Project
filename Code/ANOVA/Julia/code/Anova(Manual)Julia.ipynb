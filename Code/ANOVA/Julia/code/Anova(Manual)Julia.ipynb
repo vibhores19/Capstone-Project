{
 "cells": [
  {
   "cell_type": "code",
   "execution_count": 1,
   "id": "68b7740d",
   "metadata": {},
   "outputs": [],
   "source": [
    "using CSV\n",
    "using DataFrames\n",
    "using GLM\n",
    "using StatsBase \n",
    "using Distributions\n",
    "using PrettyTables \n",
    "using StatsModels\n",
    "using CategoricalArrays\n"
   ]
  },
  {
   "cell_type": "code",
   "execution_count": 2,
   "id": "2fb1682a",
   "metadata": {},
   "outputs": [
    {
     "data": {
      "text/html": [
       "<div><div style = \"float: left;\"><span>40×3 DataFrame</span></div><div style = \"float: right;\"><span style = \"font-style: italic;\">15 rows omitted</span></div><div style = \"clear: both;\"></div></div><div class = \"data-frame\" style = \"overflow-x: scroll;\"><table class = \"data-frame\" style = \"margin-bottom: 6px;\"><thead><tr class = \"header\"><th class = \"rowNumber\" style = \"font-weight: bold; text-align: right;\">Row</th><th style = \"text-align: left;\">source</th><th style = \"text-align: left;\">type</th><th style = \"text-align: left;\">weightgain</th></tr><tr class = \"subheader headerLastRow\"><th class = \"rowNumber\" style = \"font-weight: bold; text-align: right;\"></th><th title = \"String7\" style = \"text-align: left;\">String7</th><th title = \"String7\" style = \"text-align: left;\">String7</th><th title = \"Int64\" style = \"text-align: left;\">Int64</th></tr></thead><tbody><tr><td class = \"rowNumber\" style = \"font-weight: bold; text-align: right;\">1</td><td style = \"text-align: left;\">Beef</td><td style = \"text-align: left;\">Low</td><td style = \"text-align: right;\">90</td></tr><tr><td class = \"rowNumber\" style = \"font-weight: bold; text-align: right;\">2</td><td style = \"text-align: left;\">Beef</td><td style = \"text-align: left;\">Low</td><td style = \"text-align: right;\">76</td></tr><tr><td class = \"rowNumber\" style = \"font-weight: bold; text-align: right;\">3</td><td style = \"text-align: left;\">Beef</td><td style = \"text-align: left;\">Low</td><td style = \"text-align: right;\">90</td></tr><tr><td class = \"rowNumber\" style = \"font-weight: bold; text-align: right;\">4</td><td style = \"text-align: left;\">Beef</td><td style = \"text-align: left;\">Low</td><td style = \"text-align: right;\">64</td></tr><tr><td class = \"rowNumber\" style = \"font-weight: bold; text-align: right;\">5</td><td style = \"text-align: left;\">Beef</td><td style = \"text-align: left;\">Low</td><td style = \"text-align: right;\">86</td></tr><tr><td class = \"rowNumber\" style = \"font-weight: bold; text-align: right;\">6</td><td style = \"text-align: left;\">Beef</td><td style = \"text-align: left;\">Low</td><td style = \"text-align: right;\">51</td></tr><tr><td class = \"rowNumber\" style = \"font-weight: bold; text-align: right;\">7</td><td style = \"text-align: left;\">Beef</td><td style = \"text-align: left;\">Low</td><td style = \"text-align: right;\">72</td></tr><tr><td class = \"rowNumber\" style = \"font-weight: bold; text-align: right;\">8</td><td style = \"text-align: left;\">Beef</td><td style = \"text-align: left;\">Low</td><td style = \"text-align: right;\">90</td></tr><tr><td class = \"rowNumber\" style = \"font-weight: bold; text-align: right;\">9</td><td style = \"text-align: left;\">Beef</td><td style = \"text-align: left;\">Low</td><td style = \"text-align: right;\">95</td></tr><tr><td class = \"rowNumber\" style = \"font-weight: bold; text-align: right;\">10</td><td style = \"text-align: left;\">Beef</td><td style = \"text-align: left;\">Low</td><td style = \"text-align: right;\">78</td></tr><tr><td class = \"rowNumber\" style = \"font-weight: bold; text-align: right;\">11</td><td style = \"text-align: left;\">Beef</td><td style = \"text-align: left;\">High</td><td style = \"text-align: right;\">73</td></tr><tr><td class = \"rowNumber\" style = \"font-weight: bold; text-align: right;\">12</td><td style = \"text-align: left;\">Beef</td><td style = \"text-align: left;\">High</td><td style = \"text-align: right;\">102</td></tr><tr><td class = \"rowNumber\" style = \"font-weight: bold; text-align: right;\">13</td><td style = \"text-align: left;\">Beef</td><td style = \"text-align: left;\">High</td><td style = \"text-align: right;\">118</td></tr><tr><td style = \"text-align: right;\">&vellip;</td><td style = \"text-align: right;\">&vellip;</td><td style = \"text-align: right;\">&vellip;</td><td style = \"text-align: right;\">&vellip;</td></tr><tr><td class = \"rowNumber\" style = \"font-weight: bold; text-align: right;\">29</td><td style = \"text-align: left;\">Cereal</td><td style = \"text-align: left;\">Low</td><td style = \"text-align: right;\">89</td></tr><tr><td class = \"rowNumber\" style = \"font-weight: bold; text-align: right;\">30</td><td style = \"text-align: left;\">Cereal</td><td style = \"text-align: left;\">Low</td><td style = \"text-align: right;\">58</td></tr><tr><td class = \"rowNumber\" style = \"font-weight: bold; text-align: right;\">31</td><td style = \"text-align: left;\">Cereal</td><td style = \"text-align: left;\">High</td><td style = \"text-align: right;\">98</td></tr><tr><td class = \"rowNumber\" style = \"font-weight: bold; text-align: right;\">32</td><td style = \"text-align: left;\">Cereal</td><td style = \"text-align: left;\">High</td><td style = \"text-align: right;\">74</td></tr><tr><td class = \"rowNumber\" style = \"font-weight: bold; text-align: right;\">33</td><td style = \"text-align: left;\">Cereal</td><td style = \"text-align: left;\">High</td><td style = \"text-align: right;\">56</td></tr><tr><td class = \"rowNumber\" style = \"font-weight: bold; text-align: right;\">34</td><td style = \"text-align: left;\">Cereal</td><td style = \"text-align: left;\">High</td><td style = \"text-align: right;\">111</td></tr><tr><td class = \"rowNumber\" style = \"font-weight: bold; text-align: right;\">35</td><td style = \"text-align: left;\">Cereal</td><td style = \"text-align: left;\">High</td><td style = \"text-align: right;\">95</td></tr><tr><td class = \"rowNumber\" style = \"font-weight: bold; text-align: right;\">36</td><td style = \"text-align: left;\">Cereal</td><td style = \"text-align: left;\">High</td><td style = \"text-align: right;\">88</td></tr><tr><td class = \"rowNumber\" style = \"font-weight: bold; text-align: right;\">37</td><td style = \"text-align: left;\">Cereal</td><td style = \"text-align: left;\">High</td><td style = \"text-align: right;\">82</td></tr><tr><td class = \"rowNumber\" style = \"font-weight: bold; text-align: right;\">38</td><td style = \"text-align: left;\">Cereal</td><td style = \"text-align: left;\">High</td><td style = \"text-align: right;\">77</td></tr><tr><td class = \"rowNumber\" style = \"font-weight: bold; text-align: right;\">39</td><td style = \"text-align: left;\">Cereal</td><td style = \"text-align: left;\">High</td><td style = \"text-align: right;\">86</td></tr><tr><td class = \"rowNumber\" style = \"font-weight: bold; text-align: right;\">40</td><td style = \"text-align: left;\">Cereal</td><td style = \"text-align: left;\">High</td><td style = \"text-align: right;\">92</td></tr></tbody></table></div>"
      ],
      "text/latex": [
       "\\begin{tabular}{r|ccc}\n",
       "\t& source & type & weightgain\\\\\n",
       "\t\\hline\n",
       "\t& String7 & String7 & Int64\\\\\n",
       "\t\\hline\n",
       "\t1 & Beef & Low & 90 \\\\\n",
       "\t2 & Beef & Low & 76 \\\\\n",
       "\t3 & Beef & Low & 90 \\\\\n",
       "\t4 & Beef & Low & 64 \\\\\n",
       "\t5 & Beef & Low & 86 \\\\\n",
       "\t6 & Beef & Low & 51 \\\\\n",
       "\t7 & Beef & Low & 72 \\\\\n",
       "\t8 & Beef & Low & 90 \\\\\n",
       "\t9 & Beef & Low & 95 \\\\\n",
       "\t10 & Beef & Low & 78 \\\\\n",
       "\t11 & Beef & High & 73 \\\\\n",
       "\t12 & Beef & High & 102 \\\\\n",
       "\t13 & Beef & High & 118 \\\\\n",
       "\t14 & Beef & High & 104 \\\\\n",
       "\t15 & Beef & High & 81 \\\\\n",
       "\t16 & Beef & High & 107 \\\\\n",
       "\t17 & Beef & High & 100 \\\\\n",
       "\t18 & Beef & High & 87 \\\\\n",
       "\t19 & Beef & High & 117 \\\\\n",
       "\t20 & Beef & High & 111 \\\\\n",
       "\t21 & Cereal & Low & 107 \\\\\n",
       "\t22 & Cereal & Low & 95 \\\\\n",
       "\t23 & Cereal & Low & 97 \\\\\n",
       "\t24 & Cereal & Low & 80 \\\\\n",
       "\t25 & Cereal & Low & 98 \\\\\n",
       "\t26 & Cereal & Low & 74 \\\\\n",
       "\t27 & Cereal & Low & 74 \\\\\n",
       "\t28 & Cereal & Low & 67 \\\\\n",
       "\t29 & Cereal & Low & 89 \\\\\n",
       "\t30 & Cereal & Low & 58 \\\\\n",
       "\t$\\dots$ & $\\dots$ & $\\dots$ & $\\dots$ \\\\\n",
       "\\end{tabular}\n"
      ],
      "text/plain": [
       "\u001b[1m40×3 DataFrame\u001b[0m\n",
       "\u001b[1m Row \u001b[0m│\u001b[1m source  \u001b[0m\u001b[1m type    \u001b[0m\u001b[1m weightgain \u001b[0m\n",
       "     │\u001b[90m String7 \u001b[0m\u001b[90m String7 \u001b[0m\u001b[90m Int64      \u001b[0m\n",
       "─────┼──────────────────────────────\n",
       "   1 │ Beef     Low              90\n",
       "   2 │ Beef     Low              76\n",
       "   3 │ Beef     Low              90\n",
       "   4 │ Beef     Low              64\n",
       "   5 │ Beef     Low              86\n",
       "   6 │ Beef     Low              51\n",
       "   7 │ Beef     Low              72\n",
       "   8 │ Beef     Low              90\n",
       "   9 │ Beef     Low              95\n",
       "  10 │ Beef     Low              78\n",
       "  11 │ Beef     High             73\n",
       "  ⋮  │    ⋮        ⋮         ⋮\n",
       "  31 │ Cereal   High             98\n",
       "  32 │ Cereal   High             74\n",
       "  33 │ Cereal   High             56\n",
       "  34 │ Cereal   High            111\n",
       "  35 │ Cereal   High             95\n",
       "  36 │ Cereal   High             88\n",
       "  37 │ Cereal   High             82\n",
       "  38 │ Cereal   High             77\n",
       "  39 │ Cereal   High             86\n",
       "  40 │ Cereal   High             92\n",
       "\u001b[36m                     19 rows omitted\u001b[0m"
      ]
     },
     "execution_count": 2,
     "metadata": {},
     "output_type": "execute_result"
    }
   ],
   "source": [
    "weightgain = CSV.read(\"/Users/VSR/Desktop/Capstone/ANOVA/weightgain.csv\", DataFrame)"
   ]
  },
  {
   "cell_type": "code",
   "execution_count": 3,
   "id": "751c9c61",
   "metadata": {},
   "outputs": [
    {
     "data": {
      "text/plain": [
       "StatsModels.TableRegressionModel{LinearModel{GLM.LmResp{Vector{Float64}}, GLM.DensePredChol{Float64, LinearAlgebra.CholeskyPivoted{Float64, Matrix{Float64}, Vector{Int64}}}}, Matrix{Float64}}\n",
       "\n",
       "weightgain ~ 1 + source + type + source & type\n",
       "\n",
       "Coefficients:\n",
       "──────────────────────────────────────────────────────────────────────────────────────\n",
       "                            Coef.  Std. Error      t  Pr(>|t|)   Lower 95%   Upper 95%\n",
       "──────────────────────────────────────────────────────────────────────────────────────\n",
       "(Intercept)                 100.0     4.72858  21.15    <1e-21   90.41      109.59\n",
       "source: Cereal              -14.1     6.68722  -2.11    0.0420  -27.6623     -0.537693\n",
       "type: Low                   -20.8     6.68722  -3.11    0.0036  -34.3623     -7.23769\n",
       "source: Cereal & type: Low   18.8     9.45715   1.99    0.0545   -0.379999   37.98\n",
       "──────────────────────────────────────────────────────────────────────────────────────"
      ]
     },
     "execution_count": 3,
     "metadata": {},
     "output_type": "execute_result"
    }
   ],
   "source": [
    "# Fit the model (two-way ANOVA)\n",
    "model = lm(@formula(weightgain ~ source * type), weightgain)\n",
    "\n"
   ]
  },
  {
   "cell_type": "code",
   "execution_count": 4,
   "id": "47989a5b",
   "metadata": {},
   "outputs": [
    {
     "data": {
      "text/plain": [
       "40-element Vector{Float64}:\n",
       "  79.19999999999999\n",
       "  79.19999999999999\n",
       "  79.19999999999999\n",
       "  79.19999999999999\n",
       "  79.19999999999999\n",
       "  79.19999999999999\n",
       "  79.19999999999999\n",
       "  79.19999999999999\n",
       "  79.19999999999999\n",
       "  79.19999999999999\n",
       " 100.00000000000004\n",
       " 100.00000000000004\n",
       " 100.00000000000004\n",
       "   ⋮\n",
       "  83.89999999999998\n",
       "  83.89999999999998\n",
       "  85.89999999999999\n",
       "  85.89999999999999\n",
       "  85.89999999999999\n",
       "  85.89999999999999\n",
       "  85.89999999999999\n",
       "  85.89999999999999\n",
       "  85.89999999999999\n",
       "  85.89999999999999\n",
       "  85.89999999999999\n",
       "  85.89999999999999"
      ]
     },
     "execution_count": 4,
     "metadata": {},
     "output_type": "execute_result"
    }
   ],
   "source": [
    "predicted_values = predict(model)"
   ]
  },
  {
   "cell_type": "code",
   "execution_count": 5,
   "id": "a72b73bd",
   "metadata": {},
   "outputs": [
    {
     "name": "stdout",
     "output_type": "stream",
     "text": [
      "StatsModels.TableRegressionModel{LinearModel{GLM.LmResp{Vector{Float64}}, GLM.DensePredChol{Float64, LinearAlgebra.CholeskyPivoted{Float64, Matrix{Float64}, Vector{Int64}}}}, Matrix{Float64}}\n"
     ]
    }
   ],
   "source": [
    "# Display the summary which includes the ANOVA results\n",
    "println(summary(model))"
   ]
  },
  {
   "cell_type": "code",
   "execution_count": 6,
   "id": "87fb31a8",
   "metadata": {},
   "outputs": [
    {
     "data": {
      "text/plain": [
       "40"
      ]
     },
     "execution_count": 6,
     "metadata": {},
     "output_type": "execute_result"
    }
   ],
   "source": [
    "\n",
    "# Get the total number of observations\n",
    "N = nrow(weightgain)\n",
    "\n"
   ]
  },
  {
   "cell_type": "code",
   "execution_count": 7,
   "id": "15163ad3",
   "metadata": {},
   "outputs": [
    {
     "data": {
      "text/plain": [
       "87.25"
      ]
     },
     "execution_count": 7,
     "metadata": {},
     "output_type": "execute_result"
    }
   ],
   "source": [
    "overall_mean = mean(weightgain.weightgain)"
   ]
  },
  {
   "cell_type": "code",
   "execution_count": 8,
   "id": "284a454c",
   "metadata": {},
   "outputs": [
    {
     "data": {
      "text/html": [
       "<div><div style = \"float: left;\"><span>2×2 DataFrame</span></div><div style = \"clear: both;\"></div></div><div class = \"data-frame\" style = \"overflow-x: scroll;\"><table class = \"data-frame\" style = \"margin-bottom: 6px;\"><thead><tr class = \"header\"><th class = \"rowNumber\" style = \"font-weight: bold; text-align: right;\">Row</th><th style = \"text-align: left;\">source</th><th style = \"text-align: left;\">mean_weightgain</th></tr><tr class = \"subheader headerLastRow\"><th class = \"rowNumber\" style = \"font-weight: bold; text-align: right;\"></th><th title = \"String7\" style = \"text-align: left;\">String7</th><th title = \"Float64\" style = \"text-align: left;\">Float64</th></tr></thead><tbody><tr><td class = \"rowNumber\" style = \"font-weight: bold; text-align: right;\">1</td><td style = \"text-align: left;\">Beef</td><td style = \"text-align: right;\">89.6</td></tr><tr><td class = \"rowNumber\" style = \"font-weight: bold; text-align: right;\">2</td><td style = \"text-align: left;\">Cereal</td><td style = \"text-align: right;\">84.9</td></tr></tbody></table></div>"
      ],
      "text/latex": [
       "\\begin{tabular}{r|cc}\n",
       "\t& source & mean\\_weightgain\\\\\n",
       "\t\\hline\n",
       "\t& String7 & Float64\\\\\n",
       "\t\\hline\n",
       "\t1 & Beef & 89.6 \\\\\n",
       "\t2 & Cereal & 84.9 \\\\\n",
       "\\end{tabular}\n"
      ],
      "text/plain": [
       "\u001b[1m2×2 DataFrame\u001b[0m\n",
       "\u001b[1m Row \u001b[0m│\u001b[1m source  \u001b[0m\u001b[1m mean_weightgain \u001b[0m\n",
       "     │\u001b[90m String7 \u001b[0m\u001b[90m Float64         \u001b[0m\n",
       "─────┼──────────────────────────\n",
       "   1 │ Beef                89.6\n",
       "   2 │ Cereal              84.9"
      ]
     },
     "execution_count": 8,
     "metadata": {},
     "output_type": "execute_result"
    }
   ],
   "source": [
    "# Calculate means for source, type, and their interaction\n",
    "means_source = combine(groupby(weightgain, :source), :weightgain => mean => :mean_weightgain)\n"
   ]
  },
  {
   "cell_type": "code",
   "execution_count": 9,
   "id": "54734b22",
   "metadata": {},
   "outputs": [
    {
     "data": {
      "text/html": [
       "<div><div style = \"float: left;\"><span>2×2 DataFrame</span></div><div style = \"clear: both;\"></div></div><div class = \"data-frame\" style = \"overflow-x: scroll;\"><table class = \"data-frame\" style = \"margin-bottom: 6px;\"><thead><tr class = \"header\"><th class = \"rowNumber\" style = \"font-weight: bold; text-align: right;\">Row</th><th style = \"text-align: left;\">type</th><th style = \"text-align: left;\">mean_weightgain</th></tr><tr class = \"subheader headerLastRow\"><th class = \"rowNumber\" style = \"font-weight: bold; text-align: right;\"></th><th title = \"String7\" style = \"text-align: left;\">String7</th><th title = \"Float64\" style = \"text-align: left;\">Float64</th></tr></thead><tbody><tr><td class = \"rowNumber\" style = \"font-weight: bold; text-align: right;\">1</td><td style = \"text-align: left;\">Low</td><td style = \"text-align: right;\">81.55</td></tr><tr><td class = \"rowNumber\" style = \"font-weight: bold; text-align: right;\">2</td><td style = \"text-align: left;\">High</td><td style = \"text-align: right;\">92.95</td></tr></tbody></table></div>"
      ],
      "text/latex": [
       "\\begin{tabular}{r|cc}\n",
       "\t& type & mean\\_weightgain\\\\\n",
       "\t\\hline\n",
       "\t& String7 & Float64\\\\\n",
       "\t\\hline\n",
       "\t1 & Low & 81.55 \\\\\n",
       "\t2 & High & 92.95 \\\\\n",
       "\\end{tabular}\n"
      ],
      "text/plain": [
       "\u001b[1m2×2 DataFrame\u001b[0m\n",
       "\u001b[1m Row \u001b[0m│\u001b[1m type    \u001b[0m\u001b[1m mean_weightgain \u001b[0m\n",
       "     │\u001b[90m String7 \u001b[0m\u001b[90m Float64         \u001b[0m\n",
       "─────┼──────────────────────────\n",
       "   1 │ Low                81.55\n",
       "   2 │ High               92.95"
      ]
     },
     "execution_count": 9,
     "metadata": {},
     "output_type": "execute_result"
    }
   ],
   "source": [
    "means_type = combine(groupby(weightgain, :type), :weightgain => mean => :mean_weightgain)"
   ]
  },
  {
   "cell_type": "code",
   "execution_count": 10,
   "id": "cbe0208e",
   "metadata": {},
   "outputs": [
    {
     "data": {
      "text/html": [
       "<div><div style = \"float: left;\"><span>4×3 DataFrame</span></div><div style = \"clear: both;\"></div></div><div class = \"data-frame\" style = \"overflow-x: scroll;\"><table class = \"data-frame\" style = \"margin-bottom: 6px;\"><thead><tr class = \"header\"><th class = \"rowNumber\" style = \"font-weight: bold; text-align: right;\">Row</th><th style = \"text-align: left;\">source</th><th style = \"text-align: left;\">type</th><th style = \"text-align: left;\">mean_weightgain</th></tr><tr class = \"subheader headerLastRow\"><th class = \"rowNumber\" style = \"font-weight: bold; text-align: right;\"></th><th title = \"String7\" style = \"text-align: left;\">String7</th><th title = \"String7\" style = \"text-align: left;\">String7</th><th title = \"Float64\" style = \"text-align: left;\">Float64</th></tr></thead><tbody><tr><td class = \"rowNumber\" style = \"font-weight: bold; text-align: right;\">1</td><td style = \"text-align: left;\">Beef</td><td style = \"text-align: left;\">Low</td><td style = \"text-align: right;\">79.2</td></tr><tr><td class = \"rowNumber\" style = \"font-weight: bold; text-align: right;\">2</td><td style = \"text-align: left;\">Beef</td><td style = \"text-align: left;\">High</td><td style = \"text-align: right;\">100.0</td></tr><tr><td class = \"rowNumber\" style = \"font-weight: bold; text-align: right;\">3</td><td style = \"text-align: left;\">Cereal</td><td style = \"text-align: left;\">Low</td><td style = \"text-align: right;\">83.9</td></tr><tr><td class = \"rowNumber\" style = \"font-weight: bold; text-align: right;\">4</td><td style = \"text-align: left;\">Cereal</td><td style = \"text-align: left;\">High</td><td style = \"text-align: right;\">85.9</td></tr></tbody></table></div>"
      ],
      "text/latex": [
       "\\begin{tabular}{r|ccc}\n",
       "\t& source & type & mean\\_weightgain\\\\\n",
       "\t\\hline\n",
       "\t& String7 & String7 & Float64\\\\\n",
       "\t\\hline\n",
       "\t1 & Beef & Low & 79.2 \\\\\n",
       "\t2 & Beef & High & 100.0 \\\\\n",
       "\t3 & Cereal & Low & 83.9 \\\\\n",
       "\t4 & Cereal & High & 85.9 \\\\\n",
       "\\end{tabular}\n"
      ],
      "text/plain": [
       "\u001b[1m4×3 DataFrame\u001b[0m\n",
       "\u001b[1m Row \u001b[0m│\u001b[1m source  \u001b[0m\u001b[1m type    \u001b[0m\u001b[1m mean_weightgain \u001b[0m\n",
       "     │\u001b[90m String7 \u001b[0m\u001b[90m String7 \u001b[0m\u001b[90m Float64         \u001b[0m\n",
       "─────┼───────────────────────────────────\n",
       "   1 │ Beef     Low                 79.2\n",
       "   2 │ Beef     High               100.0\n",
       "   3 │ Cereal   Low                 83.9\n",
       "   4 │ Cereal   High                85.9"
      ]
     },
     "execution_count": 10,
     "metadata": {},
     "output_type": "execute_result"
    }
   ],
   "source": [
    "means_interaction = combine(groupby(weightgain, [:source, :type]), :weightgain => mean => :mean_weightgain)"
   ]
  },
  {
   "cell_type": "code",
   "execution_count": 11,
   "id": "2ad399f4",
   "metadata": {},
   "outputs": [
    {
     "name": "stdout",
     "output_type": "stream",
     "text": [
      "Overall Mean: 87.25\n",
      "Means by Source: \u001b[1m2×2 DataFrame\u001b[0m\n",
      "\u001b[1m Row \u001b[0m│\u001b[1m source  \u001b[0m\u001b[1m mean_weightgain \u001b[0m\n",
      "     │\u001b[90m String7 \u001b[0m\u001b[90m Float64         \u001b[0m\n",
      "─────┼──────────────────────────\n",
      "   1 │ Beef                89.6\n",
      "   2 │ Cereal              84.9\n",
      "Means by Type: \u001b[1m2×2 DataFrame\u001b[0m\n",
      "\u001b[1m Row \u001b[0m│\u001b[1m type    \u001b[0m\u001b[1m mean_weightgain \u001b[0m\n",
      "     │\u001b[90m String7 \u001b[0m\u001b[90m Float64         \u001b[0m\n",
      "─────┼──────────────────────────\n",
      "   1 │ Low                81.55\n",
      "   2 │ High               92.95\n",
      "Means by Source and Type: \u001b[1m4×3 DataFrame\u001b[0m\n",
      "\u001b[1m Row \u001b[0m│\u001b[1m source  \u001b[0m\u001b[1m type    \u001b[0m\u001b[1m mean_weightgain \u001b[0m\n",
      "     │\u001b[90m String7 \u001b[0m\u001b[90m String7 \u001b[0m\u001b[90m Float64         \u001b[0m\n",
      "─────┼───────────────────────────────────\n",
      "   1 │ Beef     Low                 79.2\n",
      "   2 │ Beef     High               100.0\n",
      "   3 │ Cereal   Low                 83.9\n",
      "   4 │ Cereal   High                85.9\n"
     ]
    }
   ],
   "source": [
    "# Display the means\n",
    "println(\"Overall Mean: \", overall_mean)\n",
    "println(\"Means by Source: \", means_source)\n",
    "println(\"Means by Type: \", means_type)\n",
    "println(\"Means by Source and Type: \", means_interaction)"
   ]
  },
  {
   "cell_type": "markdown",
   "id": "1fa936f3",
   "metadata": {},
   "source": [
    "## SUM of Squares"
   ]
  },
  {
   "cell_type": "code",
   "execution_count": 12,
   "id": "1087f5d9",
   "metadata": {},
   "outputs": [
    {
     "data": {
      "text/plain": [
       "10453.5"
      ]
     },
     "execution_count": 12,
     "metadata": {},
     "output_type": "execute_result"
    }
   ],
   "source": [
    "SS_total = sum((weightgain.weightgain .- overall_mean).^2)\n"
   ]
  },
  {
   "cell_type": "code",
   "execution_count": 13,
   "id": "17d52017",
   "metadata": {},
   "outputs": [
    {
     "data": {
      "text/plain": [
       "220.89999999999893"
      ]
     },
     "execution_count": 13,
     "metadata": {},
     "output_type": "execute_result"
    }
   ],
   "source": [
    "SS_between_source = sum([count(weightgain.source .== s) * (mean(weightgain.weightgain[weightgain.source .== s]) - overall_mean)^2 for s in unique(weightgain.source)])\n"
   ]
  },
  {
   "cell_type": "code",
   "execution_count": 14,
   "id": "c5912f63",
   "metadata": {},
   "outputs": [
    {
     "data": {
      "text/plain": [
       "1299.6000000000013"
      ]
     },
     "execution_count": 14,
     "metadata": {},
     "output_type": "execute_result"
    }
   ],
   "source": [
    "SS_between_type = sum([count(weightgain.type .== t) * (mean(weightgain.weightgain[weightgain.type .== t]) - overall_mean)^2 for t in unique(weightgain.type)])\n"
   ]
  },
  {
   "cell_type": "code",
   "execution_count": 15,
   "id": "ca7e59c7",
   "metadata": {},
   "outputs": [
    {
     "data": {
      "text/plain": [
       "8049.400000000001"
      ]
     },
     "execution_count": 15,
     "metadata": {},
     "output_type": "execute_result"
    }
   ],
   "source": [
    "residuals = weightgain.weightgain .- predicted_values\n",
    "SS_residual = sum(residuals.^2)"
   ]
  },
  {
   "cell_type": "code",
   "execution_count": 16,
   "id": "3a35ef8e",
   "metadata": {},
   "outputs": [
    {
     "data": {
      "text/plain": [
       "883.5999999999985"
      ]
     },
     "execution_count": 16,
     "metadata": {},
     "output_type": "execute_result"
    }
   ],
   "source": [
    "SS_between_interaction = SS_total-(SS_between_source + SS_between_type + SS_residual )"
   ]
  },
  {
   "cell_type": "markdown",
   "id": "8f09f82e",
   "metadata": {},
   "source": [
    "## Degree of Freedom"
   ]
  },
  {
   "cell_type": "code",
   "execution_count": 17,
   "id": "beb74699",
   "metadata": {},
   "outputs": [
    {
     "data": {
      "text/plain": [
       "1"
      ]
     },
     "execution_count": 17,
     "metadata": {},
     "output_type": "execute_result"
    }
   ],
   "source": [
    "# Calculate degrees of freedom\n",
    "df_source = length(unique(weightgain.source)) - 1\n"
   ]
  },
  {
   "cell_type": "code",
   "execution_count": 18,
   "id": "0b8d4e88",
   "metadata": {},
   "outputs": [
    {
     "data": {
      "text/plain": [
       "1"
      ]
     },
     "execution_count": 18,
     "metadata": {},
     "output_type": "execute_result"
    }
   ],
   "source": [
    "df_type = length(unique(weightgain.type)) - 1\n"
   ]
  },
  {
   "cell_type": "code",
   "execution_count": 19,
   "id": "8fffe1ac",
   "metadata": {},
   "outputs": [
    {
     "data": {
      "text/plain": [
       "1"
      ]
     },
     "execution_count": 19,
     "metadata": {},
     "output_type": "execute_result"
    }
   ],
   "source": [
    "df_interaction = df_source * df_type\n"
   ]
  },
  {
   "cell_type": "code",
   "execution_count": 20,
   "id": "25a41543",
   "metadata": {},
   "outputs": [
    {
     "data": {
      "text/plain": [
       "36"
      ]
     },
     "execution_count": 20,
     "metadata": {},
     "output_type": "execute_result"
    }
   ],
   "source": [
    "df_residual = N - (length(unique(weightgain.source)) * length(unique(weightgain.type)))\n"
   ]
  },
  {
   "cell_type": "markdown",
   "id": "17f15515",
   "metadata": {},
   "source": [
    "# Mean Square Calculation\n"
   ]
  },
  {
   "cell_type": "code",
   "execution_count": 21,
   "id": "87a935e1",
   "metadata": {},
   "outputs": [
    {
     "data": {
      "text/plain": [
       "220.89999999999893"
      ]
     },
     "execution_count": 21,
     "metadata": {},
     "output_type": "execute_result"
    }
   ],
   "source": [
    "MS_source = SS_between_source / df_source"
   ]
  },
  {
   "cell_type": "code",
   "execution_count": 22,
   "id": "71c243d7",
   "metadata": {},
   "outputs": [
    {
     "data": {
      "text/plain": [
       "1299.6000000000013"
      ]
     },
     "execution_count": 22,
     "metadata": {},
     "output_type": "execute_result"
    }
   ],
   "source": [
    "MS_type = SS_between_type / df_type\n"
   ]
  },
  {
   "cell_type": "code",
   "execution_count": 23,
   "id": "d509c11d",
   "metadata": {},
   "outputs": [
    {
     "data": {
      "text/plain": [
       "883.5999999999985"
      ]
     },
     "execution_count": 23,
     "metadata": {},
     "output_type": "execute_result"
    }
   ],
   "source": [
    "MS_interaction = SS_between_interaction / df_interaction\n"
   ]
  },
  {
   "cell_type": "code",
   "execution_count": 24,
   "id": "4f8cc10c",
   "metadata": {},
   "outputs": [
    {
     "data": {
      "text/plain": [
       "223.59444444444446"
      ]
     },
     "execution_count": 24,
     "metadata": {},
     "output_type": "execute_result"
    }
   ],
   "source": [
    "MS_residual = SS_residual / df_residual\n"
   ]
  },
  {
   "cell_type": "markdown",
   "id": "ccb99a0b",
   "metadata": {},
   "source": [
    "# F value"
   ]
  },
  {
   "cell_type": "code",
   "execution_count": 25,
   "id": "b3d3a309",
   "metadata": {},
   "outputs": [
    {
     "data": {
      "text/plain": [
       "0.9879494123785575"
      ]
     },
     "execution_count": 25,
     "metadata": {},
     "output_type": "execute_result"
    }
   ],
   "source": [
    "F_source = MS_source / MS_residual\n"
   ]
  },
  {
   "cell_type": "code",
   "execution_count": 26,
   "id": "0822b1ba",
   "metadata": {},
   "outputs": [
    {
     "data": {
      "text/plain": [
       "5.812308991974563"
      ]
     },
     "execution_count": 26,
     "metadata": {},
     "output_type": "execute_result"
    }
   ],
   "source": [
    "F_type = MS_type / MS_residual"
   ]
  },
  {
   "cell_type": "code",
   "execution_count": 27,
   "id": "a96d8a49",
   "metadata": {},
   "outputs": [
    {
     "data": {
      "text/plain": [
       "3.951797649514243"
      ]
     },
     "execution_count": 27,
     "metadata": {},
     "output_type": "execute_result"
    }
   ],
   "source": [
    "F_interaction = MS_interaction / MS_residual\n"
   ]
  },
  {
   "cell_type": "markdown",
   "id": "eabd515c",
   "metadata": {},
   "source": [
    "# P"
   ]
  },
  {
   "cell_type": "code",
   "execution_count": 28,
   "id": "7e3c1ee2-8ead-4174-97fe-79b509732fe0",
   "metadata": {},
   "outputs": [],
   "source": [
    "using HypothesisTests"
   ]
  },
  {
   "cell_type": "code",
   "execution_count": 29,
   "id": "1f0e5466",
   "metadata": {
    "scrolled": true
   },
   "outputs": [
    {
     "data": {
      "text/plain": [
       "0.32687831608407236"
      ]
     },
     "execution_count": 29,
     "metadata": {},
     "output_type": "execute_result"
    }
   ],
   "source": [
    "p_source = 1 - cdf(HypothesisTests.FDist(df_source, df_residual), F_source)"
   ]
  },
  {
   "cell_type": "code",
   "execution_count": 30,
   "id": "2af4e83c",
   "metadata": {},
   "outputs": [
    {
     "data": {
      "text/plain": [
       "0.054467569865000565"
      ]
     },
     "execution_count": 30,
     "metadata": {},
     "output_type": "execute_result"
    }
   ],
   "source": [
    "# Calculate p-values\n",
    "p_source = 1 - cdf(HypothesisTests.FDist(df_source, df_residual), F_source)\n",
    "p_type = 1 - cdf(FDist(df_type, df_residual), F_type)\n",
    "p_interaction = 1 - cdf(FDist(df_interaction, df_residual), F_interaction)\n"
   ]
  },
  {
   "cell_type": "code",
   "execution_count": 31,
   "id": "4366eeb2",
   "metadata": {},
   "outputs": [
    {
     "name": "stdout",
     "output_type": "stream",
     "text": [
      "Source         Df   Sum Sq   Mean Sq   F value   Pr(>F)\n",
      "source         1   220.89999999999893   220.89999999999893   0.9879494123785575   0.32687831608407236\n",
      "type           1   1299.6000000000013   1299.6000000000013   5.812308991974563   0.021144905965364225\n",
      "source:type    1   883.5999999999985   883.5999999999985   3.951797649514243   0.054467569865000565\n",
      "Residuals      36   8049.400000000001   223.59444444444446\n"
     ]
    }
   ],
   "source": [
    "# Display the ANOVA-like table\n",
    "println(\"Source         Df   Sum Sq   Mean Sq   F value   Pr(>F)\")\n",
    "println(\"source         \", df_source, \"   \", SS_between_source, \"   \", MS_source, \"   \", F_source, \"   \", p_source)\n",
    "println(\"type           \", df_type, \"   \", SS_between_type, \"   \", MS_type, \"   \", F_type, \"   \", p_type)\n",
    "println(\"source:type    \", df_interaction, \"   \", SS_between_interaction, \"   \", MS_interaction, \"   \", F_interaction, \"   \", p_interaction)\n",
    "println(\"Residuals      \", df_residual, \"   \", SS_residual, \"   \", MS_residual)"
   ]
  },
  {
   "cell_type": "code",
   "execution_count": 32,
   "id": "89ad0e74",
   "metadata": {},
   "outputs": [
    {
     "data": {
      "text/plain": [
       "0.32687831608407236"
      ]
     },
     "execution_count": 32,
     "metadata": {},
     "output_type": "execute_result"
    }
   ],
   "source": [
    "p_source = 1 - cdf(FDist(df_source, df_residual), F_source)\n"
   ]
  },
  {
   "cell_type": "code",
   "execution_count": 33,
   "id": "648c158a",
   "metadata": {},
   "outputs": [
    {
     "data": {
      "text/plain": [
       "0.021144905965364225"
      ]
     },
     "execution_count": 33,
     "metadata": {},
     "output_type": "execute_result"
    }
   ],
   "source": [
    "p_type = 1 - cdf(FDist(df_type, df_residual), F_type)\n"
   ]
  },
  {
   "cell_type": "code",
   "execution_count": 34,
   "id": "e92487b7",
   "metadata": {},
   "outputs": [
    {
     "data": {
      "text/plain": [
       "0.054467569865000565"
      ]
     },
     "execution_count": 34,
     "metadata": {},
     "output_type": "execute_result"
    }
   ],
   "source": [
    "p_interaction = 1 - cdf(FDist(df_interaction, df_residual), F_interaction)\n"
   ]
  },
  {
   "cell_type": "code",
   "execution_count": 35,
   "id": "518258f2",
   "metadata": {},
   "outputs": [
    {
     "name": "stdout",
     "output_type": "stream",
     "text": [
      "Source         Df Sum Sq Mean Sq   F value   Pr(>F)\n",
      "source         1   220.9   220.9   0.988   0.327\n",
      "type           1   1299.6   1299.6   5.812   0.021\n",
      "source:type    1   883.6   883.6   3.952   0.054\n",
      "Residuals      36   8049.4   223.594\n"
     ]
    }
   ],
   "source": [
    "# Display the ANOVA-like table with rounded values\n",
    "println(\"Source         Df Sum Sq Mean Sq   F value   Pr(>F)\")\n",
    "println(\"source         \", df_source, \"   \", round(SS_between_source, digits=3), \"   \", round(MS_source, digits=3), \"   \", round(F_source, digits=3), \"   \", round(p_source, digits=3))\n",
    "println(\"type           \", df_type, \"   \", round(SS_between_type, digits=3), \"   \", round(MS_type, digits=3), \"   \", round(F_type, digits=3), \"   \", round(p_type, digits=3))\n",
    "println(\"source:type    \", df_interaction, \"   \", round(SS_between_interaction, digits=3), \"   \", round(MS_interaction, digits=3), \"   \", round(F_interaction, digits=3), \"   \", round(p_interaction, digits=3))\n",
    "println(\"Residuals      \", df_residual, \"   \", round(SS_residual, digits=3), \"   \", round(MS_residual, digits=3))"
   ]
  },
  {
   "cell_type": "code",
   "execution_count": 36,
   "id": "b4a70b41",
   "metadata": {},
   "outputs": [
    {
     "data": {
      "text/plain": [
       "4-element Vector{Float64}:\n",
       " 100.00000000000004\n",
       " -14.10000000000005\n",
       " -20.800000000000047\n",
       "  18.800000000000047"
      ]
     },
     "execution_count": 36,
     "metadata": {},
     "output_type": "execute_result"
    }
   ],
   "source": [
    "coefficients = coef(model)"
   ]
  },
  {
   "cell_type": "code",
   "execution_count": 37,
   "id": "13b96e1f",
   "metadata": {},
   "outputs": [
    {
     "name": "stdout",
     "output_type": "stream",
     "text": [
      "Coefficients:\n",
      "[100.00000000000004, -14.10000000000005, -20.800000000000047, 18.800000000000047]\n"
     ]
    }
   ],
   "source": [
    "println(\"Coefficients:\")\n",
    "println(coefficients)"
   ]
  },
  {
   "cell_type": "code",
   "execution_count": 38,
   "id": "b264a089",
   "metadata": {},
   "outputs": [
    {
     "data": {
      "text/plain": [
       "4-element Vector{String}:\n",
       " \"(Intercept)\"\n",
       " \"source: Cereal\"\n",
       " \"type: Low\"\n",
       " \"source: Cereal & type: Low\""
      ]
     },
     "execution_count": 38,
     "metadata": {},
     "output_type": "execute_result"
    }
   ],
   "source": [
    "coeff_names = coefnames(model)\n"
   ]
  },
  {
   "cell_type": "code",
   "execution_count": 39,
   "id": "4e29b89c",
   "metadata": {
    "scrolled": true
   },
   "outputs": [
    {
     "data": {
      "text/html": [
       "<div><div style = \"float: left;\"><span>4×2 DataFrame</span></div><div style = \"clear: both;\"></div></div><div class = \"data-frame\" style = \"overflow-x: scroll;\"><table class = \"data-frame\" style = \"margin-bottom: 6px;\"><thead><tr class = \"header\"><th class = \"rowNumber\" style = \"font-weight: bold; text-align: right;\">Row</th><th style = \"text-align: left;\">Name</th><th style = \"text-align: left;\">Estimate</th></tr><tr class = \"subheader headerLastRow\"><th class = \"rowNumber\" style = \"font-weight: bold; text-align: right;\"></th><th title = \"String\" style = \"text-align: left;\">String</th><th title = \"Float64\" style = \"text-align: left;\">Float64</th></tr></thead><tbody><tr><td class = \"rowNumber\" style = \"font-weight: bold; text-align: right;\">1</td><td style = \"text-align: left;\">(Intercept)</td><td style = \"text-align: right;\">100.0</td></tr><tr><td class = \"rowNumber\" style = \"font-weight: bold; text-align: right;\">2</td><td style = \"text-align: left;\">source: Cereal</td><td style = \"text-align: right;\">-14.1</td></tr><tr><td class = \"rowNumber\" style = \"font-weight: bold; text-align: right;\">3</td><td style = \"text-align: left;\">type: Low</td><td style = \"text-align: right;\">-20.8</td></tr><tr><td class = \"rowNumber\" style = \"font-weight: bold; text-align: right;\">4</td><td style = \"text-align: left;\">source: Cereal &amp; type: Low</td><td style = \"text-align: right;\">18.8</td></tr></tbody></table></div>"
      ],
      "text/latex": [
       "\\begin{tabular}{r|cc}\n",
       "\t& Name & Estimate\\\\\n",
       "\t\\hline\n",
       "\t& String & Float64\\\\\n",
       "\t\\hline\n",
       "\t1 & (Intercept) & 100.0 \\\\\n",
       "\t2 & source: Cereal & -14.1 \\\\\n",
       "\t3 & type: Low & -20.8 \\\\\n",
       "\t4 & source: Cereal \\& type: Low & 18.8 \\\\\n",
       "\\end{tabular}\n"
      ],
      "text/plain": [
       "\u001b[1m4×2 DataFrame\u001b[0m\n",
       "\u001b[1m Row \u001b[0m│\u001b[1m Name                       \u001b[0m\u001b[1m Estimate \u001b[0m\n",
       "     │\u001b[90m String                     \u001b[0m\u001b[90m Float64  \u001b[0m\n",
       "─────┼──────────────────────────────────────\n",
       "   1 │ (Intercept)                    100.0\n",
       "   2 │ source: Cereal                 -14.1\n",
       "   3 │ type: Low                      -20.8\n",
       "   4 │ source: Cereal & type: Low      18.8"
      ]
     },
     "execution_count": 39,
     "metadata": {},
     "output_type": "execute_result"
    }
   ],
   "source": [
    "# Create a DataFrame to display coefficients with names\n",
    "coef_df = DataFrame(Name = coeff_names, Estimate = coefficients)\n"
   ]
  },
  {
   "cell_type": "code",
   "execution_count": 40,
   "id": "7eb220e5",
   "metadata": {},
   "outputs": [
    {
     "data": {
      "image/png": "[encoded data removed]",
      "image/svg+xml": [
       "<?xml version=\"1.0\" encoding=\"utf-8\"?>\n",
       "<svg xmlns=\"http://www.w3.org/2000/svg\" xmlns:xlink=\"http://www.w3.org/1999/xlink\" width=\"600\" height=\"400\" viewBox=\"0 0 2400 1600\">\n",
       "<defs>\n",
       "  <clipPath id=\"clip660\">\n",
       "    <rect x=\"0\" y=\"0\" width=\"2400\" height=\"1600\"/>\n",
       "  </clipPath>\n",
       "</defs>\n",
       "<path clip-path=\"url(#clip660)\" d=\"M0 1600 L2400 1600 L2400 0 L0 0  Z\" fill=\"#ffffff\" fill-rule=\"evenodd\" fill-opacity=\"1\"/>\n",
       "<defs>\n",
       "  <clipPath id=\"clip661\">\n",
       "    <rect x=\"480\" y=\"0\" width=\"1681\" height=\"1600\"/>\n",
       "  </clipPath>\n",
       "</defs>\n",
       "<path clip-path=\"url(#clip660)\" d=\"M232.389 1423.18 L2352.76 1423.18 L2352.76 123.472 L232.389 123.472  Z\" fill=\"#ffffff\" fill-rule=\"evenodd\" fill-opacity=\"1\"/>\n",
       "<defs>\n",
       "  <clipPath id=\"clip662\">\n",
       "    <rect x=\"232\" y=\"123\" width=\"2121\" height=\"1301\"/>\n",
       "  </clipPath>\n",
       "</defs>\n",
       "<polyline clip-path=\"url(#clip662)\" style=\"stroke:#000000; stroke-linecap:round; stroke-linejoin:round; stroke-width:2; stroke-opacity:0.1; fill:none\" points=\"292.4,1423.18 292.4,123.472 \"/>\n",
       "<polyline clip-path=\"url(#clip662)\" style=\"stroke:#000000; stroke-linecap:round; stroke-linejoin:round; stroke-width:2; stroke-opacity:0.1; fill:none\" points=\"2292.75,1423.18 2292.75,123.472 \"/>\n",
       "<polyline clip-path=\"url(#clip662)\" style=\"stroke:#000000; stroke-linecap:round; stroke-linejoin:round; stroke-width:2; stroke-opacity:0.1; fill:none\" points=\"232.389,1378.57 2352.76,1378.57 \"/>\n",
       "<polyline clip-path=\"url(#clip662)\" style=\"stroke:#000000; stroke-linecap:round; stroke-linejoin:round; stroke-width:2; stroke-opacity:0.1; fill:none\" points=\"232.389,1174.06 2352.76,1174.06 \"/>\n",
       "<polyline clip-path=\"url(#clip662)\" style=\"stroke:#000000; stroke-linecap:round; stroke-linejoin:round; stroke-width:2; stroke-opacity:0.1; fill:none\" points=\"232.389,969.553 2352.76,969.553 \"/>\n",
       "<polyline clip-path=\"url(#clip662)\" style=\"stroke:#000000; stroke-linecap:round; stroke-linejoin:round; stroke-width:2; stroke-opacity:0.1; fill:none\" points=\"232.389,765.047 2352.76,765.047 \"/>\n",
       "<polyline clip-path=\"url(#clip662)\" style=\"stroke:#000000; stroke-linecap:round; stroke-linejoin:round; stroke-width:2; stroke-opacity:0.1; fill:none\" points=\"232.389,560.54 2352.76,560.54 \"/>\n",
       "<polyline clip-path=\"url(#clip662)\" style=\"stroke:#000000; stroke-linecap:round; stroke-linejoin:round; stroke-width:2; stroke-opacity:0.1; fill:none\" points=\"232.389,356.033 2352.76,356.033 \"/>\n",
       "<polyline clip-path=\"url(#clip662)\" style=\"stroke:#000000; stroke-linecap:round; stroke-linejoin:round; stroke-width:2; stroke-opacity:0.1; fill:none\" points=\"232.389,151.526 2352.76,151.526 \"/>\n",
       "<polyline clip-path=\"url(#clip660)\" style=\"stroke:#000000; stroke-linecap:round; stroke-linejoin:round; stroke-width:4; stroke-opacity:1; fill:none\" points=\"232.389,1423.18 2352.76,1423.18 \"/>\n",
       "<polyline clip-path=\"url(#clip660)\" style=\"stroke:#000000; stroke-linecap:round; stroke-linejoin:round; stroke-width:4; stroke-opacity:1; fill:none\" points=\"292.4,1423.18 292.4,1404.28 \"/>\n",
       "<polyline clip-path=\"url(#clip660)\" style=\"stroke:#000000; stroke-linecap:round; stroke-linejoin:round; stroke-width:4; stroke-opacity:1; fill:none\" points=\"2292.75,1423.18 2292.75,1404.28 \"/>\n",
       "<path clip-path=\"url(#clip660)\" d=\"M245.178 1469.08 L245.178 1481.74 L252.678 1481.74 Q256.451 1481.74 258.256 1480.19 Q260.085 1478.61 260.085 1475.39 Q260.085 1472.15 258.256 1470.63 Q256.451 1469.08 252.678 1469.08 L245.178 1469.08 M245.178 1454.86 L245.178 1465.28 L252.099 1465.28 Q255.525 1465.28 257.192 1464.01 Q258.881 1462.71 258.881 1460.07 Q258.881 1457.45 257.192 1456.16 Q255.525 1454.86 252.099 1454.86 L245.178 1454.86 M240.502 1451.02 L252.446 1451.02 Q257.793 1451.02 260.687 1453.24 Q263.58 1455.46 263.58 1459.56 Q263.58 1462.73 262.099 1464.61 Q260.617 1466.48 257.747 1466.95 Q261.196 1467.69 263.094 1470.05 Q265.016 1472.39 265.016 1475.9 Q265.016 1480.53 261.867 1483.06 Q258.719 1485.58 252.909 1485.58 L240.502 1485.58 L240.502 1451.02 Z\" fill=\"#000000\" fill-rule=\"nonzero\" fill-opacity=\"1\" /><path clip-path=\"url(#clip660)\" d=\"M295.015 1471.55 L295.015 1473.64 L275.432 1473.64 Q275.71 1478.03 278.071 1480.35 Q280.455 1482.64 284.691 1482.64 Q287.145 1482.64 289.437 1482.04 Q291.752 1481.44 294.02 1480.23 L294.02 1484.26 Q291.728 1485.23 289.321 1485.74 Q286.914 1486.25 284.437 1486.25 Q278.233 1486.25 274.599 1482.64 Q270.988 1479.03 270.988 1472.87 Q270.988 1466.51 274.414 1462.78 Q277.863 1459.03 283.696 1459.03 Q288.928 1459.03 291.96 1462.41 Q295.015 1465.77 295.015 1471.55 M290.756 1470.3 Q290.71 1466.81 288.789 1464.72 Q286.89 1462.64 283.742 1462.64 Q280.178 1462.64 278.025 1464.65 Q275.895 1466.67 275.571 1470.33 L290.756 1470.3 Z\" fill=\"#000000\" fill-rule=\"nonzero\" fill-opacity=\"1\" /><path clip-path=\"url(#clip660)\" d=\"M324.182 1471.55 L324.182 1473.64 L304.599 1473.64 Q304.877 1478.03 307.238 1480.35 Q309.622 1482.64 313.858 1482.64 Q316.312 1482.64 318.603 1482.04 Q320.918 1481.44 323.187 1480.23 L323.187 1484.26 Q320.895 1485.23 318.488 1485.74 Q316.08 1486.25 313.603 1486.25 Q307.4 1486.25 303.765 1482.64 Q300.154 1479.03 300.154 1472.87 Q300.154 1466.51 303.58 1462.78 Q307.029 1459.03 312.863 1459.03 Q318.094 1459.03 321.126 1462.41 Q324.182 1465.77 324.182 1471.55 M319.923 1470.3 Q319.876 1466.81 317.955 1464.72 Q316.057 1462.64 312.909 1462.64 Q309.344 1462.64 307.191 1464.65 Q305.062 1466.67 304.738 1470.33 L319.923 1470.3 Z\" fill=\"#000000\" fill-rule=\"nonzero\" fill-opacity=\"1\" /><path clip-path=\"url(#clip660)\" d=\"M344.298 1449.56 L344.298 1453.1 L340.224 1453.1 Q337.932 1453.1 337.029 1454.03 Q336.149 1454.96 336.149 1457.36 L336.149 1459.65 L343.163 1459.65 L343.163 1462.96 L336.149 1462.96 L336.149 1485.58 L331.867 1485.58 L331.867 1462.96 L327.793 1462.96 L327.793 1459.65 L331.867 1459.65 L331.867 1457.85 Q331.867 1453.52 333.881 1451.55 Q335.895 1449.56 340.27 1449.56 L344.298 1449.56 Z\" fill=\"#000000\" fill-rule=\"nonzero\" fill-opacity=\"1\" /><path clip-path=\"url(#clip660)\" d=\"M2248.12 1453.68 L2248.12 1458.61 Q2245.76 1456.41 2243.07 1455.33 Q2240.41 1454.24 2237.4 1454.24 Q2231.47 1454.24 2228.32 1457.87 Q2225.18 1461.48 2225.18 1468.33 Q2225.18 1475.16 2228.32 1478.8 Q2231.47 1482.41 2237.4 1482.41 Q2240.41 1482.41 2243.07 1481.32 Q2245.76 1480.23 2248.12 1478.03 L2248.12 1482.92 Q2245.66 1484.58 2242.91 1485.42 Q2240.18 1486.25 2237.12 1486.25 Q2229.27 1486.25 2224.76 1481.46 Q2220.25 1476.64 2220.25 1468.33 Q2220.25 1460 2224.76 1455.21 Q2229.27 1450.39 2237.12 1450.39 Q2240.22 1450.39 2242.95 1451.23 Q2245.71 1452.04 2248.12 1453.68 Z\" fill=\"#000000\" fill-rule=\"nonzero\" fill-opacity=\"1\" /><path clip-path=\"url(#clip660)\" d=\"M2277.33 1471.55 L2277.33 1473.64 L2257.75 1473.64 Q2258.02 1478.03 2260.38 1480.35 Q2262.77 1482.64 2267 1482.64 Q2269.46 1482.64 2271.75 1482.04 Q2274.07 1481.44 2276.33 1480.23 L2276.33 1484.26 Q2274.04 1485.23 2271.63 1485.74 Q2269.23 1486.25 2266.75 1486.25 Q2260.55 1486.25 2256.91 1482.64 Q2253.3 1479.03 2253.3 1472.87 Q2253.3 1466.51 2256.73 1462.78 Q2260.18 1459.03 2266.01 1459.03 Q2271.24 1459.03 2274.27 1462.41 Q2277.33 1465.77 2277.33 1471.55 M2273.07 1470.3 Q2273.02 1466.81 2271.1 1464.72 Q2269.2 1462.64 2266.06 1462.64 Q2262.49 1462.64 2260.34 1464.65 Q2258.21 1466.67 2257.88 1470.33 L2273.07 1470.3 Z\" fill=\"#000000\" fill-rule=\"nonzero\" fill-opacity=\"1\" /><path clip-path=\"url(#clip660)\" d=\"M2299.34 1463.64 Q2298.63 1463.22 2297.77 1463.03 Q2296.94 1462.83 2295.92 1462.83 Q2292.31 1462.83 2290.36 1465.19 Q2288.44 1467.52 2288.44 1471.92 L2288.44 1485.58 L2284.16 1485.58 L2284.16 1459.65 L2288.44 1459.65 L2288.44 1463.68 Q2289.78 1461.32 2291.94 1460.19 Q2294.09 1459.03 2297.17 1459.03 Q2297.61 1459.03 2298.14 1459.1 Q2298.67 1459.14 2299.32 1459.26 L2299.34 1463.64 Z\" fill=\"#000000\" fill-rule=\"nonzero\" fill-opacity=\"1\" /><path clip-path=\"url(#clip660)\" d=\"M2324.94 1471.55 L2324.94 1473.64 L2305.36 1473.64 Q2305.64 1478.03 2308 1480.35 Q2310.38 1482.64 2314.62 1482.64 Q2317.07 1482.64 2319.37 1482.04 Q2321.68 1481.44 2323.95 1480.23 L2323.95 1484.26 Q2321.66 1485.23 2319.25 1485.74 Q2316.84 1486.25 2314.37 1486.25 Q2308.16 1486.25 2304.53 1482.64 Q2300.92 1479.03 2300.92 1472.87 Q2300.92 1466.51 2304.34 1462.78 Q2307.79 1459.03 2313.63 1459.03 Q2318.86 1459.03 2321.89 1462.41 Q2324.94 1465.77 2324.94 1471.55 M2320.69 1470.3 Q2320.64 1466.81 2318.72 1464.72 Q2316.82 1462.64 2313.67 1462.64 Q2310.11 1462.64 2307.95 1464.65 Q2305.82 1466.67 2305.5 1470.33 L2320.69 1470.3 Z\" fill=\"#000000\" fill-rule=\"nonzero\" fill-opacity=\"1\" /><path clip-path=\"url(#clip660)\" d=\"M2343.72 1472.55 Q2338.56 1472.55 2336.56 1473.73 Q2334.57 1474.91 2334.57 1477.76 Q2334.57 1480.02 2336.06 1481.37 Q2337.56 1482.69 2340.13 1482.69 Q2343.67 1482.69 2345.8 1480.19 Q2347.95 1477.66 2347.95 1473.5 L2347.95 1472.55 L2343.72 1472.55 M2352.21 1470.79 L2352.21 1485.58 L2347.95 1485.58 L2347.95 1481.64 Q2346.5 1484.01 2344.32 1485.14 Q2342.14 1486.25 2339 1486.25 Q2335.01 1486.25 2332.65 1484.03 Q2330.31 1481.78 2330.31 1478.03 Q2330.31 1473.66 2333.23 1471.44 Q2336.17 1469.21 2341.98 1469.21 L2347.95 1469.21 L2347.95 1468.8 Q2347.95 1465.86 2346.01 1464.26 Q2344.09 1462.64 2340.59 1462.64 Q2338.37 1462.64 2336.26 1463.17 Q2334.16 1463.7 2332.21 1464.77 L2332.21 1460.83 Q2334.55 1459.93 2336.75 1459.49 Q2338.95 1459.03 2341.03 1459.03 Q2346.66 1459.03 2349.44 1461.95 Q2352.21 1464.86 2352.21 1470.79 Z\" fill=\"#000000\" fill-rule=\"nonzero\" fill-opacity=\"1\" /><path clip-path=\"url(#clip660)\" d=\"M2360.99 1449.56 L2365.25 1449.56 L2365.25 1485.58 L2360.99 1485.58 L2360.99 1449.56 Z\" fill=\"#000000\" fill-rule=\"nonzero\" fill-opacity=\"1\" /><path clip-path=\"url(#clip660)\" d=\"M1215.1 1522.08 L1215.1 1528.35 Q1211.44 1526.6 1208.2 1525.74 Q1204.95 1524.88 1201.92 1524.88 Q1196.67 1524.88 1193.81 1526.92 Q1190.98 1528.96 1190.98 1532.71 Q1190.98 1535.87 1192.85 1537.49 Q1194.76 1539.08 1200.05 1540.07 L1203.93 1540.86 Q1211.12 1542.23 1214.53 1545.7 Q1217.97 1549.14 1217.97 1554.93 Q1217.97 1561.84 1213.32 1565.4 Q1208.7 1568.97 1199.76 1568.97 Q1196.39 1568.97 1192.57 1568.2 Q1188.78 1567.44 1184.71 1565.94 L1184.71 1559.32 Q1188.62 1561.52 1192.38 1562.63 Q1196.13 1563.75 1199.76 1563.75 Q1205.27 1563.75 1208.26 1561.58 Q1211.25 1559.42 1211.25 1555.41 Q1211.25 1551.91 1209.09 1549.93 Q1206.95 1547.96 1202.05 1546.97 L1198.14 1546.21 Q1190.94 1544.78 1187.73 1541.72 Q1184.51 1538.67 1184.51 1533.22 Q1184.51 1526.92 1188.94 1523.29 Q1193.39 1519.66 1201.19 1519.66 Q1204.53 1519.66 1208 1520.27 Q1211.47 1520.87 1215.1 1522.08 Z\" fill=\"#000000\" fill-rule=\"nonzero\" fill-opacity=\"1\" /><path clip-path=\"url(#clip660)\" d=\"M1241.55 1536.5 Q1236.84 1536.5 1234.1 1540.19 Q1231.37 1543.85 1231.37 1550.25 Q1231.37 1556.65 1234.07 1560.34 Q1236.81 1564 1241.55 1564 Q1246.23 1564 1248.97 1560.31 Q1251.7 1556.62 1251.7 1550.25 Q1251.7 1543.92 1248.97 1540.23 Q1246.23 1536.5 1241.55 1536.5 M1241.55 1531.54 Q1249.19 1531.54 1253.55 1536.5 Q1257.91 1541.47 1257.91 1550.25 Q1257.91 1559 1253.55 1564 Q1249.19 1568.97 1241.55 1568.97 Q1233.88 1568.97 1229.52 1564 Q1225.19 1559 1225.19 1550.25 Q1225.19 1541.47 1229.52 1536.5 Q1233.88 1531.54 1241.55 1531.54 Z\" fill=\"#000000\" fill-rule=\"nonzero\" fill-opacity=\"1\" /><path clip-path=\"url(#clip660)\" d=\"M1267.01 1553.98 L1267.01 1532.4 L1272.87 1532.4 L1272.87 1553.75 Q1272.87 1558.81 1274.84 1561.36 Q1276.82 1563.87 1280.76 1563.87 Q1285.51 1563.87 1288.24 1560.85 Q1291.01 1557.83 1291.01 1552.61 L1291.01 1532.4 L1296.87 1532.4 L1296.87 1568.04 L1291.01 1568.04 L1291.01 1562.57 Q1288.88 1565.82 1286.05 1567.41 Q1283.25 1568.97 1279.52 1568.97 Q1273.38 1568.97 1270.2 1565.15 Q1267.01 1561.33 1267.01 1553.98 M1281.75 1531.54 L1281.75 1531.54 Z\" fill=\"#000000\" fill-rule=\"nonzero\" fill-opacity=\"1\" /><path clip-path=\"url(#clip660)\" d=\"M1329.59 1537.87 Q1328.6 1537.3 1327.42 1537.04 Q1326.28 1536.76 1324.88 1536.76 Q1319.91 1536.76 1317.24 1540 Q1314.6 1543.22 1314.6 1549.27 L1314.6 1568.04 L1308.71 1568.04 L1308.71 1532.4 L1314.6 1532.4 L1314.6 1537.93 Q1316.44 1534.69 1319.4 1533.13 Q1322.36 1531.54 1326.6 1531.54 Q1327.2 1531.54 1327.93 1531.63 Q1328.67 1531.7 1329.56 1531.85 L1329.59 1537.87 Z\" fill=\"#000000\" fill-rule=\"nonzero\" fill-opacity=\"1\" /><path clip-path=\"url(#clip660)\" d=\"M1359.95 1533.76 L1359.95 1539.24 Q1357.47 1537.87 1354.96 1537.2 Q1352.47 1536.5 1349.93 1536.5 Q1344.23 1536.5 1341.08 1540.13 Q1337.93 1543.73 1337.93 1550.25 Q1337.93 1556.78 1341.08 1560.4 Q1344.23 1564 1349.93 1564 Q1352.47 1564 1354.96 1563.33 Q1357.47 1562.63 1359.95 1561.26 L1359.95 1566.68 Q1357.5 1567.82 1354.86 1568.39 Q1352.25 1568.97 1349.29 1568.97 Q1341.24 1568.97 1336.5 1563.91 Q1331.75 1558.85 1331.75 1550.25 Q1331.75 1541.53 1336.53 1536.53 Q1341.33 1531.54 1349.67 1531.54 Q1352.38 1531.54 1354.96 1532.11 Q1357.53 1532.65 1359.95 1533.76 Z\" fill=\"#000000\" fill-rule=\"nonzero\" fill-opacity=\"1\" /><path clip-path=\"url(#clip660)\" d=\"M1400.63 1548.76 L1400.63 1551.62 L1373.7 1551.62 Q1374.09 1557.67 1377.33 1560.85 Q1380.61 1564 1386.43 1564 Q1389.81 1564 1392.96 1563.17 Q1396.14 1562.35 1399.26 1560.69 L1399.26 1566.23 Q1396.11 1567.57 1392.8 1568.27 Q1389.49 1568.97 1386.08 1568.97 Q1377.55 1568.97 1372.56 1564 Q1367.59 1559.04 1367.59 1550.57 Q1367.59 1541.82 1372.3 1536.69 Q1377.05 1531.54 1385.07 1531.54 Q1392.26 1531.54 1396.43 1536.18 Q1400.63 1540.8 1400.63 1548.76 M1394.77 1547.04 Q1394.71 1542.23 1392.07 1539.37 Q1389.46 1536.5 1385.13 1536.5 Q1380.23 1536.5 1377.27 1539.27 Q1374.34 1542.04 1373.89 1547.07 L1394.77 1547.04 Z\" fill=\"#000000\" fill-rule=\"nonzero\" fill-opacity=\"1\" /><polyline clip-path=\"url(#clip660)\" style=\"stroke:#000000; stroke-linecap:round; stroke-linejoin:round; stroke-width:4; stroke-opacity:1; fill:none\" points=\"232.389,1423.18 232.389,123.472 \"/>\n",
       "<polyline clip-path=\"url(#clip660)\" style=\"stroke:#000000; stroke-linecap:round; stroke-linejoin:round; stroke-width:4; stroke-opacity:1; fill:none\" points=\"232.389,1378.57 251.287,1378.57 \"/>\n",
       "<polyline clip-path=\"url(#clip660)\" style=\"stroke:#000000; stroke-linecap:round; stroke-linejoin:round; stroke-width:4; stroke-opacity:1; fill:none\" points=\"232.389,1174.06 251.287,1174.06 \"/>\n",
       "<polyline clip-path=\"url(#clip660)\" style=\"stroke:#000000; stroke-linecap:round; stroke-linejoin:round; stroke-width:4; stroke-opacity:1; fill:none\" points=\"232.389,969.553 251.287,969.553 \"/>\n",
       "<polyline clip-path=\"url(#clip660)\" style=\"stroke:#000000; stroke-linecap:round; stroke-linejoin:round; stroke-width:4; stroke-opacity:1; fill:none\" points=\"232.389,765.047 251.287,765.047 \"/>\n",
       "<polyline clip-path=\"url(#clip660)\" style=\"stroke:#000000; stroke-linecap:round; stroke-linejoin:round; stroke-width:4; stroke-opacity:1; fill:none\" points=\"232.389,560.54 251.287,560.54 \"/>\n",
       "<polyline clip-path=\"url(#clip660)\" style=\"stroke:#000000; stroke-linecap:round; stroke-linejoin:round; stroke-width:4; stroke-opacity:1; fill:none\" points=\"232.389,356.033 251.287,356.033 \"/>\n",
       "<polyline clip-path=\"url(#clip660)\" style=\"stroke:#000000; stroke-linecap:round; stroke-linejoin:round; stroke-width:4; stroke-opacity:1; fill:none\" points=\"232.389,151.526 251.287,151.526 \"/>\n",
       "<path clip-path=\"url(#clip660)\" d=\"M144.098 1361.29 L166.32 1361.29 L166.32 1363.28 L153.774 1395.85 L148.89 1395.85 L160.695 1365.22 L144.098 1365.22 L144.098 1361.29 Z\" fill=\"#000000\" fill-rule=\"nonzero\" fill-opacity=\"1\" /><path clip-path=\"url(#clip660)\" d=\"M175.487 1361.29 L193.843 1361.29 L193.843 1365.22 L179.769 1365.22 L179.769 1373.69 Q180.788 1373.35 181.806 1373.18 Q182.825 1373 183.843 1373 Q189.63 1373 193.01 1376.17 Q196.389 1379.34 196.389 1384.76 Q196.389 1390.34 192.917 1393.44 Q189.445 1396.52 183.126 1396.52 Q180.95 1396.52 178.681 1396.15 Q176.436 1395.78 174.028 1395.04 L174.028 1390.34 Q176.112 1391.47 178.334 1392.03 Q180.556 1392.58 183.033 1392.58 Q187.038 1392.58 189.375 1390.48 Q191.713 1388.37 191.713 1384.76 Q191.713 1381.15 189.375 1379.04 Q187.038 1376.93 183.033 1376.93 Q181.158 1376.93 179.283 1377.35 Q177.431 1377.77 175.487 1378.65 L175.487 1361.29 Z\" fill=\"#000000\" fill-rule=\"nonzero\" fill-opacity=\"1\" /><path clip-path=\"url(#clip660)\" d=\"M154.283 1174.93 Q150.95 1174.93 149.028 1176.71 Q147.13 1178.49 147.13 1181.62 Q147.13 1184.74 149.028 1186.53 Q150.95 1188.31 154.283 1188.31 Q157.616 1188.31 159.538 1186.53 Q161.459 1184.72 161.459 1181.62 Q161.459 1178.49 159.538 1176.71 Q157.64 1174.93 154.283 1174.93 M149.607 1172.94 Q146.598 1172.2 144.908 1170.14 Q143.241 1168.08 143.241 1165.11 Q143.241 1160.97 146.181 1158.56 Q149.144 1156.16 154.283 1156.16 Q159.445 1156.16 162.385 1158.56 Q165.325 1160.97 165.325 1165.11 Q165.325 1168.08 163.635 1170.14 Q161.968 1172.2 158.982 1172.94 Q162.362 1173.72 164.237 1176.02 Q166.135 1178.31 166.135 1181.62 Q166.135 1186.64 163.056 1189.33 Q160.001 1192.01 154.283 1192.01 Q148.566 1192.01 145.487 1189.33 Q142.431 1186.64 142.431 1181.62 Q142.431 1178.31 144.329 1176.02 Q146.228 1173.72 149.607 1172.94 M147.894 1165.55 Q147.894 1168.24 149.561 1169.74 Q151.251 1171.25 154.283 1171.25 Q157.292 1171.25 158.982 1169.74 Q160.695 1168.24 160.695 1165.55 Q160.695 1162.87 158.982 1161.36 Q157.292 1159.86 154.283 1159.86 Q151.251 1159.86 149.561 1161.36 Q147.894 1162.87 147.894 1165.55 Z\" fill=\"#000000\" fill-rule=\"nonzero\" fill-opacity=\"1\" /><path clip-path=\"url(#clip660)\" d=\"M184.445 1159.86 Q180.834 1159.86 179.005 1163.42 Q177.2 1166.97 177.2 1174.09 Q177.2 1181.2 179.005 1184.77 Q180.834 1188.31 184.445 1188.31 Q188.079 1188.31 189.885 1184.77 Q191.713 1181.2 191.713 1174.09 Q191.713 1166.97 189.885 1163.42 Q188.079 1159.86 184.445 1159.86 M184.445 1156.16 Q190.255 1156.16 193.311 1160.76 Q196.389 1165.34 196.389 1174.09 Q196.389 1182.82 193.311 1187.43 Q190.255 1192.01 184.445 1192.01 Q178.635 1192.01 175.556 1187.43 Q172.501 1182.82 172.501 1174.09 Q172.501 1165.34 175.556 1160.76 Q178.635 1156.16 184.445 1156.16 Z\" fill=\"#000000\" fill-rule=\"nonzero\" fill-opacity=\"1\" /><path clip-path=\"url(#clip660)\" d=\"M155.278 970.421 Q151.945 970.421 150.024 972.204 Q148.126 973.986 148.126 977.111 Q148.126 980.236 150.024 982.019 Q151.945 983.801 155.278 983.801 Q158.612 983.801 160.533 982.019 Q162.454 980.213 162.454 977.111 Q162.454 973.986 160.533 972.204 Q158.635 970.421 155.278 970.421 M150.603 968.431 Q147.593 967.69 145.904 965.63 Q144.237 963.57 144.237 960.607 Q144.237 956.463 147.177 954.056 Q150.14 951.648 155.278 951.648 Q160.44 951.648 163.38 954.056 Q166.32 956.463 166.32 960.607 Q166.32 963.57 164.63 965.63 Q162.964 967.69 159.978 968.431 Q163.357 969.218 165.232 971.509 Q167.13 973.801 167.13 977.111 Q167.13 982.134 164.052 984.819 Q160.996 987.505 155.278 987.505 Q149.561 987.505 146.482 984.819 Q143.427 982.134 143.427 977.111 Q143.427 973.801 145.325 971.509 Q147.223 969.218 150.603 968.431 M148.89 961.046 Q148.89 963.732 150.556 965.236 Q152.246 966.741 155.278 966.741 Q158.288 966.741 159.978 965.236 Q161.69 963.732 161.69 961.046 Q161.69 958.361 159.978 956.857 Q158.288 955.352 155.278 955.352 Q152.246 955.352 150.556 956.857 Q148.89 958.361 148.89 961.046 Z\" fill=\"#000000\" fill-rule=\"nonzero\" fill-opacity=\"1\" /><path clip-path=\"url(#clip660)\" d=\"M175.487 952.273 L193.843 952.273 L193.843 956.208 L179.769 956.208 L179.769 964.681 Q180.788 964.333 181.806 964.171 Q182.825 963.986 183.843 963.986 Q189.63 963.986 193.01 967.157 Q196.389 970.329 196.389 975.745 Q196.389 981.324 192.917 984.426 Q189.445 987.505 183.126 987.505 Q180.95 987.505 178.681 987.134 Q176.436 986.764 174.028 986.023 L174.028 981.324 Q176.112 982.458 178.334 983.014 Q180.556 983.569 183.033 983.569 Q187.038 983.569 189.375 981.463 Q191.713 979.357 191.713 975.745 Q191.713 972.134 189.375 970.028 Q187.038 967.921 183.033 967.921 Q181.158 967.921 179.283 968.338 Q177.431 968.755 175.487 969.634 L175.487 952.273 Z\" fill=\"#000000\" fill-rule=\"nonzero\" fill-opacity=\"1\" /><path clip-path=\"url(#clip660)\" d=\"M144.422 781.609 L144.422 777.35 Q146.181 778.183 147.987 778.623 Q149.792 779.063 151.528 779.063 Q156.158 779.063 158.589 775.961 Q161.042 772.836 161.39 766.493 Q160.047 768.484 157.987 769.549 Q155.927 770.614 153.427 770.614 Q148.241 770.614 145.209 767.489 Q142.2 764.341 142.2 758.901 Q142.2 753.577 145.348 750.359 Q148.496 747.142 153.728 747.142 Q159.723 747.142 162.871 751.748 Q166.042 756.331 166.042 765.081 Q166.042 773.252 162.153 778.137 Q158.288 782.998 151.737 782.998 Q149.978 782.998 148.172 782.651 Q146.366 782.303 144.422 781.609 M153.728 766.956 Q156.876 766.956 158.704 764.803 Q160.556 762.651 160.556 758.901 Q160.556 755.174 158.704 753.021 Q156.876 750.845 153.728 750.845 Q150.579 750.845 148.728 753.021 Q146.899 755.174 146.899 758.901 Q146.899 762.651 148.728 764.803 Q150.579 766.956 153.728 766.956 Z\" fill=\"#000000\" fill-rule=\"nonzero\" fill-opacity=\"1\" /><path clip-path=\"url(#clip660)\" d=\"M184.445 750.845 Q180.834 750.845 179.005 754.41 Q177.2 757.952 177.2 765.081 Q177.2 772.188 179.005 775.752 Q180.834 779.294 184.445 779.294 Q188.079 779.294 189.885 775.752 Q191.713 772.188 191.713 765.081 Q191.713 757.952 189.885 754.41 Q188.079 750.845 184.445 750.845 M184.445 747.142 Q190.255 747.142 193.311 751.748 Q196.389 756.331 196.389 765.081 Q196.389 773.808 193.311 778.415 Q190.255 782.998 184.445 782.998 Q178.635 782.998 175.556 778.415 Q172.501 773.808 172.501 765.081 Q172.501 756.331 175.556 751.748 Q178.635 747.142 184.445 747.142 Z\" fill=\"#000000\" fill-rule=\"nonzero\" fill-opacity=\"1\" /><path clip-path=\"url(#clip660)\" d=\"M145.417 577.102 L145.417 572.843 Q147.177 573.676 148.982 574.116 Q150.788 574.556 152.524 574.556 Q157.153 574.556 159.584 571.454 Q162.038 568.329 162.385 561.986 Q161.042 563.977 158.982 565.042 Q156.922 566.107 154.422 566.107 Q149.237 566.107 146.204 562.982 Q143.195 559.834 143.195 554.394 Q143.195 549.07 146.343 545.852 Q149.491 542.635 154.723 542.635 Q160.718 542.635 163.866 547.241 Q167.038 551.824 167.038 560.574 Q167.038 568.746 163.149 573.63 Q159.283 578.491 152.732 578.491 Q150.973 578.491 149.167 578.144 Q147.362 577.797 145.417 577.102 M154.723 562.449 Q157.871 562.449 159.7 560.297 Q161.552 558.144 161.552 554.394 Q161.552 550.667 159.7 548.514 Q157.871 546.338 154.723 546.338 Q151.575 546.338 149.723 548.514 Q147.894 550.667 147.894 554.394 Q147.894 558.144 149.723 560.297 Q151.575 562.449 154.723 562.449 Z\" fill=\"#000000\" fill-rule=\"nonzero\" fill-opacity=\"1\" /><path clip-path=\"url(#clip660)\" d=\"M175.487 543.26 L193.843 543.26 L193.843 547.195 L179.769 547.195 L179.769 555.667 Q180.788 555.32 181.806 555.158 Q182.825 554.973 183.843 554.973 Q189.63 554.973 193.01 558.144 Q196.389 561.315 196.389 566.732 Q196.389 572.31 192.917 575.412 Q189.445 578.491 183.126 578.491 Q180.95 578.491 178.681 578.121 Q176.436 577.75 174.028 577.01 L174.028 572.31 Q176.112 573.445 178.334 574 Q180.556 574.556 183.033 574.556 Q187.038 574.556 189.375 572.449 Q191.713 570.343 191.713 566.732 Q191.713 563.121 189.375 561.014 Q187.038 558.908 183.033 558.908 Q181.158 558.908 179.283 559.324 Q177.431 559.741 175.487 560.621 L175.487 543.26 Z\" fill=\"#000000\" fill-rule=\"nonzero\" fill-opacity=\"1\" /><path clip-path=\"url(#clip660)\" d=\"M114.931 369.378 L122.57 369.378 L122.57 343.012 L114.26 344.679 L114.26 340.42 L122.524 338.753 L127.2 338.753 L127.2 369.378 L134.839 369.378 L134.839 373.313 L114.931 373.313 L114.931 369.378 Z\" fill=\"#000000\" fill-rule=\"nonzero\" fill-opacity=\"1\" /><path clip-path=\"url(#clip660)\" d=\"M154.283 341.832 Q150.672 341.832 148.843 345.396 Q147.038 348.938 147.038 356.068 Q147.038 363.174 148.843 366.739 Q150.672 370.281 154.283 370.281 Q157.917 370.281 159.723 366.739 Q161.552 363.174 161.552 356.068 Q161.552 348.938 159.723 345.396 Q157.917 341.832 154.283 341.832 M154.283 338.128 Q160.093 338.128 163.149 342.734 Q166.227 347.318 166.227 356.068 Q166.227 364.794 163.149 369.401 Q160.093 373.984 154.283 373.984 Q148.473 373.984 145.394 369.401 Q142.339 364.794 142.339 356.068 Q142.339 347.318 145.394 342.734 Q148.473 338.128 154.283 338.128 Z\" fill=\"#000000\" fill-rule=\"nonzero\" fill-opacity=\"1\" /><path clip-path=\"url(#clip660)\" d=\"M184.445 341.832 Q180.834 341.832 179.005 345.396 Q177.2 348.938 177.2 356.068 Q177.2 363.174 179.005 366.739 Q180.834 370.281 184.445 370.281 Q188.079 370.281 189.885 366.739 Q191.713 363.174 191.713 356.068 Q191.713 348.938 189.885 345.396 Q188.079 341.832 184.445 341.832 M184.445 338.128 Q190.255 338.128 193.311 342.734 Q196.389 347.318 196.389 356.068 Q196.389 364.794 193.311 369.401 Q190.255 373.984 184.445 373.984 Q178.635 373.984 175.556 369.401 Q172.501 364.794 172.501 356.068 Q172.501 347.318 175.556 342.734 Q178.635 338.128 184.445 338.128 Z\" fill=\"#000000\" fill-rule=\"nonzero\" fill-opacity=\"1\" /><path clip-path=\"url(#clip660)\" d=\"M115.927 164.871 L123.566 164.871 L123.566 138.505 L115.256 140.172 L115.256 135.913 L123.519 134.246 L128.195 134.246 L128.195 164.871 L135.834 164.871 L135.834 168.806 L115.927 168.806 L115.927 164.871 Z\" fill=\"#000000\" fill-rule=\"nonzero\" fill-opacity=\"1\" /><path clip-path=\"url(#clip660)\" d=\"M155.278 137.325 Q151.667 137.325 149.839 140.89 Q148.033 144.431 148.033 151.561 Q148.033 158.667 149.839 162.232 Q151.667 165.774 155.278 165.774 Q158.913 165.774 160.718 162.232 Q162.547 158.667 162.547 151.561 Q162.547 144.431 160.718 140.89 Q158.913 137.325 155.278 137.325 M155.278 133.621 Q161.089 133.621 164.144 138.228 Q167.223 142.811 167.223 151.561 Q167.223 160.288 164.144 164.894 Q161.089 169.477 155.278 169.477 Q149.468 169.477 146.39 164.894 Q143.334 160.288 143.334 151.561 Q143.334 142.811 146.39 138.228 Q149.468 133.621 155.278 133.621 Z\" fill=\"#000000\" fill-rule=\"nonzero\" fill-opacity=\"1\" /><path clip-path=\"url(#clip660)\" d=\"M175.487 134.246 L193.843 134.246 L193.843 138.181 L179.769 138.181 L179.769 146.653 Q180.788 146.306 181.806 146.144 Q182.825 145.959 183.843 145.959 Q189.63 145.959 193.01 149.13 Q196.389 152.302 196.389 157.718 Q196.389 163.297 192.917 166.399 Q189.445 169.477 183.126 169.477 Q180.95 169.477 178.681 169.107 Q176.436 168.737 174.028 167.996 L174.028 163.297 Q176.112 164.431 178.334 164.987 Q180.556 165.542 183.033 165.542 Q187.038 165.542 189.375 163.436 Q191.713 161.329 191.713 157.718 Q191.713 154.107 189.375 152.001 Q187.038 149.894 183.033 149.894 Q181.158 149.894 179.283 150.311 Q177.431 150.728 175.487 151.607 L175.487 134.246 Z\" fill=\"#000000\" fill-rule=\"nonzero\" fill-opacity=\"1\" /><path clip-path=\"url(#clip660)\" d=\"M16.4842 1065.37 L16.4842 1055.79 L48.8219 1043.66 L16.4842 1031.47 L16.4842 1021.89 L64.0042 1021.89 L64.0042 1028.16 L22.277 1028.16 L54.8694 1040.42 L54.8694 1046.88 L22.277 1059.13 L64.0042 1059.13 L64.0042 1065.37 L16.4842 1065.37 Z\" fill=\"#000000\" fill-rule=\"nonzero\" fill-opacity=\"1\" /><path clip-path=\"url(#clip660)\" d=\"M44.7161 978.891 L47.5806 978.891 L47.5806 1005.82 Q53.6281 1005.44 56.8109 1002.19 Q59.9619 998.911 59.9619 993.086 Q59.9619 989.712 59.1344 986.561 Q58.3069 983.378 56.6518 980.259 L62.1899 980.259 Q63.5267 983.41 64.227 986.72 Q64.9272 990.031 64.9272 993.436 Q64.9272 1001.97 59.9619 1006.96 Q54.9967 1011.93 46.5303 1011.93 Q37.7774 1011.93 32.6531 1007.22 Q27.4968 1002.48 27.4968 994.455 Q27.4968 987.261 32.1438 983.092 Q36.7589 978.891 44.7161 978.891 M42.9973 984.747 Q38.1912 984.811 35.3266 987.452 Q32.4621 990.062 32.4621 994.391 Q32.4621 999.293 35.2312 1002.25 Q38.0002 1005.18 43.0292 1005.63 L42.9973 984.747 Z\" fill=\"#000000\" fill-rule=\"nonzero\" fill-opacity=\"1\" /><path clip-path=\"url(#clip660)\" d=\"M46.0847 953.078 Q46.0847 960.175 47.7079 962.913 Q49.3312 965.65 53.2461 965.65 Q56.3653 965.65 58.2114 963.613 Q60.0256 961.544 60.0256 958.011 Q60.0256 953.141 56.5881 950.213 Q53.1188 947.253 47.3897 947.253 L46.0847 947.253 L46.0847 953.078 M43.6657 941.397 L64.0042 941.397 L64.0042 947.253 L58.5933 947.253 Q61.8398 949.258 63.3994 952.25 Q64.9272 955.242 64.9272 959.571 Q64.9272 965.045 61.8716 968.292 Q58.7843 971.506 53.6281 971.506 Q47.6125 971.506 44.5569 967.496 Q41.5014 963.454 41.5014 955.465 L41.5014 947.253 L40.9285 947.253 Q36.8862 947.253 34.6901 949.927 Q32.4621 952.568 32.4621 957.374 Q32.4621 960.43 33.1941 963.326 Q33.9262 966.223 35.3903 968.896 L29.9795 968.896 Q28.7381 965.682 28.1334 962.658 Q27.4968 959.634 27.4968 956.77 Q27.4968 949.035 31.5072 945.216 Q35.5176 941.397 43.6657 941.397 Z\" fill=\"#000000\" fill-rule=\"nonzero\" fill-opacity=\"1\" /><path clip-path=\"url(#clip660)\" d=\"M42.4881 899.701 L64.0042 899.701 L64.0042 905.558 L42.679 905.558 Q37.6183 905.558 35.1038 907.531 Q32.5894 909.504 32.5894 913.451 Q32.5894 918.194 35.6131 920.931 Q38.6368 923.668 43.8567 923.668 L64.0042 923.668 L64.0042 929.556 L28.3562 929.556 L28.3562 923.668 L33.8944 923.668 Q30.6797 921.567 29.0883 918.735 Q27.4968 915.87 27.4968 912.146 Q27.4968 906.003 31.3163 902.852 Q35.1038 899.701 42.4881 899.701 Z\" fill=\"#000000\" fill-rule=\"nonzero\" fill-opacity=\"1\" /><path clip-path=\"url(#clip660)\" d=\"M16.4842 871.278 L16.4842 864.785 L56.6518 854.791 L16.4842 844.829 L16.4842 837.604 L56.6518 827.61 L16.4842 817.647 L16.4842 811.122 L64.0042 823.058 L64.0042 831.143 L22.7544 841.169 L64.0042 851.29 L64.0042 859.374 L16.4842 871.278 Z\" fill=\"#000000\" fill-rule=\"nonzero\" fill-opacity=\"1\" /><path clip-path=\"url(#clip660)\" d=\"M44.7161 776.175 L47.5806 776.175 L47.5806 803.102 Q53.6281 802.72 56.8109 799.473 Q59.9619 796.195 59.9619 790.37 Q59.9619 786.996 59.1344 783.845 Q58.3069 780.662 56.6518 777.543 L62.1899 777.543 Q63.5267 780.694 64.227 784.004 Q64.9272 787.315 64.9272 790.72 Q64.9272 799.25 59.9619 804.247 Q54.9967 809.213 46.5303 809.213 Q37.7774 809.213 32.6531 804.502 Q27.4968 799.76 27.4968 791.739 Q27.4968 784.546 32.1438 780.376 Q36.7589 776.175 44.7161 776.175 M42.9973 782.031 Q38.1912 782.095 35.3266 784.737 Q32.4621 787.346 32.4621 791.675 Q32.4621 796.577 35.2312 799.537 Q38.0002 802.465 43.0292 802.911 L42.9973 782.031 Z\" fill=\"#000000\" fill-rule=\"nonzero\" fill-opacity=\"1\" /><path clip-path=\"url(#clip660)\" d=\"M28.3562 766.562 L28.3562 760.706 L64.0042 760.706 L64.0042 766.562 L28.3562 766.562 M14.479 766.562 L14.479 760.706 L21.895 760.706 L21.895 766.562 L14.479 766.562 Z\" fill=\"#000000\" fill-rule=\"nonzero\" fill-opacity=\"1\" /><path clip-path=\"url(#clip660)\" d=\"M45.7664 724.994 Q39.4007 724.994 35.8996 727.636 Q32.3984 730.246 32.3984 734.989 Q32.3984 739.699 35.8996 742.341 Q39.4007 744.951 45.7664 744.951 Q52.1003 744.951 55.6014 742.341 Q59.1026 739.699 59.1026 734.989 Q59.1026 730.246 55.6014 727.636 Q52.1003 724.994 45.7664 724.994 M59.58 719.138 Q68.683 719.138 73.1071 723.18 Q77.5631 727.222 77.5631 735.561 Q77.5631 738.649 77.0857 741.386 Q76.6401 744.123 75.6852 746.701 L69.9879 746.701 Q71.3884 744.123 72.0568 741.609 Q72.7252 739.094 72.7252 736.484 Q72.7252 730.723 69.7015 727.859 Q66.7096 724.994 60.6303 724.994 L57.7339 724.994 Q60.885 726.809 62.4446 729.641 Q64.0042 732.474 64.0042 736.421 Q64.0042 742.977 59.0071 746.988 Q54.01 750.998 45.7664 750.998 Q37.491 750.998 32.4939 746.988 Q27.4968 742.977 27.4968 736.421 Q27.4968 732.474 29.0564 729.641 Q30.616 726.809 33.7671 724.994 L28.3562 724.994 L28.3562 719.138 L59.58 719.138 Z\" fill=\"#000000\" fill-rule=\"nonzero\" fill-opacity=\"1\" /><path clip-path=\"url(#clip660)\" d=\"M42.4881 677.443 L64.0042 677.443 L64.0042 683.299 L42.679 683.299 Q37.6183 683.299 35.1038 685.272 Q32.5894 687.246 32.5894 691.192 Q32.5894 695.935 35.6131 698.672 Q38.6368 701.409 43.8567 701.409 L64.0042 701.409 L64.0042 707.298 L14.479 707.298 L14.479 701.409 L33.8944 701.409 Q30.6797 699.309 29.0883 696.476 Q27.4968 693.611 27.4968 689.887 Q27.4968 683.745 31.3163 680.594 Q35.1038 677.443 42.4881 677.443 Z\" fill=\"#000000\" fill-rule=\"nonzero\" fill-opacity=\"1\" /><path clip-path=\"url(#clip660)\" d=\"M18.2347 659.969 L28.3562 659.969 L28.3562 647.906 L32.9077 647.906 L32.9077 659.969 L52.2594 659.969 Q56.6199 659.969 57.8613 658.791 Q59.1026 657.582 59.1026 653.921 L59.1026 647.906 L64.0042 647.906 L64.0042 653.921 Q64.0042 660.701 61.4897 663.279 Q58.9434 665.857 52.2594 665.857 L32.9077 665.857 L32.9077 670.154 L28.3562 670.154 L28.3562 665.857 L18.2347 665.857 L18.2347 659.969 Z\" fill=\"#000000\" fill-rule=\"nonzero\" fill-opacity=\"1\" /><path clip-path=\"url(#clip660)\" d=\"M57.2247 586.827 L44.4614 586.827 L44.4614 597.33 L39.1779 597.33 L39.1779 580.461 L59.58 580.461 Q62.2218 584.185 63.5904 588.673 Q64.9272 593.161 64.9272 598.253 Q64.9272 609.393 58.4342 615.695 Q51.9093 621.965 40.2919 621.965 Q28.6427 621.965 22.1496 615.695 Q15.6248 609.393 15.6248 598.253 Q15.6248 593.606 16.7706 589.437 Q17.9164 585.235 20.1444 581.702 L26.9876 581.702 Q23.9639 585.267 22.4361 589.277 Q20.9083 593.288 20.9083 597.712 Q20.9083 606.433 25.7781 610.825 Q30.6479 615.186 40.2919 615.186 Q49.9041 615.186 54.7739 610.825 Q59.6436 606.433 59.6436 597.712 Q59.6436 594.306 59.0707 591.633 Q58.466 588.959 57.2247 586.827 Z\" fill=\"#000000\" fill-rule=\"nonzero\" fill-opacity=\"1\" /><path clip-path=\"url(#clip660)\" d=\"M46.0847 552.77 Q46.0847 559.868 47.7079 562.605 Q49.3312 565.342 53.2461 565.342 Q56.3653 565.342 58.2114 563.305 Q60.0256 561.237 60.0256 557.704 Q60.0256 552.834 56.5881 549.906 Q53.1188 546.946 47.3897 546.946 L46.0847 546.946 L46.0847 552.77 M43.6657 541.089 L64.0042 541.089 L64.0042 546.946 L58.5933 546.946 Q61.8398 548.951 63.3994 551.943 Q64.9272 554.935 64.9272 559.263 Q64.9272 564.738 61.8716 567.984 Q58.7843 571.199 53.6281 571.199 Q47.6125 571.199 44.5569 567.188 Q41.5014 563.146 41.5014 555.157 L41.5014 546.946 L40.9285 546.946 Q36.8862 546.946 34.6901 549.619 Q32.4621 552.261 32.4621 557.067 Q32.4621 560.123 33.1941 563.019 Q33.9262 565.915 35.3903 568.589 L29.9795 568.589 Q28.7381 565.374 28.1334 562.351 Q27.4968 559.327 27.4968 556.462 Q27.4968 548.728 31.5072 544.909 Q35.5176 541.089 43.6657 541.089 Z\" fill=\"#000000\" fill-rule=\"nonzero\" fill-opacity=\"1\" /><path clip-path=\"url(#clip660)\" d=\"M28.3562 529.026 L28.3562 523.17 L64.0042 523.17 L64.0042 529.026 L28.3562 529.026 M14.479 529.026 L14.479 523.17 L21.895 523.17 L21.895 529.026 L14.479 529.026 Z\" fill=\"#000000\" fill-rule=\"nonzero\" fill-opacity=\"1\" /><path clip-path=\"url(#clip660)\" d=\"M42.4881 481.283 L64.0042 481.283 L64.0042 487.14 L42.679 487.14 Q37.6183 487.14 35.1038 489.113 Q32.5894 491.086 32.5894 495.033 Q32.5894 499.776 35.6131 502.513 Q38.6368 505.25 43.8567 505.25 L64.0042 505.25 L64.0042 511.138 L28.3562 511.138 L28.3562 505.25 L33.8944 505.25 Q30.6797 503.149 29.0883 500.317 Q27.4968 497.452 27.4968 493.728 Q27.4968 487.585 31.3163 484.434 Q35.1038 481.283 42.4881 481.283 Z\" fill=\"#000000\" fill-rule=\"nonzero\" fill-opacity=\"1\" /><path clip-path=\"url(#clip660)\" d=\"M737.275 18.8205 L737.275 65.8515 L747.159 65.8515 Q759.676 65.8515 765.469 60.1802 Q771.302 54.509 771.302 42.2752 Q771.302 30.1225 765.469 24.4918 Q759.676 18.8205 747.159 18.8205 L737.275 18.8205 M729.092 12.096 L745.903 12.096 Q763.484 12.096 771.707 19.4281 Q779.931 26.7198 779.931 42.2752 Q779.931 57.9117 771.667 65.2439 Q763.403 72.576 745.903 72.576 L729.092 72.576 L729.092 12.096 Z\" fill=\"#000000\" fill-rule=\"nonzero\" fill-opacity=\"1\" /><path clip-path=\"url(#clip660)\" d=\"M831.458 48.0275 L831.458 51.6733 L797.188 51.6733 Q797.674 59.3701 801.806 63.421 Q805.978 67.4314 813.391 67.4314 Q817.685 67.4314 821.696 66.3781 Q825.746 65.3249 829.716 63.2184 L829.716 70.267 Q825.706 71.9684 821.493 72.8596 Q817.28 73.7508 812.946 73.7508 Q802.089 73.7508 795.729 67.4314 Q789.41 61.1119 789.41 50.3365 Q789.41 39.1965 795.405 32.6746 Q801.441 26.1121 811.649 26.1121 Q820.804 26.1121 826.111 32.0264 Q831.458 37.9003 831.458 48.0275 M824.005 45.84 Q823.924 39.7232 820.561 36.0774 Q817.24 32.4315 811.73 32.4315 Q805.492 32.4315 801.725 35.9558 Q797.998 39.4801 797.431 45.8805 L824.005 45.84 Z\" fill=\"#000000\" fill-rule=\"nonzero\" fill-opacity=\"1\" /><path clip-path=\"url(#clip660)\" d=\"M872.615 28.5427 L872.615 35.5912 Q869.456 33.9709 866.053 33.1607 Q862.65 32.3505 859.004 32.3505 Q853.455 32.3505 850.659 34.0519 Q847.905 35.7533 847.905 39.156 Q847.905 41.7486 849.89 43.2475 Q851.875 44.7058 857.87 46.0426 L860.422 46.6097 Q868.362 48.3111 871.684 51.4303 Q875.046 54.509 875.046 60.0587 Q875.046 66.3781 870.023 70.0644 Q865.04 73.7508 856.29 73.7508 Q852.644 73.7508 848.675 73.0216 Q844.745 72.3329 840.37 70.9151 L840.37 63.2184 Q844.502 65.3654 848.513 66.4591 Q852.523 67.5124 856.452 67.5124 Q861.718 67.5124 864.554 65.73 Q867.39 63.9071 867.39 60.6258 Q867.39 57.5877 865.324 55.9673 Q863.298 54.3469 856.371 52.8481 L853.779 52.2405 Q846.852 50.7821 843.773 47.7845 Q840.694 44.7463 840.694 39.4801 Q840.694 33.0797 845.231 29.5959 Q849.768 26.1121 858.113 26.1121 Q862.245 26.1121 865.891 26.7198 Q869.537 27.3274 872.615 28.5427 Z\" fill=\"#000000\" fill-rule=\"nonzero\" fill-opacity=\"1\" /><path clip-path=\"url(#clip660)\" d=\"M886.915 27.2059 L894.369 27.2059 L894.369 72.576 L886.915 72.576 L886.915 27.2059 M886.915 9.54393 L894.369 9.54393 L894.369 18.9825 L886.915 18.9825 L886.915 9.54393 Z\" fill=\"#000000\" fill-rule=\"nonzero\" fill-opacity=\"1\" /><path clip-path=\"url(#clip660)\" d=\"M939.82 49.3643 Q939.82 41.2625 936.458 36.8065 Q933.136 32.3505 927.1 32.3505 Q921.105 32.3505 917.742 36.8065 Q914.421 41.2625 914.421 49.3643 Q914.421 57.4256 917.742 61.8816 Q921.105 66.3376 927.1 66.3376 Q933.136 66.3376 936.458 61.8816 Q939.82 57.4256 939.82 49.3643 M947.274 66.9452 Q947.274 78.5308 942.129 84.1616 Q936.984 89.8329 926.371 89.8329 Q922.442 89.8329 918.958 89.2252 Q915.474 88.6581 912.193 87.4428 L912.193 80.1917 Q915.474 81.9741 918.674 82.8248 Q921.874 83.6755 925.196 83.6755 Q932.528 83.6755 936.174 79.8271 Q939.82 76.0193 939.82 68.282 L939.82 64.5957 Q937.511 68.6061 933.906 70.5911 Q930.3 72.576 925.277 72.576 Q916.932 72.576 911.828 66.2161 Q906.724 59.8562 906.724 49.3643 Q906.724 38.832 911.828 32.472 Q916.932 26.1121 925.277 26.1121 Q930.3 26.1121 933.906 28.0971 Q937.511 30.082 939.82 34.0924 L939.82 27.2059 L947.274 27.2059 L947.274 66.9452 Z\" fill=\"#000000\" fill-rule=\"nonzero\" fill-opacity=\"1\" /><path clip-path=\"url(#clip660)\" d=\"M1000.34 45.1919 L1000.34 72.576 L992.887 72.576 L992.887 45.4349 Q992.887 38.994 990.375 35.7938 Q987.864 32.5936 982.84 32.5936 Q976.805 32.5936 973.321 36.4419 Q969.837 40.2903 969.837 46.9338 L969.837 72.576 L962.343 72.576 L962.343 27.2059 L969.837 27.2059 L969.837 34.2544 Q972.511 30.163 976.116 28.1376 Q979.762 26.1121 984.501 26.1121 Q992.32 26.1121 996.33 30.9732 Q1000.34 35.7938 1000.34 45.1919 Z\" fill=\"#000000\" fill-rule=\"nonzero\" fill-opacity=\"1\" /><path clip-path=\"url(#clip660)\" d=\"M1050.09 18.8205 L1050.09 41.5461 L1060.37 41.5461 Q1066.09 41.5461 1069.21 38.5889 Q1072.32 35.6318 1072.32 30.163 Q1072.32 24.7348 1069.21 21.7777 Q1066.09 18.8205 1060.37 18.8205 L1050.09 18.8205 M1041.9 12.096 L1060.37 12.096 Q1070.54 12.096 1075.73 16.714 Q1080.95 21.2916 1080.95 30.163 Q1080.95 39.1155 1075.73 43.6931 Q1070.54 48.2706 1060.37 48.2706 L1050.09 48.2706 L1050.09 72.576 L1041.9 72.576 L1041.9 12.096 Z\" fill=\"#000000\" fill-rule=\"nonzero\" fill-opacity=\"1\" /><path clip-path=\"url(#clip660)\" d=\"M1091.61 9.54393 L1099.06 9.54393 L1099.06 72.576 L1091.61 72.576 L1091.61 9.54393 Z\" fill=\"#000000\" fill-rule=\"nonzero\" fill-opacity=\"1\" /><path clip-path=\"url(#clip660)\" d=\"M1132.24 32.4315 Q1126.24 32.4315 1122.76 37.1306 Q1119.27 41.7891 1119.27 49.9314 Q1119.27 58.0738 1122.72 62.7728 Q1126.2 67.4314 1132.24 67.4314 Q1138.19 67.4314 1141.68 62.7323 Q1145.16 58.0333 1145.16 49.9314 Q1145.16 41.8701 1141.68 37.1711 Q1138.19 32.4315 1132.24 32.4315 M1132.24 26.1121 Q1141.96 26.1121 1147.51 32.4315 Q1153.06 38.7509 1153.06 49.9314 Q1153.06 61.0714 1147.51 67.4314 Q1141.96 73.7508 1132.24 73.7508 Q1122.48 73.7508 1116.93 67.4314 Q1111.42 61.0714 1111.42 49.9314 Q1111.42 38.7509 1116.93 32.4315 Q1122.48 26.1121 1132.24 26.1121 Z\" fill=\"#000000\" fill-rule=\"nonzero\" fill-opacity=\"1\" /><path clip-path=\"url(#clip660)\" d=\"M1172.79 14.324 L1172.79 27.2059 L1188.14 27.2059 L1188.14 32.9987 L1172.79 32.9987 L1172.79 57.6282 Q1172.79 63.1779 1174.29 64.7578 Q1175.83 66.3376 1180.48 66.3376 L1188.14 66.3376 L1188.14 72.576 L1180.48 72.576 Q1171.86 72.576 1168.57 69.3758 Q1165.29 66.1351 1165.29 57.6282 L1165.29 32.9987 L1159.82 32.9987 L1159.82 27.2059 L1165.29 27.2059 L1165.29 14.324 L1172.79 14.324 Z\" fill=\"#000000\" fill-rule=\"nonzero\" fill-opacity=\"1\" /><path clip-path=\"url(#clip660)\" d=\"M1247.28 9.54393 L1247.28 15.7418 L1240.15 15.7418 Q1236.14 15.7418 1234.56 17.3622 Q1233.02 18.9825 1233.02 23.1955 L1233.02 27.2059 L1245.3 27.2059 L1245.3 32.9987 L1233.02 32.9987 L1233.02 72.576 L1225.53 72.576 L1225.53 32.9987 L1218.4 32.9987 L1218.4 27.2059 L1225.53 27.2059 L1225.53 24.0462 Q1225.53 16.471 1229.05 13.0277 Q1232.58 9.54393 1240.23 9.54393 L1247.28 9.54393 Z\" fill=\"#000000\" fill-rule=\"nonzero\" fill-opacity=\"1\" /><path clip-path=\"url(#clip660)\" d=\"M1271.1 32.4315 Q1265.11 32.4315 1261.62 37.1306 Q1258.14 41.7891 1258.14 49.9314 Q1258.14 58.0738 1261.58 62.7728 Q1265.07 67.4314 1271.1 67.4314 Q1277.06 67.4314 1280.54 62.7323 Q1284.03 58.0333 1284.03 49.9314 Q1284.03 41.8701 1280.54 37.1711 Q1277.06 32.4315 1271.1 32.4315 M1271.1 26.1121 Q1280.83 26.1121 1286.37 32.4315 Q1291.92 38.7509 1291.92 49.9314 Q1291.92 61.0714 1286.37 67.4314 Q1280.83 73.7508 1271.1 73.7508 Q1261.34 73.7508 1255.79 67.4314 Q1250.28 61.0714 1250.28 49.9314 Q1250.28 38.7509 1255.79 32.4315 Q1261.34 26.1121 1271.1 26.1121 Z\" fill=\"#000000\" fill-rule=\"nonzero\" fill-opacity=\"1\" /><path clip-path=\"url(#clip660)\" d=\"M1330.57 34.1734 Q1329.31 33.4443 1327.82 33.1202 Q1326.36 32.7556 1324.57 32.7556 Q1318.26 32.7556 1314.85 36.8875 Q1311.49 40.9789 1311.49 48.6757 L1311.49 72.576 L1304 72.576 L1304 27.2059 L1311.49 27.2059 L1311.49 34.2544 Q1313.84 30.1225 1317.61 28.1376 Q1321.37 26.1121 1326.76 26.1121 Q1327.53 26.1121 1328.46 26.2337 Q1329.4 26.3147 1330.53 26.5172 L1330.57 34.1734 Z\" fill=\"#000000\" fill-rule=\"nonzero\" fill-opacity=\"1\" /><path clip-path=\"url(#clip660)\" d=\"M1359.7 12.096 L1367.96 12.096 L1380.68 63.2184 L1393.36 12.096 L1402.55 12.096 L1415.27 63.2184 L1427.95 12.096 L1436.26 12.096 L1421.07 72.576 L1410.78 72.576 L1398.02 20.0763 L1385.14 72.576 L1374.85 72.576 L1359.7 12.096 Z\" fill=\"#000000\" fill-rule=\"nonzero\" fill-opacity=\"1\" /><path clip-path=\"url(#clip660)\" d=\"M1480.74 48.0275 L1480.74 51.6733 L1446.47 51.6733 Q1446.95 59.3701 1451.08 63.421 Q1455.26 67.4314 1462.67 67.4314 Q1466.96 67.4314 1470.97 66.3781 Q1475.03 65.3249 1479 63.2184 L1479 70.267 Q1474.98 71.9684 1470.77 72.8596 Q1466.56 73.7508 1462.22 73.7508 Q1451.37 73.7508 1445.01 67.4314 Q1438.69 61.1119 1438.69 50.3365 Q1438.69 39.1965 1444.68 32.6746 Q1450.72 26.1121 1460.93 26.1121 Q1470.08 26.1121 1475.39 32.0264 Q1480.74 37.9003 1480.74 48.0275 M1473.28 45.84 Q1473.2 39.7232 1469.84 36.0774 Q1466.52 32.4315 1461.01 32.4315 Q1454.77 32.4315 1451 35.9558 Q1447.28 39.4801 1446.71 45.8805 L1473.28 45.84 Z\" fill=\"#000000\" fill-rule=\"nonzero\" fill-opacity=\"1\" /><path clip-path=\"url(#clip660)\" d=\"M1492.97 27.2059 L1500.42 27.2059 L1500.42 72.576 L1492.97 72.576 L1492.97 27.2059 M1492.97 9.54393 L1500.42 9.54393 L1500.42 18.9825 L1492.97 18.9825 L1492.97 9.54393 Z\" fill=\"#000000\" fill-rule=\"nonzero\" fill-opacity=\"1\" /><path clip-path=\"url(#clip660)\" d=\"M1545.88 49.3643 Q1545.88 41.2625 1542.51 36.8065 Q1539.19 32.3505 1533.16 32.3505 Q1527.16 32.3505 1523.8 36.8065 Q1520.48 41.2625 1520.48 49.3643 Q1520.48 57.4256 1523.8 61.8816 Q1527.16 66.3376 1533.16 66.3376 Q1539.19 66.3376 1542.51 61.8816 Q1545.88 57.4256 1545.88 49.3643 M1553.33 66.9452 Q1553.33 78.5308 1548.18 84.1616 Q1543.04 89.8329 1532.43 89.8329 Q1528.5 89.8329 1525.01 89.2252 Q1521.53 88.6581 1518.25 87.4428 L1518.25 80.1917 Q1521.53 81.9741 1524.73 82.8248 Q1527.93 83.6755 1531.25 83.6755 Q1538.58 83.6755 1542.23 79.8271 Q1545.88 76.0193 1545.88 68.282 L1545.88 64.5957 Q1543.57 68.6061 1539.96 70.5911 Q1536.36 72.576 1531.33 72.576 Q1522.99 72.576 1517.88 66.2161 Q1512.78 59.8562 1512.78 49.3643 Q1512.78 38.832 1517.88 32.472 Q1522.99 26.1121 1531.33 26.1121 Q1536.36 26.1121 1539.96 28.0971 Q1543.57 30.082 1545.88 34.0924 L1545.88 27.2059 L1553.33 27.2059 L1553.33 66.9452 Z\" fill=\"#000000\" fill-rule=\"nonzero\" fill-opacity=\"1\" /><path clip-path=\"url(#clip660)\" d=\"M1606.4 45.1919 L1606.4 72.576 L1598.94 72.576 L1598.94 45.4349 Q1598.94 38.994 1596.43 35.7938 Q1593.92 32.5936 1588.9 32.5936 Q1582.86 32.5936 1579.38 36.4419 Q1575.89 40.2903 1575.89 46.9338 L1575.89 72.576 L1568.4 72.576 L1568.4 9.54393 L1575.89 9.54393 L1575.89 34.2544 Q1578.57 30.163 1582.17 28.1376 Q1585.82 26.1121 1590.56 26.1121 Q1598.38 26.1121 1602.39 30.9732 Q1606.4 35.7938 1606.4 45.1919 Z\" fill=\"#000000\" fill-rule=\"nonzero\" fill-opacity=\"1\" /><path clip-path=\"url(#clip660)\" d=\"M1628.64 14.324 L1628.64 27.2059 L1643.99 27.2059 L1643.99 32.9987 L1628.64 32.9987 L1628.64 57.6282 Q1628.64 63.1779 1630.13 64.7578 Q1631.67 66.3376 1636.33 66.3376 L1643.99 66.3376 L1643.99 72.576 L1636.33 72.576 Q1627.7 72.576 1624.42 69.3758 Q1621.14 66.1351 1621.14 57.6282 L1621.14 32.9987 L1615.67 32.9987 L1615.67 27.2059 L1621.14 27.2059 L1621.14 14.324 L1628.64 14.324 Z\" fill=\"#000000\" fill-rule=\"nonzero\" fill-opacity=\"1\" /><path clip-path=\"url(#clip660)\" d=\"M1721.73 63.9476 L1721.73 47.7034 L1708.36 47.7034 L1708.36 40.9789 L1729.83 40.9789 L1729.83 66.9452 Q1725.09 70.3075 1719.38 72.0494 Q1713.66 73.7508 1707.18 73.7508 Q1693 73.7508 1684.98 65.4869 Q1677 57.1826 1677 42.3968 Q1677 27.5705 1684.98 19.3066 Q1693 11.0023 1707.18 11.0023 Q1713.1 11.0023 1718.4 12.4606 Q1723.75 13.9189 1728.25 16.7545 L1728.25 25.464 Q1723.71 21.6156 1718.61 19.6712 Q1713.5 17.7268 1707.87 17.7268 Q1696.77 17.7268 1691.18 23.9246 Q1685.63 30.1225 1685.63 42.3968 Q1685.63 54.6305 1691.18 60.8284 Q1696.77 67.0263 1707.87 67.0263 Q1712.21 67.0263 1715.61 66.2971 Q1719.01 65.5274 1721.73 63.9476 Z\" fill=\"#000000\" fill-rule=\"nonzero\" fill-opacity=\"1\" /><path clip-path=\"url(#clip660)\" d=\"M1765.07 49.7694 Q1756.04 49.7694 1752.55 51.8354 Q1749.07 53.9013 1749.07 58.8839 Q1749.07 62.8538 1751.66 65.2034 Q1754.29 67.5124 1758.79 67.5124 Q1764.99 67.5124 1768.72 63.1374 Q1772.48 58.7219 1772.48 51.4303 L1772.48 49.7694 L1765.07 49.7694 M1779.94 46.6907 L1779.94 72.576 L1772.48 72.576 L1772.48 65.6895 Q1769.93 69.8214 1766.12 71.8063 Q1762.32 73.7508 1756.81 73.7508 Q1749.84 73.7508 1745.71 69.8619 Q1741.62 65.9325 1741.62 59.3701 Q1741.62 51.7138 1746.72 47.825 Q1751.86 43.9361 1762.03 43.9361 L1772.48 43.9361 L1772.48 43.2069 Q1772.48 38.0623 1769.08 35.2672 Q1765.72 32.4315 1759.6 32.4315 Q1755.71 32.4315 1752.03 33.3632 Q1748.34 34.295 1744.94 36.1584 L1744.94 29.2718 Q1749.03 27.692 1752.88 26.9223 Q1756.73 26.1121 1760.37 26.1121 Q1770.21 26.1121 1775.08 31.2163 Q1779.94 36.3204 1779.94 46.6907 Z\" fill=\"#000000\" fill-rule=\"nonzero\" fill-opacity=\"1\" /><path clip-path=\"url(#clip660)\" d=\"M1795.29 27.2059 L1802.74 27.2059 L1802.74 72.576 L1795.29 72.576 L1795.29 27.2059 M1795.29 9.54393 L1802.74 9.54393 L1802.74 18.9825 L1795.29 18.9825 L1795.29 9.54393 Z\" fill=\"#000000\" fill-rule=\"nonzero\" fill-opacity=\"1\" /><path clip-path=\"url(#clip660)\" d=\"M1856.05 45.1919 L1856.05 72.576 L1848.6 72.576 L1848.6 45.4349 Q1848.6 38.994 1846.09 35.7938 Q1843.58 32.5936 1838.55 32.5936 Q1832.52 32.5936 1829.03 36.4419 Q1825.55 40.2903 1825.55 46.9338 L1825.55 72.576 L1818.06 72.576 L1818.06 27.2059 L1825.55 27.2059 L1825.55 34.2544 Q1828.22 30.163 1831.83 28.1376 Q1835.47 26.1121 1840.21 26.1121 Q1848.03 26.1121 1852.04 30.9732 Q1856.05 35.7938 1856.05 45.1919 Z\" fill=\"#000000\" fill-rule=\"nonzero\" fill-opacity=\"1\" /><polyline clip-path=\"url(#clip662)\" style=\"stroke:#000000; stroke-linecap:round; stroke-linejoin:round; stroke-width:4; stroke-opacity:1; fill:none\" points=\"292.4,1386.4 292.4,1027.17 \"/>\n",
       "<line clip-path=\"url(#clip662)\" x1=\"308.4\" y1=\"1386.4\" x2=\"276.4\" y2=\"1386.4\" style=\"stroke:#000000; stroke-width:4; stroke-opacity:1\"/>\n",
       "<line clip-path=\"url(#clip662)\" x1=\"308.4\" y1=\"1027.17\" x2=\"276.4\" y2=\"1027.17\" style=\"stroke:#000000; stroke-width:4; stroke-opacity:1\"/>\n",
       "<circle clip-path=\"url(#clip662)\" cx=\"292.4\" cy=\"1206.78\" r=\"14.4\" fill=\"#009af9\" fill-rule=\"evenodd\" fill-opacity=\"1\" stroke=\"#000000\" stroke-opacity=\"1\" stroke-width=\"3.2\"/>\n",
       "<polyline clip-path=\"url(#clip662)\" style=\"stroke:#000000; stroke-linecap:round; stroke-linejoin:round; stroke-width:4; stroke-opacity:1; fill:none\" points=\"292.4,551.81 292.4,160.256 \"/>\n",
       "<line clip-path=\"url(#clip662)\" x1=\"308.4\" y1=\"551.81\" x2=\"276.4\" y2=\"551.81\" style=\"stroke:#000000; stroke-width:4; stroke-opacity:1\"/>\n",
       "<line clip-path=\"url(#clip662)\" x1=\"308.4\" y1=\"160.256\" x2=\"276.4\" y2=\"160.256\" style=\"stroke:#000000; stroke-width:4; stroke-opacity:1\"/>\n",
       "<circle clip-path=\"url(#clip662)\" cx=\"292.4\" cy=\"356.033\" r=\"14.4\" fill=\"#e26f46\" fill-rule=\"evenodd\" fill-opacity=\"1\" stroke=\"#000000\" stroke-opacity=\"1\" stroke-width=\"3.2\"/>\n",
       "<polyline clip-path=\"url(#clip662)\" style=\"stroke:#000000; stroke-linecap:round; stroke-linejoin:round; stroke-width:4; stroke-opacity:1; fill:none\" points=\"2292.75,1217.72 2292.75,811.365 \"/>\n",
       "<line clip-path=\"url(#clip662)\" x1=\"2308.75\" y1=\"1217.72\" x2=\"2276.75\" y2=\"1217.72\" style=\"stroke:#000000; stroke-width:4; stroke-opacity:1\"/>\n",
       "<line clip-path=\"url(#clip662)\" x1=\"2308.75\" y1=\"811.365\" x2=\"2276.75\" y2=\"811.365\" style=\"stroke:#000000; stroke-width:4; stroke-opacity:1\"/>\n",
       "<circle clip-path=\"url(#clip662)\" cx=\"2292.75\" cy=\"1014.54\" r=\"14.4\" fill=\"#3da44d\" fill-rule=\"evenodd\" fill-opacity=\"1\" stroke=\"#000000\" stroke-opacity=\"1\" stroke-width=\"3.2\"/>\n",
       "<polyline clip-path=\"url(#clip662)\" style=\"stroke:#000000; stroke-linecap:round; stroke-linejoin:round; stroke-width:4; stroke-opacity:1; fill:none\" points=\"2292.75,1127.04 2292.75,738.447 \"/>\n",
       "<line clip-path=\"url(#clip662)\" x1=\"2308.75\" y1=\"1127.04\" x2=\"2276.75\" y2=\"1127.04\" style=\"stroke:#000000; stroke-width:4; stroke-opacity:1\"/>\n",
       "<line clip-path=\"url(#clip662)\" x1=\"2308.75\" y1=\"738.447\" x2=\"2276.75\" y2=\"738.447\" style=\"stroke:#000000; stroke-width:4; stroke-opacity:1\"/>\n",
       "<circle clip-path=\"url(#clip662)\" cx=\"2292.75\" cy=\"932.742\" r=\"14.4\" fill=\"#c271d2\" fill-rule=\"evenodd\" fill-opacity=\"1\" stroke=\"#000000\" stroke-opacity=\"1\" stroke-width=\"3.2\"/>\n",
       "<path clip-path=\"url(#clip660)\" d=\"M1969.76 425.996 L2282.08 425.996 L2282.08 166.796 L1969.76 166.796  Z\" fill=\"#ffffff\" fill-rule=\"evenodd\" fill-opacity=\"1\"/>\n",
       "<polyline clip-path=\"url(#clip660)\" style=\"stroke:#000000; stroke-linecap:round; stroke-linejoin:round; stroke-width:4; stroke-opacity:1; fill:none\" points=\"1969.76,425.996 2282.08,425.996 2282.08,166.796 1969.76,166.796 1969.76,425.996 \"/>\n",
       "<circle clip-path=\"url(#clip660)\" cx=\"2064\" cy=\"218.636\" r=\"20.48\" fill=\"#009af9\" fill-rule=\"evenodd\" fill-opacity=\"1\" stroke=\"#000000\" stroke-opacity=\"1\" stroke-width=\"4.55111\"/>\n",
       "<path clip-path=\"url(#clip660)\" d=\"M2158.24 201.356 L2162.92 201.356 L2162.92 231.981 L2179.74 231.981 L2179.74 235.916 L2158.24 235.916 L2158.24 201.356 Z\" fill=\"#000000\" fill-rule=\"nonzero\" fill-opacity=\"1\" /><path clip-path=\"url(#clip660)\" d=\"M2193.68 212.976 Q2190.25 212.976 2188.26 215.661 Q2186.27 218.323 2186.27 222.976 Q2186.27 227.629 2188.24 230.314 Q2190.23 232.976 2193.68 232.976 Q2197.08 232.976 2199.07 230.291 Q2201.06 227.606 2201.06 222.976 Q2201.06 218.37 2199.07 215.684 Q2197.08 212.976 2193.68 212.976 M2193.68 209.365 Q2199.24 209.365 2202.41 212.976 Q2205.58 216.587 2205.58 222.976 Q2205.58 229.342 2202.41 232.976 Q2199.24 236.587 2193.68 236.587 Q2188.1 236.587 2184.93 232.976 Q2181.78 229.342 2181.78 222.976 Q2181.78 216.587 2184.93 212.976 Q2188.1 209.365 2193.68 209.365 Z\" fill=\"#000000\" fill-rule=\"nonzero\" fill-opacity=\"1\" /><path clip-path=\"url(#clip660)\" d=\"M2210.16 209.99 L2214.42 209.99 L2219.74 230.221 L2225.05 209.99 L2230.07 209.99 L2235.39 230.221 L2240.69 209.99 L2244.95 209.99 L2238.17 235.916 L2233.15 235.916 L2227.57 214.666 L2221.97 235.916 L2216.94 235.916 L2210.16 209.99 Z\" fill=\"#000000\" fill-rule=\"nonzero\" fill-opacity=\"1\" /><circle clip-path=\"url(#clip660)\" cx=\"2064\" cy=\"270.476\" r=\"20.48\" fill=\"#e26f46\" fill-rule=\"evenodd\" fill-opacity=\"1\" stroke=\"#000000\" stroke-opacity=\"1\" stroke-width=\"4.55111\"/>\n",
       "<path clip-path=\"url(#clip660)\" d=\"M2158.24 253.196 L2162.92 253.196 L2162.92 267.362 L2179.91 267.362 L2179.91 253.196 L2184.58 253.196 L2184.58 287.756 L2179.91 287.756 L2179.91 271.297 L2162.92 271.297 L2162.92 287.756 L2158.24 287.756 L2158.24 253.196 Z\" fill=\"#000000\" fill-rule=\"nonzero\" fill-opacity=\"1\" /><path clip-path=\"url(#clip660)\" d=\"M2193.7 261.83 L2197.96 261.83 L2197.96 287.756 L2193.7 287.756 L2193.7 261.83 M2193.7 251.737 L2197.96 251.737 L2197.96 257.131 L2193.7 257.131 L2193.7 251.737 Z\" fill=\"#000000\" fill-rule=\"nonzero\" fill-opacity=\"1\" /><path clip-path=\"url(#clip660)\" d=\"M2223.93 274.492 Q2223.93 269.862 2222.01 267.316 Q2220.11 264.77 2216.67 264.77 Q2213.24 264.77 2211.32 267.316 Q2209.42 269.862 2209.42 274.492 Q2209.42 279.098 2211.32 281.645 Q2213.24 284.191 2216.67 284.191 Q2220.11 284.191 2222.01 281.645 Q2223.93 279.098 2223.93 274.492 M2228.19 284.538 Q2228.19 291.158 2225.25 294.376 Q2222.31 297.617 2216.25 297.617 Q2214 297.617 2212.01 297.27 Q2210.02 296.945 2208.15 296.251 L2208.15 292.108 Q2210.02 293.126 2211.85 293.612 Q2213.68 294.098 2215.58 294.098 Q2219.77 294.098 2221.85 291.899 Q2223.93 289.723 2223.93 285.302 L2223.93 283.196 Q2222.61 285.487 2220.55 286.621 Q2218.49 287.756 2215.62 287.756 Q2210.86 287.756 2207.94 284.121 Q2205.02 280.487 2205.02 274.492 Q2205.02 268.473 2207.94 264.839 Q2210.86 261.205 2215.62 261.205 Q2218.49 261.205 2220.55 262.339 Q2222.61 263.473 2223.93 265.765 L2223.93 261.83 L2228.19 261.83 L2228.19 284.538 Z\" fill=\"#000000\" fill-rule=\"nonzero\" fill-opacity=\"1\" /><path clip-path=\"url(#clip660)\" d=\"M2258.52 272.108 L2258.52 287.756 L2254.26 287.756 L2254.26 272.247 Q2254.26 268.566 2252.82 266.737 Q2251.39 264.909 2248.52 264.909 Q2245.07 264.909 2243.08 267.108 Q2241.09 269.307 2241.09 273.103 L2241.09 287.756 L2236.8 287.756 L2236.8 251.737 L2241.09 251.737 L2241.09 265.858 Q2242.61 263.52 2244.67 262.362 Q2246.76 261.205 2249.47 261.205 Q2253.93 261.205 2256.23 263.983 Q2258.52 266.737 2258.52 272.108 Z\" fill=\"#000000\" fill-rule=\"nonzero\" fill-opacity=\"1\" /><circle clip-path=\"url(#clip660)\" cx=\"2064\" cy=\"322.316\" r=\"20.48\" fill=\"#3da44d\" fill-rule=\"evenodd\" fill-opacity=\"1\" stroke=\"#000000\" stroke-opacity=\"1\" stroke-width=\"4.55111\"/>\n",
       "<path clip-path=\"url(#clip660)\" d=\"M2158.24 305.036 L2162.92 305.036 L2162.92 335.661 L2179.74 335.661 L2179.74 339.596 L2158.24 339.596 L2158.24 305.036 Z\" fill=\"#000000\" fill-rule=\"nonzero\" fill-opacity=\"1\" /><path clip-path=\"url(#clip660)\" d=\"M2193.68 316.656 Q2190.25 316.656 2188.26 319.341 Q2186.27 322.003 2186.27 326.656 Q2186.27 331.309 2188.24 333.994 Q2190.23 336.656 2193.68 336.656 Q2197.08 336.656 2199.07 333.971 Q2201.06 331.286 2201.06 326.656 Q2201.06 322.05 2199.07 319.364 Q2197.08 316.656 2193.68 316.656 M2193.68 313.045 Q2199.24 313.045 2202.41 316.656 Q2205.58 320.267 2205.58 326.656 Q2205.58 333.022 2202.41 336.656 Q2199.24 340.267 2193.68 340.267 Q2188.1 340.267 2184.93 336.656 Q2181.78 333.022 2181.78 326.656 Q2181.78 320.267 2184.93 316.656 Q2188.1 313.045 2193.68 313.045 Z\" fill=\"#000000\" fill-rule=\"nonzero\" fill-opacity=\"1\" /><path clip-path=\"url(#clip660)\" d=\"M2210.16 313.67 L2214.42 313.67 L2219.74 333.901 L2225.05 313.67 L2230.07 313.67 L2235.39 333.901 L2240.69 313.67 L2244.95 313.67 L2238.17 339.596 L2233.15 339.596 L2227.57 318.346 L2221.97 339.596 L2216.94 339.596 L2210.16 313.67 Z\" fill=\"#000000\" fill-rule=\"nonzero\" fill-opacity=\"1\" /><circle clip-path=\"url(#clip660)\" cx=\"2064\" cy=\"374.156\" r=\"20.48\" fill=\"#c271d2\" fill-rule=\"evenodd\" fill-opacity=\"1\" stroke=\"#000000\" stroke-opacity=\"1\" stroke-width=\"4.55111\"/>\n",
       "<path clip-path=\"url(#clip660)\" d=\"M2158.24 356.876 L2162.92 356.876 L2162.92 371.042 L2179.91 371.042 L2179.91 356.876 L2184.58 356.876 L2184.58 391.436 L2179.91 391.436 L2179.91 374.977 L2162.92 374.977 L2162.92 391.436 L2158.24 391.436 L2158.24 356.876 Z\" fill=\"#000000\" fill-rule=\"nonzero\" fill-opacity=\"1\" /><path clip-path=\"url(#clip660)\" d=\"M2193.7 365.51 L2197.96 365.51 L2197.96 391.436 L2193.7 391.436 L2193.7 365.51 M2193.7 355.417 L2197.96 355.417 L2197.96 360.811 L2193.7 360.811 L2193.7 355.417 Z\" fill=\"#000000\" fill-rule=\"nonzero\" fill-opacity=\"1\" /><path clip-path=\"url(#clip660)\" d=\"M2223.93 378.172 Q2223.93 373.542 2222.01 370.996 Q2220.11 368.45 2216.67 368.45 Q2213.24 368.45 2211.32 370.996 Q2209.42 373.542 2209.42 378.172 Q2209.42 382.778 2211.32 385.325 Q2213.24 387.871 2216.67 387.871 Q2220.11 387.871 2222.01 385.325 Q2223.93 382.778 2223.93 378.172 M2228.19 388.218 Q2228.19 394.838 2225.25 398.056 Q2222.31 401.297 2216.25 401.297 Q2214 401.297 2212.01 400.95 Q2210.02 400.625 2208.15 399.931 L2208.15 395.788 Q2210.02 396.806 2211.85 397.292 Q2213.68 397.778 2215.58 397.778 Q2219.77 397.778 2221.85 395.579 Q2223.93 393.403 2223.93 388.982 L2223.93 386.876 Q2222.61 389.167 2220.55 390.301 Q2218.49 391.436 2215.62 391.436 Q2210.86 391.436 2207.94 387.801 Q2205.02 384.167 2205.02 378.172 Q2205.02 372.153 2207.94 368.519 Q2210.86 364.885 2215.62 364.885 Q2218.49 364.885 2220.55 366.019 Q2222.61 367.153 2223.93 369.445 L2223.93 365.51 L2228.19 365.51 L2228.19 388.218 Z\" fill=\"#000000\" fill-rule=\"nonzero\" fill-opacity=\"1\" /><path clip-path=\"url(#clip660)\" d=\"M2258.52 375.788 L2258.52 391.436 L2254.26 391.436 L2254.26 375.927 Q2254.26 372.246 2252.82 370.417 Q2251.39 368.589 2248.52 368.589 Q2245.07 368.589 2243.08 370.788 Q2241.09 372.987 2241.09 376.783 L2241.09 391.436 L2236.8 391.436 L2236.8 355.417 L2241.09 355.417 L2241.09 369.538 Q2242.61 367.2 2244.67 366.042 Q2246.76 364.885 2249.47 364.885 Q2253.93 364.885 2256.23 367.663 Q2258.52 370.417 2258.52 375.788 Z\" fill=\"#000000\" fill-rule=\"nonzero\" fill-opacity=\"1\" /></svg>\n"
      ],
      "text/html": [
       "<?xml version=\"1.0\" encoding=\"utf-8\"?>\n",
       "<svg xmlns=\"http://www.w3.org/2000/svg\" xmlns:xlink=\"http://www.w3.org/1999/xlink\" width=\"600\" height=\"400\" viewBox=\"0 0 2400 1600\">\n",
       "<defs>\n",
       "  <clipPath id=\"clip710\">\n",
       "    <rect x=\"0\" y=\"0\" width=\"2400\" height=\"1600\"/>\n",
       "  </clipPath>\n",
       "</defs>\n",
       "<path clip-path=\"url(#clip710)\" d=\"M0 1600 L2400 1600 L2400 0 L0 0  Z\" fill=\"#ffffff\" fill-rule=\"evenodd\" fill-opacity=\"1\"/>\n",
       "<defs>\n",
       "  <clipPath id=\"clip711\">\n",
       "    <rect x=\"480\" y=\"0\" width=\"1681\" height=\"1600\"/>\n",
       "  </clipPath>\n",
       "</defs>\n",
       "<path clip-path=\"url(#clip710)\" d=\"M232.389 1423.18 L2352.76 1423.18 L2352.76 123.472 L232.389 123.472  Z\" fill=\"#ffffff\" fill-rule=\"evenodd\" fill-opacity=\"1\"/>\n",
       "<defs>\n",
       "  <clipPath id=\"clip712\">\n",
       "    <rect x=\"232\" y=\"123\" width=\"2121\" height=\"1301\"/>\n",
       "  </clipPath>\n",
       "</defs>\n",
       "<polyline clip-path=\"url(#clip712)\" style=\"stroke:#000000; stroke-linecap:round; stroke-linejoin:round; stroke-width:2; stroke-opacity:0.1; fill:none\" points=\"292.4,1423.18 292.4,123.472 \"/>\n",
       "<polyline clip-path=\"url(#clip712)\" style=\"stroke:#000000; stroke-linecap:round; stroke-linejoin:round; stroke-width:2; stroke-opacity:0.1; fill:none\" points=\"2292.75,1423.18 2292.75,123.472 \"/>\n",
       "<polyline clip-path=\"url(#clip712)\" style=\"stroke:#000000; stroke-linecap:round; stroke-linejoin:round; stroke-width:2; stroke-opacity:0.1; fill:none\" points=\"232.389,1378.57 2352.76,1378.57 \"/>\n",
       "<polyline clip-path=\"url(#clip712)\" style=\"stroke:#000000; stroke-linecap:round; stroke-linejoin:round; stroke-width:2; stroke-opacity:0.1; fill:none\" points=\"232.389,1174.06 2352.76,1174.06 \"/>\n",
       "<polyline clip-path=\"url(#clip712)\" style=\"stroke:#000000; stroke-linecap:round; stroke-linejoin:round; stroke-width:2; stroke-opacity:0.1; fill:none\" points=\"232.389,969.553 2352.76,969.553 \"/>\n",
       "<polyline clip-path=\"url(#clip712)\" style=\"stroke:#000000; stroke-linecap:round; stroke-linejoin:round; stroke-width:2; stroke-opacity:0.1; fill:none\" points=\"232.389,765.047 2352.76,765.047 \"/>\n",
       "<polyline clip-path=\"url(#clip712)\" style=\"stroke:#000000; stroke-linecap:round; stroke-linejoin:round; stroke-width:2; stroke-opacity:0.1; fill:none\" points=\"232.389,560.54 2352.76,560.54 \"/>\n",
       "<polyline clip-path=\"url(#clip712)\" style=\"stroke:#000000; stroke-linecap:round; stroke-linejoin:round; stroke-width:2; stroke-opacity:0.1; fill:none\" points=\"232.389,356.033 2352.76,356.033 \"/>\n",
       "<polyline clip-path=\"url(#clip712)\" style=\"stroke:#000000; stroke-linecap:round; stroke-linejoin:round; stroke-width:2; stroke-opacity:0.1; fill:none\" points=\"232.389,151.526 2352.76,151.526 \"/>\n",
       "<polyline clip-path=\"url(#clip710)\" style=\"stroke:#000000; stroke-linecap:round; stroke-linejoin:round; stroke-width:4; stroke-opacity:1; fill:none\" points=\"232.389,1423.18 2352.76,1423.18 \"/>\n",
       "<polyline clip-path=\"url(#clip710)\" style=\"stroke:#000000; stroke-linecap:round; stroke-linejoin:round; stroke-width:4; stroke-opacity:1; fill:none\" points=\"292.4,1423.18 292.4,1404.28 \"/>\n",
       "<polyline clip-path=\"url(#clip710)\" style=\"stroke:#000000; stroke-linecap:round; stroke-linejoin:round; stroke-width:4; stroke-opacity:1; fill:none\" points=\"2292.75,1423.18 2292.75,1404.28 \"/>\n",
       "<path clip-path=\"url(#clip710)\" d=\"M245.178 1469.08 L245.178 1481.74 L252.678 1481.74 Q256.451 1481.74 258.256 1480.19 Q260.085 1478.61 260.085 1475.39 Q260.085 1472.15 258.256 1470.63 Q256.451 1469.08 252.678 1469.08 L245.178 1469.08 M245.178 1454.86 L245.178 1465.28 L252.099 1465.28 Q255.525 1465.28 257.192 1464.01 Q258.881 1462.71 258.881 1460.07 Q258.881 1457.45 257.192 1456.16 Q255.525 1454.86 252.099 1454.86 L245.178 1454.86 M240.502 1451.02 L252.446 1451.02 Q257.793 1451.02 260.687 1453.24 Q263.58 1455.46 263.58 1459.56 Q263.58 1462.73 262.099 1464.61 Q260.617 1466.48 257.747 1466.95 Q261.196 1467.69 263.094 1470.05 Q265.016 1472.39 265.016 1475.9 Q265.016 1480.53 261.867 1483.06 Q258.719 1485.58 252.909 1485.58 L240.502 1485.58 L240.502 1451.02 Z\" fill=\"#000000\" fill-rule=\"nonzero\" fill-opacity=\"1\" /><path clip-path=\"url(#clip710)\" d=\"M295.015 1471.55 L295.015 1473.64 L275.432 1473.64 Q275.71 1478.03 278.071 1480.35 Q280.455 1482.64 284.691 1482.64 Q287.145 1482.64 289.437 1482.04 Q291.752 1481.44 294.02 1480.23 L294.02 1484.26 Q291.728 1485.23 289.321 1485.74 Q286.914 1486.25 284.437 1486.25 Q278.233 1486.25 274.599 1482.64 Q270.988 1479.03 270.988 1472.87 Q270.988 1466.51 274.414 1462.78 Q277.863 1459.03 283.696 1459.03 Q288.928 1459.03 291.96 1462.41 Q295.015 1465.77 295.015 1471.55 M290.756 1470.3 Q290.71 1466.81 288.789 1464.72 Q286.89 1462.64 283.742 1462.64 Q280.178 1462.64 278.025 1464.65 Q275.895 1466.67 275.571 1470.33 L290.756 1470.3 Z\" fill=\"#000000\" fill-rule=\"nonzero\" fill-opacity=\"1\" /><path clip-path=\"url(#clip710)\" d=\"M324.182 1471.55 L324.182 1473.64 L304.599 1473.64 Q304.877 1478.03 307.238 1480.35 Q309.622 1482.64 313.858 1482.64 Q316.312 1482.64 318.603 1482.04 Q320.918 1481.44 323.187 1480.23 L323.187 1484.26 Q320.895 1485.23 318.488 1485.74 Q316.08 1486.25 313.603 1486.25 Q307.4 1486.25 303.765 1482.64 Q300.154 1479.03 300.154 1472.87 Q300.154 1466.51 303.58 1462.78 Q307.029 1459.03 312.863 1459.03 Q318.094 1459.03 321.126 1462.41 Q324.182 1465.77 324.182 1471.55 M319.923 1470.3 Q319.876 1466.81 317.955 1464.72 Q316.057 1462.64 312.909 1462.64 Q309.344 1462.64 307.191 1464.65 Q305.062 1466.67 304.738 1470.33 L319.923 1470.3 Z\" fill=\"#000000\" fill-rule=\"nonzero\" fill-opacity=\"1\" /><path clip-path=\"url(#clip710)\" d=\"M344.298 1449.56 L344.298 1453.1 L340.224 1453.1 Q337.932 1453.1 337.029 1454.03 Q336.149 1454.96 336.149 1457.36 L336.149 1459.65 L343.163 1459.65 L343.163 1462.96 L336.149 1462.96 L336.149 1485.58 L331.867 1485.58 L331.867 1462.96 L327.793 1462.96 L327.793 1459.65 L331.867 1459.65 L331.867 1457.85 Q331.867 1453.52 333.881 1451.55 Q335.895 1449.56 340.27 1449.56 L344.298 1449.56 Z\" fill=\"#000000\" fill-rule=\"nonzero\" fill-opacity=\"1\" /><path clip-path=\"url(#clip710)\" d=\"M2248.12 1453.68 L2248.12 1458.61 Q2245.76 1456.41 2243.07 1455.33 Q2240.41 1454.24 2237.4 1454.24 Q2231.47 1454.24 2228.32 1457.87 Q2225.18 1461.48 2225.18 1468.33 Q2225.18 1475.16 2228.32 1478.8 Q2231.47 1482.41 2237.4 1482.41 Q2240.41 1482.41 2243.07 1481.32 Q2245.76 1480.23 2248.12 1478.03 L2248.12 1482.92 Q2245.66 1484.58 2242.91 1485.42 Q2240.18 1486.25 2237.12 1486.25 Q2229.27 1486.25 2224.76 1481.46 Q2220.25 1476.64 2220.25 1468.33 Q2220.25 1460 2224.76 1455.21 Q2229.27 1450.39 2237.12 1450.39 Q2240.22 1450.39 2242.95 1451.23 Q2245.71 1452.04 2248.12 1453.68 Z\" fill=\"#000000\" fill-rule=\"nonzero\" fill-opacity=\"1\" /><path clip-path=\"url(#clip710)\" d=\"M2277.33 1471.55 L2277.33 1473.64 L2257.75 1473.64 Q2258.02 1478.03 2260.38 1480.35 Q2262.77 1482.64 2267 1482.64 Q2269.46 1482.64 2271.75 1482.04 Q2274.07 1481.44 2276.33 1480.23 L2276.33 1484.26 Q2274.04 1485.23 2271.63 1485.74 Q2269.23 1486.25 2266.75 1486.25 Q2260.55 1486.25 2256.91 1482.64 Q2253.3 1479.03 2253.3 1472.87 Q2253.3 1466.51 2256.73 1462.78 Q2260.18 1459.03 2266.01 1459.03 Q2271.24 1459.03 2274.27 1462.41 Q2277.33 1465.77 2277.33 1471.55 M2273.07 1470.3 Q2273.02 1466.81 2271.1 1464.72 Q2269.2 1462.64 2266.06 1462.64 Q2262.49 1462.64 2260.34 1464.65 Q2258.21 1466.67 2257.88 1470.33 L2273.07 1470.3 Z\" fill=\"#000000\" fill-rule=\"nonzero\" fill-opacity=\"1\" /><path clip-path=\"url(#clip710)\" d=\"M2299.34 1463.64 Q2298.63 1463.22 2297.77 1463.03 Q2296.94 1462.83 2295.92 1462.83 Q2292.31 1462.83 2290.36 1465.19 Q2288.44 1467.52 2288.44 1471.92 L2288.44 1485.58 L2284.16 1485.58 L2284.16 1459.65 L2288.44 1459.65 L2288.44 1463.68 Q2289.78 1461.32 2291.94 1460.19 Q2294.09 1459.03 2297.17 1459.03 Q2297.61 1459.03 2298.14 1459.1 Q2298.67 1459.14 2299.32 1459.26 L2299.34 1463.64 Z\" fill=\"#000000\" fill-rule=\"nonzero\" fill-opacity=\"1\" /><path clip-path=\"url(#clip710)\" d=\"M2324.94 1471.55 L2324.94 1473.64 L2305.36 1473.64 Q2305.64 1478.03 2308 1480.35 Q2310.38 1482.64 2314.62 1482.64 Q2317.07 1482.64 2319.37 1482.04 Q2321.68 1481.44 2323.95 1480.23 L2323.95 1484.26 Q2321.66 1485.23 2319.25 1485.74 Q2316.84 1486.25 2314.37 1486.25 Q2308.16 1486.25 2304.53 1482.64 Q2300.92 1479.03 2300.92 1472.87 Q2300.92 1466.51 2304.34 1462.78 Q2307.79 1459.03 2313.63 1459.03 Q2318.86 1459.03 2321.89 1462.41 Q2324.94 1465.77 2324.94 1471.55 M2320.69 1470.3 Q2320.64 1466.81 2318.72 1464.72 Q2316.82 1462.64 2313.67 1462.64 Q2310.11 1462.64 2307.95 1464.65 Q2305.82 1466.67 2305.5 1470.33 L2320.69 1470.3 Z\" fill=\"#000000\" fill-rule=\"nonzero\" fill-opacity=\"1\" /><path clip-path=\"url(#clip710)\" d=\"M2343.72 1472.55 Q2338.56 1472.55 2336.56 1473.73 Q2334.57 1474.91 2334.57 1477.76 Q2334.57 1480.02 2336.06 1481.37 Q2337.56 1482.69 2340.13 1482.69 Q2343.67 1482.69 2345.8 1480.19 Q2347.95 1477.66 2347.95 1473.5 L2347.95 1472.55 L2343.72 1472.55 M2352.21 1470.79 L2352.21 1485.58 L2347.95 1485.58 L2347.95 1481.64 Q2346.5 1484.01 2344.32 1485.14 Q2342.14 1486.25 2339 1486.25 Q2335.01 1486.25 2332.65 1484.03 Q2330.31 1481.78 2330.31 1478.03 Q2330.31 1473.66 2333.23 1471.44 Q2336.17 1469.21 2341.98 1469.21 L2347.95 1469.21 L2347.95 1468.8 Q2347.95 1465.86 2346.01 1464.26 Q2344.09 1462.64 2340.59 1462.64 Q2338.37 1462.64 2336.26 1463.17 Q2334.16 1463.7 2332.21 1464.77 L2332.21 1460.83 Q2334.55 1459.93 2336.75 1459.49 Q2338.95 1459.03 2341.03 1459.03 Q2346.66 1459.03 2349.44 1461.95 Q2352.21 1464.86 2352.21 1470.79 Z\" fill=\"#000000\" fill-rule=\"nonzero\" fill-opacity=\"1\" /><path clip-path=\"url(#clip710)\" d=\"M2360.99 1449.56 L2365.25 1449.56 L2365.25 1485.58 L2360.99 1485.58 L2360.99 1449.56 Z\" fill=\"#000000\" fill-rule=\"nonzero\" fill-opacity=\"1\" /><path clip-path=\"url(#clip710)\" d=\"M1215.1 1522.08 L1215.1 1528.35 Q1211.44 1526.6 1208.2 1525.74 Q1204.95 1524.88 1201.92 1524.88 Q1196.67 1524.88 1193.81 1526.92 Q1190.98 1528.96 1190.98 1532.71 Q1190.98 1535.87 1192.85 1537.49 Q1194.76 1539.08 1200.05 1540.07 L1203.93 1540.86 Q1211.12 1542.23 1214.53 1545.7 Q1217.97 1549.14 1217.97 1554.93 Q1217.97 1561.84 1213.32 1565.4 Q1208.7 1568.97 1199.76 1568.97 Q1196.39 1568.97 1192.57 1568.2 Q1188.78 1567.44 1184.71 1565.94 L1184.71 1559.32 Q1188.62 1561.52 1192.38 1562.63 Q1196.13 1563.75 1199.76 1563.75 Q1205.27 1563.75 1208.26 1561.58 Q1211.25 1559.42 1211.25 1555.41 Q1211.25 1551.91 1209.09 1549.93 Q1206.95 1547.96 1202.05 1546.97 L1198.14 1546.21 Q1190.94 1544.78 1187.73 1541.72 Q1184.51 1538.67 1184.51 1533.22 Q1184.51 1526.92 1188.94 1523.29 Q1193.39 1519.66 1201.19 1519.66 Q1204.53 1519.66 1208 1520.27 Q1211.47 1520.87 1215.1 1522.08 Z\" fill=\"#000000\" fill-rule=\"nonzero\" fill-opacity=\"1\" /><path clip-path=\"url(#clip710)\" d=\"M1241.55 1536.5 Q1236.84 1536.5 1234.1 1540.19 Q1231.37 1543.85 1231.37 1550.25 Q1231.37 1556.65 1234.07 1560.34 Q1236.81 1564 1241.55 1564 Q1246.23 1564 1248.97 1560.31 Q1251.7 1556.62 1251.7 1550.25 Q1251.7 1543.92 1248.97 1540.23 Q1246.23 1536.5 1241.55 1536.5 M1241.55 1531.54 Q1249.19 1531.54 1253.55 1536.5 Q1257.91 1541.47 1257.91 1550.25 Q1257.91 1559 1253.55 1564 Q1249.19 1568.97 1241.55 1568.97 Q1233.88 1568.97 1229.52 1564 Q1225.19 1559 1225.19 1550.25 Q1225.19 1541.47 1229.52 1536.5 Q1233.88 1531.54 1241.55 1531.54 Z\" fill=\"#000000\" fill-rule=\"nonzero\" fill-opacity=\"1\" /><path clip-path=\"url(#clip710)\" d=\"M1267.01 1553.98 L1267.01 1532.4 L1272.87 1532.4 L1272.87 1553.75 Q1272.87 1558.81 1274.84 1561.36 Q1276.82 1563.87 1280.76 1563.87 Q1285.51 1563.87 1288.24 1560.85 Q1291.01 1557.83 1291.01 1552.61 L1291.01 1532.4 L1296.87 1532.4 L1296.87 1568.04 L1291.01 1568.04 L1291.01 1562.57 Q1288.88 1565.82 1286.05 1567.41 Q1283.25 1568.97 1279.52 1568.97 Q1273.38 1568.97 1270.2 1565.15 Q1267.01 1561.33 1267.01 1553.98 M1281.75 1531.54 L1281.75 1531.54 Z\" fill=\"#000000\" fill-rule=\"nonzero\" fill-opacity=\"1\" /><path clip-path=\"url(#clip710)\" d=\"M1329.59 1537.87 Q1328.6 1537.3 1327.42 1537.04 Q1326.28 1536.76 1324.88 1536.76 Q1319.91 1536.76 1317.24 1540 Q1314.6 1543.22 1314.6 1549.27 L1314.6 1568.04 L1308.71 1568.04 L1308.71 1532.4 L1314.6 1532.4 L1314.6 1537.93 Q1316.44 1534.69 1319.4 1533.13 Q1322.36 1531.54 1326.6 1531.54 Q1327.2 1531.54 1327.93 1531.63 Q1328.67 1531.7 1329.56 1531.85 L1329.59 1537.87 Z\" fill=\"#000000\" fill-rule=\"nonzero\" fill-opacity=\"1\" /><path clip-path=\"url(#clip710)\" d=\"M1359.95 1533.76 L1359.95 1539.24 Q1357.47 1537.87 1354.96 1537.2 Q1352.47 1536.5 1349.93 1536.5 Q1344.23 1536.5 1341.08 1540.13 Q1337.93 1543.73 1337.93 1550.25 Q1337.93 1556.78 1341.08 1560.4 Q1344.23 1564 1349.93 1564 Q1352.47 1564 1354.96 1563.33 Q1357.47 1562.63 1359.95 1561.26 L1359.95 1566.68 Q1357.5 1567.82 1354.86 1568.39 Q1352.25 1568.97 1349.29 1568.97 Q1341.24 1568.97 1336.5 1563.91 Q1331.75 1558.85 1331.75 1550.25 Q1331.75 1541.53 1336.53 1536.53 Q1341.33 1531.54 1349.67 1531.54 Q1352.38 1531.54 1354.96 1532.11 Q1357.53 1532.65 1359.95 1533.76 Z\" fill=\"#000000\" fill-rule=\"nonzero\" fill-opacity=\"1\" /><path clip-path=\"url(#clip710)\" d=\"M1400.63 1548.76 L1400.63 1551.62 L1373.7 1551.62 Q1374.09 1557.67 1377.33 1560.85 Q1380.61 1564 1386.43 1564 Q1389.81 1564 1392.96 1563.17 Q1396.14 1562.35 1399.26 1560.69 L1399.26 1566.23 Q1396.11 1567.57 1392.8 1568.27 Q1389.49 1568.97 1386.08 1568.97 Q1377.55 1568.97 1372.56 1564 Q1367.59 1559.04 1367.59 1550.57 Q1367.59 1541.82 1372.3 1536.69 Q1377.05 1531.54 1385.07 1531.54 Q1392.26 1531.54 1396.43 1536.18 Q1400.63 1540.8 1400.63 1548.76 M1394.77 1547.04 Q1394.71 1542.23 1392.07 1539.37 Q1389.46 1536.5 1385.13 1536.5 Q1380.23 1536.5 1377.27 1539.27 Q1374.34 1542.04 1373.89 1547.07 L1394.77 1547.04 Z\" fill=\"#000000\" fill-rule=\"nonzero\" fill-opacity=\"1\" /><polyline clip-path=\"url(#clip710)\" style=\"stroke:#000000; stroke-linecap:round; stroke-linejoin:round; stroke-width:4; stroke-opacity:1; fill:none\" points=\"232.389,1423.18 232.389,123.472 \"/>\n",
       "<polyline clip-path=\"url(#clip710)\" style=\"stroke:#000000; stroke-linecap:round; stroke-linejoin:round; stroke-width:4; stroke-opacity:1; fill:none\" points=\"232.389,1378.57 251.287,1378.57 \"/>\n",
       "<polyline clip-path=\"url(#clip710)\" style=\"stroke:#000000; stroke-linecap:round; stroke-linejoin:round; stroke-width:4; stroke-opacity:1; fill:none\" points=\"232.389,1174.06 251.287,1174.06 \"/>\n",
       "<polyline clip-path=\"url(#clip710)\" style=\"stroke:#000000; stroke-linecap:round; stroke-linejoin:round; stroke-width:4; stroke-opacity:1; fill:none\" points=\"232.389,969.553 251.287,969.553 \"/>\n",
       "<polyline clip-path=\"url(#clip710)\" style=\"stroke:#000000; stroke-linecap:round; stroke-linejoin:round; stroke-width:4; stroke-opacity:1; fill:none\" points=\"232.389,765.047 251.287,765.047 \"/>\n",
       "<polyline clip-path=\"url(#clip710)\" style=\"stroke:#000000; stroke-linecap:round; stroke-linejoin:round; stroke-width:4; stroke-opacity:1; fill:none\" points=\"232.389,560.54 251.287,560.54 \"/>\n",
       "<polyline clip-path=\"url(#clip710)\" style=\"stroke:#000000; stroke-linecap:round; stroke-linejoin:round; stroke-width:4; stroke-opacity:1; fill:none\" points=\"232.389,356.033 251.287,356.033 \"/>\n",
       "<polyline clip-path=\"url(#clip710)\" style=\"stroke:#000000; stroke-linecap:round; stroke-linejoin:round; stroke-width:4; stroke-opacity:1; fill:none\" points=\"232.389,151.526 251.287,151.526 \"/>\n",
       "<path clip-path=\"url(#clip710)\" d=\"M144.098 1361.29 L166.32 1361.29 L166.32 1363.28 L153.774 1395.85 L148.89 1395.85 L160.695 1365.22 L144.098 1365.22 L144.098 1361.29 Z\" fill=\"#000000\" fill-rule=\"nonzero\" fill-opacity=\"1\" /><path clip-path=\"url(#clip710)\" d=\"M175.487 1361.29 L193.843 1361.29 L193.843 1365.22 L179.769 1365.22 L179.769 1373.69 Q180.788 1373.35 181.806 1373.18 Q182.825 1373 183.843 1373 Q189.63 1373 193.01 1376.17 Q196.389 1379.34 196.389 1384.76 Q196.389 1390.34 192.917 1393.44 Q189.445 1396.52 183.126 1396.52 Q180.95 1396.52 178.681 1396.15 Q176.436 1395.78 174.028 1395.04 L174.028 1390.34 Q176.112 1391.47 178.334 1392.03 Q180.556 1392.58 183.033 1392.58 Q187.038 1392.58 189.375 1390.48 Q191.713 1388.37 191.713 1384.76 Q191.713 1381.15 189.375 1379.04 Q187.038 1376.93 183.033 1376.93 Q181.158 1376.93 179.283 1377.35 Q177.431 1377.77 175.487 1378.65 L175.487 1361.29 Z\" fill=\"#000000\" fill-rule=\"nonzero\" fill-opacity=\"1\" /><path clip-path=\"url(#clip710)\" d=\"M154.283 1174.93 Q150.95 1174.93 149.028 1176.71 Q147.13 1178.49 147.13 1181.62 Q147.13 1184.74 149.028 1186.53 Q150.95 1188.31 154.283 1188.31 Q157.616 1188.31 159.538 1186.53 Q161.459 1184.72 161.459 1181.62 Q161.459 1178.49 159.538 1176.71 Q157.64 1174.93 154.283 1174.93 M149.607 1172.94 Q146.598 1172.2 144.908 1170.14 Q143.241 1168.08 143.241 1165.11 Q143.241 1160.97 146.181 1158.56 Q149.144 1156.16 154.283 1156.16 Q159.445 1156.16 162.385 1158.56 Q165.325 1160.97 165.325 1165.11 Q165.325 1168.08 163.635 1170.14 Q161.968 1172.2 158.982 1172.94 Q162.362 1173.72 164.237 1176.02 Q166.135 1178.31 166.135 1181.62 Q166.135 1186.64 163.056 1189.33 Q160.001 1192.01 154.283 1192.01 Q148.566 1192.01 145.487 1189.33 Q142.431 1186.64 142.431 1181.62 Q142.431 1178.31 144.329 1176.02 Q146.228 1173.72 149.607 1172.94 M147.894 1165.55 Q147.894 1168.24 149.561 1169.74 Q151.251 1171.25 154.283 1171.25 Q157.292 1171.25 158.982 1169.74 Q160.695 1168.24 160.695 1165.55 Q160.695 1162.87 158.982 1161.36 Q157.292 1159.86 154.283 1159.86 Q151.251 1159.86 149.561 1161.36 Q147.894 1162.87 147.894 1165.55 Z\" fill=\"#000000\" fill-rule=\"nonzero\" fill-opacity=\"1\" /><path clip-path=\"url(#clip710)\" d=\"M184.445 1159.86 Q180.834 1159.86 179.005 1163.42 Q177.2 1166.97 177.2 1174.09 Q177.2 1181.2 179.005 1184.77 Q180.834 1188.31 184.445 1188.31 Q188.079 1188.31 189.885 1184.77 Q191.713 1181.2 191.713 1174.09 Q191.713 1166.97 189.885 1163.42 Q188.079 1159.86 184.445 1159.86 M184.445 1156.16 Q190.255 1156.16 193.311 1160.76 Q196.389 1165.34 196.389 1174.09 Q196.389 1182.82 193.311 1187.43 Q190.255 1192.01 184.445 1192.01 Q178.635 1192.01 175.556 1187.43 Q172.501 1182.82 172.501 1174.09 Q172.501 1165.34 175.556 1160.76 Q178.635 1156.16 184.445 1156.16 Z\" fill=\"#000000\" fill-rule=\"nonzero\" fill-opacity=\"1\" /><path clip-path=\"url(#clip710)\" d=\"M155.278 970.421 Q151.945 970.421 150.024 972.204 Q148.126 973.986 148.126 977.111 Q148.126 980.236 150.024 982.019 Q151.945 983.801 155.278 983.801 Q158.612 983.801 160.533 982.019 Q162.454 980.213 162.454 977.111 Q162.454 973.986 160.533 972.204 Q158.635 970.421 155.278 970.421 M150.603 968.431 Q147.593 967.69 145.904 965.63 Q144.237 963.57 144.237 960.607 Q144.237 956.463 147.177 954.056 Q150.14 951.648 155.278 951.648 Q160.44 951.648 163.38 954.056 Q166.32 956.463 166.32 960.607 Q166.32 963.57 164.63 965.63 Q162.964 967.69 159.978 968.431 Q163.357 969.218 165.232 971.509 Q167.13 973.801 167.13 977.111 Q167.13 982.134 164.052 984.819 Q160.996 987.505 155.278 987.505 Q149.561 987.505 146.482 984.819 Q143.427 982.134 143.427 977.111 Q143.427 973.801 145.325 971.509 Q147.223 969.218 150.603 968.431 M148.89 961.046 Q148.89 963.732 150.556 965.236 Q152.246 966.741 155.278 966.741 Q158.288 966.741 159.978 965.236 Q161.69 963.732 161.69 961.046 Q161.69 958.361 159.978 956.857 Q158.288 955.352 155.278 955.352 Q152.246 955.352 150.556 956.857 Q148.89 958.361 148.89 961.046 Z\" fill=\"#000000\" fill-rule=\"nonzero\" fill-opacity=\"1\" /><path clip-path=\"url(#clip710)\" d=\"M175.487 952.273 L193.843 952.273 L193.843 956.208 L179.769 956.208 L179.769 964.681 Q180.788 964.333 181.806 964.171 Q182.825 963.986 183.843 963.986 Q189.63 963.986 193.01 967.157 Q196.389 970.329 196.389 975.745 Q196.389 981.324 192.917 984.426 Q189.445 987.505 183.126 987.505 Q180.95 987.505 178.681 987.134 Q176.436 986.764 174.028 986.023 L174.028 981.324 Q176.112 982.458 178.334 983.014 Q180.556 983.569 183.033 983.569 Q187.038 983.569 189.375 981.463 Q191.713 979.357 191.713 975.745 Q191.713 972.134 189.375 970.028 Q187.038 967.921 183.033 967.921 Q181.158 967.921 179.283 968.338 Q177.431 968.755 175.487 969.634 L175.487 952.273 Z\" fill=\"#000000\" fill-rule=\"nonzero\" fill-opacity=\"1\" /><path clip-path=\"url(#clip710)\" d=\"M144.422 781.609 L144.422 777.35 Q146.181 778.183 147.987 778.623 Q149.792 779.063 151.528 779.063 Q156.158 779.063 158.589 775.961 Q161.042 772.836 161.39 766.493 Q160.047 768.484 157.987 769.549 Q155.927 770.614 153.427 770.614 Q148.241 770.614 145.209 767.489 Q142.2 764.341 142.2 758.901 Q142.2 753.577 145.348 750.359 Q148.496 747.142 153.728 747.142 Q159.723 747.142 162.871 751.748 Q166.042 756.331 166.042 765.081 Q166.042 773.252 162.153 778.137 Q158.288 782.998 151.737 782.998 Q149.978 782.998 148.172 782.651 Q146.366 782.303 144.422 781.609 M153.728 766.956 Q156.876 766.956 158.704 764.803 Q160.556 762.651 160.556 758.901 Q160.556 755.174 158.704 753.021 Q156.876 750.845 153.728 750.845 Q150.579 750.845 148.728 753.021 Q146.899 755.174 146.899 758.901 Q146.899 762.651 148.728 764.803 Q150.579 766.956 153.728 766.956 Z\" fill=\"#000000\" fill-rule=\"nonzero\" fill-opacity=\"1\" /><path clip-path=\"url(#clip710)\" d=\"M184.445 750.845 Q180.834 750.845 179.005 754.41 Q177.2 757.952 177.2 765.081 Q177.2 772.188 179.005 775.752 Q180.834 779.294 184.445 779.294 Q188.079 779.294 189.885 775.752 Q191.713 772.188 191.713 765.081 Q191.713 757.952 189.885 754.41 Q188.079 750.845 184.445 750.845 M184.445 747.142 Q190.255 747.142 193.311 751.748 Q196.389 756.331 196.389 765.081 Q196.389 773.808 193.311 778.415 Q190.255 782.998 184.445 782.998 Q178.635 782.998 175.556 778.415 Q172.501 773.808 172.501 765.081 Q172.501 756.331 175.556 751.748 Q178.635 747.142 184.445 747.142 Z\" fill=\"#000000\" fill-rule=\"nonzero\" fill-opacity=\"1\" /><path clip-path=\"url(#clip710)\" d=\"M145.417 577.102 L145.417 572.843 Q147.177 573.676 148.982 574.116 Q150.788 574.556 152.524 574.556 Q157.153 574.556 159.584 571.454 Q162.038 568.329 162.385 561.986 Q161.042 563.977 158.982 565.042 Q156.922 566.107 154.422 566.107 Q149.237 566.107 146.204 562.982 Q143.195 559.834 143.195 554.394 Q143.195 549.07 146.343 545.852 Q149.491 542.635 154.723 542.635 Q160.718 542.635 163.866 547.241 Q167.038 551.824 167.038 560.574 Q167.038 568.746 163.149 573.63 Q159.283 578.491 152.732 578.491 Q150.973 578.491 149.167 578.144 Q147.362 577.797 145.417 577.102 M154.723 562.449 Q157.871 562.449 159.7 560.297 Q161.552 558.144 161.552 554.394 Q161.552 550.667 159.7 548.514 Q157.871 546.338 154.723 546.338 Q151.575 546.338 149.723 548.514 Q147.894 550.667 147.894 554.394 Q147.894 558.144 149.723 560.297 Q151.575 562.449 154.723 562.449 Z\" fill=\"#000000\" fill-rule=\"nonzero\" fill-opacity=\"1\" /><path clip-path=\"url(#clip710)\" d=\"M175.487 543.26 L193.843 543.26 L193.843 547.195 L179.769 547.195 L179.769 555.667 Q180.788 555.32 181.806 555.158 Q182.825 554.973 183.843 554.973 Q189.63 554.973 193.01 558.144 Q196.389 561.315 196.389 566.732 Q196.389 572.31 192.917 575.412 Q189.445 578.491 183.126 578.491 Q180.95 578.491 178.681 578.121 Q176.436 577.75 174.028 577.01 L174.028 572.31 Q176.112 573.445 178.334 574 Q180.556 574.556 183.033 574.556 Q187.038 574.556 189.375 572.449 Q191.713 570.343 191.713 566.732 Q191.713 563.121 189.375 561.014 Q187.038 558.908 183.033 558.908 Q181.158 558.908 179.283 559.324 Q177.431 559.741 175.487 560.621 L175.487 543.26 Z\" fill=\"#000000\" fill-rule=\"nonzero\" fill-opacity=\"1\" /><path clip-path=\"url(#clip710)\" d=\"M114.931 369.378 L122.57 369.378 L122.57 343.012 L114.26 344.679 L114.26 340.42 L122.524 338.753 L127.2 338.753 L127.2 369.378 L134.839 369.378 L134.839 373.313 L114.931 373.313 L114.931 369.378 Z\" fill=\"#000000\" fill-rule=\"nonzero\" fill-opacity=\"1\" /><path clip-path=\"url(#clip710)\" d=\"M154.283 341.832 Q150.672 341.832 148.843 345.396 Q147.038 348.938 147.038 356.068 Q147.038 363.174 148.843 366.739 Q150.672 370.281 154.283 370.281 Q157.917 370.281 159.723 366.739 Q161.552 363.174 161.552 356.068 Q161.552 348.938 159.723 345.396 Q157.917 341.832 154.283 341.832 M154.283 338.128 Q160.093 338.128 163.149 342.734 Q166.227 347.318 166.227 356.068 Q166.227 364.794 163.149 369.401 Q160.093 373.984 154.283 373.984 Q148.473 373.984 145.394 369.401 Q142.339 364.794 142.339 356.068 Q142.339 347.318 145.394 342.734 Q148.473 338.128 154.283 338.128 Z\" fill=\"#000000\" fill-rule=\"nonzero\" fill-opacity=\"1\" /><path clip-path=\"url(#clip710)\" d=\"M184.445 341.832 Q180.834 341.832 179.005 345.396 Q177.2 348.938 177.2 356.068 Q177.2 363.174 179.005 366.739 Q180.834 370.281 184.445 370.281 Q188.079 370.281 189.885 366.739 Q191.713 363.174 191.713 356.068 Q191.713 348.938 189.885 345.396 Q188.079 341.832 184.445 341.832 M184.445 338.128 Q190.255 338.128 193.311 342.734 Q196.389 347.318 196.389 356.068 Q196.389 364.794 193.311 369.401 Q190.255 373.984 184.445 373.984 Q178.635 373.984 175.556 369.401 Q172.501 364.794 172.501 356.068 Q172.501 347.318 175.556 342.734 Q178.635 338.128 184.445 338.128 Z\" fill=\"#000000\" fill-rule=\"nonzero\" fill-opacity=\"1\" /><path clip-path=\"url(#clip710)\" d=\"M115.927 164.871 L123.566 164.871 L123.566 138.505 L115.256 140.172 L115.256 135.913 L123.519 134.246 L128.195 134.246 L128.195 164.871 L135.834 164.871 L135.834 168.806 L115.927 168.806 L115.927 164.871 Z\" fill=\"#000000\" fill-rule=\"nonzero\" fill-opacity=\"1\" /><path clip-path=\"url(#clip710)\" d=\"M155.278 137.325 Q151.667 137.325 149.839 140.89 Q148.033 144.431 148.033 151.561 Q148.033 158.667 149.839 162.232 Q151.667 165.774 155.278 165.774 Q158.913 165.774 160.718 162.232 Q162.547 158.667 162.547 151.561 Q162.547 144.431 160.718 140.89 Q158.913 137.325 155.278 137.325 M155.278 133.621 Q161.089 133.621 164.144 138.228 Q167.223 142.811 167.223 151.561 Q167.223 160.288 164.144 164.894 Q161.089 169.477 155.278 169.477 Q149.468 169.477 146.39 164.894 Q143.334 160.288 143.334 151.561 Q143.334 142.811 146.39 138.228 Q149.468 133.621 155.278 133.621 Z\" fill=\"#000000\" fill-rule=\"nonzero\" fill-opacity=\"1\" /><path clip-path=\"url(#clip710)\" d=\"M175.487 134.246 L193.843 134.246 L193.843 138.181 L179.769 138.181 L179.769 146.653 Q180.788 146.306 181.806 146.144 Q182.825 145.959 183.843 145.959 Q189.63 145.959 193.01 149.13 Q196.389 152.302 196.389 157.718 Q196.389 163.297 192.917 166.399 Q189.445 169.477 183.126 169.477 Q180.95 169.477 178.681 169.107 Q176.436 168.737 174.028 167.996 L174.028 163.297 Q176.112 164.431 178.334 164.987 Q180.556 165.542 183.033 165.542 Q187.038 165.542 189.375 163.436 Q191.713 161.329 191.713 157.718 Q191.713 154.107 189.375 152.001 Q187.038 149.894 183.033 149.894 Q181.158 149.894 179.283 150.311 Q177.431 150.728 175.487 151.607 L175.487 134.246 Z\" fill=\"#000000\" fill-rule=\"nonzero\" fill-opacity=\"1\" /><path clip-path=\"url(#clip710)\" d=\"M16.4842 1065.37 L16.4842 1055.79 L48.8219 1043.66 L16.4842 1031.47 L16.4842 1021.89 L64.0042 1021.89 L64.0042 1028.16 L22.277 1028.16 L54.8694 1040.42 L54.8694 1046.88 L22.277 1059.13 L64.0042 1059.13 L64.0042 1065.37 L16.4842 1065.37 Z\" fill=\"#000000\" fill-rule=\"nonzero\" fill-opacity=\"1\" /><path clip-path=\"url(#clip710)\" d=\"M44.7161 978.891 L47.5806 978.891 L47.5806 1005.82 Q53.6281 1005.44 56.8109 1002.19 Q59.9619 998.911 59.9619 993.086 Q59.9619 989.712 59.1344 986.561 Q58.3069 983.378 56.6518 980.259 L62.1899 980.259 Q63.5267 983.41 64.227 986.72 Q64.9272 990.031 64.9272 993.436 Q64.9272 1001.97 59.9619 1006.96 Q54.9967 1011.93 46.5303 1011.93 Q37.7774 1011.93 32.6531 1007.22 Q27.4968 1002.48 27.4968 994.455 Q27.4968 987.261 32.1438 983.092 Q36.7589 978.891 44.7161 978.891 M42.9973 984.747 Q38.1912 984.811 35.3266 987.452 Q32.4621 990.062 32.4621 994.391 Q32.4621 999.293 35.2312 1002.25 Q38.0002 1005.18 43.0292 1005.63 L42.9973 984.747 Z\" fill=\"#000000\" fill-rule=\"nonzero\" fill-opacity=\"1\" /><path clip-path=\"url(#clip710)\" d=\"M46.0847 953.078 Q46.0847 960.175 47.7079 962.913 Q49.3312 965.65 53.2461 965.65 Q56.3653 965.65 58.2114 963.613 Q60.0256 961.544 60.0256 958.011 Q60.0256 953.141 56.5881 950.213 Q53.1188 947.253 47.3897 947.253 L46.0847 947.253 L46.0847 953.078 M43.6657 941.397 L64.0042 941.397 L64.0042 947.253 L58.5933 947.253 Q61.8398 949.258 63.3994 952.25 Q64.9272 955.242 64.9272 959.571 Q64.9272 965.045 61.8716 968.292 Q58.7843 971.506 53.6281 971.506 Q47.6125 971.506 44.5569 967.496 Q41.5014 963.454 41.5014 955.465 L41.5014 947.253 L40.9285 947.253 Q36.8862 947.253 34.6901 949.927 Q32.4621 952.568 32.4621 957.374 Q32.4621 960.43 33.1941 963.326 Q33.9262 966.223 35.3903 968.896 L29.9795 968.896 Q28.7381 965.682 28.1334 962.658 Q27.4968 959.634 27.4968 956.77 Q27.4968 949.035 31.5072 945.216 Q35.5176 941.397 43.6657 941.397 Z\" fill=\"#000000\" fill-rule=\"nonzero\" fill-opacity=\"1\" /><path clip-path=\"url(#clip710)\" d=\"M42.4881 899.701 L64.0042 899.701 L64.0042 905.558 L42.679 905.558 Q37.6183 905.558 35.1038 907.531 Q32.5894 909.504 32.5894 913.451 Q32.5894 918.194 35.6131 920.931 Q38.6368 923.668 43.8567 923.668 L64.0042 923.668 L64.0042 929.556 L28.3562 929.556 L28.3562 923.668 L33.8944 923.668 Q30.6797 921.567 29.0883 918.735 Q27.4968 915.87 27.4968 912.146 Q27.4968 906.003 31.3163 902.852 Q35.1038 899.701 42.4881 899.701 Z\" fill=\"#000000\" fill-rule=\"nonzero\" fill-opacity=\"1\" /><path clip-path=\"url(#clip710)\" d=\"M16.4842 871.278 L16.4842 864.785 L56.6518 854.791 L16.4842 844.829 L16.4842 837.604 L56.6518 827.61 L16.4842 817.647 L16.4842 811.122 L64.0042 823.058 L64.0042 831.143 L22.7544 841.169 L64.0042 851.29 L64.0042 859.374 L16.4842 871.278 Z\" fill=\"#000000\" fill-rule=\"nonzero\" fill-opacity=\"1\" /><path clip-path=\"url(#clip710)\" d=\"M44.7161 776.175 L47.5806 776.175 L47.5806 803.102 Q53.6281 802.72 56.8109 799.473 Q59.9619 796.195 59.9619 790.37 Q59.9619 786.996 59.1344 783.845 Q58.3069 780.662 56.6518 777.543 L62.1899 777.543 Q63.5267 780.694 64.227 784.004 Q64.9272 787.315 64.9272 790.72 Q64.9272 799.25 59.9619 804.247 Q54.9967 809.213 46.5303 809.213 Q37.7774 809.213 32.6531 804.502 Q27.4968 799.76 27.4968 791.739 Q27.4968 784.546 32.1438 780.376 Q36.7589 776.175 44.7161 776.175 M42.9973 782.031 Q38.1912 782.095 35.3266 784.737 Q32.4621 787.346 32.4621 791.675 Q32.4621 796.577 35.2312 799.537 Q38.0002 802.465 43.0292 802.911 L42.9973 782.031 Z\" fill=\"#000000\" fill-rule=\"nonzero\" fill-opacity=\"1\" /><path clip-path=\"url(#clip710)\" d=\"M28.3562 766.562 L28.3562 760.706 L64.0042 760.706 L64.0042 766.562 L28.3562 766.562 M14.479 766.562 L14.479 760.706 L21.895 760.706 L21.895 766.562 L14.479 766.562 Z\" fill=\"#000000\" fill-rule=\"nonzero\" fill-opacity=\"1\" /><path clip-path=\"url(#clip710)\" d=\"M45.7664 724.994 Q39.4007 724.994 35.8996 727.636 Q32.3984 730.246 32.3984 734.989 Q32.3984 739.699 35.8996 742.341 Q39.4007 744.951 45.7664 744.951 Q52.1003 744.951 55.6014 742.341 Q59.1026 739.699 59.1026 734.989 Q59.1026 730.246 55.6014 727.636 Q52.1003 724.994 45.7664 724.994 M59.58 719.138 Q68.683 719.138 73.1071 723.18 Q77.5631 727.222 77.5631 735.561 Q77.5631 738.649 77.0857 741.386 Q76.6401 744.123 75.6852 746.701 L69.9879 746.701 Q71.3884 744.123 72.0568 741.609 Q72.7252 739.094 72.7252 736.484 Q72.7252 730.723 69.7015 727.859 Q66.7096 724.994 60.6303 724.994 L57.7339 724.994 Q60.885 726.809 62.4446 729.641 Q64.0042 732.474 64.0042 736.421 Q64.0042 742.977 59.0071 746.988 Q54.01 750.998 45.7664 750.998 Q37.491 750.998 32.4939 746.988 Q27.4968 742.977 27.4968 736.421 Q27.4968 732.474 29.0564 729.641 Q30.616 726.809 33.7671 724.994 L28.3562 724.994 L28.3562 719.138 L59.58 719.138 Z\" fill=\"#000000\" fill-rule=\"nonzero\" fill-opacity=\"1\" /><path clip-path=\"url(#clip710)\" d=\"M42.4881 677.443 L64.0042 677.443 L64.0042 683.299 L42.679 683.299 Q37.6183 683.299 35.1038 685.272 Q32.5894 687.246 32.5894 691.192 Q32.5894 695.935 35.6131 698.672 Q38.6368 701.409 43.8567 701.409 L64.0042 701.409 L64.0042 707.298 L14.479 707.298 L14.479 701.409 L33.8944 701.409 Q30.6797 699.309 29.0883 696.476 Q27.4968 693.611 27.4968 689.887 Q27.4968 683.745 31.3163 680.594 Q35.1038 677.443 42.4881 677.443 Z\" fill=\"#000000\" fill-rule=\"nonzero\" fill-opacity=\"1\" /><path clip-path=\"url(#clip710)\" d=\"M18.2347 659.969 L28.3562 659.969 L28.3562 647.906 L32.9077 647.906 L32.9077 659.969 L52.2594 659.969 Q56.6199 659.969 57.8613 658.791 Q59.1026 657.582 59.1026 653.921 L59.1026 647.906 L64.0042 647.906 L64.0042 653.921 Q64.0042 660.701 61.4897 663.279 Q58.9434 665.857 52.2594 665.857 L32.9077 665.857 L32.9077 670.154 L28.3562 670.154 L28.3562 665.857 L18.2347 665.857 L18.2347 659.969 Z\" fill=\"#000000\" fill-rule=\"nonzero\" fill-opacity=\"1\" /><path clip-path=\"url(#clip710)\" d=\"M57.2247 586.827 L44.4614 586.827 L44.4614 597.33 L39.1779 597.33 L39.1779 580.461 L59.58 580.461 Q62.2218 584.185 63.5904 588.673 Q64.9272 593.161 64.9272 598.253 Q64.9272 609.393 58.4342 615.695 Q51.9093 621.965 40.2919 621.965 Q28.6427 621.965 22.1496 615.695 Q15.6248 609.393 15.6248 598.253 Q15.6248 593.606 16.7706 589.437 Q17.9164 585.235 20.1444 581.702 L26.9876 581.702 Q23.9639 585.267 22.4361 589.277 Q20.9083 593.288 20.9083 597.712 Q20.9083 606.433 25.7781 610.825 Q30.6479 615.186 40.2919 615.186 Q49.9041 615.186 54.7739 610.825 Q59.6436 606.433 59.6436 597.712 Q59.6436 594.306 59.0707 591.633 Q58.466 588.959 57.2247 586.827 Z\" fill=\"#000000\" fill-rule=\"nonzero\" fill-opacity=\"1\" /><path clip-path=\"url(#clip710)\" d=\"M46.0847 552.77 Q46.0847 559.868 47.7079 562.605 Q49.3312 565.342 53.2461 565.342 Q56.3653 565.342 58.2114 563.305 Q60.0256 561.237 60.0256 557.704 Q60.0256 552.834 56.5881 549.906 Q53.1188 546.946 47.3897 546.946 L46.0847 546.946 L46.0847 552.77 M43.6657 541.089 L64.0042 541.089 L64.0042 546.946 L58.5933 546.946 Q61.8398 548.951 63.3994 551.943 Q64.9272 554.935 64.9272 559.263 Q64.9272 564.738 61.8716 567.984 Q58.7843 571.199 53.6281 571.199 Q47.6125 571.199 44.5569 567.188 Q41.5014 563.146 41.5014 555.157 L41.5014 546.946 L40.9285 546.946 Q36.8862 546.946 34.6901 549.619 Q32.4621 552.261 32.4621 557.067 Q32.4621 560.123 33.1941 563.019 Q33.9262 565.915 35.3903 568.589 L29.9795 568.589 Q28.7381 565.374 28.1334 562.351 Q27.4968 559.327 27.4968 556.462 Q27.4968 548.728 31.5072 544.909 Q35.5176 541.089 43.6657 541.089 Z\" fill=\"#000000\" fill-rule=\"nonzero\" fill-opacity=\"1\" /><path clip-path=\"url(#clip710)\" d=\"M28.3562 529.026 L28.3562 523.17 L64.0042 523.17 L64.0042 529.026 L28.3562 529.026 M14.479 529.026 L14.479 523.17 L21.895 523.17 L21.895 529.026 L14.479 529.026 Z\" fill=\"#000000\" fill-rule=\"nonzero\" fill-opacity=\"1\" /><path clip-path=\"url(#clip710)\" d=\"M42.4881 481.283 L64.0042 481.283 L64.0042 487.14 L42.679 487.14 Q37.6183 487.14 35.1038 489.113 Q32.5894 491.086 32.5894 495.033 Q32.5894 499.776 35.6131 502.513 Q38.6368 505.25 43.8567 505.25 L64.0042 505.25 L64.0042 511.138 L28.3562 511.138 L28.3562 505.25 L33.8944 505.25 Q30.6797 503.149 29.0883 500.317 Q27.4968 497.452 27.4968 493.728 Q27.4968 487.585 31.3163 484.434 Q35.1038 481.283 42.4881 481.283 Z\" fill=\"#000000\" fill-rule=\"nonzero\" fill-opacity=\"1\" /><path clip-path=\"url(#clip710)\" d=\"M737.275 18.8205 L737.275 65.8515 L747.159 65.8515 Q759.676 65.8515 765.469 60.1802 Q771.302 54.509 771.302 42.2752 Q771.302 30.1225 765.469 24.4918 Q759.676 18.8205 747.159 18.8205 L737.275 18.8205 M729.092 12.096 L745.903 12.096 Q763.484 12.096 771.707 19.4281 Q779.931 26.7198 779.931 42.2752 Q779.931 57.9117 771.667 65.2439 Q763.403 72.576 745.903 72.576 L729.092 72.576 L729.092 12.096 Z\" fill=\"#000000\" fill-rule=\"nonzero\" fill-opacity=\"1\" /><path clip-path=\"url(#clip710)\" d=\"M831.458 48.0275 L831.458 51.6733 L797.188 51.6733 Q797.674 59.3701 801.806 63.421 Q805.978 67.4314 813.391 67.4314 Q817.685 67.4314 821.696 66.3781 Q825.746 65.3249 829.716 63.2184 L829.716 70.267 Q825.706 71.9684 821.493 72.8596 Q817.28 73.7508 812.946 73.7508 Q802.089 73.7508 795.729 67.4314 Q789.41 61.1119 789.41 50.3365 Q789.41 39.1965 795.405 32.6746 Q801.441 26.1121 811.649 26.1121 Q820.804 26.1121 826.111 32.0264 Q831.458 37.9003 831.458 48.0275 M824.005 45.84 Q823.924 39.7232 820.561 36.0774 Q817.24 32.4315 811.73 32.4315 Q805.492 32.4315 801.725 35.9558 Q797.998 39.4801 797.431 45.8805 L824.005 45.84 Z\" fill=\"#000000\" fill-rule=\"nonzero\" fill-opacity=\"1\" /><path clip-path=\"url(#clip710)\" d=\"M872.615 28.5427 L872.615 35.5912 Q869.456 33.9709 866.053 33.1607 Q862.65 32.3505 859.004 32.3505 Q853.455 32.3505 850.659 34.0519 Q847.905 35.7533 847.905 39.156 Q847.905 41.7486 849.89 43.2475 Q851.875 44.7058 857.87 46.0426 L860.422 46.6097 Q868.362 48.3111 871.684 51.4303 Q875.046 54.509 875.046 60.0587 Q875.046 66.3781 870.023 70.0644 Q865.04 73.7508 856.29 73.7508 Q852.644 73.7508 848.675 73.0216 Q844.745 72.3329 840.37 70.9151 L840.37 63.2184 Q844.502 65.3654 848.513 66.4591 Q852.523 67.5124 856.452 67.5124 Q861.718 67.5124 864.554 65.73 Q867.39 63.9071 867.39 60.6258 Q867.39 57.5877 865.324 55.9673 Q863.298 54.3469 856.371 52.8481 L853.779 52.2405 Q846.852 50.7821 843.773 47.7845 Q840.694 44.7463 840.694 39.4801 Q840.694 33.0797 845.231 29.5959 Q849.768 26.1121 858.113 26.1121 Q862.245 26.1121 865.891 26.7198 Q869.537 27.3274 872.615 28.5427 Z\" fill=\"#000000\" fill-rule=\"nonzero\" fill-opacity=\"1\" /><path clip-path=\"url(#clip710)\" d=\"M886.915 27.2059 L894.369 27.2059 L894.369 72.576 L886.915 72.576 L886.915 27.2059 M886.915 9.54393 L894.369 9.54393 L894.369 18.9825 L886.915 18.9825 L886.915 9.54393 Z\" fill=\"#000000\" fill-rule=\"nonzero\" fill-opacity=\"1\" /><path clip-path=\"url(#clip710)\" d=\"M939.82 49.3643 Q939.82 41.2625 936.458 36.8065 Q933.136 32.3505 927.1 32.3505 Q921.105 32.3505 917.742 36.8065 Q914.421 41.2625 914.421 49.3643 Q914.421 57.4256 917.742 61.8816 Q921.105 66.3376 927.1 66.3376 Q933.136 66.3376 936.458 61.8816 Q939.82 57.4256 939.82 49.3643 M947.274 66.9452 Q947.274 78.5308 942.129 84.1616 Q936.984 89.8329 926.371 89.8329 Q922.442 89.8329 918.958 89.2252 Q915.474 88.6581 912.193 87.4428 L912.193 80.1917 Q915.474 81.9741 918.674 82.8248 Q921.874 83.6755 925.196 83.6755 Q932.528 83.6755 936.174 79.8271 Q939.82 76.0193 939.82 68.282 L939.82 64.5957 Q937.511 68.6061 933.906 70.5911 Q930.3 72.576 925.277 72.576 Q916.932 72.576 911.828 66.2161 Q906.724 59.8562 906.724 49.3643 Q906.724 38.832 911.828 32.472 Q916.932 26.1121 925.277 26.1121 Q930.3 26.1121 933.906 28.0971 Q937.511 30.082 939.82 34.0924 L939.82 27.2059 L947.274 27.2059 L947.274 66.9452 Z\" fill=\"#000000\" fill-rule=\"nonzero\" fill-opacity=\"1\" /><path clip-path=\"url(#clip710)\" d=\"M1000.34 45.1919 L1000.34 72.576 L992.887 72.576 L992.887 45.4349 Q992.887 38.994 990.375 35.7938 Q987.864 32.5936 982.84 32.5936 Q976.805 32.5936 973.321 36.4419 Q969.837 40.2903 969.837 46.9338 L969.837 72.576 L962.343 72.576 L962.343 27.2059 L969.837 27.2059 L969.837 34.2544 Q972.511 30.163 976.116 28.1376 Q979.762 26.1121 984.501 26.1121 Q992.32 26.1121 996.33 30.9732 Q1000.34 35.7938 1000.34 45.1919 Z\" fill=\"#000000\" fill-rule=\"nonzero\" fill-opacity=\"1\" /><path clip-path=\"url(#clip710)\" d=\"M1050.09 18.8205 L1050.09 41.5461 L1060.37 41.5461 Q1066.09 41.5461 1069.21 38.5889 Q1072.32 35.6318 1072.32 30.163 Q1072.32 24.7348 1069.21 21.7777 Q1066.09 18.8205 1060.37 18.8205 L1050.09 18.8205 M1041.9 12.096 L1060.37 12.096 Q1070.54 12.096 1075.73 16.714 Q1080.95 21.2916 1080.95 30.163 Q1080.95 39.1155 1075.73 43.6931 Q1070.54 48.2706 1060.37 48.2706 L1050.09 48.2706 L1050.09 72.576 L1041.9 72.576 L1041.9 12.096 Z\" fill=\"#000000\" fill-rule=\"nonzero\" fill-opacity=\"1\" /><path clip-path=\"url(#clip710)\" d=\"M1091.61 9.54393 L1099.06 9.54393 L1099.06 72.576 L1091.61 72.576 L1091.61 9.54393 Z\" fill=\"#000000\" fill-rule=\"nonzero\" fill-opacity=\"1\" /><path clip-path=\"url(#clip710)\" d=\"M1132.24 32.4315 Q1126.24 32.4315 1122.76 37.1306 Q1119.27 41.7891 1119.27 49.9314 Q1119.27 58.0738 1122.72 62.7728 Q1126.2 67.4314 1132.24 67.4314 Q1138.19 67.4314 1141.68 62.7323 Q1145.16 58.0333 1145.16 49.9314 Q1145.16 41.8701 1141.68 37.1711 Q1138.19 32.4315 1132.24 32.4315 M1132.24 26.1121 Q1141.96 26.1121 1147.51 32.4315 Q1153.06 38.7509 1153.06 49.9314 Q1153.06 61.0714 1147.51 67.4314 Q1141.96 73.7508 1132.24 73.7508 Q1122.48 73.7508 1116.93 67.4314 Q1111.42 61.0714 1111.42 49.9314 Q1111.42 38.7509 1116.93 32.4315 Q1122.48 26.1121 1132.24 26.1121 Z\" fill=\"#000000\" fill-rule=\"nonzero\" fill-opacity=\"1\" /><path clip-path=\"url(#clip710)\" d=\"M1172.79 14.324 L1172.79 27.2059 L1188.14 27.2059 L1188.14 32.9987 L1172.79 32.9987 L1172.79 57.6282 Q1172.79 63.1779 1174.29 64.7578 Q1175.83 66.3376 1180.48 66.3376 L1188.14 66.3376 L1188.14 72.576 L1180.48 72.576 Q1171.86 72.576 1168.57 69.3758 Q1165.29 66.1351 1165.29 57.6282 L1165.29 32.9987 L1159.82 32.9987 L1159.82 27.2059 L1165.29 27.2059 L1165.29 14.324 L1172.79 14.324 Z\" fill=\"#000000\" fill-rule=\"nonzero\" fill-opacity=\"1\" /><path clip-path=\"url(#clip710)\" d=\"M1247.28 9.54393 L1247.28 15.7418 L1240.15 15.7418 Q1236.14 15.7418 1234.56 17.3622 Q1233.02 18.9825 1233.02 23.1955 L1233.02 27.2059 L1245.3 27.2059 L1245.3 32.9987 L1233.02 32.9987 L1233.02 72.576 L1225.53 72.576 L1225.53 32.9987 L1218.4 32.9987 L1218.4 27.2059 L1225.53 27.2059 L1225.53 24.0462 Q1225.53 16.471 1229.05 13.0277 Q1232.58 9.54393 1240.23 9.54393 L1247.28 9.54393 Z\" fill=\"#000000\" fill-rule=\"nonzero\" fill-opacity=\"1\" /><path clip-path=\"url(#clip710)\" d=\"M1271.1 32.4315 Q1265.11 32.4315 1261.62 37.1306 Q1258.14 41.7891 1258.14 49.9314 Q1258.14 58.0738 1261.58 62.7728 Q1265.07 67.4314 1271.1 67.4314 Q1277.06 67.4314 1280.54 62.7323 Q1284.03 58.0333 1284.03 49.9314 Q1284.03 41.8701 1280.54 37.1711 Q1277.06 32.4315 1271.1 32.4315 M1271.1 26.1121 Q1280.83 26.1121 1286.37 32.4315 Q1291.92 38.7509 1291.92 49.9314 Q1291.92 61.0714 1286.37 67.4314 Q1280.83 73.7508 1271.1 73.7508 Q1261.34 73.7508 1255.79 67.4314 Q1250.28 61.0714 1250.28 49.9314 Q1250.28 38.7509 1255.79 32.4315 Q1261.34 26.1121 1271.1 26.1121 Z\" fill=\"#000000\" fill-rule=\"nonzero\" fill-opacity=\"1\" /><path clip-path=\"url(#clip710)\" d=\"M1330.57 34.1734 Q1329.31 33.4443 1327.82 33.1202 Q1326.36 32.7556 1324.57 32.7556 Q1318.26 32.7556 1314.85 36.8875 Q1311.49 40.9789 1311.49 48.6757 L1311.49 72.576 L1304 72.576 L1304 27.2059 L1311.49 27.2059 L1311.49 34.2544 Q1313.84 30.1225 1317.61 28.1376 Q1321.37 26.1121 1326.76 26.1121 Q1327.53 26.1121 1328.46 26.2337 Q1329.4 26.3147 1330.53 26.5172 L1330.57 34.1734 Z\" fill=\"#000000\" fill-rule=\"nonzero\" fill-opacity=\"1\" /><path clip-path=\"url(#clip710)\" d=\"M1359.7 12.096 L1367.96 12.096 L1380.68 63.2184 L1393.36 12.096 L1402.55 12.096 L1415.27 63.2184 L1427.95 12.096 L1436.26 12.096 L1421.07 72.576 L1410.78 72.576 L1398.02 20.0763 L1385.14 72.576 L1374.85 72.576 L1359.7 12.096 Z\" fill=\"#000000\" fill-rule=\"nonzero\" fill-opacity=\"1\" /><path clip-path=\"url(#clip710)\" d=\"M1480.74 48.0275 L1480.74 51.6733 L1446.47 51.6733 Q1446.95 59.3701 1451.08 63.421 Q1455.26 67.4314 1462.67 67.4314 Q1466.96 67.4314 1470.97 66.3781 Q1475.03 65.3249 1479 63.2184 L1479 70.267 Q1474.98 71.9684 1470.77 72.8596 Q1466.56 73.7508 1462.22 73.7508 Q1451.37 73.7508 1445.01 67.4314 Q1438.69 61.1119 1438.69 50.3365 Q1438.69 39.1965 1444.68 32.6746 Q1450.72 26.1121 1460.93 26.1121 Q1470.08 26.1121 1475.39 32.0264 Q1480.74 37.9003 1480.74 48.0275 M1473.28 45.84 Q1473.2 39.7232 1469.84 36.0774 Q1466.52 32.4315 1461.01 32.4315 Q1454.77 32.4315 1451 35.9558 Q1447.28 39.4801 1446.71 45.8805 L1473.28 45.84 Z\" fill=\"#000000\" fill-rule=\"nonzero\" fill-opacity=\"1\" /><path clip-path=\"url(#clip710)\" d=\"M1492.97 27.2059 L1500.42 27.2059 L1500.42 72.576 L1492.97 72.576 L1492.97 27.2059 M1492.97 9.54393 L1500.42 9.54393 L1500.42 18.9825 L1492.97 18.9825 L1492.97 9.54393 Z\" fill=\"#000000\" fill-rule=\"nonzero\" fill-opacity=\"1\" /><path clip-path=\"url(#clip710)\" d=\"M1545.88 49.3643 Q1545.88 41.2625 1542.51 36.8065 Q1539.19 32.3505 1533.16 32.3505 Q1527.16 32.3505 1523.8 36.8065 Q1520.48 41.2625 1520.48 49.3643 Q1520.48 57.4256 1523.8 61.8816 Q1527.16 66.3376 1533.16 66.3376 Q1539.19 66.3376 1542.51 61.8816 Q1545.88 57.4256 1545.88 49.3643 M1553.33 66.9452 Q1553.33 78.5308 1548.18 84.1616 Q1543.04 89.8329 1532.43 89.8329 Q1528.5 89.8329 1525.01 89.2252 Q1521.53 88.6581 1518.25 87.4428 L1518.25 80.1917 Q1521.53 81.9741 1524.73 82.8248 Q1527.93 83.6755 1531.25 83.6755 Q1538.58 83.6755 1542.23 79.8271 Q1545.88 76.0193 1545.88 68.282 L1545.88 64.5957 Q1543.57 68.6061 1539.96 70.5911 Q1536.36 72.576 1531.33 72.576 Q1522.99 72.576 1517.88 66.2161 Q1512.78 59.8562 1512.78 49.3643 Q1512.78 38.832 1517.88 32.472 Q1522.99 26.1121 1531.33 26.1121 Q1536.36 26.1121 1539.96 28.0971 Q1543.57 30.082 1545.88 34.0924 L1545.88 27.2059 L1553.33 27.2059 L1553.33 66.9452 Z\" fill=\"#000000\" fill-rule=\"nonzero\" fill-opacity=\"1\" /><path clip-path=\"url(#clip710)\" d=\"M1606.4 45.1919 L1606.4 72.576 L1598.94 72.576 L1598.94 45.4349 Q1598.94 38.994 1596.43 35.7938 Q1593.92 32.5936 1588.9 32.5936 Q1582.86 32.5936 1579.38 36.4419 Q1575.89 40.2903 1575.89 46.9338 L1575.89 72.576 L1568.4 72.576 L1568.4 9.54393 L1575.89 9.54393 L1575.89 34.2544 Q1578.57 30.163 1582.17 28.1376 Q1585.82 26.1121 1590.56 26.1121 Q1598.38 26.1121 1602.39 30.9732 Q1606.4 35.7938 1606.4 45.1919 Z\" fill=\"#000000\" fill-rule=\"nonzero\" fill-opacity=\"1\" /><path clip-path=\"url(#clip710)\" d=\"M1628.64 14.324 L1628.64 27.2059 L1643.99 27.2059 L1643.99 32.9987 L1628.64 32.9987 L1628.64 57.6282 Q1628.64 63.1779 1630.13 64.7578 Q1631.67 66.3376 1636.33 66.3376 L1643.99 66.3376 L1643.99 72.576 L1636.33 72.576 Q1627.7 72.576 1624.42 69.3758 Q1621.14 66.1351 1621.14 57.6282 L1621.14 32.9987 L1615.67 32.9987 L1615.67 27.2059 L1621.14 27.2059 L1621.14 14.324 L1628.64 14.324 Z\" fill=\"#000000\" fill-rule=\"nonzero\" fill-opacity=\"1\" /><path clip-path=\"url(#clip710)\" d=\"M1721.73 63.9476 L1721.73 47.7034 L1708.36 47.7034 L1708.36 40.9789 L1729.83 40.9789 L1729.83 66.9452 Q1725.09 70.3075 1719.38 72.0494 Q1713.66 73.7508 1707.18 73.7508 Q1693 73.7508 1684.98 65.4869 Q1677 57.1826 1677 42.3968 Q1677 27.5705 1684.98 19.3066 Q1693 11.0023 1707.18 11.0023 Q1713.1 11.0023 1718.4 12.4606 Q1723.75 13.9189 1728.25 16.7545 L1728.25 25.464 Q1723.71 21.6156 1718.61 19.6712 Q1713.5 17.7268 1707.87 17.7268 Q1696.77 17.7268 1691.18 23.9246 Q1685.63 30.1225 1685.63 42.3968 Q1685.63 54.6305 1691.18 60.8284 Q1696.77 67.0263 1707.87 67.0263 Q1712.21 67.0263 1715.61 66.2971 Q1719.01 65.5274 1721.73 63.9476 Z\" fill=\"#000000\" fill-rule=\"nonzero\" fill-opacity=\"1\" /><path clip-path=\"url(#clip710)\" d=\"M1765.07 49.7694 Q1756.04 49.7694 1752.55 51.8354 Q1749.07 53.9013 1749.07 58.8839 Q1749.07 62.8538 1751.66 65.2034 Q1754.29 67.5124 1758.79 67.5124 Q1764.99 67.5124 1768.72 63.1374 Q1772.48 58.7219 1772.48 51.4303 L1772.48 49.7694 L1765.07 49.7694 M1779.94 46.6907 L1779.94 72.576 L1772.48 72.576 L1772.48 65.6895 Q1769.93 69.8214 1766.12 71.8063 Q1762.32 73.7508 1756.81 73.7508 Q1749.84 73.7508 1745.71 69.8619 Q1741.62 65.9325 1741.62 59.3701 Q1741.62 51.7138 1746.72 47.825 Q1751.86 43.9361 1762.03 43.9361 L1772.48 43.9361 L1772.48 43.2069 Q1772.48 38.0623 1769.08 35.2672 Q1765.72 32.4315 1759.6 32.4315 Q1755.71 32.4315 1752.03 33.3632 Q1748.34 34.295 1744.94 36.1584 L1744.94 29.2718 Q1749.03 27.692 1752.88 26.9223 Q1756.73 26.1121 1760.37 26.1121 Q1770.21 26.1121 1775.08 31.2163 Q1779.94 36.3204 1779.94 46.6907 Z\" fill=\"#000000\" fill-rule=\"nonzero\" fill-opacity=\"1\" /><path clip-path=\"url(#clip710)\" d=\"M1795.29 27.2059 L1802.74 27.2059 L1802.74 72.576 L1795.29 72.576 L1795.29 27.2059 M1795.29 9.54393 L1802.74 9.54393 L1802.74 18.9825 L1795.29 18.9825 L1795.29 9.54393 Z\" fill=\"#000000\" fill-rule=\"nonzero\" fill-opacity=\"1\" /><path clip-path=\"url(#clip710)\" d=\"M1856.05 45.1919 L1856.05 72.576 L1848.6 72.576 L1848.6 45.4349 Q1848.6 38.994 1846.09 35.7938 Q1843.58 32.5936 1838.55 32.5936 Q1832.52 32.5936 1829.03 36.4419 Q1825.55 40.2903 1825.55 46.9338 L1825.55 72.576 L1818.06 72.576 L1818.06 27.2059 L1825.55 27.2059 L1825.55 34.2544 Q1828.22 30.163 1831.83 28.1376 Q1835.47 26.1121 1840.21 26.1121 Q1848.03 26.1121 1852.04 30.9732 Q1856.05 35.7938 1856.05 45.1919 Z\" fill=\"#000000\" fill-rule=\"nonzero\" fill-opacity=\"1\" /><polyline clip-path=\"url(#clip712)\" style=\"stroke:#000000; stroke-linecap:round; stroke-linejoin:round; stroke-width:4; stroke-opacity:1; fill:none\" points=\"292.4,1386.4 292.4,1027.17 \"/>\n",
       "<line clip-path=\"url(#clip712)\" x1=\"308.4\" y1=\"1386.4\" x2=\"276.4\" y2=\"1386.4\" style=\"stroke:#000000; stroke-width:4; stroke-opacity:1\"/>\n",
       "<line clip-path=\"url(#clip712)\" x1=\"308.4\" y1=\"1027.17\" x2=\"276.4\" y2=\"1027.17\" style=\"stroke:#000000; stroke-width:4; stroke-opacity:1\"/>\n",
       "<circle clip-path=\"url(#clip712)\" cx=\"292.4\" cy=\"1206.78\" r=\"14.4\" fill=\"#009af9\" fill-rule=\"evenodd\" fill-opacity=\"1\" stroke=\"#000000\" stroke-opacity=\"1\" stroke-width=\"3.2\"/>\n",
       "<polyline clip-path=\"url(#clip712)\" style=\"stroke:#000000; stroke-linecap:round; stroke-linejoin:round; stroke-width:4; stroke-opacity:1; fill:none\" points=\"292.4,551.81 292.4,160.256 \"/>\n",
       "<line clip-path=\"url(#clip712)\" x1=\"308.4\" y1=\"551.81\" x2=\"276.4\" y2=\"551.81\" style=\"stroke:#000000; stroke-width:4; stroke-opacity:1\"/>\n",
       "<line clip-path=\"url(#clip712)\" x1=\"308.4\" y1=\"160.256\" x2=\"276.4\" y2=\"160.256\" style=\"stroke:#000000; stroke-width:4; stroke-opacity:1\"/>\n",
       "<circle clip-path=\"url(#clip712)\" cx=\"292.4\" cy=\"356.033\" r=\"14.4\" fill=\"#e26f46\" fill-rule=\"evenodd\" fill-opacity=\"1\" stroke=\"#000000\" stroke-opacity=\"1\" stroke-width=\"3.2\"/>\n",
       "<polyline clip-path=\"url(#clip712)\" style=\"stroke:#000000; stroke-linecap:round; stroke-linejoin:round; stroke-width:4; stroke-opacity:1; fill:none\" points=\"2292.75,1217.72 2292.75,811.365 \"/>\n",
       "<line clip-path=\"url(#clip712)\" x1=\"2308.75\" y1=\"1217.72\" x2=\"2276.75\" y2=\"1217.72\" style=\"stroke:#000000; stroke-width:4; stroke-opacity:1\"/>\n",
       "<line clip-path=\"url(#clip712)\" x1=\"2308.75\" y1=\"811.365\" x2=\"2276.75\" y2=\"811.365\" style=\"stroke:#000000; stroke-width:4; stroke-opacity:1\"/>\n",
       "<circle clip-path=\"url(#clip712)\" cx=\"2292.75\" cy=\"1014.54\" r=\"14.4\" fill=\"#3da44d\" fill-rule=\"evenodd\" fill-opacity=\"1\" stroke=\"#000000\" stroke-opacity=\"1\" stroke-width=\"3.2\"/>\n",
       "<polyline clip-path=\"url(#clip712)\" style=\"stroke:#000000; stroke-linecap:round; stroke-linejoin:round; stroke-width:4; stroke-opacity:1; fill:none\" points=\"2292.75,1127.04 2292.75,738.447 \"/>\n",
       "<line clip-path=\"url(#clip712)\" x1=\"2308.75\" y1=\"1127.04\" x2=\"2276.75\" y2=\"1127.04\" style=\"stroke:#000000; stroke-width:4; stroke-opacity:1\"/>\n",
       "<line clip-path=\"url(#clip712)\" x1=\"2308.75\" y1=\"738.447\" x2=\"2276.75\" y2=\"738.447\" style=\"stroke:#000000; stroke-width:4; stroke-opacity:1\"/>\n",
       "<circle clip-path=\"url(#clip712)\" cx=\"2292.75\" cy=\"932.742\" r=\"14.4\" fill=\"#c271d2\" fill-rule=\"evenodd\" fill-opacity=\"1\" stroke=\"#000000\" stroke-opacity=\"1\" stroke-width=\"3.2\"/>\n",
       "<path clip-path=\"url(#clip710)\" d=\"M1969.76 425.996 L2282.08 425.996 L2282.08 166.796 L1969.76 166.796  Z\" fill=\"#ffffff\" fill-rule=\"evenodd\" fill-opacity=\"1\"/>\n",
       "<polyline clip-path=\"url(#clip710)\" style=\"stroke:#000000; stroke-linecap:round; stroke-linejoin:round; stroke-width:4; stroke-opacity:1; fill:none\" points=\"1969.76,425.996 2282.08,425.996 2282.08,166.796 1969.76,166.796 1969.76,425.996 \"/>\n",
       "<circle clip-path=\"url(#clip710)\" cx=\"2064\" cy=\"218.636\" r=\"20.48\" fill=\"#009af9\" fill-rule=\"evenodd\" fill-opacity=\"1\" stroke=\"#000000\" stroke-opacity=\"1\" stroke-width=\"4.55111\"/>\n",
       "<path clip-path=\"url(#clip710)\" d=\"M2158.24 201.356 L2162.92 201.356 L2162.92 231.981 L2179.74 231.981 L2179.74 235.916 L2158.24 235.916 L2158.24 201.356 Z\" fill=\"#000000\" fill-rule=\"nonzero\" fill-opacity=\"1\" /><path clip-path=\"url(#clip710)\" d=\"M2193.68 212.976 Q2190.25 212.976 2188.26 215.661 Q2186.27 218.323 2186.27 222.976 Q2186.27 227.629 2188.24 230.314 Q2190.23 232.976 2193.68 232.976 Q2197.08 232.976 2199.07 230.291 Q2201.06 227.606 2201.06 222.976 Q2201.06 218.37 2199.07 215.684 Q2197.08 212.976 2193.68 212.976 M2193.68 209.365 Q2199.24 209.365 2202.41 212.976 Q2205.58 216.587 2205.58 222.976 Q2205.58 229.342 2202.41 232.976 Q2199.24 236.587 2193.68 236.587 Q2188.1 236.587 2184.93 232.976 Q2181.78 229.342 2181.78 222.976 Q2181.78 216.587 2184.93 212.976 Q2188.1 209.365 2193.68 209.365 Z\" fill=\"#000000\" fill-rule=\"nonzero\" fill-opacity=\"1\" /><path clip-path=\"url(#clip710)\" d=\"M2210.16 209.99 L2214.42 209.99 L2219.74 230.221 L2225.05 209.99 L2230.07 209.99 L2235.39 230.221 L2240.69 209.99 L2244.95 209.99 L2238.17 235.916 L2233.15 235.916 L2227.57 214.666 L2221.97 235.916 L2216.94 235.916 L2210.16 209.99 Z\" fill=\"#000000\" fill-rule=\"nonzero\" fill-opacity=\"1\" /><circle clip-path=\"url(#clip710)\" cx=\"2064\" cy=\"270.476\" r=\"20.48\" fill=\"#e26f46\" fill-rule=\"evenodd\" fill-opacity=\"1\" stroke=\"#000000\" stroke-opacity=\"1\" stroke-width=\"4.55111\"/>\n",
       "<path clip-path=\"url(#clip710)\" d=\"M2158.24 253.196 L2162.92 253.196 L2162.92 267.362 L2179.91 267.362 L2179.91 253.196 L2184.58 253.196 L2184.58 287.756 L2179.91 287.756 L2179.91 271.297 L2162.92 271.297 L2162.92 287.756 L2158.24 287.756 L2158.24 253.196 Z\" fill=\"#000000\" fill-rule=\"nonzero\" fill-opacity=\"1\" /><path clip-path=\"url(#clip710)\" d=\"M2193.7 261.83 L2197.96 261.83 L2197.96 287.756 L2193.7 287.756 L2193.7 261.83 M2193.7 251.737 L2197.96 251.737 L2197.96 257.131 L2193.7 257.131 L2193.7 251.737 Z\" fill=\"#000000\" fill-rule=\"nonzero\" fill-opacity=\"1\" /><path clip-path=\"url(#clip710)\" d=\"M2223.93 274.492 Q2223.93 269.862 2222.01 267.316 Q2220.11 264.77 2216.67 264.77 Q2213.24 264.77 2211.32 267.316 Q2209.42 269.862 2209.42 274.492 Q2209.42 279.098 2211.32 281.645 Q2213.24 284.191 2216.67 284.191 Q2220.11 284.191 2222.01 281.645 Q2223.93 279.098 2223.93 274.492 M2228.19 284.538 Q2228.19 291.158 2225.25 294.376 Q2222.31 297.617 2216.25 297.617 Q2214 297.617 2212.01 297.27 Q2210.02 296.945 2208.15 296.251 L2208.15 292.108 Q2210.02 293.126 2211.85 293.612 Q2213.68 294.098 2215.58 294.098 Q2219.77 294.098 2221.85 291.899 Q2223.93 289.723 2223.93 285.302 L2223.93 283.196 Q2222.61 285.487 2220.55 286.621 Q2218.49 287.756 2215.62 287.756 Q2210.86 287.756 2207.94 284.121 Q2205.02 280.487 2205.02 274.492 Q2205.02 268.473 2207.94 264.839 Q2210.86 261.205 2215.62 261.205 Q2218.49 261.205 2220.55 262.339 Q2222.61 263.473 2223.93 265.765 L2223.93 261.83 L2228.19 261.83 L2228.19 284.538 Z\" fill=\"#000000\" fill-rule=\"nonzero\" fill-opacity=\"1\" /><path clip-path=\"url(#clip710)\" d=\"M2258.52 272.108 L2258.52 287.756 L2254.26 287.756 L2254.26 272.247 Q2254.26 268.566 2252.82 266.737 Q2251.39 264.909 2248.52 264.909 Q2245.07 264.909 2243.08 267.108 Q2241.09 269.307 2241.09 273.103 L2241.09 287.756 L2236.8 287.756 L2236.8 251.737 L2241.09 251.737 L2241.09 265.858 Q2242.61 263.52 2244.67 262.362 Q2246.76 261.205 2249.47 261.205 Q2253.93 261.205 2256.23 263.983 Q2258.52 266.737 2258.52 272.108 Z\" fill=\"#000000\" fill-rule=\"nonzero\" fill-opacity=\"1\" /><circle clip-path=\"url(#clip710)\" cx=\"2064\" cy=\"322.316\" r=\"20.48\" fill=\"#3da44d\" fill-rule=\"evenodd\" fill-opacity=\"1\" stroke=\"#000000\" stroke-opacity=\"1\" stroke-width=\"4.55111\"/>\n",
       "<path clip-path=\"url(#clip710)\" d=\"M2158.24 305.036 L2162.92 305.036 L2162.92 335.661 L2179.74 335.661 L2179.74 339.596 L2158.24 339.596 L2158.24 305.036 Z\" fill=\"#000000\" fill-rule=\"nonzero\" fill-opacity=\"1\" /><path clip-path=\"url(#clip710)\" d=\"M2193.68 316.656 Q2190.25 316.656 2188.26 319.341 Q2186.27 322.003 2186.27 326.656 Q2186.27 331.309 2188.24 333.994 Q2190.23 336.656 2193.68 336.656 Q2197.08 336.656 2199.07 333.971 Q2201.06 331.286 2201.06 326.656 Q2201.06 322.05 2199.07 319.364 Q2197.08 316.656 2193.68 316.656 M2193.68 313.045 Q2199.24 313.045 2202.41 316.656 Q2205.58 320.267 2205.58 326.656 Q2205.58 333.022 2202.41 336.656 Q2199.24 340.267 2193.68 340.267 Q2188.1 340.267 2184.93 336.656 Q2181.78 333.022 2181.78 326.656 Q2181.78 320.267 2184.93 316.656 Q2188.1 313.045 2193.68 313.045 Z\" fill=\"#000000\" fill-rule=\"nonzero\" fill-opacity=\"1\" /><path clip-path=\"url(#clip710)\" d=\"M2210.16 313.67 L2214.42 313.67 L2219.74 333.901 L2225.05 313.67 L2230.07 313.67 L2235.39 333.901 L2240.69 313.67 L2244.95 313.67 L2238.17 339.596 L2233.15 339.596 L2227.57 318.346 L2221.97 339.596 L2216.94 339.596 L2210.16 313.67 Z\" fill=\"#000000\" fill-rule=\"nonzero\" fill-opacity=\"1\" /><circle clip-path=\"url(#clip710)\" cx=\"2064\" cy=\"374.156\" r=\"20.48\" fill=\"#c271d2\" fill-rule=\"evenodd\" fill-opacity=\"1\" stroke=\"#000000\" stroke-opacity=\"1\" stroke-width=\"4.55111\"/>\n",
       "<path clip-path=\"url(#clip710)\" d=\"M2158.24 356.876 L2162.92 356.876 L2162.92 371.042 L2179.91 371.042 L2179.91 356.876 L2184.58 356.876 L2184.58 391.436 L2179.91 391.436 L2179.91 374.977 L2162.92 374.977 L2162.92 391.436 L2158.24 391.436 L2158.24 356.876 Z\" fill=\"#000000\" fill-rule=\"nonzero\" fill-opacity=\"1\" /><path clip-path=\"url(#clip710)\" d=\"M2193.7 365.51 L2197.96 365.51 L2197.96 391.436 L2193.7 391.436 L2193.7 365.51 M2193.7 355.417 L2197.96 355.417 L2197.96 360.811 L2193.7 360.811 L2193.7 355.417 Z\" fill=\"#000000\" fill-rule=\"nonzero\" fill-opacity=\"1\" /><path clip-path=\"url(#clip710)\" d=\"M2223.93 378.172 Q2223.93 373.542 2222.01 370.996 Q2220.11 368.45 2216.67 368.45 Q2213.24 368.45 2211.32 370.996 Q2209.42 373.542 2209.42 378.172 Q2209.42 382.778 2211.32 385.325 Q2213.24 387.871 2216.67 387.871 Q2220.11 387.871 2222.01 385.325 Q2223.93 382.778 2223.93 378.172 M2228.19 388.218 Q2228.19 394.838 2225.25 398.056 Q2222.31 401.297 2216.25 401.297 Q2214 401.297 2212.01 400.95 Q2210.02 400.625 2208.15 399.931 L2208.15 395.788 Q2210.02 396.806 2211.85 397.292 Q2213.68 397.778 2215.58 397.778 Q2219.77 397.778 2221.85 395.579 Q2223.93 393.403 2223.93 388.982 L2223.93 386.876 Q2222.61 389.167 2220.55 390.301 Q2218.49 391.436 2215.62 391.436 Q2210.86 391.436 2207.94 387.801 Q2205.02 384.167 2205.02 378.172 Q2205.02 372.153 2207.94 368.519 Q2210.86 364.885 2215.62 364.885 Q2218.49 364.885 2220.55 366.019 Q2222.61 367.153 2223.93 369.445 L2223.93 365.51 L2228.19 365.51 L2228.19 388.218 Z\" fill=\"#000000\" fill-rule=\"nonzero\" fill-opacity=\"1\" /><path clip-path=\"url(#clip710)\" d=\"M2258.52 375.788 L2258.52 391.436 L2254.26 391.436 L2254.26 375.927 Q2254.26 372.246 2252.82 370.417 Q2251.39 368.589 2248.52 368.589 Q2245.07 368.589 2243.08 370.788 Q2241.09 372.987 2241.09 376.783 L2241.09 391.436 L2236.8 391.436 L2236.8 355.417 L2241.09 355.417 L2241.09 369.538 Q2242.61 367.2 2244.67 366.042 Q2246.76 364.885 2249.47 364.885 Q2253.93 364.885 2256.23 367.663 Q2258.52 370.417 2258.52 375.788 Z\" fill=\"#000000\" fill-rule=\"nonzero\" fill-opacity=\"1\" /></svg>\n"
      ]
     },
     "execution_count": 40,
     "metadata": {},
     "output_type": "execute_result"
    }
   ],
   "source": [
    "using CSV\n",
    "using DataFrames\n",
    "using Plots\n",
    "using Statistics\n",
    "using CategoricalArrays\n",
    "\n",
    "\n",
    "# Calculate mean and standard error for each combination of factors\n",
    "summary_stats = combine(groupby(weightgain, [:source, :type]), \n",
    "    :weightgain => mean => :mean_weightgain,\n",
    "    :weightgain => std => :std_weightgain,\n",
    "    nrow => :count)\n",
    "\n",
    "# Calculate standard error\n",
    "summary_stats[:, :se] .= summary_stats.std_weightgain ./ sqrt.(summary_stats.count)\n",
    "\n",
    "# Convert `type` to a CategoricalArray with desired order\n",
    "summary_stats.type = CategoricalArray(summary_stats.type, levels=[\"High\", \"Low\"], ordered=true)\n",
    "\n",
    "# Set up the plot\n",
    "plot(title=\"Design Plot for Weight Gain\",\n",
    "     xlabel=\"Source\", ylabel=\"Mean Weight Gain\",\n",
    "     legend=false)\n",
    "\n",
    "# Loop through each combination of source and type for the plot\n",
    "for row in eachrow(summary_stats)\n",
    "    # Extract values\n",
    "    mean_value = row.mean_weightgain\n",
    "    se_value = row.se\n",
    "    source = row.source\n",
    "    type = row.type\n",
    "\n",
    "    # Scatter plot with error bars\n",
    "    scatter!([source], [mean_value], \n",
    "              yerror=[se_value], \n",
    "              label=type,\n",
    "              marker=:circle,\n",
    "              line=:solid,\n",
    "              legend=:topright)  # Add a legend\n",
    "end\n",
    "\n",
    "# Display the plot\n",
    "plot!()  # Finalize the plot to show"
   ]
  },
  {
   "cell_type": "code",
   "execution_count": null,
   "id": "a0b7ee67",
   "metadata": {},
   "outputs": [],
   "source": []
  },
  {
   "cell_type": "code",
   "execution_count": 41,
   "id": "8eda52af",
   "metadata": {},
   "outputs": [
    {
     "data": {
      "image/png": "[encoded data removed]",
      "image/svg+xml": [
       "<?xml version=\"1.0\" encoding=\"utf-8\"?>\n",
       "<svg xmlns=\"http://www.w3.org/2000/svg\" xmlns:xlink=\"http://www.w3.org/1999/xlink\" width=\"600\" height=\"400\" viewBox=\"0 0 2400 1600\">\n",
       "<defs>\n",
       "  <clipPath id=\"clip750\">\n",
       "    <rect x=\"0\" y=\"0\" width=\"2400\" height=\"1600\"/>\n",
       "  </clipPath>\n",
       "</defs>\n",
       "<path clip-path=\"url(#clip750)\" d=\"M0 1600 L2400 1600 L2400 0 L0 0  Z\" fill=\"#ffffff\" fill-rule=\"evenodd\" fill-opacity=\"1\"/>\n",
       "<defs>\n",
       "  <clipPath id=\"clip751\">\n",
       "    <rect x=\"480\" y=\"0\" width=\"1681\" height=\"1600\"/>\n",
       "  </clipPath>\n",
       "</defs>\n",
       "<path clip-path=\"url(#clip750)\" d=\"M232.389 1423.18 L2352.76 1423.18 L2352.76 123.472 L232.389 123.472  Z\" fill=\"#ffffff\" fill-rule=\"evenodd\" fill-opacity=\"1\"/>\n",
       "<defs>\n",
       "  <clipPath id=\"clip752\">\n",
       "    <rect x=\"232\" y=\"123\" width=\"2121\" height=\"1301\"/>\n",
       "  </clipPath>\n",
       "</defs>\n",
       "<polyline clip-path=\"url(#clip752)\" style=\"stroke:#000000; stroke-linecap:round; stroke-linejoin:round; stroke-width:2; stroke-opacity:0.1; fill:none\" points=\"292.4,1423.18 292.4,123.472 \"/>\n",
       "<polyline clip-path=\"url(#clip752)\" style=\"stroke:#000000; stroke-linecap:round; stroke-linejoin:round; stroke-width:2; stroke-opacity:0.1; fill:none\" points=\"2292.75,1423.18 2292.75,123.472 \"/>\n",
       "<polyline clip-path=\"url(#clip752)\" style=\"stroke:#000000; stroke-linecap:round; stroke-linejoin:round; stroke-width:2; stroke-opacity:0.1; fill:none\" points=\"232.389,1423.18 2352.76,1423.18 \"/>\n",
       "<polyline clip-path=\"url(#clip752)\" style=\"stroke:#000000; stroke-linecap:round; stroke-linejoin:round; stroke-width:2; stroke-opacity:0.1; fill:none\" points=\"232.389,1206.56 2352.76,1206.56 \"/>\n",
       "<polyline clip-path=\"url(#clip752)\" style=\"stroke:#000000; stroke-linecap:round; stroke-linejoin:round; stroke-width:2; stroke-opacity:0.1; fill:none\" points=\"232.389,989.944 2352.76,989.944 \"/>\n",
       "<polyline clip-path=\"url(#clip752)\" style=\"stroke:#000000; stroke-linecap:round; stroke-linejoin:round; stroke-width:2; stroke-opacity:0.1; fill:none\" points=\"232.389,773.326 2352.76,773.326 \"/>\n",
       "<polyline clip-path=\"url(#clip752)\" style=\"stroke:#000000; stroke-linecap:round; stroke-linejoin:round; stroke-width:2; stroke-opacity:0.1; fill:none\" points=\"232.389,556.708 2352.76,556.708 \"/>\n",
       "<polyline clip-path=\"url(#clip752)\" style=\"stroke:#000000; stroke-linecap:round; stroke-linejoin:round; stroke-width:2; stroke-opacity:0.1; fill:none\" points=\"232.389,340.09 2352.76,340.09 \"/>\n",
       "<polyline clip-path=\"url(#clip752)\" style=\"stroke:#000000; stroke-linecap:round; stroke-linejoin:round; stroke-width:2; stroke-opacity:0.1; fill:none\" points=\"232.389,123.472 2352.76,123.472 \"/>\n",
       "<polyline clip-path=\"url(#clip750)\" style=\"stroke:#000000; stroke-linecap:round; stroke-linejoin:round; stroke-width:4; stroke-opacity:1; fill:none\" points=\"232.389,1423.18 2352.76,1423.18 \"/>\n",
       "<polyline clip-path=\"url(#clip750)\" style=\"stroke:#000000; stroke-linecap:round; stroke-linejoin:round; stroke-width:4; stroke-opacity:1; fill:none\" points=\"292.4,1423.18 292.4,1404.28 \"/>\n",
       "<polyline clip-path=\"url(#clip750)\" style=\"stroke:#000000; stroke-linecap:round; stroke-linejoin:round; stroke-width:4; stroke-opacity:1; fill:none\" points=\"2292.75,1423.18 2292.75,1404.28 \"/>\n",
       "<path clip-path=\"url(#clip750)\" d=\"M242.261 1451.02 L246.937 1451.02 L246.937 1465.19 L263.928 1465.19 L263.928 1451.02 L268.604 1451.02 L268.604 1485.58 L263.928 1485.58 L263.928 1469.12 L246.937 1469.12 L246.937 1485.58 L242.261 1485.58 L242.261 1451.02 Z\" fill=\"#000000\" fill-rule=\"nonzero\" fill-opacity=\"1\" /><path clip-path=\"url(#clip750)\" d=\"M277.724 1459.65 L281.983 1459.65 L281.983 1485.58 L277.724 1485.58 L277.724 1459.65 M277.724 1449.56 L281.983 1449.56 L281.983 1454.96 L277.724 1454.96 L277.724 1449.56 Z\" fill=\"#000000\" fill-rule=\"nonzero\" fill-opacity=\"1\" /><path clip-path=\"url(#clip750)\" d=\"M307.955 1472.32 Q307.955 1467.69 306.034 1465.14 Q304.136 1462.59 300.687 1462.59 Q297.261 1462.59 295.34 1465.14 Q293.441 1467.69 293.441 1472.32 Q293.441 1476.92 295.34 1479.47 Q297.261 1482.02 300.687 1482.02 Q304.136 1482.02 306.034 1479.47 Q307.955 1476.92 307.955 1472.32 M312.214 1482.36 Q312.214 1488.98 309.275 1492.2 Q306.335 1495.44 300.27 1495.44 Q298.025 1495.44 296.034 1495.09 Q294.043 1494.77 292.168 1494.08 L292.168 1489.93 Q294.043 1490.95 295.872 1491.44 Q297.701 1491.92 299.599 1491.92 Q303.789 1491.92 305.872 1489.72 Q307.955 1487.55 307.955 1483.13 L307.955 1481.02 Q306.636 1483.31 304.576 1484.45 Q302.515 1485.58 299.645 1485.58 Q294.877 1485.58 291.96 1481.95 Q289.043 1478.31 289.043 1472.32 Q289.043 1466.3 291.96 1462.66 Q294.877 1459.03 299.645 1459.03 Q302.515 1459.03 304.576 1460.16 Q306.636 1461.3 307.955 1463.59 L307.955 1459.65 L312.214 1459.65 L312.214 1482.36 Z\" fill=\"#000000\" fill-rule=\"nonzero\" fill-opacity=\"1\" /><path clip-path=\"url(#clip750)\" d=\"M342.538 1469.93 L342.538 1485.58 L338.279 1485.58 L338.279 1470.07 Q338.279 1466.39 336.844 1464.56 Q335.409 1462.73 332.538 1462.73 Q329.089 1462.73 327.099 1464.93 Q325.108 1467.13 325.108 1470.93 L325.108 1485.58 L320.825 1485.58 L320.825 1449.56 L325.108 1449.56 L325.108 1463.68 Q326.636 1461.34 328.696 1460.19 Q330.779 1459.03 333.487 1459.03 Q337.955 1459.03 340.247 1461.81 Q342.538 1464.56 342.538 1469.93 Z\" fill=\"#000000\" fill-rule=\"nonzero\" fill-opacity=\"1\" /><path clip-path=\"url(#clip750)\" d=\"M2249.39 1451.02 L2254.07 1451.02 L2254.07 1481.64 L2270.89 1481.64 L2270.89 1485.58 L2249.39 1485.58 L2249.39 1451.02 Z\" fill=\"#000000\" fill-rule=\"nonzero\" fill-opacity=\"1\" /><path clip-path=\"url(#clip750)\" d=\"M2284.83 1462.64 Q2281.4 1462.64 2279.41 1465.33 Q2277.42 1467.99 2277.42 1472.64 Q2277.42 1477.29 2279.39 1479.98 Q2281.38 1482.64 2284.83 1482.64 Q2288.23 1482.64 2290.22 1479.95 Q2292.21 1477.27 2292.21 1472.64 Q2292.21 1468.03 2290.22 1465.35 Q2288.23 1462.64 2284.83 1462.64 M2284.83 1459.03 Q2290.38 1459.03 2293.56 1462.64 Q2296.73 1466.25 2296.73 1472.64 Q2296.73 1479.01 2293.56 1482.64 Q2290.38 1486.25 2284.83 1486.25 Q2279.25 1486.25 2276.08 1482.64 Q2272.93 1479.01 2272.93 1472.64 Q2272.93 1466.25 2276.08 1462.64 Q2279.25 1459.03 2284.83 1459.03 Z\" fill=\"#000000\" fill-rule=\"nonzero\" fill-opacity=\"1\" /><path clip-path=\"url(#clip750)\" d=\"M2301.31 1459.65 L2305.57 1459.65 L2310.89 1479.89 L2316.19 1459.65 L2321.22 1459.65 L2326.54 1479.89 L2331.84 1459.65 L2336.1 1459.65 L2329.32 1485.58 L2324.3 1485.58 L2318.72 1464.33 L2313.12 1485.58 L2308.09 1485.58 L2301.31 1459.65 Z\" fill=\"#000000\" fill-rule=\"nonzero\" fill-opacity=\"1\" /><path clip-path=\"url(#clip750)\" d=\"M1219.35 1520.52 L1259.55 1520.52 L1259.55 1525.93 L1242.68 1525.93 L1242.68 1568.04 L1236.22 1568.04 L1236.22 1525.93 L1219.35 1525.93 L1219.35 1520.52 Z\" fill=\"#000000\" fill-rule=\"nonzero\" fill-opacity=\"1\" /><path clip-path=\"url(#clip750)\" d=\"M1270.18 1571.35 Q1267.7 1577.72 1265.34 1579.66 Q1262.99 1581.6 1259.04 1581.6 L1254.36 1581.6 L1254.36 1576.7 L1257.8 1576.7 Q1260.22 1576.7 1261.56 1575.56 Q1262.89 1574.41 1264.52 1570.14 L1265.57 1567.47 L1251.15 1532.4 L1257.35 1532.4 L1268.49 1560.28 L1279.63 1532.4 L1285.84 1532.4 L1270.18 1571.35 Z\" fill=\"#000000\" fill-rule=\"nonzero\" fill-opacity=\"1\" /><path clip-path=\"url(#clip750)\" d=\"M1299.59 1562.7 L1299.59 1581.6 L1293.7 1581.6 L1293.7 1532.4 L1299.59 1532.4 L1299.59 1537.81 Q1301.44 1534.62 1304.24 1533.1 Q1307.07 1531.54 1310.99 1531.54 Q1317.48 1531.54 1321.52 1536.69 Q1325.59 1541.85 1325.59 1550.25 Q1325.59 1558.65 1321.52 1563.81 Q1317.48 1568.97 1310.99 1568.97 Q1307.07 1568.97 1304.24 1567.44 Q1301.44 1565.88 1299.59 1562.7 M1319.52 1550.25 Q1319.52 1543.79 1316.84 1540.13 Q1314.2 1536.44 1309.55 1536.44 Q1304.91 1536.44 1302.23 1540.13 Q1299.59 1543.79 1299.59 1550.25 Q1299.59 1556.71 1302.23 1560.4 Q1304.91 1564.07 1309.55 1564.07 Q1314.2 1564.07 1316.84 1560.4 Q1319.52 1556.71 1319.52 1550.25 Z\" fill=\"#000000\" fill-rule=\"nonzero\" fill-opacity=\"1\" /><path clip-path=\"url(#clip750)\" d=\"M1365.79 1548.76 L1365.79 1551.62 L1338.87 1551.62 Q1339.25 1557.67 1342.5 1560.85 Q1345.77 1564 1351.6 1564 Q1354.97 1564 1358.12 1563.17 Q1361.31 1562.35 1364.43 1560.69 L1364.43 1566.23 Q1361.27 1567.57 1357.96 1568.27 Q1354.65 1568.97 1351.25 1568.97 Q1342.72 1568.97 1337.72 1564 Q1332.76 1559.04 1332.76 1550.57 Q1332.76 1541.82 1337.47 1536.69 Q1342.21 1531.54 1350.23 1531.54 Q1357.42 1531.54 1361.59 1536.18 Q1365.79 1540.8 1365.79 1548.76 M1359.94 1547.04 Q1359.87 1542.23 1357.23 1539.37 Q1354.62 1536.5 1350.29 1536.5 Q1345.39 1536.5 1342.43 1539.27 Q1339.5 1542.04 1339.06 1547.07 L1359.94 1547.04 Z\" fill=\"#000000\" fill-rule=\"nonzero\" fill-opacity=\"1\" /><polyline clip-path=\"url(#clip750)\" style=\"stroke:#000000; stroke-linecap:round; stroke-linejoin:round; stroke-width:4; stroke-opacity:1; fill:none\" points=\"232.389,1423.18 232.389,123.472 \"/>\n",
       "<polyline clip-path=\"url(#clip750)\" style=\"stroke:#000000; stroke-linecap:round; stroke-linejoin:round; stroke-width:4; stroke-opacity:1; fill:none\" points=\"232.389,1423.18 251.287,1423.18 \"/>\n",
       "<polyline clip-path=\"url(#clip750)\" style=\"stroke:#000000; stroke-linecap:round; stroke-linejoin:round; stroke-width:4; stroke-opacity:1; fill:none\" points=\"232.389,1206.56 251.287,1206.56 \"/>\n",
       "<polyline clip-path=\"url(#clip750)\" style=\"stroke:#000000; stroke-linecap:round; stroke-linejoin:round; stroke-width:4; stroke-opacity:1; fill:none\" points=\"232.389,989.944 251.287,989.944 \"/>\n",
       "<polyline clip-path=\"url(#clip750)\" style=\"stroke:#000000; stroke-linecap:round; stroke-linejoin:round; stroke-width:4; stroke-opacity:1; fill:none\" points=\"232.389,773.326 251.287,773.326 \"/>\n",
       "<polyline clip-path=\"url(#clip750)\" style=\"stroke:#000000; stroke-linecap:round; stroke-linejoin:round; stroke-width:4; stroke-opacity:1; fill:none\" points=\"232.389,556.708 251.287,556.708 \"/>\n",
       "<polyline clip-path=\"url(#clip750)\" style=\"stroke:#000000; stroke-linecap:round; stroke-linejoin:round; stroke-width:4; stroke-opacity:1; fill:none\" points=\"232.389,340.09 251.287,340.09 \"/>\n",
       "<polyline clip-path=\"url(#clip750)\" style=\"stroke:#000000; stroke-linecap:round; stroke-linejoin:round; stroke-width:4; stroke-opacity:1; fill:none\" points=\"232.389,123.472 251.287,123.472 \"/>\n",
       "<path clip-path=\"url(#clip750)\" d=\"M144.098 1405.9 L166.32 1405.9 L166.32 1407.89 L153.774 1440.46 L148.89 1440.46 L160.695 1409.84 L144.098 1409.84 L144.098 1405.9 Z\" fill=\"#000000\" fill-rule=\"nonzero\" fill-opacity=\"1\" /><path clip-path=\"url(#clip750)\" d=\"M175.487 1405.9 L193.843 1405.9 L193.843 1409.84 L179.769 1409.84 L179.769 1418.31 Q180.788 1417.96 181.806 1417.8 Q182.825 1417.61 183.843 1417.61 Q189.63 1417.61 193.01 1420.78 Q196.389 1423.96 196.389 1429.37 Q196.389 1434.95 192.917 1438.05 Q189.445 1441.13 183.126 1441.13 Q180.95 1441.13 178.681 1440.76 Q176.436 1440.39 174.028 1439.65 L174.028 1434.95 Q176.112 1436.08 178.334 1436.64 Q180.556 1437.2 183.033 1437.2 Q187.038 1437.2 189.375 1435.09 Q191.713 1432.98 191.713 1429.37 Q191.713 1425.76 189.375 1423.65 Q187.038 1421.55 183.033 1421.55 Q181.158 1421.55 179.283 1421.96 Q177.431 1422.38 175.487 1423.26 L175.487 1405.9 Z\" fill=\"#000000\" fill-rule=\"nonzero\" fill-opacity=\"1\" /><path clip-path=\"url(#clip750)\" d=\"M154.283 1207.43 Q150.95 1207.43 149.028 1209.21 Q147.13 1210.99 147.13 1214.12 Q147.13 1217.24 149.028 1219.03 Q150.95 1220.81 154.283 1220.81 Q157.616 1220.81 159.538 1219.03 Q161.459 1217.22 161.459 1214.12 Q161.459 1210.99 159.538 1209.21 Q157.64 1207.43 154.283 1207.43 M149.607 1205.44 Q146.598 1204.7 144.908 1202.64 Q143.241 1200.58 143.241 1197.62 Q143.241 1193.47 146.181 1191.06 Q149.144 1188.66 154.283 1188.66 Q159.445 1188.66 162.385 1191.06 Q165.325 1193.47 165.325 1197.62 Q165.325 1200.58 163.635 1202.64 Q161.968 1204.7 158.982 1205.44 Q162.362 1206.23 164.237 1208.52 Q166.135 1210.81 166.135 1214.12 Q166.135 1219.14 163.056 1221.83 Q160.001 1224.51 154.283 1224.51 Q148.566 1224.51 145.487 1221.83 Q142.431 1219.14 142.431 1214.12 Q142.431 1210.81 144.329 1208.52 Q146.228 1206.23 149.607 1205.44 M147.894 1198.05 Q147.894 1200.74 149.561 1202.24 Q151.251 1203.75 154.283 1203.75 Q157.292 1203.75 158.982 1202.24 Q160.695 1200.74 160.695 1198.05 Q160.695 1195.37 158.982 1193.87 Q157.292 1192.36 154.283 1192.36 Q151.251 1192.36 149.561 1193.87 Q147.894 1195.37 147.894 1198.05 Z\" fill=\"#000000\" fill-rule=\"nonzero\" fill-opacity=\"1\" /><path clip-path=\"url(#clip750)\" d=\"M184.445 1192.36 Q180.834 1192.36 179.005 1195.93 Q177.2 1199.47 177.2 1206.6 Q177.2 1213.7 179.005 1217.27 Q180.834 1220.81 184.445 1220.81 Q188.079 1220.81 189.885 1217.27 Q191.713 1213.7 191.713 1206.6 Q191.713 1199.47 189.885 1195.93 Q188.079 1192.36 184.445 1192.36 M184.445 1188.66 Q190.255 1188.66 193.311 1193.26 Q196.389 1197.85 196.389 1206.6 Q196.389 1215.32 193.311 1219.93 Q190.255 1224.51 184.445 1224.51 Q178.635 1224.51 175.556 1219.93 Q172.501 1215.32 172.501 1206.6 Q172.501 1197.85 175.556 1193.26 Q178.635 1188.66 184.445 1188.66 Z\" fill=\"#000000\" fill-rule=\"nonzero\" fill-opacity=\"1\" /><path clip-path=\"url(#clip750)\" d=\"M155.278 990.812 Q151.945 990.812 150.024 992.594 Q148.126 994.377 148.126 997.502 Q148.126 1000.63 150.024 1002.41 Q151.945 1004.19 155.278 1004.19 Q158.612 1004.19 160.533 1002.41 Q162.454 1000.6 162.454 997.502 Q162.454 994.377 160.533 992.594 Q158.635 990.812 155.278 990.812 M150.603 988.821 Q147.593 988.081 145.904 986.02 Q144.237 983.96 144.237 980.997 Q144.237 976.854 147.177 974.446 Q150.14 972.039 155.278 972.039 Q160.44 972.039 163.38 974.446 Q166.32 976.854 166.32 980.997 Q166.32 983.96 164.63 986.02 Q162.964 988.081 159.978 988.821 Q163.357 989.608 165.232 991.9 Q167.13 994.192 167.13 997.502 Q167.13 1002.52 164.052 1005.21 Q160.996 1007.9 155.278 1007.9 Q149.561 1007.9 146.482 1005.21 Q143.427 1002.52 143.427 997.502 Q143.427 994.192 145.325 991.9 Q147.223 989.608 150.603 988.821 M148.89 981.437 Q148.89 984.122 150.556 985.627 Q152.246 987.131 155.278 987.131 Q158.288 987.131 159.978 985.627 Q161.69 984.122 161.69 981.437 Q161.69 978.752 159.978 977.247 Q158.288 975.743 155.278 975.743 Q152.246 975.743 150.556 977.247 Q148.89 978.752 148.89 981.437 Z\" fill=\"#000000\" fill-rule=\"nonzero\" fill-opacity=\"1\" /><path clip-path=\"url(#clip750)\" d=\"M175.487 972.664 L193.843 972.664 L193.843 976.599 L179.769 976.599 L179.769 985.071 Q180.788 984.724 181.806 984.562 Q182.825 984.377 183.843 984.377 Q189.63 984.377 193.01 987.548 Q196.389 990.719 196.389 996.136 Q196.389 1001.71 192.917 1004.82 Q189.445 1007.9 183.126 1007.9 Q180.95 1007.9 178.681 1007.52 Q176.436 1007.15 174.028 1006.41 L174.028 1001.71 Q176.112 1002.85 178.334 1003.4 Q180.556 1003.96 183.033 1003.96 Q187.038 1003.96 189.375 1001.85 Q191.713 999.747 191.713 996.136 Q191.713 992.525 189.375 990.418 Q187.038 988.312 183.033 988.312 Q181.158 988.312 179.283 988.729 Q177.431 989.145 175.487 990.025 L175.487 972.664 Z\" fill=\"#000000\" fill-rule=\"nonzero\" fill-opacity=\"1\" /><path clip-path=\"url(#clip750)\" d=\"M144.422 789.888 L144.422 785.629 Q146.181 786.462 147.987 786.902 Q149.792 787.342 151.528 787.342 Q156.158 787.342 158.589 784.24 Q161.042 781.115 161.39 774.773 Q160.047 776.763 157.987 777.828 Q155.927 778.893 153.427 778.893 Q148.241 778.893 145.209 775.768 Q142.2 772.62 142.2 767.18 Q142.2 761.856 145.348 758.639 Q148.496 755.421 153.728 755.421 Q159.723 755.421 162.871 760.027 Q166.042 764.611 166.042 773.361 Q166.042 781.532 162.153 786.416 Q158.288 791.277 151.737 791.277 Q149.978 791.277 148.172 790.93 Q146.366 790.583 144.422 789.888 M153.728 775.236 Q156.876 775.236 158.704 773.083 Q160.556 770.93 160.556 767.18 Q160.556 763.453 158.704 761.301 Q156.876 759.125 153.728 759.125 Q150.579 759.125 148.728 761.301 Q146.899 763.453 146.899 767.18 Q146.899 770.93 148.728 773.083 Q150.579 775.236 153.728 775.236 Z\" fill=\"#000000\" fill-rule=\"nonzero\" fill-opacity=\"1\" /><path clip-path=\"url(#clip750)\" d=\"M184.445 759.125 Q180.834 759.125 179.005 762.689 Q177.2 766.231 177.2 773.361 Q177.2 780.467 179.005 784.032 Q180.834 787.574 184.445 787.574 Q188.079 787.574 189.885 784.032 Q191.713 780.467 191.713 773.361 Q191.713 766.231 189.885 762.689 Q188.079 759.125 184.445 759.125 M184.445 755.421 Q190.255 755.421 193.311 760.027 Q196.389 764.611 196.389 773.361 Q196.389 782.088 193.311 786.694 Q190.255 791.277 184.445 791.277 Q178.635 791.277 175.556 786.694 Q172.501 782.088 172.501 773.361 Q172.501 764.611 175.556 760.027 Q178.635 755.421 184.445 755.421 Z\" fill=\"#000000\" fill-rule=\"nonzero\" fill-opacity=\"1\" /><path clip-path=\"url(#clip750)\" d=\"M145.417 573.27 L145.417 569.011 Q147.177 569.845 148.982 570.284 Q150.788 570.724 152.524 570.724 Q157.153 570.724 159.584 567.622 Q162.038 564.497 162.385 558.155 Q161.042 560.146 158.982 561.21 Q156.922 562.275 154.422 562.275 Q149.237 562.275 146.204 559.15 Q143.195 556.002 143.195 550.562 Q143.195 545.238 146.343 542.021 Q149.491 538.803 154.723 538.803 Q160.718 538.803 163.866 543.409 Q167.038 547.993 167.038 556.743 Q167.038 564.914 163.149 569.798 Q159.283 574.659 152.732 574.659 Q150.973 574.659 149.167 574.312 Q147.362 573.965 145.417 573.27 M154.723 558.618 Q157.871 558.618 159.7 556.465 Q161.552 554.312 161.552 550.562 Q161.552 546.835 159.7 544.683 Q157.871 542.507 154.723 542.507 Q151.575 542.507 149.723 544.683 Q147.894 546.835 147.894 550.562 Q147.894 554.312 149.723 556.465 Q151.575 558.618 154.723 558.618 Z\" fill=\"#000000\" fill-rule=\"nonzero\" fill-opacity=\"1\" /><path clip-path=\"url(#clip750)\" d=\"M175.487 539.428 L193.843 539.428 L193.843 543.363 L179.769 543.363 L179.769 551.835 Q180.788 551.488 181.806 551.326 Q182.825 551.141 183.843 551.141 Q189.63 551.141 193.01 554.312 Q196.389 557.483 196.389 562.9 Q196.389 568.479 192.917 571.581 Q189.445 574.659 183.126 574.659 Q180.95 574.659 178.681 574.289 Q176.436 573.919 174.028 573.178 L174.028 568.479 Q176.112 569.613 178.334 570.169 Q180.556 570.724 183.033 570.724 Q187.038 570.724 189.375 568.618 Q191.713 566.511 191.713 562.9 Q191.713 559.289 189.375 557.183 Q187.038 555.076 183.033 555.076 Q181.158 555.076 179.283 555.493 Q177.431 555.909 175.487 556.789 L175.487 539.428 Z\" fill=\"#000000\" fill-rule=\"nonzero\" fill-opacity=\"1\" /><path clip-path=\"url(#clip750)\" d=\"M114.931 353.435 L122.57 353.435 L122.57 327.069 L114.26 328.736 L114.26 324.477 L122.524 322.81 L127.2 322.81 L127.2 353.435 L134.839 353.435 L134.839 357.37 L114.931 357.37 L114.931 353.435 Z\" fill=\"#000000\" fill-rule=\"nonzero\" fill-opacity=\"1\" /><path clip-path=\"url(#clip750)\" d=\"M154.283 325.889 Q150.672 325.889 148.843 329.454 Q147.038 332.995 147.038 340.125 Q147.038 347.231 148.843 350.796 Q150.672 354.338 154.283 354.338 Q157.917 354.338 159.723 350.796 Q161.552 347.231 161.552 340.125 Q161.552 332.995 159.723 329.454 Q157.917 325.889 154.283 325.889 M154.283 322.185 Q160.093 322.185 163.149 326.792 Q166.227 331.375 166.227 340.125 Q166.227 348.852 163.149 353.458 Q160.093 358.041 154.283 358.041 Q148.473 358.041 145.394 353.458 Q142.339 348.852 142.339 340.125 Q142.339 331.375 145.394 326.792 Q148.473 322.185 154.283 322.185 Z\" fill=\"#000000\" fill-rule=\"nonzero\" fill-opacity=\"1\" /><path clip-path=\"url(#clip750)\" d=\"M184.445 325.889 Q180.834 325.889 179.005 329.454 Q177.2 332.995 177.2 340.125 Q177.2 347.231 179.005 350.796 Q180.834 354.338 184.445 354.338 Q188.079 354.338 189.885 350.796 Q191.713 347.231 191.713 340.125 Q191.713 332.995 189.885 329.454 Q188.079 325.889 184.445 325.889 M184.445 322.185 Q190.255 322.185 193.311 326.792 Q196.389 331.375 196.389 340.125 Q196.389 348.852 193.311 353.458 Q190.255 358.041 184.445 358.041 Q178.635 358.041 175.556 353.458 Q172.501 348.852 172.501 340.125 Q172.501 331.375 175.556 326.792 Q178.635 322.185 184.445 322.185 Z\" fill=\"#000000\" fill-rule=\"nonzero\" fill-opacity=\"1\" /><path clip-path=\"url(#clip750)\" d=\"M115.927 136.817 L123.566 136.817 L123.566 110.451 L115.256 112.118 L115.256 107.859 L123.519 106.192 L128.195 106.192 L128.195 136.817 L135.834 136.817 L135.834 140.752 L115.927 140.752 L115.927 136.817 Z\" fill=\"#000000\" fill-rule=\"nonzero\" fill-opacity=\"1\" /><path clip-path=\"url(#clip750)\" d=\"M155.278 109.271 Q151.667 109.271 149.839 112.836 Q148.033 116.377 148.033 123.507 Q148.033 130.613 149.839 134.178 Q151.667 137.72 155.278 137.72 Q158.913 137.72 160.718 134.178 Q162.547 130.613 162.547 123.507 Q162.547 116.377 160.718 112.836 Q158.913 109.271 155.278 109.271 M155.278 105.567 Q161.089 105.567 164.144 110.174 Q167.223 114.757 167.223 123.507 Q167.223 132.234 164.144 136.84 Q161.089 141.423 155.278 141.423 Q149.468 141.423 146.39 136.84 Q143.334 132.234 143.334 123.507 Q143.334 114.757 146.39 110.174 Q149.468 105.567 155.278 105.567 Z\" fill=\"#000000\" fill-rule=\"nonzero\" fill-opacity=\"1\" /><path clip-path=\"url(#clip750)\" d=\"M175.487 106.192 L193.843 106.192 L193.843 110.127 L179.769 110.127 L179.769 118.599 Q180.788 118.252 181.806 118.09 Q182.825 117.905 183.843 117.905 Q189.63 117.905 193.01 121.076 Q196.389 124.248 196.389 129.664 Q196.389 135.243 192.917 138.345 Q189.445 141.423 183.126 141.423 Q180.95 141.423 178.681 141.053 Q176.436 140.683 174.028 139.942 L174.028 135.243 Q176.112 136.377 178.334 136.933 Q180.556 137.488 183.033 137.488 Q187.038 137.488 189.375 135.382 Q191.713 133.275 191.713 129.664 Q191.713 126.053 189.375 123.947 Q187.038 121.84 183.033 121.84 Q181.158 121.84 179.283 122.257 Q177.431 122.674 175.487 123.553 L175.487 106.192 Z\" fill=\"#000000\" fill-rule=\"nonzero\" fill-opacity=\"1\" /><path clip-path=\"url(#clip750)\" d=\"M16.4842 1065.37 L16.4842 1055.79 L48.8219 1043.66 L16.4842 1031.47 L16.4842 1021.89 L64.0042 1021.89 L64.0042 1028.16 L22.277 1028.16 L54.8694 1040.42 L54.8694 1046.88 L22.277 1059.13 L64.0042 1059.13 L64.0042 1065.37 L16.4842 1065.37 Z\" fill=\"#000000\" fill-rule=\"nonzero\" fill-opacity=\"1\" /><path clip-path=\"url(#clip750)\" d=\"M44.7161 978.891 L47.5806 978.891 L47.5806 1005.82 Q53.6281 1005.44 56.8109 1002.19 Q59.9619 998.911 59.9619 993.086 Q59.9619 989.712 59.1344 986.561 Q58.3069 983.378 56.6518 980.259 L62.1899 980.259 Q63.5267 983.41 64.227 986.72 Q64.9272 990.031 64.9272 993.436 Q64.9272 1001.97 59.9619 1006.96 Q54.9967 1011.93 46.5303 1011.93 Q37.7774 1011.93 32.6531 1007.22 Q27.4968 1002.48 27.4968 994.455 Q27.4968 987.261 32.1438 983.092 Q36.7589 978.891 44.7161 978.891 M42.9973 984.747 Q38.1912 984.811 35.3266 987.452 Q32.4621 990.062 32.4621 994.391 Q32.4621 999.293 35.2312 1002.25 Q38.0002 1005.18 43.0292 1005.63 L42.9973 984.747 Z\" fill=\"#000000\" fill-rule=\"nonzero\" fill-opacity=\"1\" /><path clip-path=\"url(#clip750)\" d=\"M46.0847 953.078 Q46.0847 960.175 47.7079 962.913 Q49.3312 965.65 53.2461 965.65 Q56.3653 965.65 58.2114 963.613 Q60.0256 961.544 60.0256 958.011 Q60.0256 953.141 56.5881 950.213 Q53.1188 947.253 47.3897 947.253 L46.0847 947.253 L46.0847 953.078 M43.6657 941.397 L64.0042 941.397 L64.0042 947.253 L58.5933 947.253 Q61.8398 949.258 63.3994 952.25 Q64.9272 955.242 64.9272 959.571 Q64.9272 965.045 61.8716 968.292 Q58.7843 971.506 53.6281 971.506 Q47.6125 971.506 44.5569 967.496 Q41.5014 963.454 41.5014 955.465 L41.5014 947.253 L40.9285 947.253 Q36.8862 947.253 34.6901 949.927 Q32.4621 952.568 32.4621 957.374 Q32.4621 960.43 33.1941 963.326 Q33.9262 966.223 35.3903 968.896 L29.9795 968.896 Q28.7381 965.682 28.1334 962.658 Q27.4968 959.634 27.4968 956.77 Q27.4968 949.035 31.5072 945.216 Q35.5176 941.397 43.6657 941.397 Z\" fill=\"#000000\" fill-rule=\"nonzero\" fill-opacity=\"1\" /><path clip-path=\"url(#clip750)\" d=\"M42.4881 899.701 L64.0042 899.701 L64.0042 905.558 L42.679 905.558 Q37.6183 905.558 35.1038 907.531 Q32.5894 909.504 32.5894 913.451 Q32.5894 918.194 35.6131 920.931 Q38.6368 923.668 43.8567 923.668 L64.0042 923.668 L64.0042 929.556 L28.3562 929.556 L28.3562 923.668 L33.8944 923.668 Q30.6797 921.567 29.0883 918.735 Q27.4968 915.87 27.4968 912.146 Q27.4968 906.003 31.3163 902.852 Q35.1038 899.701 42.4881 899.701 Z\" fill=\"#000000\" fill-rule=\"nonzero\" fill-opacity=\"1\" /><path clip-path=\"url(#clip750)\" d=\"M16.4842 871.278 L16.4842 864.785 L56.6518 854.791 L16.4842 844.829 L16.4842 837.604 L56.6518 827.61 L16.4842 817.647 L16.4842 811.122 L64.0042 823.058 L64.0042 831.143 L22.7544 841.169 L64.0042 851.29 L64.0042 859.374 L16.4842 871.278 Z\" fill=\"#000000\" fill-rule=\"nonzero\" fill-opacity=\"1\" /><path clip-path=\"url(#clip750)\" d=\"M44.7161 776.175 L47.5806 776.175 L47.5806 803.102 Q53.6281 802.72 56.8109 799.473 Q59.9619 796.195 59.9619 790.37 Q59.9619 786.996 59.1344 783.845 Q58.3069 780.662 56.6518 777.543 L62.1899 777.543 Q63.5267 780.694 64.227 784.004 Q64.9272 787.315 64.9272 790.72 Q64.9272 799.25 59.9619 804.247 Q54.9967 809.213 46.5303 809.213 Q37.7774 809.213 32.6531 804.502 Q27.4968 799.76 27.4968 791.739 Q27.4968 784.546 32.1438 780.376 Q36.7589 776.175 44.7161 776.175 M42.9973 782.031 Q38.1912 782.095 35.3266 784.737 Q32.4621 787.346 32.4621 791.675 Q32.4621 796.577 35.2312 799.537 Q38.0002 802.465 43.0292 802.911 L42.9973 782.031 Z\" fill=\"#000000\" fill-rule=\"nonzero\" fill-opacity=\"1\" /><path clip-path=\"url(#clip750)\" d=\"M28.3562 766.562 L28.3562 760.706 L64.0042 760.706 L64.0042 766.562 L28.3562 766.562 M14.479 766.562 L14.479 760.706 L21.895 760.706 L21.895 766.562 L14.479 766.562 Z\" fill=\"#000000\" fill-rule=\"nonzero\" fill-opacity=\"1\" /><path clip-path=\"url(#clip750)\" d=\"M45.7664 724.994 Q39.4007 724.994 35.8996 727.636 Q32.3984 730.246 32.3984 734.989 Q32.3984 739.699 35.8996 742.341 Q39.4007 744.951 45.7664 744.951 Q52.1003 744.951 55.6014 742.341 Q59.1026 739.699 59.1026 734.989 Q59.1026 730.246 55.6014 727.636 Q52.1003 724.994 45.7664 724.994 M59.58 719.138 Q68.683 719.138 73.1071 723.18 Q77.5631 727.222 77.5631 735.561 Q77.5631 738.649 77.0857 741.386 Q76.6401 744.123 75.6852 746.701 L69.9879 746.701 Q71.3884 744.123 72.0568 741.609 Q72.7252 739.094 72.7252 736.484 Q72.7252 730.723 69.7015 727.859 Q66.7096 724.994 60.6303 724.994 L57.7339 724.994 Q60.885 726.809 62.4446 729.641 Q64.0042 732.474 64.0042 736.421 Q64.0042 742.977 59.0071 746.988 Q54.01 750.998 45.7664 750.998 Q37.491 750.998 32.4939 746.988 Q27.4968 742.977 27.4968 736.421 Q27.4968 732.474 29.0564 729.641 Q30.616 726.809 33.7671 724.994 L28.3562 724.994 L28.3562 719.138 L59.58 719.138 Z\" fill=\"#000000\" fill-rule=\"nonzero\" fill-opacity=\"1\" /><path clip-path=\"url(#clip750)\" d=\"M42.4881 677.443 L64.0042 677.443 L64.0042 683.299 L42.679 683.299 Q37.6183 683.299 35.1038 685.272 Q32.5894 687.246 32.5894 691.192 Q32.5894 695.935 35.6131 698.672 Q38.6368 701.409 43.8567 701.409 L64.0042 701.409 L64.0042 707.298 L14.479 707.298 L14.479 701.409 L33.8944 701.409 Q30.6797 699.309 29.0883 696.476 Q27.4968 693.611 27.4968 689.887 Q27.4968 683.745 31.3163 680.594 Q35.1038 677.443 42.4881 677.443 Z\" fill=\"#000000\" fill-rule=\"nonzero\" fill-opacity=\"1\" /><path clip-path=\"url(#clip750)\" d=\"M18.2347 659.969 L28.3562 659.969 L28.3562 647.906 L32.9077 647.906 L32.9077 659.969 L52.2594 659.969 Q56.6199 659.969 57.8613 658.791 Q59.1026 657.582 59.1026 653.921 L59.1026 647.906 L64.0042 647.906 L64.0042 653.921 Q64.0042 660.701 61.4897 663.279 Q58.9434 665.857 52.2594 665.857 L32.9077 665.857 L32.9077 670.154 L28.3562 670.154 L28.3562 665.857 L18.2347 665.857 L18.2347 659.969 Z\" fill=\"#000000\" fill-rule=\"nonzero\" fill-opacity=\"1\" /><path clip-path=\"url(#clip750)\" d=\"M57.2247 586.827 L44.4614 586.827 L44.4614 597.33 L39.1779 597.33 L39.1779 580.461 L59.58 580.461 Q62.2218 584.185 63.5904 588.673 Q64.9272 593.161 64.9272 598.253 Q64.9272 609.393 58.4342 615.695 Q51.9093 621.965 40.2919 621.965 Q28.6427 621.965 22.1496 615.695 Q15.6248 609.393 15.6248 598.253 Q15.6248 593.606 16.7706 589.437 Q17.9164 585.235 20.1444 581.702 L26.9876 581.702 Q23.9639 585.267 22.4361 589.277 Q20.9083 593.288 20.9083 597.712 Q20.9083 606.433 25.7781 610.825 Q30.6479 615.186 40.2919 615.186 Q49.9041 615.186 54.7739 610.825 Q59.6436 606.433 59.6436 597.712 Q59.6436 594.306 59.0707 591.633 Q58.466 588.959 57.2247 586.827 Z\" fill=\"#000000\" fill-rule=\"nonzero\" fill-opacity=\"1\" /><path clip-path=\"url(#clip750)\" d=\"M46.0847 552.77 Q46.0847 559.868 47.7079 562.605 Q49.3312 565.342 53.2461 565.342 Q56.3653 565.342 58.2114 563.305 Q60.0256 561.237 60.0256 557.704 Q60.0256 552.834 56.5881 549.906 Q53.1188 546.946 47.3897 546.946 L46.0847 546.946 L46.0847 552.77 M43.6657 541.089 L64.0042 541.089 L64.0042 546.946 L58.5933 546.946 Q61.8398 548.951 63.3994 551.943 Q64.9272 554.935 64.9272 559.263 Q64.9272 564.738 61.8716 567.984 Q58.7843 571.199 53.6281 571.199 Q47.6125 571.199 44.5569 567.188 Q41.5014 563.146 41.5014 555.157 L41.5014 546.946 L40.9285 546.946 Q36.8862 546.946 34.6901 549.619 Q32.4621 552.261 32.4621 557.067 Q32.4621 560.123 33.1941 563.019 Q33.9262 565.915 35.3903 568.589 L29.9795 568.589 Q28.7381 565.374 28.1334 562.351 Q27.4968 559.327 27.4968 556.462 Q27.4968 548.728 31.5072 544.909 Q35.5176 541.089 43.6657 541.089 Z\" fill=\"#000000\" fill-rule=\"nonzero\" fill-opacity=\"1\" /><path clip-path=\"url(#clip750)\" d=\"M28.3562 529.026 L28.3562 523.17 L64.0042 523.17 L64.0042 529.026 L28.3562 529.026 M14.479 529.026 L14.479 523.17 L21.895 523.17 L21.895 529.026 L14.479 529.026 Z\" fill=\"#000000\" fill-rule=\"nonzero\" fill-opacity=\"1\" /><path clip-path=\"url(#clip750)\" d=\"M42.4881 481.283 L64.0042 481.283 L64.0042 487.14 L42.679 487.14 Q37.6183 487.14 35.1038 489.113 Q32.5894 491.086 32.5894 495.033 Q32.5894 499.776 35.6131 502.513 Q38.6368 505.25 43.8567 505.25 L64.0042 505.25 L64.0042 511.138 L28.3562 511.138 L28.3562 505.25 L33.8944 505.25 Q30.6797 503.149 29.0883 500.317 Q27.4968 497.452 27.4968 493.728 Q27.4968 487.585 31.3163 484.434 Q35.1038 481.283 42.4881 481.283 Z\" fill=\"#000000\" fill-rule=\"nonzero\" fill-opacity=\"1\" /><path clip-path=\"url(#clip750)\" d=\"M647.264 12.096 L655.446 12.096 L655.446 72.576 L647.264 72.576 L647.264 12.096 Z\" fill=\"#000000\" fill-rule=\"nonzero\" fill-opacity=\"1\" /><path clip-path=\"url(#clip750)\" d=\"M709.121 45.1919 L709.121 72.576 L701.667 72.576 L701.667 45.4349 Q701.667 38.994 699.156 35.7938 Q696.644 32.5936 691.621 32.5936 Q685.585 32.5936 682.101 36.4419 Q678.618 40.2903 678.618 46.9338 L678.618 72.576 L671.123 72.576 L671.123 27.2059 L678.618 27.2059 L678.618 34.2544 Q681.291 30.163 684.896 28.1376 Q688.542 26.1121 693.282 26.1121 Q701.1 26.1121 705.11 30.9732 Q709.121 35.7938 709.121 45.1919 Z\" fill=\"#000000\" fill-rule=\"nonzero\" fill-opacity=\"1\" /><path clip-path=\"url(#clip750)\" d=\"M731.36 14.324 L731.36 27.2059 L746.713 27.2059 L746.713 32.9987 L731.36 32.9987 L731.36 57.6282 Q731.36 63.1779 732.859 64.7578 Q734.399 66.3376 739.057 66.3376 L746.713 66.3376 L746.713 72.576 L739.057 72.576 Q730.429 72.576 727.147 69.3758 Q723.866 66.1351 723.866 57.6282 L723.866 32.9987 L718.397 32.9987 L718.397 27.2059 L723.866 27.2059 L723.866 14.324 L731.36 14.324 Z\" fill=\"#000000\" fill-rule=\"nonzero\" fill-opacity=\"1\" /><path clip-path=\"url(#clip750)\" d=\"M795.324 48.0275 L795.324 51.6733 L761.053 51.6733 Q761.54 59.3701 765.672 63.421 Q769.844 67.4314 777.257 67.4314 Q781.551 67.4314 785.561 66.3781 Q789.612 65.3249 793.582 63.2184 L793.582 70.267 Q789.572 71.9684 785.359 72.8596 Q781.146 73.7508 776.812 73.7508 Q765.955 73.7508 759.595 67.4314 Q753.276 61.1119 753.276 50.3365 Q753.276 39.1965 759.271 32.6746 Q765.307 26.1121 775.515 26.1121 Q784.67 26.1121 789.977 32.0264 Q795.324 37.9003 795.324 48.0275 M787.87 45.84 Q787.789 39.7232 784.427 36.0774 Q781.105 32.4315 775.596 32.4315 Q769.358 32.4315 765.59 35.9558 Q761.864 39.4801 761.297 45.8805 L787.87 45.84 Z\" fill=\"#000000\" fill-rule=\"nonzero\" fill-opacity=\"1\" /><path clip-path=\"url(#clip750)\" d=\"M833.848 34.1734 Q832.592 33.4443 831.094 33.1202 Q829.635 32.7556 827.853 32.7556 Q821.533 32.7556 818.131 36.8875 Q814.768 40.9789 814.768 48.6757 L814.768 72.576 L807.274 72.576 L807.274 27.2059 L814.768 27.2059 L814.768 34.2544 Q817.118 30.1225 820.885 28.1376 Q824.653 26.1121 830.04 26.1121 Q830.81 26.1121 831.742 26.2337 Q832.673 26.3147 833.808 26.5172 L833.848 34.1734 Z\" fill=\"#000000\" fill-rule=\"nonzero\" fill-opacity=\"1\" /><path clip-path=\"url(#clip750)\" d=\"M862.286 49.7694 Q853.252 49.7694 849.768 51.8354 Q846.285 53.9013 846.285 58.8839 Q846.285 62.8538 848.877 65.2034 Q851.51 67.5124 856.007 67.5124 Q862.205 67.5124 865.931 63.1374 Q869.699 58.7219 869.699 51.4303 L869.699 49.7694 L862.286 49.7694 M877.152 46.6907 L877.152 72.576 L869.699 72.576 L869.699 65.6895 Q867.147 69.8214 863.339 71.8063 Q859.531 73.7508 854.022 73.7508 Q847.054 73.7508 842.922 69.8619 Q838.831 65.9325 838.831 59.3701 Q838.831 51.7138 843.935 47.825 Q849.08 43.9361 859.247 43.9361 L869.699 43.9361 L869.699 43.2069 Q869.699 38.0623 866.296 35.2672 Q862.934 32.4315 856.817 32.4315 Q852.928 32.4315 849.242 33.3632 Q845.555 34.295 842.153 36.1584 L842.153 29.2718 Q846.244 27.692 850.092 26.9223 Q853.941 26.1121 857.587 26.1121 Q867.43 26.1121 872.291 31.2163 Q877.152 36.3204 877.152 46.6907 Z\" fill=\"#000000\" fill-rule=\"nonzero\" fill-opacity=\"1\" /><path clip-path=\"url(#clip750)\" d=\"M925.156 28.9478 L925.156 35.9153 Q921.996 34.1734 918.796 33.3227 Q915.636 32.4315 912.395 32.4315 Q905.144 32.4315 901.134 37.0496 Q897.123 41.6271 897.123 49.9314 Q897.123 58.2358 901.134 62.8538 Q905.144 67.4314 912.395 67.4314 Q915.636 67.4314 918.796 66.5807 Q921.996 65.6895 925.156 63.9476 L925.156 70.8341 Q922.036 72.2924 918.674 73.0216 Q915.352 73.7508 911.585 73.7508 Q901.336 73.7508 895.3 67.3098 Q889.265 60.8689 889.265 49.9314 Q889.265 38.832 895.341 32.472 Q901.458 26.1121 912.071 26.1121 Q915.514 26.1121 918.796 26.8413 Q922.077 27.5299 925.156 28.9478 Z\" fill=\"#000000\" fill-rule=\"nonzero\" fill-opacity=\"1\" /><path clip-path=\"url(#clip750)\" d=\"M945.491 14.324 L945.491 27.2059 L960.844 27.2059 L960.844 32.9987 L945.491 32.9987 L945.491 57.6282 Q945.491 63.1779 946.99 64.7578 Q948.529 66.3376 953.188 66.3376 L960.844 66.3376 L960.844 72.576 L953.188 72.576 Q944.559 72.576 941.278 69.3758 Q937.997 66.1351 937.997 57.6282 L937.997 32.9987 L932.528 32.9987 L932.528 27.2059 L937.997 27.2059 L937.997 14.324 L945.491 14.324 Z\" fill=\"#000000\" fill-rule=\"nonzero\" fill-opacity=\"1\" /><path clip-path=\"url(#clip750)\" d=\"M970.647 27.2059 L978.101 27.2059 L978.101 72.576 L970.647 72.576 L970.647 27.2059 M970.647 9.54393 L978.101 9.54393 L978.101 18.9825 L970.647 18.9825 L970.647 9.54393 Z\" fill=\"#000000\" fill-rule=\"nonzero\" fill-opacity=\"1\" /><path clip-path=\"url(#clip750)\" d=\"M1011.28 32.4315 Q1005.28 32.4315 1001.8 37.1306 Q998.315 41.7891 998.315 49.9314 Q998.315 58.0738 1001.76 62.7728 Q1005.24 67.4314 1011.28 67.4314 Q1017.23 67.4314 1020.72 62.7323 Q1024.2 58.0333 1024.2 49.9314 Q1024.2 41.8701 1020.72 37.1711 Q1017.23 32.4315 1011.28 32.4315 M1011.28 26.1121 Q1021 26.1121 1026.55 32.4315 Q1032.1 38.7509 1032.1 49.9314 Q1032.1 61.0714 1026.55 67.4314 Q1021 73.7508 1011.28 73.7508 Q1001.52 73.7508 995.965 67.4314 Q990.456 61.0714 990.456 49.9314 Q990.456 38.7509 995.965 32.4315 Q1001.52 26.1121 1011.28 26.1121 Z\" fill=\"#000000\" fill-rule=\"nonzero\" fill-opacity=\"1\" /><path clip-path=\"url(#clip750)\" d=\"M1082.17 45.1919 L1082.17 72.576 L1074.71 72.576 L1074.71 45.4349 Q1074.71 38.994 1072.2 35.7938 Q1069.69 32.5936 1064.67 32.5936 Q1058.63 32.5936 1055.15 36.4419 Q1051.67 40.2903 1051.67 46.9338 L1051.67 72.576 L1044.17 72.576 L1044.17 27.2059 L1051.67 27.2059 L1051.67 34.2544 Q1054.34 30.163 1057.94 28.1376 Q1061.59 26.1121 1066.33 26.1121 Q1074.15 26.1121 1078.16 30.9732 Q1082.17 35.7938 1082.17 45.1919 Z\" fill=\"#000000\" fill-rule=\"nonzero\" fill-opacity=\"1\" /><path clip-path=\"url(#clip750)\" d=\"M1131.91 18.8205 L1131.91 41.5461 L1142.2 41.5461 Q1147.91 41.5461 1151.03 38.5889 Q1154.15 35.6318 1154.15 30.163 Q1154.15 24.7348 1151.03 21.7777 Q1147.91 18.8205 1142.2 18.8205 L1131.91 18.8205 M1123.73 12.096 L1142.2 12.096 Q1152.37 12.096 1157.56 16.714 Q1162.78 21.2916 1162.78 30.163 Q1162.78 39.1155 1157.56 43.6931 Q1152.37 48.2706 1142.2 48.2706 L1131.91 48.2706 L1131.91 72.576 L1123.73 72.576 L1123.73 12.096 Z\" fill=\"#000000\" fill-rule=\"nonzero\" fill-opacity=\"1\" /><path clip-path=\"url(#clip750)\" d=\"M1173.44 9.54393 L1180.89 9.54393 L1180.89 72.576 L1173.44 72.576 L1173.44 9.54393 Z\" fill=\"#000000\" fill-rule=\"nonzero\" fill-opacity=\"1\" /><path clip-path=\"url(#clip750)\" d=\"M1214.07 32.4315 Q1208.07 32.4315 1204.59 37.1306 Q1201.1 41.7891 1201.1 49.9314 Q1201.1 58.0738 1204.55 62.7728 Q1208.03 67.4314 1214.07 67.4314 Q1220.02 67.4314 1223.5 62.7323 Q1226.99 58.0333 1226.99 49.9314 Q1226.99 41.8701 1223.5 37.1711 Q1220.02 32.4315 1214.07 32.4315 M1214.07 26.1121 Q1223.79 26.1121 1229.34 32.4315 Q1234.89 38.7509 1234.89 49.9314 Q1234.89 61.0714 1229.34 67.4314 Q1223.79 73.7508 1214.07 73.7508 Q1204.3 73.7508 1198.75 67.4314 Q1193.24 61.0714 1193.24 49.9314 Q1193.24 38.7509 1198.75 32.4315 Q1204.3 26.1121 1214.07 26.1121 Z\" fill=\"#000000\" fill-rule=\"nonzero\" fill-opacity=\"1\" /><path clip-path=\"url(#clip750)\" d=\"M1254.62 14.324 L1254.62 27.2059 L1269.97 27.2059 L1269.97 32.9987 L1254.62 32.9987 L1254.62 57.6282 Q1254.62 63.1779 1256.11 64.7578 Q1257.65 66.3376 1262.31 66.3376 L1269.97 66.3376 L1269.97 72.576 L1262.31 72.576 Q1253.68 72.576 1250.4 69.3758 Q1247.12 66.1351 1247.12 57.6282 L1247.12 32.9987 L1241.65 32.9987 L1241.65 27.2059 L1247.12 27.2059 L1247.12 14.324 L1254.62 14.324 Z\" fill=\"#000000\" fill-rule=\"nonzero\" fill-opacity=\"1\" /><path clip-path=\"url(#clip750)\" d=\"M1329.11 9.54393 L1329.11 15.7418 L1321.98 15.7418 Q1317.97 15.7418 1316.39 17.3622 Q1314.85 18.9825 1314.85 23.1955 L1314.85 27.2059 L1327.13 27.2059 L1327.13 32.9987 L1314.85 32.9987 L1314.85 72.576 L1307.36 72.576 L1307.36 32.9987 L1300.23 32.9987 L1300.23 27.2059 L1307.36 27.2059 L1307.36 24.0462 Q1307.36 16.471 1310.88 13.0277 Q1314.41 9.54393 1322.06 9.54393 L1329.11 9.54393 Z\" fill=\"#000000\" fill-rule=\"nonzero\" fill-opacity=\"1\" /><path clip-path=\"url(#clip750)\" d=\"M1352.93 32.4315 Q1346.94 32.4315 1343.45 37.1306 Q1339.97 41.7891 1339.97 49.9314 Q1339.97 58.0738 1343.41 62.7728 Q1346.9 67.4314 1352.93 67.4314 Q1358.89 67.4314 1362.37 62.7323 Q1365.85 58.0333 1365.85 49.9314 Q1365.85 41.8701 1362.37 37.1711 Q1358.89 32.4315 1352.93 32.4315 M1352.93 26.1121 Q1362.65 26.1121 1368.2 32.4315 Q1373.75 38.7509 1373.75 49.9314 Q1373.75 61.0714 1368.2 67.4314 Q1362.65 73.7508 1352.93 73.7508 Q1343.17 73.7508 1337.62 67.4314 Q1332.11 61.0714 1332.11 49.9314 Q1332.11 38.7509 1337.62 32.4315 Q1343.17 26.1121 1352.93 26.1121 Z\" fill=\"#000000\" fill-rule=\"nonzero\" fill-opacity=\"1\" /><path clip-path=\"url(#clip750)\" d=\"M1412.4 34.1734 Q1411.14 33.4443 1409.64 33.1202 Q1408.19 32.7556 1406.4 32.7556 Q1400.08 32.7556 1396.68 36.8875 Q1393.32 40.9789 1393.32 48.6757 L1393.32 72.576 L1385.82 72.576 L1385.82 27.2059 L1393.32 27.2059 L1393.32 34.2544 Q1395.67 30.1225 1399.44 28.1376 Q1403.2 26.1121 1408.59 26.1121 Q1409.36 26.1121 1410.29 26.2337 Q1411.22 26.3147 1412.36 26.5172 L1412.4 34.1734 Z\" fill=\"#000000\" fill-rule=\"nonzero\" fill-opacity=\"1\" /><path clip-path=\"url(#clip750)\" d=\"M1441.52 12.096 L1449.79 12.096 L1462.51 63.2184 L1475.19 12.096 L1484.38 12.096 L1497.1 63.2184 L1509.78 12.096 L1518.09 12.096 L1502.9 72.576 L1492.61 72.576 L1479.85 20.0763 L1466.96 72.576 L1456.67 72.576 L1441.52 12.096 Z\" fill=\"#000000\" fill-rule=\"nonzero\" fill-opacity=\"1\" /><path clip-path=\"url(#clip750)\" d=\"M1562.57 48.0275 L1562.57 51.6733 L1528.29 51.6733 Q1528.78 59.3701 1532.91 63.421 Q1537.09 67.4314 1544.5 67.4314 Q1548.79 67.4314 1552.8 66.3781 Q1556.85 65.3249 1560.82 63.2184 L1560.82 70.267 Q1556.81 71.9684 1552.6 72.8596 Q1548.39 73.7508 1544.05 73.7508 Q1533.2 73.7508 1526.84 67.4314 Q1520.52 61.1119 1520.52 50.3365 Q1520.52 39.1965 1526.51 32.6746 Q1532.55 26.1121 1542.76 26.1121 Q1551.91 26.1121 1557.22 32.0264 Q1562.57 37.9003 1562.57 48.0275 M1555.11 45.84 Q1555.03 39.7232 1551.67 36.0774 Q1548.35 32.4315 1542.84 32.4315 Q1536.6 32.4315 1532.83 35.9558 Q1529.1 39.4801 1528.54 45.8805 L1555.11 45.84 Z\" fill=\"#000000\" fill-rule=\"nonzero\" fill-opacity=\"1\" /><path clip-path=\"url(#clip750)\" d=\"M1574.8 27.2059 L1582.25 27.2059 L1582.25 72.576 L1574.8 72.576 L1574.8 27.2059 M1574.8 9.54393 L1582.25 9.54393 L1582.25 18.9825 L1574.8 18.9825 L1574.8 9.54393 Z\" fill=\"#000000\" fill-rule=\"nonzero\" fill-opacity=\"1\" /><path clip-path=\"url(#clip750)\" d=\"M1627.7 49.3643 Q1627.7 41.2625 1624.34 36.8065 Q1621.02 32.3505 1614.98 32.3505 Q1608.99 32.3505 1605.63 36.8065 Q1602.3 41.2625 1602.3 49.3643 Q1602.3 57.4256 1605.63 61.8816 Q1608.99 66.3376 1614.98 66.3376 Q1621.02 66.3376 1624.34 61.8816 Q1627.7 57.4256 1627.7 49.3643 M1635.16 66.9452 Q1635.16 78.5308 1630.01 84.1616 Q1624.87 89.8329 1614.25 89.8329 Q1610.33 89.8329 1606.84 89.2252 Q1603.36 88.6581 1600.08 87.4428 L1600.08 80.1917 Q1603.36 81.9741 1606.56 82.8248 Q1609.76 83.6755 1613.08 83.6755 Q1620.41 83.6755 1624.06 79.8271 Q1627.7 76.0193 1627.7 68.282 L1627.7 64.5957 Q1625.39 68.6061 1621.79 70.5911 Q1618.18 72.576 1613.16 72.576 Q1604.82 72.576 1599.71 66.2161 Q1594.61 59.8562 1594.61 49.3643 Q1594.61 38.832 1599.71 32.472 Q1604.82 26.1121 1613.16 26.1121 Q1618.18 26.1121 1621.79 28.0971 Q1625.39 30.082 1627.7 34.0924 L1627.7 27.2059 L1635.16 27.2059 L1635.16 66.9452 Z\" fill=\"#000000\" fill-rule=\"nonzero\" fill-opacity=\"1\" /><path clip-path=\"url(#clip750)\" d=\"M1688.22 45.1919 L1688.22 72.576 L1680.77 72.576 L1680.77 45.4349 Q1680.77 38.994 1678.26 35.7938 Q1675.75 32.5936 1670.72 32.5936 Q1664.69 32.5936 1661.2 36.4419 Q1657.72 40.2903 1657.72 46.9338 L1657.72 72.576 L1650.23 72.576 L1650.23 9.54393 L1657.72 9.54393 L1657.72 34.2544 Q1660.39 30.163 1664 28.1376 Q1667.65 26.1121 1672.39 26.1121 Q1680.2 26.1121 1684.21 30.9732 Q1688.22 35.7938 1688.22 45.1919 Z\" fill=\"#000000\" fill-rule=\"nonzero\" fill-opacity=\"1\" /><path clip-path=\"url(#clip750)\" d=\"M1710.46 14.324 L1710.46 27.2059 L1725.82 27.2059 L1725.82 32.9987 L1710.46 32.9987 L1710.46 57.6282 Q1710.46 63.1779 1711.96 64.7578 Q1713.5 66.3376 1718.16 66.3376 L1725.82 66.3376 L1725.82 72.576 L1718.16 72.576 Q1709.53 72.576 1706.25 69.3758 Q1702.97 66.1351 1702.97 57.6282 L1702.97 32.9987 L1697.5 32.9987 L1697.5 27.2059 L1702.97 27.2059 L1702.97 14.324 L1710.46 14.324 Z\" fill=\"#000000\" fill-rule=\"nonzero\" fill-opacity=\"1\" /><path clip-path=\"url(#clip750)\" d=\"M1803.55 63.9476 L1803.55 47.7034 L1790.19 47.7034 L1790.19 40.9789 L1811.66 40.9789 L1811.66 66.9452 Q1806.92 70.3075 1801.2 72.0494 Q1795.49 73.7508 1789.01 73.7508 Q1774.83 73.7508 1766.81 65.4869 Q1758.83 57.1826 1758.83 42.3968 Q1758.83 27.5705 1766.81 19.3066 Q1774.83 11.0023 1789.01 11.0023 Q1794.93 11.0023 1800.23 12.4606 Q1805.58 13.9189 1810.08 16.7545 L1810.08 25.464 Q1805.54 21.6156 1800.43 19.6712 Q1795.33 17.7268 1789.7 17.7268 Q1778.6 17.7268 1773.01 23.9246 Q1767.46 30.1225 1767.46 42.3968 Q1767.46 54.6305 1773.01 60.8284 Q1778.6 67.0263 1789.7 67.0263 Q1794.03 67.0263 1797.44 66.2971 Q1800.84 65.5274 1803.55 63.9476 Z\" fill=\"#000000\" fill-rule=\"nonzero\" fill-opacity=\"1\" /><path clip-path=\"url(#clip750)\" d=\"M1846.9 49.7694 Q1837.86 49.7694 1834.38 51.8354 Q1830.9 53.9013 1830.9 58.8839 Q1830.9 62.8538 1833.49 65.2034 Q1836.12 67.5124 1840.62 67.5124 Q1846.82 67.5124 1850.54 63.1374 Q1854.31 58.7219 1854.31 51.4303 L1854.31 49.7694 L1846.9 49.7694 M1861.77 46.6907 L1861.77 72.576 L1854.31 72.576 L1854.31 65.6895 Q1851.76 69.8214 1847.95 71.8063 Q1844.14 73.7508 1838.63 73.7508 Q1831.67 73.7508 1827.54 69.8619 Q1823.44 65.9325 1823.44 59.3701 Q1823.44 51.7138 1828.55 47.825 Q1833.69 43.9361 1843.86 43.9361 L1854.31 43.9361 L1854.31 43.2069 Q1854.31 38.0623 1850.91 35.2672 Q1847.55 32.4315 1841.43 32.4315 Q1837.54 32.4315 1833.85 33.3632 Q1830.17 34.295 1826.77 36.1584 L1826.77 29.2718 Q1830.86 27.692 1834.71 26.9223 Q1838.55 26.1121 1842.2 26.1121 Q1852.04 26.1121 1856.9 31.2163 Q1861.77 36.3204 1861.77 46.6907 Z\" fill=\"#000000\" fill-rule=\"nonzero\" fill-opacity=\"1\" /><path clip-path=\"url(#clip750)\" d=\"M1877.12 27.2059 L1884.57 27.2059 L1884.57 72.576 L1877.12 72.576 L1877.12 27.2059 M1877.12 9.54393 L1884.57 9.54393 L1884.57 18.9825 L1877.12 18.9825 L1877.12 9.54393 Z\" fill=\"#000000\" fill-rule=\"nonzero\" fill-opacity=\"1\" /><path clip-path=\"url(#clip750)\" d=\"M1937.88 45.1919 L1937.88 72.576 L1930.43 72.576 L1930.43 45.4349 Q1930.43 38.994 1927.92 35.7938 Q1925.4 32.5936 1920.38 32.5936 Q1914.35 32.5936 1910.86 36.4419 Q1907.38 40.2903 1907.38 46.9338 L1907.38 72.576 L1899.88 72.576 L1899.88 27.2059 L1907.38 27.2059 L1907.38 34.2544 Q1910.05 30.163 1913.66 28.1376 Q1917.3 26.1121 1922.04 26.1121 Q1929.86 26.1121 1933.87 30.9732 Q1937.88 35.7938 1937.88 45.1919 Z\" fill=\"#000000\" fill-rule=\"nonzero\" fill-opacity=\"1\" /><polyline clip-path=\"url(#clip752)\" style=\"stroke:#009af9; stroke-linecap:round; stroke-linejoin:round; stroke-width:4; stroke-opacity:1; fill:none\" points=\"2292.75,1241.22 292.4,340.09 \"/>\n",
       "<polyline clip-path=\"url(#clip752)\" style=\"stroke:#e26f46; stroke-linecap:round; stroke-linejoin:round; stroke-width:4; stroke-opacity:1; fill:none\" points=\"2292.75,1037.6 292.4,950.953 \"/>\n",
       "<polyline clip-path=\"url(#clip752)\" style=\"stroke:#ff0000; stroke-linecap:round; stroke-linejoin:round; stroke-width:4; stroke-opacity:1; fill:none\" stroke-dasharray=\"16, 10\" points=\"-1887.98,892.466 4473.12,892.466 \"/>\n",
       "<path clip-path=\"url(#clip750)\" d=\"M303.068 374.156 L822.071 374.156 L822.071 166.796 L303.068 166.796  Z\" fill=\"#ffffff\" fill-rule=\"evenodd\" fill-opacity=\"1\"/>\n",
       "<polyline clip-path=\"url(#clip750)\" style=\"stroke:#000000; stroke-linecap:round; stroke-linejoin:round; stroke-width:4; stroke-opacity:1; fill:none\" points=\"303.068,374.156 822.071,374.156 822.071,166.796 303.068,166.796 303.068,374.156 \"/>\n",
       "<polyline clip-path=\"url(#clip750)\" style=\"stroke:#009af9; stroke-linecap:round; stroke-linejoin:round; stroke-width:4; stroke-opacity:1; fill:none\" points=\"326.628,218.636 467.986,218.636 \"/>\n",
       "<path clip-path=\"url(#clip750)\" d=\"M496.221 219.411 L496.221 232.073 L503.721 232.073 Q507.494 232.073 509.3 230.522 Q511.128 228.948 511.128 225.731 Q511.128 222.49 509.3 220.962 Q507.494 219.411 503.721 219.411 L496.221 219.411 M496.221 205.198 L496.221 215.615 L503.142 215.615 Q506.568 215.615 508.235 214.342 Q509.925 213.045 509.925 210.407 Q509.925 207.791 508.235 206.495 Q506.568 205.198 503.142 205.198 L496.221 205.198 M491.545 201.356 L503.49 201.356 Q508.837 201.356 511.73 203.578 Q514.624 205.8 514.624 209.897 Q514.624 213.069 513.142 214.944 Q511.661 216.819 508.791 217.282 Q512.24 218.022 514.138 220.383 Q516.059 222.721 516.059 226.24 Q516.059 230.869 512.911 233.393 Q509.763 235.916 503.953 235.916 L491.545 235.916 L491.545 201.356 Z\" fill=\"#000000\" fill-rule=\"nonzero\" fill-opacity=\"1\" /><path clip-path=\"url(#clip750)\" d=\"M546.059 221.888 L546.059 223.971 L526.476 223.971 Q526.753 228.369 529.115 230.684 Q531.499 232.976 535.735 232.976 Q538.189 232.976 540.48 232.374 Q542.795 231.772 545.063 230.569 L545.063 234.596 Q542.772 235.568 540.364 236.078 Q537.957 236.587 535.48 236.587 Q529.277 236.587 525.642 232.976 Q522.031 229.365 522.031 223.207 Q522.031 216.842 525.457 213.115 Q528.906 209.365 534.739 209.365 Q539.971 209.365 543.003 212.745 Q546.059 216.101 546.059 221.888 M541.8 220.638 Q541.753 217.143 539.832 215.059 Q537.934 212.976 534.786 212.976 Q531.221 212.976 529.068 214.99 Q526.939 217.004 526.615 220.661 L541.8 220.638 Z\" fill=\"#000000\" fill-rule=\"nonzero\" fill-opacity=\"1\" /><path clip-path=\"url(#clip750)\" d=\"M575.225 221.888 L575.225 223.971 L555.642 223.971 Q555.92 228.369 558.281 230.684 Q560.665 232.976 564.901 232.976 Q567.355 232.976 569.647 232.374 Q571.961 231.772 574.23 230.569 L574.23 234.596 Q571.938 235.568 569.531 236.078 Q567.124 236.587 564.647 236.587 Q558.443 236.587 554.809 232.976 Q551.198 229.365 551.198 223.207 Q551.198 216.842 554.624 213.115 Q558.073 209.365 563.906 209.365 Q569.137 209.365 572.17 212.745 Q575.225 216.101 575.225 221.888 M570.966 220.638 Q570.92 217.143 568.999 215.059 Q567.1 212.976 563.952 212.976 Q560.387 212.976 558.235 214.99 Q556.105 217.004 555.781 220.661 L570.966 220.638 Z\" fill=\"#000000\" fill-rule=\"nonzero\" fill-opacity=\"1\" /><path clip-path=\"url(#clip750)\" d=\"M595.341 199.897 L595.341 203.439 L591.267 203.439 Q588.975 203.439 588.073 204.365 Q587.193 205.291 587.193 207.698 L587.193 209.99 L594.207 209.99 L594.207 213.3 L587.193 213.3 L587.193 235.916 L582.911 235.916 L582.911 213.3 L578.836 213.3 L578.836 209.99 L582.911 209.99 L582.911 208.184 Q582.911 203.856 584.924 201.888 Q586.938 199.897 591.313 199.897 L595.341 199.897 Z\" fill=\"#000000\" fill-rule=\"nonzero\" fill-opacity=\"1\" /><polyline clip-path=\"url(#clip750)\" style=\"stroke:#e26f46; stroke-linecap:round; stroke-linejoin:round; stroke-width:4; stroke-opacity:1; fill:none\" points=\"326.628,270.476 467.986,270.476 \"/>\n",
       "<path clip-path=\"url(#clip750)\" d=\"M519.415 255.858 L519.415 260.788 Q517.054 258.589 514.369 257.501 Q511.707 256.413 508.698 256.413 Q502.772 256.413 499.624 260.048 Q496.476 263.659 496.476 270.51 Q496.476 277.339 499.624 280.973 Q502.772 284.584 508.698 284.584 Q511.707 284.584 514.369 283.496 Q517.054 282.409 519.415 280.209 L519.415 285.094 Q516.962 286.76 514.207 287.594 Q511.476 288.427 508.42 288.427 Q500.573 288.427 496.059 283.635 Q491.545 278.821 491.545 270.51 Q491.545 262.177 496.059 257.386 Q500.573 252.571 508.42 252.571 Q511.522 252.571 514.253 253.404 Q517.008 254.214 519.415 255.858 Z\" fill=\"#000000\" fill-rule=\"nonzero\" fill-opacity=\"1\" /><path clip-path=\"url(#clip750)\" d=\"M548.628 273.728 L548.628 275.811 L529.045 275.811 Q529.323 280.209 531.684 282.524 Q534.068 284.816 538.304 284.816 Q540.758 284.816 543.05 284.214 Q545.364 283.612 547.633 282.409 L547.633 286.436 Q545.341 287.408 542.934 287.918 Q540.526 288.427 538.05 288.427 Q531.846 288.427 528.212 284.816 Q524.601 281.205 524.601 275.047 Q524.601 268.682 528.027 264.955 Q531.476 261.205 537.309 261.205 Q542.54 261.205 545.573 264.585 Q548.628 267.941 548.628 273.728 M544.369 272.478 Q544.323 268.983 542.401 266.899 Q540.503 264.816 537.355 264.816 Q533.79 264.816 531.638 266.83 Q529.508 268.844 529.184 272.501 L544.369 272.478 Z\" fill=\"#000000\" fill-rule=\"nonzero\" fill-opacity=\"1\" /><path clip-path=\"url(#clip750)\" d=\"M570.642 265.811 Q569.924 265.395 569.068 265.21 Q568.235 265.001 567.216 265.001 Q563.605 265.001 561.661 267.362 Q559.739 269.7 559.739 274.098 L559.739 287.756 L555.457 287.756 L555.457 261.83 L559.739 261.83 L559.739 265.858 Q561.082 263.497 563.235 262.362 Q565.387 261.205 568.466 261.205 Q568.906 261.205 569.438 261.274 Q569.971 261.321 570.619 261.436 L570.642 265.811 Z\" fill=\"#000000\" fill-rule=\"nonzero\" fill-opacity=\"1\" /><path clip-path=\"url(#clip750)\" d=\"M596.244 273.728 L596.244 275.811 L576.661 275.811 Q576.938 280.209 579.299 282.524 Q581.684 284.816 585.92 284.816 Q588.373 284.816 590.665 284.214 Q592.98 283.612 595.248 282.409 L595.248 286.436 Q592.957 287.408 590.549 287.918 Q588.142 288.427 585.665 288.427 Q579.461 288.427 575.827 284.816 Q572.216 281.205 572.216 275.047 Q572.216 268.682 575.642 264.955 Q579.091 261.205 584.924 261.205 Q590.156 261.205 593.188 264.585 Q596.244 267.941 596.244 273.728 M591.985 272.478 Q591.938 268.983 590.017 266.899 Q588.119 264.816 584.971 264.816 Q581.406 264.816 579.253 266.83 Q577.124 268.844 576.799 272.501 L591.985 272.478 Z\" fill=\"#000000\" fill-rule=\"nonzero\" fill-opacity=\"1\" /><path clip-path=\"url(#clip750)\" d=\"M615.017 274.723 Q609.855 274.723 607.864 275.904 Q605.873 277.084 605.873 279.932 Q605.873 282.2 607.355 283.543 Q608.859 284.862 611.429 284.862 Q614.971 284.862 617.1 282.362 Q619.253 279.839 619.253 275.672 L619.253 274.723 L615.017 274.723 M623.512 272.964 L623.512 287.756 L619.253 287.756 L619.253 283.821 Q617.795 286.182 615.619 287.316 Q613.443 288.427 610.295 288.427 Q606.313 288.427 603.952 286.205 Q601.614 283.959 601.614 280.209 Q601.614 275.834 604.531 273.612 Q607.471 271.39 613.281 271.39 L619.253 271.39 L619.253 270.973 Q619.253 268.034 617.308 266.436 Q615.387 264.816 611.892 264.816 Q609.67 264.816 607.563 265.348 Q605.457 265.881 603.512 266.946 L603.512 263.01 Q605.85 262.108 608.049 261.668 Q610.248 261.205 612.332 261.205 Q617.957 261.205 620.734 264.122 Q623.512 267.038 623.512 272.964 Z\" fill=\"#000000\" fill-rule=\"nonzero\" fill-opacity=\"1\" /><path clip-path=\"url(#clip750)\" d=\"M632.285 251.737 L636.544 251.737 L636.544 287.756 L632.285 287.756 L632.285 251.737 Z\" fill=\"#000000\" fill-rule=\"nonzero\" fill-opacity=\"1\" /><polyline clip-path=\"url(#clip750)\" style=\"stroke:#ff0000; stroke-linecap:round; stroke-linejoin:round; stroke-width:4; stroke-opacity:1; fill:none\" stroke-dasharray=\"16, 10\" points=\"326.628,322.316 467.986,322.316 \"/>\n",
       "<path clip-path=\"url(#clip750)\" d=\"M507.564 308.207 Q502.471 308.207 499.462 312.003 Q496.476 315.8 496.476 322.35 Q496.476 328.878 499.462 332.674 Q502.471 336.471 507.564 336.471 Q512.656 336.471 515.619 332.674 Q518.605 328.878 518.605 322.35 Q518.605 315.8 515.619 312.003 Q512.656 308.207 507.564 308.207 M507.564 304.411 Q514.832 304.411 519.184 309.295 Q523.536 314.156 523.536 322.35 Q523.536 330.522 519.184 335.406 Q514.832 340.267 507.564 340.267 Q500.272 340.267 495.897 335.406 Q491.545 330.545 491.545 322.35 Q491.545 314.156 495.897 309.295 Q500.272 304.411 507.564 304.411 Z\" fill=\"#000000\" fill-rule=\"nonzero\" fill-opacity=\"1\" /><path clip-path=\"url(#clip750)\" d=\"M527.61 313.67 L532.124 313.67 L540.226 335.429 L548.327 313.67 L552.841 313.67 L543.119 339.596 L537.332 339.596 L527.61 313.67 Z\" fill=\"#000000\" fill-rule=\"nonzero\" fill-opacity=\"1\" /><path clip-path=\"url(#clip750)\" d=\"M580.897 325.568 L580.897 327.651 L561.313 327.651 Q561.591 332.049 563.952 334.364 Q566.337 336.656 570.573 336.656 Q573.026 336.656 575.318 336.054 Q577.633 335.452 579.901 334.249 L579.901 338.276 Q577.61 339.248 575.202 339.758 Q572.795 340.267 570.318 340.267 Q564.114 340.267 560.48 336.656 Q556.869 333.045 556.869 326.887 Q556.869 320.522 560.295 316.795 Q563.744 313.045 569.577 313.045 Q574.809 313.045 577.841 316.425 Q580.897 319.781 580.897 325.568 M576.637 324.318 Q576.591 320.823 574.67 318.739 Q572.772 316.656 569.624 316.656 Q566.059 316.656 563.906 318.67 Q561.776 320.684 561.452 324.341 L576.637 324.318 Z\" fill=\"#000000\" fill-rule=\"nonzero\" fill-opacity=\"1\" /><path clip-path=\"url(#clip750)\" d=\"M602.91 317.651 Q602.193 317.235 601.336 317.05 Q600.503 316.841 599.484 316.841 Q595.873 316.841 593.929 319.202 Q592.008 321.54 592.008 325.938 L592.008 339.596 L587.725 339.596 L587.725 313.67 L592.008 313.67 L592.008 317.698 Q593.35 315.337 595.503 314.202 Q597.656 313.045 600.734 313.045 Q601.174 313.045 601.707 313.114 Q602.239 313.161 602.887 313.276 L602.91 317.651 Z\" fill=\"#000000\" fill-rule=\"nonzero\" fill-opacity=\"1\" /><path clip-path=\"url(#clip750)\" d=\"M619.16 326.563 Q613.998 326.563 612.008 327.744 Q610.017 328.924 610.017 331.772 Q610.017 334.04 611.498 335.383 Q613.003 336.702 615.572 336.702 Q619.114 336.702 621.244 334.202 Q623.396 331.679 623.396 327.512 L623.396 326.563 L619.16 326.563 M627.656 324.804 L627.656 339.596 L623.396 339.596 L623.396 335.661 Q621.938 338.022 619.762 339.156 Q617.586 340.267 614.438 340.267 Q610.457 340.267 608.096 338.045 Q605.758 335.799 605.758 332.049 Q605.758 327.674 608.674 325.452 Q611.614 323.23 617.424 323.23 L623.396 323.23 L623.396 322.813 Q623.396 319.874 621.452 318.276 Q619.531 316.656 616.035 316.656 Q613.813 316.656 611.707 317.188 Q609.6 317.721 607.656 318.786 L607.656 314.85 Q609.994 313.948 612.193 313.508 Q614.392 313.045 616.475 313.045 Q622.1 313.045 624.878 315.962 Q627.656 318.878 627.656 324.804 Z\" fill=\"#000000\" fill-rule=\"nonzero\" fill-opacity=\"1\" /><path clip-path=\"url(#clip750)\" d=\"M636.429 303.577 L640.688 303.577 L640.688 339.596 L636.429 339.596 L636.429 303.577 Z\" fill=\"#000000\" fill-rule=\"nonzero\" fill-opacity=\"1\" /><path clip-path=\"url(#clip750)\" d=\"M649.6 303.577 L653.859 303.577 L653.859 339.596 L649.6 339.596 L649.6 303.577 Z\" fill=\"#000000\" fill-rule=\"nonzero\" fill-opacity=\"1\" /><path clip-path=\"url(#clip750)\" d=\"M678.026 305.036 L684.993 305.036 L693.813 328.554 L702.678 305.036 L709.646 305.036 L709.646 339.596 L705.086 339.596 L705.086 309.249 L696.174 332.952 L691.475 332.952 L682.563 309.249 L682.563 339.596 L678.026 339.596 L678.026 305.036 Z\" fill=\"#000000\" fill-rule=\"nonzero\" fill-opacity=\"1\" /><path clip-path=\"url(#clip750)\" d=\"M740.919 325.568 L740.919 327.651 L721.336 327.651 Q721.613 332.049 723.975 334.364 Q726.359 336.656 730.595 336.656 Q733.049 336.656 735.34 336.054 Q737.655 335.452 739.924 334.249 L739.924 338.276 Q737.632 339.248 735.225 339.758 Q732.817 340.267 730.34 340.267 Q724.137 340.267 720.502 336.656 Q716.891 333.045 716.891 326.887 Q716.891 320.522 720.317 316.795 Q723.766 313.045 729.6 313.045 Q734.831 313.045 737.863 316.425 Q740.919 319.781 740.919 325.568 M736.66 324.318 Q736.613 320.823 734.692 318.739 Q732.794 316.656 729.646 316.656 Q726.081 316.656 723.928 318.67 Q721.799 320.684 721.475 324.341 L736.66 324.318 Z\" fill=\"#000000\" fill-rule=\"nonzero\" fill-opacity=\"1\" /><path clip-path=\"url(#clip750)\" d=\"M759.692 326.563 Q754.53 326.563 752.539 327.744 Q750.549 328.924 750.549 331.772 Q750.549 334.04 752.03 335.383 Q753.535 336.702 756.104 336.702 Q759.646 336.702 761.775 334.202 Q763.928 331.679 763.928 327.512 L763.928 326.563 L759.692 326.563 M768.187 324.804 L768.187 339.596 L763.928 339.596 L763.928 335.661 Q762.47 338.022 760.294 339.156 Q758.118 340.267 754.97 340.267 Q750.988 340.267 748.627 338.045 Q746.289 335.799 746.289 332.049 Q746.289 327.674 749.206 325.452 Q752.146 323.23 757.956 323.23 L763.928 323.23 L763.928 322.813 Q763.928 319.874 761.984 318.276 Q760.062 316.656 756.567 316.656 Q754.345 316.656 752.238 317.188 Q750.132 317.721 748.187 318.786 L748.187 314.85 Q750.525 313.948 752.724 313.508 Q754.923 313.045 757.007 313.045 Q762.632 313.045 765.41 315.962 Q768.187 318.878 768.187 324.804 Z\" fill=\"#000000\" fill-rule=\"nonzero\" fill-opacity=\"1\" /><path clip-path=\"url(#clip750)\" d=\"M798.511 323.948 L798.511 339.596 L794.252 339.596 L794.252 324.087 Q794.252 320.406 792.817 318.577 Q791.382 316.749 788.511 316.749 Q785.062 316.749 783.071 318.948 Q781.081 321.147 781.081 324.943 L781.081 339.596 L776.798 339.596 L776.798 313.67 L781.081 313.67 L781.081 317.698 Q782.609 315.36 784.669 314.202 Q786.752 313.045 789.46 313.045 Q793.928 313.045 796.22 315.823 Q798.511 318.577 798.511 323.948 Z\" fill=\"#000000\" fill-rule=\"nonzero\" fill-opacity=\"1\" /></svg>\n"
      ],
      "text/html": [
       "<?xml version=\"1.0\" encoding=\"utf-8\"?>\n",
       "<svg xmlns=\"http://www.w3.org/2000/svg\" xmlns:xlink=\"http://www.w3.org/1999/xlink\" width=\"600\" height=\"400\" viewBox=\"0 0 2400 1600\">\n",
       "<defs>\n",
       "  <clipPath id=\"clip800\">\n",
       "    <rect x=\"0\" y=\"0\" width=\"2400\" height=\"1600\"/>\n",
       "  </clipPath>\n",
       "</defs>\n",
       "<path clip-path=\"url(#clip800)\" d=\"M0 1600 L2400 1600 L2400 0 L0 0  Z\" fill=\"#ffffff\" fill-rule=\"evenodd\" fill-opacity=\"1\"/>\n",
       "<defs>\n",
       "  <clipPath id=\"clip801\">\n",
       "    <rect x=\"480\" y=\"0\" width=\"1681\" height=\"1600\"/>\n",
       "  </clipPath>\n",
       "</defs>\n",
       "<path clip-path=\"url(#clip800)\" d=\"M232.389 1423.18 L2352.76 1423.18 L2352.76 123.472 L232.389 123.472  Z\" fill=\"#ffffff\" fill-rule=\"evenodd\" fill-opacity=\"1\"/>\n",
       "<defs>\n",
       "  <clipPath id=\"clip802\">\n",
       "    <rect x=\"232\" y=\"123\" width=\"2121\" height=\"1301\"/>\n",
       "  </clipPath>\n",
       "</defs>\n",
       "<polyline clip-path=\"url(#clip802)\" style=\"stroke:#000000; stroke-linecap:round; stroke-linejoin:round; stroke-width:2; stroke-opacity:0.1; fill:none\" points=\"292.4,1423.18 292.4,123.472 \"/>\n",
       "<polyline clip-path=\"url(#clip802)\" style=\"stroke:#000000; stroke-linecap:round; stroke-linejoin:round; stroke-width:2; stroke-opacity:0.1; fill:none\" points=\"2292.75,1423.18 2292.75,123.472 \"/>\n",
       "<polyline clip-path=\"url(#clip802)\" style=\"stroke:#000000; stroke-linecap:round; stroke-linejoin:round; stroke-width:2; stroke-opacity:0.1; fill:none\" points=\"232.389,1423.18 2352.76,1423.18 \"/>\n",
       "<polyline clip-path=\"url(#clip802)\" style=\"stroke:#000000; stroke-linecap:round; stroke-linejoin:round; stroke-width:2; stroke-opacity:0.1; fill:none\" points=\"232.389,1206.56 2352.76,1206.56 \"/>\n",
       "<polyline clip-path=\"url(#clip802)\" style=\"stroke:#000000; stroke-linecap:round; stroke-linejoin:round; stroke-width:2; stroke-opacity:0.1; fill:none\" points=\"232.389,989.944 2352.76,989.944 \"/>\n",
       "<polyline clip-path=\"url(#clip802)\" style=\"stroke:#000000; stroke-linecap:round; stroke-linejoin:round; stroke-width:2; stroke-opacity:0.1; fill:none\" points=\"232.389,773.326 2352.76,773.326 \"/>\n",
       "<polyline clip-path=\"url(#clip802)\" style=\"stroke:#000000; stroke-linecap:round; stroke-linejoin:round; stroke-width:2; stroke-opacity:0.1; fill:none\" points=\"232.389,556.708 2352.76,556.708 \"/>\n",
       "<polyline clip-path=\"url(#clip802)\" style=\"stroke:#000000; stroke-linecap:round; stroke-linejoin:round; stroke-width:2; stroke-opacity:0.1; fill:none\" points=\"232.389,340.09 2352.76,340.09 \"/>\n",
       "<polyline clip-path=\"url(#clip802)\" style=\"stroke:#000000; stroke-linecap:round; stroke-linejoin:round; stroke-width:2; stroke-opacity:0.1; fill:none\" points=\"232.389,123.472 2352.76,123.472 \"/>\n",
       "<polyline clip-path=\"url(#clip800)\" style=\"stroke:#000000; stroke-linecap:round; stroke-linejoin:round; stroke-width:4; stroke-opacity:1; fill:none\" points=\"232.389,1423.18 2352.76,1423.18 \"/>\n",
       "<polyline clip-path=\"url(#clip800)\" style=\"stroke:#000000; stroke-linecap:round; stroke-linejoin:round; stroke-width:4; stroke-opacity:1; fill:none\" points=\"292.4,1423.18 292.4,1404.28 \"/>\n",
       "<polyline clip-path=\"url(#clip800)\" style=\"stroke:#000000; stroke-linecap:round; stroke-linejoin:round; stroke-width:4; stroke-opacity:1; fill:none\" points=\"2292.75,1423.18 2292.75,1404.28 \"/>\n",
       "<path clip-path=\"url(#clip800)\" d=\"M242.261 1451.02 L246.937 1451.02 L246.937 1465.19 L263.928 1465.19 L263.928 1451.02 L268.604 1451.02 L268.604 1485.58 L263.928 1485.58 L263.928 1469.12 L246.937 1469.12 L246.937 1485.58 L242.261 1485.58 L242.261 1451.02 Z\" fill=\"#000000\" fill-rule=\"nonzero\" fill-opacity=\"1\" /><path clip-path=\"url(#clip800)\" d=\"M277.724 1459.65 L281.983 1459.65 L281.983 1485.58 L277.724 1485.58 L277.724 1459.65 M277.724 1449.56 L281.983 1449.56 L281.983 1454.96 L277.724 1454.96 L277.724 1449.56 Z\" fill=\"#000000\" fill-rule=\"nonzero\" fill-opacity=\"1\" /><path clip-path=\"url(#clip800)\" d=\"M307.955 1472.32 Q307.955 1467.69 306.034 1465.14 Q304.136 1462.59 300.687 1462.59 Q297.261 1462.59 295.34 1465.14 Q293.441 1467.69 293.441 1472.32 Q293.441 1476.92 295.34 1479.47 Q297.261 1482.02 300.687 1482.02 Q304.136 1482.02 306.034 1479.47 Q307.955 1476.92 307.955 1472.32 M312.214 1482.36 Q312.214 1488.98 309.275 1492.2 Q306.335 1495.44 300.27 1495.44 Q298.025 1495.44 296.034 1495.09 Q294.043 1494.77 292.168 1494.08 L292.168 1489.93 Q294.043 1490.95 295.872 1491.44 Q297.701 1491.92 299.599 1491.92 Q303.789 1491.92 305.872 1489.72 Q307.955 1487.55 307.955 1483.13 L307.955 1481.02 Q306.636 1483.31 304.576 1484.45 Q302.515 1485.58 299.645 1485.58 Q294.877 1485.58 291.96 1481.95 Q289.043 1478.31 289.043 1472.32 Q289.043 1466.3 291.96 1462.66 Q294.877 1459.03 299.645 1459.03 Q302.515 1459.03 304.576 1460.16 Q306.636 1461.3 307.955 1463.59 L307.955 1459.65 L312.214 1459.65 L312.214 1482.36 Z\" fill=\"#000000\" fill-rule=\"nonzero\" fill-opacity=\"1\" /><path clip-path=\"url(#clip800)\" d=\"M342.538 1469.93 L342.538 1485.58 L338.279 1485.58 L338.279 1470.07 Q338.279 1466.39 336.844 1464.56 Q335.409 1462.73 332.538 1462.73 Q329.089 1462.73 327.099 1464.93 Q325.108 1467.13 325.108 1470.93 L325.108 1485.58 L320.825 1485.58 L320.825 1449.56 L325.108 1449.56 L325.108 1463.68 Q326.636 1461.34 328.696 1460.19 Q330.779 1459.03 333.487 1459.03 Q337.955 1459.03 340.247 1461.81 Q342.538 1464.56 342.538 1469.93 Z\" fill=\"#000000\" fill-rule=\"nonzero\" fill-opacity=\"1\" /><path clip-path=\"url(#clip800)\" d=\"M2249.39 1451.02 L2254.07 1451.02 L2254.07 1481.64 L2270.89 1481.64 L2270.89 1485.58 L2249.39 1485.58 L2249.39 1451.02 Z\" fill=\"#000000\" fill-rule=\"nonzero\" fill-opacity=\"1\" /><path clip-path=\"url(#clip800)\" d=\"M2284.83 1462.64 Q2281.4 1462.64 2279.41 1465.33 Q2277.42 1467.99 2277.42 1472.64 Q2277.42 1477.29 2279.39 1479.98 Q2281.38 1482.64 2284.83 1482.64 Q2288.23 1482.64 2290.22 1479.95 Q2292.21 1477.27 2292.21 1472.64 Q2292.21 1468.03 2290.22 1465.35 Q2288.23 1462.64 2284.83 1462.64 M2284.83 1459.03 Q2290.38 1459.03 2293.56 1462.64 Q2296.73 1466.25 2296.73 1472.64 Q2296.73 1479.01 2293.56 1482.64 Q2290.38 1486.25 2284.83 1486.25 Q2279.25 1486.25 2276.08 1482.64 Q2272.93 1479.01 2272.93 1472.64 Q2272.93 1466.25 2276.08 1462.64 Q2279.25 1459.03 2284.83 1459.03 Z\" fill=\"#000000\" fill-rule=\"nonzero\" fill-opacity=\"1\" /><path clip-path=\"url(#clip800)\" d=\"M2301.31 1459.65 L2305.57 1459.65 L2310.89 1479.89 L2316.19 1459.65 L2321.22 1459.65 L2326.54 1479.89 L2331.84 1459.65 L2336.1 1459.65 L2329.32 1485.58 L2324.3 1485.58 L2318.72 1464.33 L2313.12 1485.58 L2308.09 1485.58 L2301.31 1459.65 Z\" fill=\"#000000\" fill-rule=\"nonzero\" fill-opacity=\"1\" /><path clip-path=\"url(#clip800)\" d=\"M1219.35 1520.52 L1259.55 1520.52 L1259.55 1525.93 L1242.68 1525.93 L1242.68 1568.04 L1236.22 1568.04 L1236.22 1525.93 L1219.35 1525.93 L1219.35 1520.52 Z\" fill=\"#000000\" fill-rule=\"nonzero\" fill-opacity=\"1\" /><path clip-path=\"url(#clip800)\" d=\"M1270.18 1571.35 Q1267.7 1577.72 1265.34 1579.66 Q1262.99 1581.6 1259.04 1581.6 L1254.36 1581.6 L1254.36 1576.7 L1257.8 1576.7 Q1260.22 1576.7 1261.56 1575.56 Q1262.89 1574.41 1264.52 1570.14 L1265.57 1567.47 L1251.15 1532.4 L1257.35 1532.4 L1268.49 1560.28 L1279.63 1532.4 L1285.84 1532.4 L1270.18 1571.35 Z\" fill=\"#000000\" fill-rule=\"nonzero\" fill-opacity=\"1\" /><path clip-path=\"url(#clip800)\" d=\"M1299.59 1562.7 L1299.59 1581.6 L1293.7 1581.6 L1293.7 1532.4 L1299.59 1532.4 L1299.59 1537.81 Q1301.44 1534.62 1304.24 1533.1 Q1307.07 1531.54 1310.99 1531.54 Q1317.48 1531.54 1321.52 1536.69 Q1325.59 1541.85 1325.59 1550.25 Q1325.59 1558.65 1321.52 1563.81 Q1317.48 1568.97 1310.99 1568.97 Q1307.07 1568.97 1304.24 1567.44 Q1301.44 1565.88 1299.59 1562.7 M1319.52 1550.25 Q1319.52 1543.79 1316.84 1540.13 Q1314.2 1536.44 1309.55 1536.44 Q1304.91 1536.44 1302.23 1540.13 Q1299.59 1543.79 1299.59 1550.25 Q1299.59 1556.71 1302.23 1560.4 Q1304.91 1564.07 1309.55 1564.07 Q1314.2 1564.07 1316.84 1560.4 Q1319.52 1556.71 1319.52 1550.25 Z\" fill=\"#000000\" fill-rule=\"nonzero\" fill-opacity=\"1\" /><path clip-path=\"url(#clip800)\" d=\"M1365.79 1548.76 L1365.79 1551.62 L1338.87 1551.62 Q1339.25 1557.67 1342.5 1560.85 Q1345.77 1564 1351.6 1564 Q1354.97 1564 1358.12 1563.17 Q1361.31 1562.35 1364.43 1560.69 L1364.43 1566.23 Q1361.27 1567.57 1357.96 1568.27 Q1354.65 1568.97 1351.25 1568.97 Q1342.72 1568.97 1337.72 1564 Q1332.76 1559.04 1332.76 1550.57 Q1332.76 1541.82 1337.47 1536.69 Q1342.21 1531.54 1350.23 1531.54 Q1357.42 1531.54 1361.59 1536.18 Q1365.79 1540.8 1365.79 1548.76 M1359.94 1547.04 Q1359.87 1542.23 1357.23 1539.37 Q1354.62 1536.5 1350.29 1536.5 Q1345.39 1536.5 1342.43 1539.27 Q1339.5 1542.04 1339.06 1547.07 L1359.94 1547.04 Z\" fill=\"#000000\" fill-rule=\"nonzero\" fill-opacity=\"1\" /><polyline clip-path=\"url(#clip800)\" style=\"stroke:#000000; stroke-linecap:round; stroke-linejoin:round; stroke-width:4; stroke-opacity:1; fill:none\" points=\"232.389,1423.18 232.389,123.472 \"/>\n",
       "<polyline clip-path=\"url(#clip800)\" style=\"stroke:#000000; stroke-linecap:round; stroke-linejoin:round; stroke-width:4; stroke-opacity:1; fill:none\" points=\"232.389,1423.18 251.287,1423.18 \"/>\n",
       "<polyline clip-path=\"url(#clip800)\" style=\"stroke:#000000; stroke-linecap:round; stroke-linejoin:round; stroke-width:4; stroke-opacity:1; fill:none\" points=\"232.389,1206.56 251.287,1206.56 \"/>\n",
       "<polyline clip-path=\"url(#clip800)\" style=\"stroke:#000000; stroke-linecap:round; stroke-linejoin:round; stroke-width:4; stroke-opacity:1; fill:none\" points=\"232.389,989.944 251.287,989.944 \"/>\n",
       "<polyline clip-path=\"url(#clip800)\" style=\"stroke:#000000; stroke-linecap:round; stroke-linejoin:round; stroke-width:4; stroke-opacity:1; fill:none\" points=\"232.389,773.326 251.287,773.326 \"/>\n",
       "<polyline clip-path=\"url(#clip800)\" style=\"stroke:#000000; stroke-linecap:round; stroke-linejoin:round; stroke-width:4; stroke-opacity:1; fill:none\" points=\"232.389,556.708 251.287,556.708 \"/>\n",
       "<polyline clip-path=\"url(#clip800)\" style=\"stroke:#000000; stroke-linecap:round; stroke-linejoin:round; stroke-width:4; stroke-opacity:1; fill:none\" points=\"232.389,340.09 251.287,340.09 \"/>\n",
       "<polyline clip-path=\"url(#clip800)\" style=\"stroke:#000000; stroke-linecap:round; stroke-linejoin:round; stroke-width:4; stroke-opacity:1; fill:none\" points=\"232.389,123.472 251.287,123.472 \"/>\n",
       "<path clip-path=\"url(#clip800)\" d=\"M144.098 1405.9 L166.32 1405.9 L166.32 1407.89 L153.774 1440.46 L148.89 1440.46 L160.695 1409.84 L144.098 1409.84 L144.098 1405.9 Z\" fill=\"#000000\" fill-rule=\"nonzero\" fill-opacity=\"1\" /><path clip-path=\"url(#clip800)\" d=\"M175.487 1405.9 L193.843 1405.9 L193.843 1409.84 L179.769 1409.84 L179.769 1418.31 Q180.788 1417.96 181.806 1417.8 Q182.825 1417.61 183.843 1417.61 Q189.63 1417.61 193.01 1420.78 Q196.389 1423.96 196.389 1429.37 Q196.389 1434.95 192.917 1438.05 Q189.445 1441.13 183.126 1441.13 Q180.95 1441.13 178.681 1440.76 Q176.436 1440.39 174.028 1439.65 L174.028 1434.95 Q176.112 1436.08 178.334 1436.64 Q180.556 1437.2 183.033 1437.2 Q187.038 1437.2 189.375 1435.09 Q191.713 1432.98 191.713 1429.37 Q191.713 1425.76 189.375 1423.65 Q187.038 1421.55 183.033 1421.55 Q181.158 1421.55 179.283 1421.96 Q177.431 1422.38 175.487 1423.26 L175.487 1405.9 Z\" fill=\"#000000\" fill-rule=\"nonzero\" fill-opacity=\"1\" /><path clip-path=\"url(#clip800)\" d=\"M154.283 1207.43 Q150.95 1207.43 149.028 1209.21 Q147.13 1210.99 147.13 1214.12 Q147.13 1217.24 149.028 1219.03 Q150.95 1220.81 154.283 1220.81 Q157.616 1220.81 159.538 1219.03 Q161.459 1217.22 161.459 1214.12 Q161.459 1210.99 159.538 1209.21 Q157.64 1207.43 154.283 1207.43 M149.607 1205.44 Q146.598 1204.7 144.908 1202.64 Q143.241 1200.58 143.241 1197.62 Q143.241 1193.47 146.181 1191.06 Q149.144 1188.66 154.283 1188.66 Q159.445 1188.66 162.385 1191.06 Q165.325 1193.47 165.325 1197.62 Q165.325 1200.58 163.635 1202.64 Q161.968 1204.7 158.982 1205.44 Q162.362 1206.23 164.237 1208.52 Q166.135 1210.81 166.135 1214.12 Q166.135 1219.14 163.056 1221.83 Q160.001 1224.51 154.283 1224.51 Q148.566 1224.51 145.487 1221.83 Q142.431 1219.14 142.431 1214.12 Q142.431 1210.81 144.329 1208.52 Q146.228 1206.23 149.607 1205.44 M147.894 1198.05 Q147.894 1200.74 149.561 1202.24 Q151.251 1203.75 154.283 1203.75 Q157.292 1203.75 158.982 1202.24 Q160.695 1200.74 160.695 1198.05 Q160.695 1195.37 158.982 1193.87 Q157.292 1192.36 154.283 1192.36 Q151.251 1192.36 149.561 1193.87 Q147.894 1195.37 147.894 1198.05 Z\" fill=\"#000000\" fill-rule=\"nonzero\" fill-opacity=\"1\" /><path clip-path=\"url(#clip800)\" d=\"M184.445 1192.36 Q180.834 1192.36 179.005 1195.93 Q177.2 1199.47 177.2 1206.6 Q177.2 1213.7 179.005 1217.27 Q180.834 1220.81 184.445 1220.81 Q188.079 1220.81 189.885 1217.27 Q191.713 1213.7 191.713 1206.6 Q191.713 1199.47 189.885 1195.93 Q188.079 1192.36 184.445 1192.36 M184.445 1188.66 Q190.255 1188.66 193.311 1193.26 Q196.389 1197.85 196.389 1206.6 Q196.389 1215.32 193.311 1219.93 Q190.255 1224.51 184.445 1224.51 Q178.635 1224.51 175.556 1219.93 Q172.501 1215.32 172.501 1206.6 Q172.501 1197.85 175.556 1193.26 Q178.635 1188.66 184.445 1188.66 Z\" fill=\"#000000\" fill-rule=\"nonzero\" fill-opacity=\"1\" /><path clip-path=\"url(#clip800)\" d=\"M155.278 990.812 Q151.945 990.812 150.024 992.594 Q148.126 994.377 148.126 997.502 Q148.126 1000.63 150.024 1002.41 Q151.945 1004.19 155.278 1004.19 Q158.612 1004.19 160.533 1002.41 Q162.454 1000.6 162.454 997.502 Q162.454 994.377 160.533 992.594 Q158.635 990.812 155.278 990.812 M150.603 988.821 Q147.593 988.081 145.904 986.02 Q144.237 983.96 144.237 980.997 Q144.237 976.854 147.177 974.446 Q150.14 972.039 155.278 972.039 Q160.44 972.039 163.38 974.446 Q166.32 976.854 166.32 980.997 Q166.32 983.96 164.63 986.02 Q162.964 988.081 159.978 988.821 Q163.357 989.608 165.232 991.9 Q167.13 994.192 167.13 997.502 Q167.13 1002.52 164.052 1005.21 Q160.996 1007.9 155.278 1007.9 Q149.561 1007.9 146.482 1005.21 Q143.427 1002.52 143.427 997.502 Q143.427 994.192 145.325 991.9 Q147.223 989.608 150.603 988.821 M148.89 981.437 Q148.89 984.122 150.556 985.627 Q152.246 987.131 155.278 987.131 Q158.288 987.131 159.978 985.627 Q161.69 984.122 161.69 981.437 Q161.69 978.752 159.978 977.247 Q158.288 975.743 155.278 975.743 Q152.246 975.743 150.556 977.247 Q148.89 978.752 148.89 981.437 Z\" fill=\"#000000\" fill-rule=\"nonzero\" fill-opacity=\"1\" /><path clip-path=\"url(#clip800)\" d=\"M175.487 972.664 L193.843 972.664 L193.843 976.599 L179.769 976.599 L179.769 985.071 Q180.788 984.724 181.806 984.562 Q182.825 984.377 183.843 984.377 Q189.63 984.377 193.01 987.548 Q196.389 990.719 196.389 996.136 Q196.389 1001.71 192.917 1004.82 Q189.445 1007.9 183.126 1007.9 Q180.95 1007.9 178.681 1007.52 Q176.436 1007.15 174.028 1006.41 L174.028 1001.71 Q176.112 1002.85 178.334 1003.4 Q180.556 1003.96 183.033 1003.96 Q187.038 1003.96 189.375 1001.85 Q191.713 999.747 191.713 996.136 Q191.713 992.525 189.375 990.418 Q187.038 988.312 183.033 988.312 Q181.158 988.312 179.283 988.729 Q177.431 989.145 175.487 990.025 L175.487 972.664 Z\" fill=\"#000000\" fill-rule=\"nonzero\" fill-opacity=\"1\" /><path clip-path=\"url(#clip800)\" d=\"M144.422 789.888 L144.422 785.629 Q146.181 786.462 147.987 786.902 Q149.792 787.342 151.528 787.342 Q156.158 787.342 158.589 784.24 Q161.042 781.115 161.39 774.773 Q160.047 776.763 157.987 777.828 Q155.927 778.893 153.427 778.893 Q148.241 778.893 145.209 775.768 Q142.2 772.62 142.2 767.18 Q142.2 761.856 145.348 758.639 Q148.496 755.421 153.728 755.421 Q159.723 755.421 162.871 760.027 Q166.042 764.611 166.042 773.361 Q166.042 781.532 162.153 786.416 Q158.288 791.277 151.737 791.277 Q149.978 791.277 148.172 790.93 Q146.366 790.583 144.422 789.888 M153.728 775.236 Q156.876 775.236 158.704 773.083 Q160.556 770.93 160.556 767.18 Q160.556 763.453 158.704 761.301 Q156.876 759.125 153.728 759.125 Q150.579 759.125 148.728 761.301 Q146.899 763.453 146.899 767.18 Q146.899 770.93 148.728 773.083 Q150.579 775.236 153.728 775.236 Z\" fill=\"#000000\" fill-rule=\"nonzero\" fill-opacity=\"1\" /><path clip-path=\"url(#clip800)\" d=\"M184.445 759.125 Q180.834 759.125 179.005 762.689 Q177.2 766.231 177.2 773.361 Q177.2 780.467 179.005 784.032 Q180.834 787.574 184.445 787.574 Q188.079 787.574 189.885 784.032 Q191.713 780.467 191.713 773.361 Q191.713 766.231 189.885 762.689 Q188.079 759.125 184.445 759.125 M184.445 755.421 Q190.255 755.421 193.311 760.027 Q196.389 764.611 196.389 773.361 Q196.389 782.088 193.311 786.694 Q190.255 791.277 184.445 791.277 Q178.635 791.277 175.556 786.694 Q172.501 782.088 172.501 773.361 Q172.501 764.611 175.556 760.027 Q178.635 755.421 184.445 755.421 Z\" fill=\"#000000\" fill-rule=\"nonzero\" fill-opacity=\"1\" /><path clip-path=\"url(#clip800)\" d=\"M145.417 573.27 L145.417 569.011 Q147.177 569.845 148.982 570.284 Q150.788 570.724 152.524 570.724 Q157.153 570.724 159.584 567.622 Q162.038 564.497 162.385 558.155 Q161.042 560.146 158.982 561.21 Q156.922 562.275 154.422 562.275 Q149.237 562.275 146.204 559.15 Q143.195 556.002 143.195 550.562 Q143.195 545.238 146.343 542.021 Q149.491 538.803 154.723 538.803 Q160.718 538.803 163.866 543.409 Q167.038 547.993 167.038 556.743 Q167.038 564.914 163.149 569.798 Q159.283 574.659 152.732 574.659 Q150.973 574.659 149.167 574.312 Q147.362 573.965 145.417 573.27 M154.723 558.618 Q157.871 558.618 159.7 556.465 Q161.552 554.312 161.552 550.562 Q161.552 546.835 159.7 544.683 Q157.871 542.507 154.723 542.507 Q151.575 542.507 149.723 544.683 Q147.894 546.835 147.894 550.562 Q147.894 554.312 149.723 556.465 Q151.575 558.618 154.723 558.618 Z\" fill=\"#000000\" fill-rule=\"nonzero\" fill-opacity=\"1\" /><path clip-path=\"url(#clip800)\" d=\"M175.487 539.428 L193.843 539.428 L193.843 543.363 L179.769 543.363 L179.769 551.835 Q180.788 551.488 181.806 551.326 Q182.825 551.141 183.843 551.141 Q189.63 551.141 193.01 554.312 Q196.389 557.483 196.389 562.9 Q196.389 568.479 192.917 571.581 Q189.445 574.659 183.126 574.659 Q180.95 574.659 178.681 574.289 Q176.436 573.919 174.028 573.178 L174.028 568.479 Q176.112 569.613 178.334 570.169 Q180.556 570.724 183.033 570.724 Q187.038 570.724 189.375 568.618 Q191.713 566.511 191.713 562.9 Q191.713 559.289 189.375 557.183 Q187.038 555.076 183.033 555.076 Q181.158 555.076 179.283 555.493 Q177.431 555.909 175.487 556.789 L175.487 539.428 Z\" fill=\"#000000\" fill-rule=\"nonzero\" fill-opacity=\"1\" /><path clip-path=\"url(#clip800)\" d=\"M114.931 353.435 L122.57 353.435 L122.57 327.069 L114.26 328.736 L114.26 324.477 L122.524 322.81 L127.2 322.81 L127.2 353.435 L134.839 353.435 L134.839 357.37 L114.931 357.37 L114.931 353.435 Z\" fill=\"#000000\" fill-rule=\"nonzero\" fill-opacity=\"1\" /><path clip-path=\"url(#clip800)\" d=\"M154.283 325.889 Q150.672 325.889 148.843 329.454 Q147.038 332.995 147.038 340.125 Q147.038 347.231 148.843 350.796 Q150.672 354.338 154.283 354.338 Q157.917 354.338 159.723 350.796 Q161.552 347.231 161.552 340.125 Q161.552 332.995 159.723 329.454 Q157.917 325.889 154.283 325.889 M154.283 322.185 Q160.093 322.185 163.149 326.792 Q166.227 331.375 166.227 340.125 Q166.227 348.852 163.149 353.458 Q160.093 358.041 154.283 358.041 Q148.473 358.041 145.394 353.458 Q142.339 348.852 142.339 340.125 Q142.339 331.375 145.394 326.792 Q148.473 322.185 154.283 322.185 Z\" fill=\"#000000\" fill-rule=\"nonzero\" fill-opacity=\"1\" /><path clip-path=\"url(#clip800)\" d=\"M184.445 325.889 Q180.834 325.889 179.005 329.454 Q177.2 332.995 177.2 340.125 Q177.2 347.231 179.005 350.796 Q180.834 354.338 184.445 354.338 Q188.079 354.338 189.885 350.796 Q191.713 347.231 191.713 340.125 Q191.713 332.995 189.885 329.454 Q188.079 325.889 184.445 325.889 M184.445 322.185 Q190.255 322.185 193.311 326.792 Q196.389 331.375 196.389 340.125 Q196.389 348.852 193.311 353.458 Q190.255 358.041 184.445 358.041 Q178.635 358.041 175.556 353.458 Q172.501 348.852 172.501 340.125 Q172.501 331.375 175.556 326.792 Q178.635 322.185 184.445 322.185 Z\" fill=\"#000000\" fill-rule=\"nonzero\" fill-opacity=\"1\" /><path clip-path=\"url(#clip800)\" d=\"M115.927 136.817 L123.566 136.817 L123.566 110.451 L115.256 112.118 L115.256 107.859 L123.519 106.192 L128.195 106.192 L128.195 136.817 L135.834 136.817 L135.834 140.752 L115.927 140.752 L115.927 136.817 Z\" fill=\"#000000\" fill-rule=\"nonzero\" fill-opacity=\"1\" /><path clip-path=\"url(#clip800)\" d=\"M155.278 109.271 Q151.667 109.271 149.839 112.836 Q148.033 116.377 148.033 123.507 Q148.033 130.613 149.839 134.178 Q151.667 137.72 155.278 137.72 Q158.913 137.72 160.718 134.178 Q162.547 130.613 162.547 123.507 Q162.547 116.377 160.718 112.836 Q158.913 109.271 155.278 109.271 M155.278 105.567 Q161.089 105.567 164.144 110.174 Q167.223 114.757 167.223 123.507 Q167.223 132.234 164.144 136.84 Q161.089 141.423 155.278 141.423 Q149.468 141.423 146.39 136.84 Q143.334 132.234 143.334 123.507 Q143.334 114.757 146.39 110.174 Q149.468 105.567 155.278 105.567 Z\" fill=\"#000000\" fill-rule=\"nonzero\" fill-opacity=\"1\" /><path clip-path=\"url(#clip800)\" d=\"M175.487 106.192 L193.843 106.192 L193.843 110.127 L179.769 110.127 L179.769 118.599 Q180.788 118.252 181.806 118.09 Q182.825 117.905 183.843 117.905 Q189.63 117.905 193.01 121.076 Q196.389 124.248 196.389 129.664 Q196.389 135.243 192.917 138.345 Q189.445 141.423 183.126 141.423 Q180.95 141.423 178.681 141.053 Q176.436 140.683 174.028 139.942 L174.028 135.243 Q176.112 136.377 178.334 136.933 Q180.556 137.488 183.033 137.488 Q187.038 137.488 189.375 135.382 Q191.713 133.275 191.713 129.664 Q191.713 126.053 189.375 123.947 Q187.038 121.84 183.033 121.84 Q181.158 121.84 179.283 122.257 Q177.431 122.674 175.487 123.553 L175.487 106.192 Z\" fill=\"#000000\" fill-rule=\"nonzero\" fill-opacity=\"1\" /><path clip-path=\"url(#clip800)\" d=\"M16.4842 1065.37 L16.4842 1055.79 L48.8219 1043.66 L16.4842 1031.47 L16.4842 1021.89 L64.0042 1021.89 L64.0042 1028.16 L22.277 1028.16 L54.8694 1040.42 L54.8694 1046.88 L22.277 1059.13 L64.0042 1059.13 L64.0042 1065.37 L16.4842 1065.37 Z\" fill=\"#000000\" fill-rule=\"nonzero\" fill-opacity=\"1\" /><path clip-path=\"url(#clip800)\" d=\"M44.7161 978.891 L47.5806 978.891 L47.5806 1005.82 Q53.6281 1005.44 56.8109 1002.19 Q59.9619 998.911 59.9619 993.086 Q59.9619 989.712 59.1344 986.561 Q58.3069 983.378 56.6518 980.259 L62.1899 980.259 Q63.5267 983.41 64.227 986.72 Q64.9272 990.031 64.9272 993.436 Q64.9272 1001.97 59.9619 1006.96 Q54.9967 1011.93 46.5303 1011.93 Q37.7774 1011.93 32.6531 1007.22 Q27.4968 1002.48 27.4968 994.455 Q27.4968 987.261 32.1438 983.092 Q36.7589 978.891 44.7161 978.891 M42.9973 984.747 Q38.1912 984.811 35.3266 987.452 Q32.4621 990.062 32.4621 994.391 Q32.4621 999.293 35.2312 1002.25 Q38.0002 1005.18 43.0292 1005.63 L42.9973 984.747 Z\" fill=\"#000000\" fill-rule=\"nonzero\" fill-opacity=\"1\" /><path clip-path=\"url(#clip800)\" d=\"M46.0847 953.078 Q46.0847 960.175 47.7079 962.913 Q49.3312 965.65 53.2461 965.65 Q56.3653 965.65 58.2114 963.613 Q60.0256 961.544 60.0256 958.011 Q60.0256 953.141 56.5881 950.213 Q53.1188 947.253 47.3897 947.253 L46.0847 947.253 L46.0847 953.078 M43.6657 941.397 L64.0042 941.397 L64.0042 947.253 L58.5933 947.253 Q61.8398 949.258 63.3994 952.25 Q64.9272 955.242 64.9272 959.571 Q64.9272 965.045 61.8716 968.292 Q58.7843 971.506 53.6281 971.506 Q47.6125 971.506 44.5569 967.496 Q41.5014 963.454 41.5014 955.465 L41.5014 947.253 L40.9285 947.253 Q36.8862 947.253 34.6901 949.927 Q32.4621 952.568 32.4621 957.374 Q32.4621 960.43 33.1941 963.326 Q33.9262 966.223 35.3903 968.896 L29.9795 968.896 Q28.7381 965.682 28.1334 962.658 Q27.4968 959.634 27.4968 956.77 Q27.4968 949.035 31.5072 945.216 Q35.5176 941.397 43.6657 941.397 Z\" fill=\"#000000\" fill-rule=\"nonzero\" fill-opacity=\"1\" /><path clip-path=\"url(#clip800)\" d=\"M42.4881 899.701 L64.0042 899.701 L64.0042 905.558 L42.679 905.558 Q37.6183 905.558 35.1038 907.531 Q32.5894 909.504 32.5894 913.451 Q32.5894 918.194 35.6131 920.931 Q38.6368 923.668 43.8567 923.668 L64.0042 923.668 L64.0042 929.556 L28.3562 929.556 L28.3562 923.668 L33.8944 923.668 Q30.6797 921.567 29.0883 918.735 Q27.4968 915.87 27.4968 912.146 Q27.4968 906.003 31.3163 902.852 Q35.1038 899.701 42.4881 899.701 Z\" fill=\"#000000\" fill-rule=\"nonzero\" fill-opacity=\"1\" /><path clip-path=\"url(#clip800)\" d=\"M16.4842 871.278 L16.4842 864.785 L56.6518 854.791 L16.4842 844.829 L16.4842 837.604 L56.6518 827.61 L16.4842 817.647 L16.4842 811.122 L64.0042 823.058 L64.0042 831.143 L22.7544 841.169 L64.0042 851.29 L64.0042 859.374 L16.4842 871.278 Z\" fill=\"#000000\" fill-rule=\"nonzero\" fill-opacity=\"1\" /><path clip-path=\"url(#clip800)\" d=\"M44.7161 776.175 L47.5806 776.175 L47.5806 803.102 Q53.6281 802.72 56.8109 799.473 Q59.9619 796.195 59.9619 790.37 Q59.9619 786.996 59.1344 783.845 Q58.3069 780.662 56.6518 777.543 L62.1899 777.543 Q63.5267 780.694 64.227 784.004 Q64.9272 787.315 64.9272 790.72 Q64.9272 799.25 59.9619 804.247 Q54.9967 809.213 46.5303 809.213 Q37.7774 809.213 32.6531 804.502 Q27.4968 799.76 27.4968 791.739 Q27.4968 784.546 32.1438 780.376 Q36.7589 776.175 44.7161 776.175 M42.9973 782.031 Q38.1912 782.095 35.3266 784.737 Q32.4621 787.346 32.4621 791.675 Q32.4621 796.577 35.2312 799.537 Q38.0002 802.465 43.0292 802.911 L42.9973 782.031 Z\" fill=\"#000000\" fill-rule=\"nonzero\" fill-opacity=\"1\" /><path clip-path=\"url(#clip800)\" d=\"M28.3562 766.562 L28.3562 760.706 L64.0042 760.706 L64.0042 766.562 L28.3562 766.562 M14.479 766.562 L14.479 760.706 L21.895 760.706 L21.895 766.562 L14.479 766.562 Z\" fill=\"#000000\" fill-rule=\"nonzero\" fill-opacity=\"1\" /><path clip-path=\"url(#clip800)\" d=\"M45.7664 724.994 Q39.4007 724.994 35.8996 727.636 Q32.3984 730.246 32.3984 734.989 Q32.3984 739.699 35.8996 742.341 Q39.4007 744.951 45.7664 744.951 Q52.1003 744.951 55.6014 742.341 Q59.1026 739.699 59.1026 734.989 Q59.1026 730.246 55.6014 727.636 Q52.1003 724.994 45.7664 724.994 M59.58 719.138 Q68.683 719.138 73.1071 723.18 Q77.5631 727.222 77.5631 735.561 Q77.5631 738.649 77.0857 741.386 Q76.6401 744.123 75.6852 746.701 L69.9879 746.701 Q71.3884 744.123 72.0568 741.609 Q72.7252 739.094 72.7252 736.484 Q72.7252 730.723 69.7015 727.859 Q66.7096 724.994 60.6303 724.994 L57.7339 724.994 Q60.885 726.809 62.4446 729.641 Q64.0042 732.474 64.0042 736.421 Q64.0042 742.977 59.0071 746.988 Q54.01 750.998 45.7664 750.998 Q37.491 750.998 32.4939 746.988 Q27.4968 742.977 27.4968 736.421 Q27.4968 732.474 29.0564 729.641 Q30.616 726.809 33.7671 724.994 L28.3562 724.994 L28.3562 719.138 L59.58 719.138 Z\" fill=\"#000000\" fill-rule=\"nonzero\" fill-opacity=\"1\" /><path clip-path=\"url(#clip800)\" d=\"M42.4881 677.443 L64.0042 677.443 L64.0042 683.299 L42.679 683.299 Q37.6183 683.299 35.1038 685.272 Q32.5894 687.246 32.5894 691.192 Q32.5894 695.935 35.6131 698.672 Q38.6368 701.409 43.8567 701.409 L64.0042 701.409 L64.0042 707.298 L14.479 707.298 L14.479 701.409 L33.8944 701.409 Q30.6797 699.309 29.0883 696.476 Q27.4968 693.611 27.4968 689.887 Q27.4968 683.745 31.3163 680.594 Q35.1038 677.443 42.4881 677.443 Z\" fill=\"#000000\" fill-rule=\"nonzero\" fill-opacity=\"1\" /><path clip-path=\"url(#clip800)\" d=\"M18.2347 659.969 L28.3562 659.969 L28.3562 647.906 L32.9077 647.906 L32.9077 659.969 L52.2594 659.969 Q56.6199 659.969 57.8613 658.791 Q59.1026 657.582 59.1026 653.921 L59.1026 647.906 L64.0042 647.906 L64.0042 653.921 Q64.0042 660.701 61.4897 663.279 Q58.9434 665.857 52.2594 665.857 L32.9077 665.857 L32.9077 670.154 L28.3562 670.154 L28.3562 665.857 L18.2347 665.857 L18.2347 659.969 Z\" fill=\"#000000\" fill-rule=\"nonzero\" fill-opacity=\"1\" /><path clip-path=\"url(#clip800)\" d=\"M57.2247 586.827 L44.4614 586.827 L44.4614 597.33 L39.1779 597.33 L39.1779 580.461 L59.58 580.461 Q62.2218 584.185 63.5904 588.673 Q64.9272 593.161 64.9272 598.253 Q64.9272 609.393 58.4342 615.695 Q51.9093 621.965 40.2919 621.965 Q28.6427 621.965 22.1496 615.695 Q15.6248 609.393 15.6248 598.253 Q15.6248 593.606 16.7706 589.437 Q17.9164 585.235 20.1444 581.702 L26.9876 581.702 Q23.9639 585.267 22.4361 589.277 Q20.9083 593.288 20.9083 597.712 Q20.9083 606.433 25.7781 610.825 Q30.6479 615.186 40.2919 615.186 Q49.9041 615.186 54.7739 610.825 Q59.6436 606.433 59.6436 597.712 Q59.6436 594.306 59.0707 591.633 Q58.466 588.959 57.2247 586.827 Z\" fill=\"#000000\" fill-rule=\"nonzero\" fill-opacity=\"1\" /><path clip-path=\"url(#clip800)\" d=\"M46.0847 552.77 Q46.0847 559.868 47.7079 562.605 Q49.3312 565.342 53.2461 565.342 Q56.3653 565.342 58.2114 563.305 Q60.0256 561.237 60.0256 557.704 Q60.0256 552.834 56.5881 549.906 Q53.1188 546.946 47.3897 546.946 L46.0847 546.946 L46.0847 552.77 M43.6657 541.089 L64.0042 541.089 L64.0042 546.946 L58.5933 546.946 Q61.8398 548.951 63.3994 551.943 Q64.9272 554.935 64.9272 559.263 Q64.9272 564.738 61.8716 567.984 Q58.7843 571.199 53.6281 571.199 Q47.6125 571.199 44.5569 567.188 Q41.5014 563.146 41.5014 555.157 L41.5014 546.946 L40.9285 546.946 Q36.8862 546.946 34.6901 549.619 Q32.4621 552.261 32.4621 557.067 Q32.4621 560.123 33.1941 563.019 Q33.9262 565.915 35.3903 568.589 L29.9795 568.589 Q28.7381 565.374 28.1334 562.351 Q27.4968 559.327 27.4968 556.462 Q27.4968 548.728 31.5072 544.909 Q35.5176 541.089 43.6657 541.089 Z\" fill=\"#000000\" fill-rule=\"nonzero\" fill-opacity=\"1\" /><path clip-path=\"url(#clip800)\" d=\"M28.3562 529.026 L28.3562 523.17 L64.0042 523.17 L64.0042 529.026 L28.3562 529.026 M14.479 529.026 L14.479 523.17 L21.895 523.17 L21.895 529.026 L14.479 529.026 Z\" fill=\"#000000\" fill-rule=\"nonzero\" fill-opacity=\"1\" /><path clip-path=\"url(#clip800)\" d=\"M42.4881 481.283 L64.0042 481.283 L64.0042 487.14 L42.679 487.14 Q37.6183 487.14 35.1038 489.113 Q32.5894 491.086 32.5894 495.033 Q32.5894 499.776 35.6131 502.513 Q38.6368 505.25 43.8567 505.25 L64.0042 505.25 L64.0042 511.138 L28.3562 511.138 L28.3562 505.25 L33.8944 505.25 Q30.6797 503.149 29.0883 500.317 Q27.4968 497.452 27.4968 493.728 Q27.4968 487.585 31.3163 484.434 Q35.1038 481.283 42.4881 481.283 Z\" fill=\"#000000\" fill-rule=\"nonzero\" fill-opacity=\"1\" /><path clip-path=\"url(#clip800)\" d=\"M647.264 12.096 L655.446 12.096 L655.446 72.576 L647.264 72.576 L647.264 12.096 Z\" fill=\"#000000\" fill-rule=\"nonzero\" fill-opacity=\"1\" /><path clip-path=\"url(#clip800)\" d=\"M709.121 45.1919 L709.121 72.576 L701.667 72.576 L701.667 45.4349 Q701.667 38.994 699.156 35.7938 Q696.644 32.5936 691.621 32.5936 Q685.585 32.5936 682.101 36.4419 Q678.618 40.2903 678.618 46.9338 L678.618 72.576 L671.123 72.576 L671.123 27.2059 L678.618 27.2059 L678.618 34.2544 Q681.291 30.163 684.896 28.1376 Q688.542 26.1121 693.282 26.1121 Q701.1 26.1121 705.11 30.9732 Q709.121 35.7938 709.121 45.1919 Z\" fill=\"#000000\" fill-rule=\"nonzero\" fill-opacity=\"1\" /><path clip-path=\"url(#clip800)\" d=\"M731.36 14.324 L731.36 27.2059 L746.713 27.2059 L746.713 32.9987 L731.36 32.9987 L731.36 57.6282 Q731.36 63.1779 732.859 64.7578 Q734.399 66.3376 739.057 66.3376 L746.713 66.3376 L746.713 72.576 L739.057 72.576 Q730.429 72.576 727.147 69.3758 Q723.866 66.1351 723.866 57.6282 L723.866 32.9987 L718.397 32.9987 L718.397 27.2059 L723.866 27.2059 L723.866 14.324 L731.36 14.324 Z\" fill=\"#000000\" fill-rule=\"nonzero\" fill-opacity=\"1\" /><path clip-path=\"url(#clip800)\" d=\"M795.324 48.0275 L795.324 51.6733 L761.053 51.6733 Q761.54 59.3701 765.672 63.421 Q769.844 67.4314 777.257 67.4314 Q781.551 67.4314 785.561 66.3781 Q789.612 65.3249 793.582 63.2184 L793.582 70.267 Q789.572 71.9684 785.359 72.8596 Q781.146 73.7508 776.812 73.7508 Q765.955 73.7508 759.595 67.4314 Q753.276 61.1119 753.276 50.3365 Q753.276 39.1965 759.271 32.6746 Q765.307 26.1121 775.515 26.1121 Q784.67 26.1121 789.977 32.0264 Q795.324 37.9003 795.324 48.0275 M787.87 45.84 Q787.789 39.7232 784.427 36.0774 Q781.105 32.4315 775.596 32.4315 Q769.358 32.4315 765.59 35.9558 Q761.864 39.4801 761.297 45.8805 L787.87 45.84 Z\" fill=\"#000000\" fill-rule=\"nonzero\" fill-opacity=\"1\" /><path clip-path=\"url(#clip800)\" d=\"M833.848 34.1734 Q832.592 33.4443 831.094 33.1202 Q829.635 32.7556 827.853 32.7556 Q821.533 32.7556 818.131 36.8875 Q814.768 40.9789 814.768 48.6757 L814.768 72.576 L807.274 72.576 L807.274 27.2059 L814.768 27.2059 L814.768 34.2544 Q817.118 30.1225 820.885 28.1376 Q824.653 26.1121 830.04 26.1121 Q830.81 26.1121 831.742 26.2337 Q832.673 26.3147 833.808 26.5172 L833.848 34.1734 Z\" fill=\"#000000\" fill-rule=\"nonzero\" fill-opacity=\"1\" /><path clip-path=\"url(#clip800)\" d=\"M862.286 49.7694 Q853.252 49.7694 849.768 51.8354 Q846.285 53.9013 846.285 58.8839 Q846.285 62.8538 848.877 65.2034 Q851.51 67.5124 856.007 67.5124 Q862.205 67.5124 865.931 63.1374 Q869.699 58.7219 869.699 51.4303 L869.699 49.7694 L862.286 49.7694 M877.152 46.6907 L877.152 72.576 L869.699 72.576 L869.699 65.6895 Q867.147 69.8214 863.339 71.8063 Q859.531 73.7508 854.022 73.7508 Q847.054 73.7508 842.922 69.8619 Q838.831 65.9325 838.831 59.3701 Q838.831 51.7138 843.935 47.825 Q849.08 43.9361 859.247 43.9361 L869.699 43.9361 L869.699 43.2069 Q869.699 38.0623 866.296 35.2672 Q862.934 32.4315 856.817 32.4315 Q852.928 32.4315 849.242 33.3632 Q845.555 34.295 842.153 36.1584 L842.153 29.2718 Q846.244 27.692 850.092 26.9223 Q853.941 26.1121 857.587 26.1121 Q867.43 26.1121 872.291 31.2163 Q877.152 36.3204 877.152 46.6907 Z\" fill=\"#000000\" fill-rule=\"nonzero\" fill-opacity=\"1\" /><path clip-path=\"url(#clip800)\" d=\"M925.156 28.9478 L925.156 35.9153 Q921.996 34.1734 918.796 33.3227 Q915.636 32.4315 912.395 32.4315 Q905.144 32.4315 901.134 37.0496 Q897.123 41.6271 897.123 49.9314 Q897.123 58.2358 901.134 62.8538 Q905.144 67.4314 912.395 67.4314 Q915.636 67.4314 918.796 66.5807 Q921.996 65.6895 925.156 63.9476 L925.156 70.8341 Q922.036 72.2924 918.674 73.0216 Q915.352 73.7508 911.585 73.7508 Q901.336 73.7508 895.3 67.3098 Q889.265 60.8689 889.265 49.9314 Q889.265 38.832 895.341 32.472 Q901.458 26.1121 912.071 26.1121 Q915.514 26.1121 918.796 26.8413 Q922.077 27.5299 925.156 28.9478 Z\" fill=\"#000000\" fill-rule=\"nonzero\" fill-opacity=\"1\" /><path clip-path=\"url(#clip800)\" d=\"M945.491 14.324 L945.491 27.2059 L960.844 27.2059 L960.844 32.9987 L945.491 32.9987 L945.491 57.6282 Q945.491 63.1779 946.99 64.7578 Q948.529 66.3376 953.188 66.3376 L960.844 66.3376 L960.844 72.576 L953.188 72.576 Q944.559 72.576 941.278 69.3758 Q937.997 66.1351 937.997 57.6282 L937.997 32.9987 L932.528 32.9987 L932.528 27.2059 L937.997 27.2059 L937.997 14.324 L945.491 14.324 Z\" fill=\"#000000\" fill-rule=\"nonzero\" fill-opacity=\"1\" /><path clip-path=\"url(#clip800)\" d=\"M970.647 27.2059 L978.101 27.2059 L978.101 72.576 L970.647 72.576 L970.647 27.2059 M970.647 9.54393 L978.101 9.54393 L978.101 18.9825 L970.647 18.9825 L970.647 9.54393 Z\" fill=\"#000000\" fill-rule=\"nonzero\" fill-opacity=\"1\" /><path clip-path=\"url(#clip800)\" d=\"M1011.28 32.4315 Q1005.28 32.4315 1001.8 37.1306 Q998.315 41.7891 998.315 49.9314 Q998.315 58.0738 1001.76 62.7728 Q1005.24 67.4314 1011.28 67.4314 Q1017.23 67.4314 1020.72 62.7323 Q1024.2 58.0333 1024.2 49.9314 Q1024.2 41.8701 1020.72 37.1711 Q1017.23 32.4315 1011.28 32.4315 M1011.28 26.1121 Q1021 26.1121 1026.55 32.4315 Q1032.1 38.7509 1032.1 49.9314 Q1032.1 61.0714 1026.55 67.4314 Q1021 73.7508 1011.28 73.7508 Q1001.52 73.7508 995.965 67.4314 Q990.456 61.0714 990.456 49.9314 Q990.456 38.7509 995.965 32.4315 Q1001.52 26.1121 1011.28 26.1121 Z\" fill=\"#000000\" fill-rule=\"nonzero\" fill-opacity=\"1\" /><path clip-path=\"url(#clip800)\" d=\"M1082.17 45.1919 L1082.17 72.576 L1074.71 72.576 L1074.71 45.4349 Q1074.71 38.994 1072.2 35.7938 Q1069.69 32.5936 1064.67 32.5936 Q1058.63 32.5936 1055.15 36.4419 Q1051.67 40.2903 1051.67 46.9338 L1051.67 72.576 L1044.17 72.576 L1044.17 27.2059 L1051.67 27.2059 L1051.67 34.2544 Q1054.34 30.163 1057.94 28.1376 Q1061.59 26.1121 1066.33 26.1121 Q1074.15 26.1121 1078.16 30.9732 Q1082.17 35.7938 1082.17 45.1919 Z\" fill=\"#000000\" fill-rule=\"nonzero\" fill-opacity=\"1\" /><path clip-path=\"url(#clip800)\" d=\"M1131.91 18.8205 L1131.91 41.5461 L1142.2 41.5461 Q1147.91 41.5461 1151.03 38.5889 Q1154.15 35.6318 1154.15 30.163 Q1154.15 24.7348 1151.03 21.7777 Q1147.91 18.8205 1142.2 18.8205 L1131.91 18.8205 M1123.73 12.096 L1142.2 12.096 Q1152.37 12.096 1157.56 16.714 Q1162.78 21.2916 1162.78 30.163 Q1162.78 39.1155 1157.56 43.6931 Q1152.37 48.2706 1142.2 48.2706 L1131.91 48.2706 L1131.91 72.576 L1123.73 72.576 L1123.73 12.096 Z\" fill=\"#000000\" fill-rule=\"nonzero\" fill-opacity=\"1\" /><path clip-path=\"url(#clip800)\" d=\"M1173.44 9.54393 L1180.89 9.54393 L1180.89 72.576 L1173.44 72.576 L1173.44 9.54393 Z\" fill=\"#000000\" fill-rule=\"nonzero\" fill-opacity=\"1\" /><path clip-path=\"url(#clip800)\" d=\"M1214.07 32.4315 Q1208.07 32.4315 1204.59 37.1306 Q1201.1 41.7891 1201.1 49.9314 Q1201.1 58.0738 1204.55 62.7728 Q1208.03 67.4314 1214.07 67.4314 Q1220.02 67.4314 1223.5 62.7323 Q1226.99 58.0333 1226.99 49.9314 Q1226.99 41.8701 1223.5 37.1711 Q1220.02 32.4315 1214.07 32.4315 M1214.07 26.1121 Q1223.79 26.1121 1229.34 32.4315 Q1234.89 38.7509 1234.89 49.9314 Q1234.89 61.0714 1229.34 67.4314 Q1223.79 73.7508 1214.07 73.7508 Q1204.3 73.7508 1198.75 67.4314 Q1193.24 61.0714 1193.24 49.9314 Q1193.24 38.7509 1198.75 32.4315 Q1204.3 26.1121 1214.07 26.1121 Z\" fill=\"#000000\" fill-rule=\"nonzero\" fill-opacity=\"1\" /><path clip-path=\"url(#clip800)\" d=\"M1254.62 14.324 L1254.62 27.2059 L1269.97 27.2059 L1269.97 32.9987 L1254.62 32.9987 L1254.62 57.6282 Q1254.62 63.1779 1256.11 64.7578 Q1257.65 66.3376 1262.31 66.3376 L1269.97 66.3376 L1269.97 72.576 L1262.31 72.576 Q1253.68 72.576 1250.4 69.3758 Q1247.12 66.1351 1247.12 57.6282 L1247.12 32.9987 L1241.65 32.9987 L1241.65 27.2059 L1247.12 27.2059 L1247.12 14.324 L1254.62 14.324 Z\" fill=\"#000000\" fill-rule=\"nonzero\" fill-opacity=\"1\" /><path clip-path=\"url(#clip800)\" d=\"M1329.11 9.54393 L1329.11 15.7418 L1321.98 15.7418 Q1317.97 15.7418 1316.39 17.3622 Q1314.85 18.9825 1314.85 23.1955 L1314.85 27.2059 L1327.13 27.2059 L1327.13 32.9987 L1314.85 32.9987 L1314.85 72.576 L1307.36 72.576 L1307.36 32.9987 L1300.23 32.9987 L1300.23 27.2059 L1307.36 27.2059 L1307.36 24.0462 Q1307.36 16.471 1310.88 13.0277 Q1314.41 9.54393 1322.06 9.54393 L1329.11 9.54393 Z\" fill=\"#000000\" fill-rule=\"nonzero\" fill-opacity=\"1\" /><path clip-path=\"url(#clip800)\" d=\"M1352.93 32.4315 Q1346.94 32.4315 1343.45 37.1306 Q1339.97 41.7891 1339.97 49.9314 Q1339.97 58.0738 1343.41 62.7728 Q1346.9 67.4314 1352.93 67.4314 Q1358.89 67.4314 1362.37 62.7323 Q1365.85 58.0333 1365.85 49.9314 Q1365.85 41.8701 1362.37 37.1711 Q1358.89 32.4315 1352.93 32.4315 M1352.93 26.1121 Q1362.65 26.1121 1368.2 32.4315 Q1373.75 38.7509 1373.75 49.9314 Q1373.75 61.0714 1368.2 67.4314 Q1362.65 73.7508 1352.93 73.7508 Q1343.17 73.7508 1337.62 67.4314 Q1332.11 61.0714 1332.11 49.9314 Q1332.11 38.7509 1337.62 32.4315 Q1343.17 26.1121 1352.93 26.1121 Z\" fill=\"#000000\" fill-rule=\"nonzero\" fill-opacity=\"1\" /><path clip-path=\"url(#clip800)\" d=\"M1412.4 34.1734 Q1411.14 33.4443 1409.64 33.1202 Q1408.19 32.7556 1406.4 32.7556 Q1400.08 32.7556 1396.68 36.8875 Q1393.32 40.9789 1393.32 48.6757 L1393.32 72.576 L1385.82 72.576 L1385.82 27.2059 L1393.32 27.2059 L1393.32 34.2544 Q1395.67 30.1225 1399.44 28.1376 Q1403.2 26.1121 1408.59 26.1121 Q1409.36 26.1121 1410.29 26.2337 Q1411.22 26.3147 1412.36 26.5172 L1412.4 34.1734 Z\" fill=\"#000000\" fill-rule=\"nonzero\" fill-opacity=\"1\" /><path clip-path=\"url(#clip800)\" d=\"M1441.52 12.096 L1449.79 12.096 L1462.51 63.2184 L1475.19 12.096 L1484.38 12.096 L1497.1 63.2184 L1509.78 12.096 L1518.09 12.096 L1502.9 72.576 L1492.61 72.576 L1479.85 20.0763 L1466.96 72.576 L1456.67 72.576 L1441.52 12.096 Z\" fill=\"#000000\" fill-rule=\"nonzero\" fill-opacity=\"1\" /><path clip-path=\"url(#clip800)\" d=\"M1562.57 48.0275 L1562.57 51.6733 L1528.29 51.6733 Q1528.78 59.3701 1532.91 63.421 Q1537.09 67.4314 1544.5 67.4314 Q1548.79 67.4314 1552.8 66.3781 Q1556.85 65.3249 1560.82 63.2184 L1560.82 70.267 Q1556.81 71.9684 1552.6 72.8596 Q1548.39 73.7508 1544.05 73.7508 Q1533.2 73.7508 1526.84 67.4314 Q1520.52 61.1119 1520.52 50.3365 Q1520.52 39.1965 1526.51 32.6746 Q1532.55 26.1121 1542.76 26.1121 Q1551.91 26.1121 1557.22 32.0264 Q1562.57 37.9003 1562.57 48.0275 M1555.11 45.84 Q1555.03 39.7232 1551.67 36.0774 Q1548.35 32.4315 1542.84 32.4315 Q1536.6 32.4315 1532.83 35.9558 Q1529.1 39.4801 1528.54 45.8805 L1555.11 45.84 Z\" fill=\"#000000\" fill-rule=\"nonzero\" fill-opacity=\"1\" /><path clip-path=\"url(#clip800)\" d=\"M1574.8 27.2059 L1582.25 27.2059 L1582.25 72.576 L1574.8 72.576 L1574.8 27.2059 M1574.8 9.54393 L1582.25 9.54393 L1582.25 18.9825 L1574.8 18.9825 L1574.8 9.54393 Z\" fill=\"#000000\" fill-rule=\"nonzero\" fill-opacity=\"1\" /><path clip-path=\"url(#clip800)\" d=\"M1627.7 49.3643 Q1627.7 41.2625 1624.34 36.8065 Q1621.02 32.3505 1614.98 32.3505 Q1608.99 32.3505 1605.63 36.8065 Q1602.3 41.2625 1602.3 49.3643 Q1602.3 57.4256 1605.63 61.8816 Q1608.99 66.3376 1614.98 66.3376 Q1621.02 66.3376 1624.34 61.8816 Q1627.7 57.4256 1627.7 49.3643 M1635.16 66.9452 Q1635.16 78.5308 1630.01 84.1616 Q1624.87 89.8329 1614.25 89.8329 Q1610.33 89.8329 1606.84 89.2252 Q1603.36 88.6581 1600.08 87.4428 L1600.08 80.1917 Q1603.36 81.9741 1606.56 82.8248 Q1609.76 83.6755 1613.08 83.6755 Q1620.41 83.6755 1624.06 79.8271 Q1627.7 76.0193 1627.7 68.282 L1627.7 64.5957 Q1625.39 68.6061 1621.79 70.5911 Q1618.18 72.576 1613.16 72.576 Q1604.82 72.576 1599.71 66.2161 Q1594.61 59.8562 1594.61 49.3643 Q1594.61 38.832 1599.71 32.472 Q1604.82 26.1121 1613.16 26.1121 Q1618.18 26.1121 1621.79 28.0971 Q1625.39 30.082 1627.7 34.0924 L1627.7 27.2059 L1635.16 27.2059 L1635.16 66.9452 Z\" fill=\"#000000\" fill-rule=\"nonzero\" fill-opacity=\"1\" /><path clip-path=\"url(#clip800)\" d=\"M1688.22 45.1919 L1688.22 72.576 L1680.77 72.576 L1680.77 45.4349 Q1680.77 38.994 1678.26 35.7938 Q1675.75 32.5936 1670.72 32.5936 Q1664.69 32.5936 1661.2 36.4419 Q1657.72 40.2903 1657.72 46.9338 L1657.72 72.576 L1650.23 72.576 L1650.23 9.54393 L1657.72 9.54393 L1657.72 34.2544 Q1660.39 30.163 1664 28.1376 Q1667.65 26.1121 1672.39 26.1121 Q1680.2 26.1121 1684.21 30.9732 Q1688.22 35.7938 1688.22 45.1919 Z\" fill=\"#000000\" fill-rule=\"nonzero\" fill-opacity=\"1\" /><path clip-path=\"url(#clip800)\" d=\"M1710.46 14.324 L1710.46 27.2059 L1725.82 27.2059 L1725.82 32.9987 L1710.46 32.9987 L1710.46 57.6282 Q1710.46 63.1779 1711.96 64.7578 Q1713.5 66.3376 1718.16 66.3376 L1725.82 66.3376 L1725.82 72.576 L1718.16 72.576 Q1709.53 72.576 1706.25 69.3758 Q1702.97 66.1351 1702.97 57.6282 L1702.97 32.9987 L1697.5 32.9987 L1697.5 27.2059 L1702.97 27.2059 L1702.97 14.324 L1710.46 14.324 Z\" fill=\"#000000\" fill-rule=\"nonzero\" fill-opacity=\"1\" /><path clip-path=\"url(#clip800)\" d=\"M1803.55 63.9476 L1803.55 47.7034 L1790.19 47.7034 L1790.19 40.9789 L1811.66 40.9789 L1811.66 66.9452 Q1806.92 70.3075 1801.2 72.0494 Q1795.49 73.7508 1789.01 73.7508 Q1774.83 73.7508 1766.81 65.4869 Q1758.83 57.1826 1758.83 42.3968 Q1758.83 27.5705 1766.81 19.3066 Q1774.83 11.0023 1789.01 11.0023 Q1794.93 11.0023 1800.23 12.4606 Q1805.58 13.9189 1810.08 16.7545 L1810.08 25.464 Q1805.54 21.6156 1800.43 19.6712 Q1795.33 17.7268 1789.7 17.7268 Q1778.6 17.7268 1773.01 23.9246 Q1767.46 30.1225 1767.46 42.3968 Q1767.46 54.6305 1773.01 60.8284 Q1778.6 67.0263 1789.7 67.0263 Q1794.03 67.0263 1797.44 66.2971 Q1800.84 65.5274 1803.55 63.9476 Z\" fill=\"#000000\" fill-rule=\"nonzero\" fill-opacity=\"1\" /><path clip-path=\"url(#clip800)\" d=\"M1846.9 49.7694 Q1837.86 49.7694 1834.38 51.8354 Q1830.9 53.9013 1830.9 58.8839 Q1830.9 62.8538 1833.49 65.2034 Q1836.12 67.5124 1840.62 67.5124 Q1846.82 67.5124 1850.54 63.1374 Q1854.31 58.7219 1854.31 51.4303 L1854.31 49.7694 L1846.9 49.7694 M1861.77 46.6907 L1861.77 72.576 L1854.31 72.576 L1854.31 65.6895 Q1851.76 69.8214 1847.95 71.8063 Q1844.14 73.7508 1838.63 73.7508 Q1831.67 73.7508 1827.54 69.8619 Q1823.44 65.9325 1823.44 59.3701 Q1823.44 51.7138 1828.55 47.825 Q1833.69 43.9361 1843.86 43.9361 L1854.31 43.9361 L1854.31 43.2069 Q1854.31 38.0623 1850.91 35.2672 Q1847.55 32.4315 1841.43 32.4315 Q1837.54 32.4315 1833.85 33.3632 Q1830.17 34.295 1826.77 36.1584 L1826.77 29.2718 Q1830.86 27.692 1834.71 26.9223 Q1838.55 26.1121 1842.2 26.1121 Q1852.04 26.1121 1856.9 31.2163 Q1861.77 36.3204 1861.77 46.6907 Z\" fill=\"#000000\" fill-rule=\"nonzero\" fill-opacity=\"1\" /><path clip-path=\"url(#clip800)\" d=\"M1877.12 27.2059 L1884.57 27.2059 L1884.57 72.576 L1877.12 72.576 L1877.12 27.2059 M1877.12 9.54393 L1884.57 9.54393 L1884.57 18.9825 L1877.12 18.9825 L1877.12 9.54393 Z\" fill=\"#000000\" fill-rule=\"nonzero\" fill-opacity=\"1\" /><path clip-path=\"url(#clip800)\" d=\"M1937.88 45.1919 L1937.88 72.576 L1930.43 72.576 L1930.43 45.4349 Q1930.43 38.994 1927.92 35.7938 Q1925.4 32.5936 1920.38 32.5936 Q1914.35 32.5936 1910.86 36.4419 Q1907.38 40.2903 1907.38 46.9338 L1907.38 72.576 L1899.88 72.576 L1899.88 27.2059 L1907.38 27.2059 L1907.38 34.2544 Q1910.05 30.163 1913.66 28.1376 Q1917.3 26.1121 1922.04 26.1121 Q1929.86 26.1121 1933.87 30.9732 Q1937.88 35.7938 1937.88 45.1919 Z\" fill=\"#000000\" fill-rule=\"nonzero\" fill-opacity=\"1\" /><polyline clip-path=\"url(#clip802)\" style=\"stroke:#009af9; stroke-linecap:round; stroke-linejoin:round; stroke-width:4; stroke-opacity:1; fill:none\" points=\"2292.75,1241.22 292.4,340.09 \"/>\n",
       "<polyline clip-path=\"url(#clip802)\" style=\"stroke:#e26f46; stroke-linecap:round; stroke-linejoin:round; stroke-width:4; stroke-opacity:1; fill:none\" points=\"2292.75,1037.6 292.4,950.953 \"/>\n",
       "<polyline clip-path=\"url(#clip802)\" style=\"stroke:#ff0000; stroke-linecap:round; stroke-linejoin:round; stroke-width:4; stroke-opacity:1; fill:none\" stroke-dasharray=\"16, 10\" points=\"-1887.98,892.466 4473.12,892.466 \"/>\n",
       "<path clip-path=\"url(#clip800)\" d=\"M303.068 374.156 L822.071 374.156 L822.071 166.796 L303.068 166.796  Z\" fill=\"#ffffff\" fill-rule=\"evenodd\" fill-opacity=\"1\"/>\n",
       "<polyline clip-path=\"url(#clip800)\" style=\"stroke:#000000; stroke-linecap:round; stroke-linejoin:round; stroke-width:4; stroke-opacity:1; fill:none\" points=\"303.068,374.156 822.071,374.156 822.071,166.796 303.068,166.796 303.068,374.156 \"/>\n",
       "<polyline clip-path=\"url(#clip800)\" style=\"stroke:#009af9; stroke-linecap:round; stroke-linejoin:round; stroke-width:4; stroke-opacity:1; fill:none\" points=\"326.628,218.636 467.986,218.636 \"/>\n",
       "<path clip-path=\"url(#clip800)\" d=\"M496.221 219.411 L496.221 232.073 L503.721 232.073 Q507.494 232.073 509.3 230.522 Q511.128 228.948 511.128 225.731 Q511.128 222.49 509.3 220.962 Q507.494 219.411 503.721 219.411 L496.221 219.411 M496.221 205.198 L496.221 215.615 L503.142 215.615 Q506.568 215.615 508.235 214.342 Q509.925 213.045 509.925 210.407 Q509.925 207.791 508.235 206.495 Q506.568 205.198 503.142 205.198 L496.221 205.198 M491.545 201.356 L503.49 201.356 Q508.837 201.356 511.73 203.578 Q514.624 205.8 514.624 209.897 Q514.624 213.069 513.142 214.944 Q511.661 216.819 508.791 217.282 Q512.24 218.022 514.138 220.383 Q516.059 222.721 516.059 226.24 Q516.059 230.869 512.911 233.393 Q509.763 235.916 503.953 235.916 L491.545 235.916 L491.545 201.356 Z\" fill=\"#000000\" fill-rule=\"nonzero\" fill-opacity=\"1\" /><path clip-path=\"url(#clip800)\" d=\"M546.059 221.888 L546.059 223.971 L526.476 223.971 Q526.753 228.369 529.115 230.684 Q531.499 232.976 535.735 232.976 Q538.189 232.976 540.48 232.374 Q542.795 231.772 545.063 230.569 L545.063 234.596 Q542.772 235.568 540.364 236.078 Q537.957 236.587 535.48 236.587 Q529.277 236.587 525.642 232.976 Q522.031 229.365 522.031 223.207 Q522.031 216.842 525.457 213.115 Q528.906 209.365 534.739 209.365 Q539.971 209.365 543.003 212.745 Q546.059 216.101 546.059 221.888 M541.8 220.638 Q541.753 217.143 539.832 215.059 Q537.934 212.976 534.786 212.976 Q531.221 212.976 529.068 214.99 Q526.939 217.004 526.615 220.661 L541.8 220.638 Z\" fill=\"#000000\" fill-rule=\"nonzero\" fill-opacity=\"1\" /><path clip-path=\"url(#clip800)\" d=\"M575.225 221.888 L575.225 223.971 L555.642 223.971 Q555.92 228.369 558.281 230.684 Q560.665 232.976 564.901 232.976 Q567.355 232.976 569.647 232.374 Q571.961 231.772 574.23 230.569 L574.23 234.596 Q571.938 235.568 569.531 236.078 Q567.124 236.587 564.647 236.587 Q558.443 236.587 554.809 232.976 Q551.198 229.365 551.198 223.207 Q551.198 216.842 554.624 213.115 Q558.073 209.365 563.906 209.365 Q569.137 209.365 572.17 212.745 Q575.225 216.101 575.225 221.888 M570.966 220.638 Q570.92 217.143 568.999 215.059 Q567.1 212.976 563.952 212.976 Q560.387 212.976 558.235 214.99 Q556.105 217.004 555.781 220.661 L570.966 220.638 Z\" fill=\"#000000\" fill-rule=\"nonzero\" fill-opacity=\"1\" /><path clip-path=\"url(#clip800)\" d=\"M595.341 199.897 L595.341 203.439 L591.267 203.439 Q588.975 203.439 588.073 204.365 Q587.193 205.291 587.193 207.698 L587.193 209.99 L594.207 209.99 L594.207 213.3 L587.193 213.3 L587.193 235.916 L582.911 235.916 L582.911 213.3 L578.836 213.3 L578.836 209.99 L582.911 209.99 L582.911 208.184 Q582.911 203.856 584.924 201.888 Q586.938 199.897 591.313 199.897 L595.341 199.897 Z\" fill=\"#000000\" fill-rule=\"nonzero\" fill-opacity=\"1\" /><polyline clip-path=\"url(#clip800)\" style=\"stroke:#e26f46; stroke-linecap:round; stroke-linejoin:round; stroke-width:4; stroke-opacity:1; fill:none\" points=\"326.628,270.476 467.986,270.476 \"/>\n",
       "<path clip-path=\"url(#clip800)\" d=\"M519.415 255.858 L519.415 260.788 Q517.054 258.589 514.369 257.501 Q511.707 256.413 508.698 256.413 Q502.772 256.413 499.624 260.048 Q496.476 263.659 496.476 270.51 Q496.476 277.339 499.624 280.973 Q502.772 284.584 508.698 284.584 Q511.707 284.584 514.369 283.496 Q517.054 282.409 519.415 280.209 L519.415 285.094 Q516.962 286.76 514.207 287.594 Q511.476 288.427 508.42 288.427 Q500.573 288.427 496.059 283.635 Q491.545 278.821 491.545 270.51 Q491.545 262.177 496.059 257.386 Q500.573 252.571 508.42 252.571 Q511.522 252.571 514.253 253.404 Q517.008 254.214 519.415 255.858 Z\" fill=\"#000000\" fill-rule=\"nonzero\" fill-opacity=\"1\" /><path clip-path=\"url(#clip800)\" d=\"M548.628 273.728 L548.628 275.811 L529.045 275.811 Q529.323 280.209 531.684 282.524 Q534.068 284.816 538.304 284.816 Q540.758 284.816 543.05 284.214 Q545.364 283.612 547.633 282.409 L547.633 286.436 Q545.341 287.408 542.934 287.918 Q540.526 288.427 538.05 288.427 Q531.846 288.427 528.212 284.816 Q524.601 281.205 524.601 275.047 Q524.601 268.682 528.027 264.955 Q531.476 261.205 537.309 261.205 Q542.54 261.205 545.573 264.585 Q548.628 267.941 548.628 273.728 M544.369 272.478 Q544.323 268.983 542.401 266.899 Q540.503 264.816 537.355 264.816 Q533.79 264.816 531.638 266.83 Q529.508 268.844 529.184 272.501 L544.369 272.478 Z\" fill=\"#000000\" fill-rule=\"nonzero\" fill-opacity=\"1\" /><path clip-path=\"url(#clip800)\" d=\"M570.642 265.811 Q569.924 265.395 569.068 265.21 Q568.235 265.001 567.216 265.001 Q563.605 265.001 561.661 267.362 Q559.739 269.7 559.739 274.098 L559.739 287.756 L555.457 287.756 L555.457 261.83 L559.739 261.83 L559.739 265.858 Q561.082 263.497 563.235 262.362 Q565.387 261.205 568.466 261.205 Q568.906 261.205 569.438 261.274 Q569.971 261.321 570.619 261.436 L570.642 265.811 Z\" fill=\"#000000\" fill-rule=\"nonzero\" fill-opacity=\"1\" /><path clip-path=\"url(#clip800)\" d=\"M596.244 273.728 L596.244 275.811 L576.661 275.811 Q576.938 280.209 579.299 282.524 Q581.684 284.816 585.92 284.816 Q588.373 284.816 590.665 284.214 Q592.98 283.612 595.248 282.409 L595.248 286.436 Q592.957 287.408 590.549 287.918 Q588.142 288.427 585.665 288.427 Q579.461 288.427 575.827 284.816 Q572.216 281.205 572.216 275.047 Q572.216 268.682 575.642 264.955 Q579.091 261.205 584.924 261.205 Q590.156 261.205 593.188 264.585 Q596.244 267.941 596.244 273.728 M591.985 272.478 Q591.938 268.983 590.017 266.899 Q588.119 264.816 584.971 264.816 Q581.406 264.816 579.253 266.83 Q577.124 268.844 576.799 272.501 L591.985 272.478 Z\" fill=\"#000000\" fill-rule=\"nonzero\" fill-opacity=\"1\" /><path clip-path=\"url(#clip800)\" d=\"M615.017 274.723 Q609.855 274.723 607.864 275.904 Q605.873 277.084 605.873 279.932 Q605.873 282.2 607.355 283.543 Q608.859 284.862 611.429 284.862 Q614.971 284.862 617.1 282.362 Q619.253 279.839 619.253 275.672 L619.253 274.723 L615.017 274.723 M623.512 272.964 L623.512 287.756 L619.253 287.756 L619.253 283.821 Q617.795 286.182 615.619 287.316 Q613.443 288.427 610.295 288.427 Q606.313 288.427 603.952 286.205 Q601.614 283.959 601.614 280.209 Q601.614 275.834 604.531 273.612 Q607.471 271.39 613.281 271.39 L619.253 271.39 L619.253 270.973 Q619.253 268.034 617.308 266.436 Q615.387 264.816 611.892 264.816 Q609.67 264.816 607.563 265.348 Q605.457 265.881 603.512 266.946 L603.512 263.01 Q605.85 262.108 608.049 261.668 Q610.248 261.205 612.332 261.205 Q617.957 261.205 620.734 264.122 Q623.512 267.038 623.512 272.964 Z\" fill=\"#000000\" fill-rule=\"nonzero\" fill-opacity=\"1\" /><path clip-path=\"url(#clip800)\" d=\"M632.285 251.737 L636.544 251.737 L636.544 287.756 L632.285 287.756 L632.285 251.737 Z\" fill=\"#000000\" fill-rule=\"nonzero\" fill-opacity=\"1\" /><polyline clip-path=\"url(#clip800)\" style=\"stroke:#ff0000; stroke-linecap:round; stroke-linejoin:round; stroke-width:4; stroke-opacity:1; fill:none\" stroke-dasharray=\"16, 10\" points=\"326.628,322.316 467.986,322.316 \"/>\n",
       "<path clip-path=\"url(#clip800)\" d=\"M507.564 308.207 Q502.471 308.207 499.462 312.003 Q496.476 315.8 496.476 322.35 Q496.476 328.878 499.462 332.674 Q502.471 336.471 507.564 336.471 Q512.656 336.471 515.619 332.674 Q518.605 328.878 518.605 322.35 Q518.605 315.8 515.619 312.003 Q512.656 308.207 507.564 308.207 M507.564 304.411 Q514.832 304.411 519.184 309.295 Q523.536 314.156 523.536 322.35 Q523.536 330.522 519.184 335.406 Q514.832 340.267 507.564 340.267 Q500.272 340.267 495.897 335.406 Q491.545 330.545 491.545 322.35 Q491.545 314.156 495.897 309.295 Q500.272 304.411 507.564 304.411 Z\" fill=\"#000000\" fill-rule=\"nonzero\" fill-opacity=\"1\" /><path clip-path=\"url(#clip800)\" d=\"M527.61 313.67 L532.124 313.67 L540.226 335.429 L548.327 313.67 L552.841 313.67 L543.119 339.596 L537.332 339.596 L527.61 313.67 Z\" fill=\"#000000\" fill-rule=\"nonzero\" fill-opacity=\"1\" /><path clip-path=\"url(#clip800)\" d=\"M580.897 325.568 L580.897 327.651 L561.313 327.651 Q561.591 332.049 563.952 334.364 Q566.337 336.656 570.573 336.656 Q573.026 336.656 575.318 336.054 Q577.633 335.452 579.901 334.249 L579.901 338.276 Q577.61 339.248 575.202 339.758 Q572.795 340.267 570.318 340.267 Q564.114 340.267 560.48 336.656 Q556.869 333.045 556.869 326.887 Q556.869 320.522 560.295 316.795 Q563.744 313.045 569.577 313.045 Q574.809 313.045 577.841 316.425 Q580.897 319.781 580.897 325.568 M576.637 324.318 Q576.591 320.823 574.67 318.739 Q572.772 316.656 569.624 316.656 Q566.059 316.656 563.906 318.67 Q561.776 320.684 561.452 324.341 L576.637 324.318 Z\" fill=\"#000000\" fill-rule=\"nonzero\" fill-opacity=\"1\" /><path clip-path=\"url(#clip800)\" d=\"M602.91 317.651 Q602.193 317.235 601.336 317.05 Q600.503 316.841 599.484 316.841 Q595.873 316.841 593.929 319.202 Q592.008 321.54 592.008 325.938 L592.008 339.596 L587.725 339.596 L587.725 313.67 L592.008 313.67 L592.008 317.698 Q593.35 315.337 595.503 314.202 Q597.656 313.045 600.734 313.045 Q601.174 313.045 601.707 313.114 Q602.239 313.161 602.887 313.276 L602.91 317.651 Z\" fill=\"#000000\" fill-rule=\"nonzero\" fill-opacity=\"1\" /><path clip-path=\"url(#clip800)\" d=\"M619.16 326.563 Q613.998 326.563 612.008 327.744 Q610.017 328.924 610.017 331.772 Q610.017 334.04 611.498 335.383 Q613.003 336.702 615.572 336.702 Q619.114 336.702 621.244 334.202 Q623.396 331.679 623.396 327.512 L623.396 326.563 L619.16 326.563 M627.656 324.804 L627.656 339.596 L623.396 339.596 L623.396 335.661 Q621.938 338.022 619.762 339.156 Q617.586 340.267 614.438 340.267 Q610.457 340.267 608.096 338.045 Q605.758 335.799 605.758 332.049 Q605.758 327.674 608.674 325.452 Q611.614 323.23 617.424 323.23 L623.396 323.23 L623.396 322.813 Q623.396 319.874 621.452 318.276 Q619.531 316.656 616.035 316.656 Q613.813 316.656 611.707 317.188 Q609.6 317.721 607.656 318.786 L607.656 314.85 Q609.994 313.948 612.193 313.508 Q614.392 313.045 616.475 313.045 Q622.1 313.045 624.878 315.962 Q627.656 318.878 627.656 324.804 Z\" fill=\"#000000\" fill-rule=\"nonzero\" fill-opacity=\"1\" /><path clip-path=\"url(#clip800)\" d=\"M636.429 303.577 L640.688 303.577 L640.688 339.596 L636.429 339.596 L636.429 303.577 Z\" fill=\"#000000\" fill-rule=\"nonzero\" fill-opacity=\"1\" /><path clip-path=\"url(#clip800)\" d=\"M649.6 303.577 L653.859 303.577 L653.859 339.596 L649.6 339.596 L649.6 303.577 Z\" fill=\"#000000\" fill-rule=\"nonzero\" fill-opacity=\"1\" /><path clip-path=\"url(#clip800)\" d=\"M678.026 305.036 L684.993 305.036 L693.813 328.554 L702.678 305.036 L709.646 305.036 L709.646 339.596 L705.086 339.596 L705.086 309.249 L696.174 332.952 L691.475 332.952 L682.563 309.249 L682.563 339.596 L678.026 339.596 L678.026 305.036 Z\" fill=\"#000000\" fill-rule=\"nonzero\" fill-opacity=\"1\" /><path clip-path=\"url(#clip800)\" d=\"M740.919 325.568 L740.919 327.651 L721.336 327.651 Q721.613 332.049 723.975 334.364 Q726.359 336.656 730.595 336.656 Q733.049 336.656 735.34 336.054 Q737.655 335.452 739.924 334.249 L739.924 338.276 Q737.632 339.248 735.225 339.758 Q732.817 340.267 730.34 340.267 Q724.137 340.267 720.502 336.656 Q716.891 333.045 716.891 326.887 Q716.891 320.522 720.317 316.795 Q723.766 313.045 729.6 313.045 Q734.831 313.045 737.863 316.425 Q740.919 319.781 740.919 325.568 M736.66 324.318 Q736.613 320.823 734.692 318.739 Q732.794 316.656 729.646 316.656 Q726.081 316.656 723.928 318.67 Q721.799 320.684 721.475 324.341 L736.66 324.318 Z\" fill=\"#000000\" fill-rule=\"nonzero\" fill-opacity=\"1\" /><path clip-path=\"url(#clip800)\" d=\"M759.692 326.563 Q754.53 326.563 752.539 327.744 Q750.549 328.924 750.549 331.772 Q750.549 334.04 752.03 335.383 Q753.535 336.702 756.104 336.702 Q759.646 336.702 761.775 334.202 Q763.928 331.679 763.928 327.512 L763.928 326.563 L759.692 326.563 M768.187 324.804 L768.187 339.596 L763.928 339.596 L763.928 335.661 Q762.47 338.022 760.294 339.156 Q758.118 340.267 754.97 340.267 Q750.988 340.267 748.627 338.045 Q746.289 335.799 746.289 332.049 Q746.289 327.674 749.206 325.452 Q752.146 323.23 757.956 323.23 L763.928 323.23 L763.928 322.813 Q763.928 319.874 761.984 318.276 Q760.062 316.656 756.567 316.656 Q754.345 316.656 752.238 317.188 Q750.132 317.721 748.187 318.786 L748.187 314.85 Q750.525 313.948 752.724 313.508 Q754.923 313.045 757.007 313.045 Q762.632 313.045 765.41 315.962 Q768.187 318.878 768.187 324.804 Z\" fill=\"#000000\" fill-rule=\"nonzero\" fill-opacity=\"1\" /><path clip-path=\"url(#clip800)\" d=\"M798.511 323.948 L798.511 339.596 L794.252 339.596 L794.252 324.087 Q794.252 320.406 792.817 318.577 Q791.382 316.749 788.511 316.749 Q785.062 316.749 783.071 318.948 Q781.081 321.147 781.081 324.943 L781.081 339.596 L776.798 339.596 L776.798 313.67 L781.081 313.67 L781.081 317.698 Q782.609 315.36 784.669 314.202 Q786.752 313.045 789.46 313.045 Q793.928 313.045 796.22 315.823 Q798.511 318.577 798.511 323.948 Z\" fill=\"#000000\" fill-rule=\"nonzero\" fill-opacity=\"1\" /></svg>\n"
      ]
     },
     "execution_count": 41,
     "metadata": {},
     "output_type": "execute_result"
    }
   ],
   "source": [
    "# Calculate mean weight gain for each combination of factors\n",
    "interaction_means = combine(groupby(weightgain, [:source, :type]), :weightgain => mean => :mean_weightgain)\n",
    "\n",
    "# Convert type to a CategoricalArray with desired order\n",
    "interaction_means.type = CategoricalArray(interaction_means.type, levels=[\"High\", \"Low\"], ordered=true)\n",
    "\n",
    "# Set up the plot\n",
    "plot(title=\"Interaction Plot for Weight Gain\",\n",
    "     xlabel=\"Type\", ylabel=\"Mean Weight Gain\",\n",
    "     legend=:topright, \n",
    "     xticks=(1:2, [\"High\", \"Low\"]),  # Set ticks explicitly\n",
    "     ylims=(75, 105),                # Adjust y-axis limits for clarity\n",
    "     marker=:circle)                 # Set marker style for clarity\n",
    "\n",
    "# Loop through each source and plot its corresponding means for each type\n",
    "for source in unique(weightgain.source)\n",
    "    # Extract means for the current source\n",
    "    means = interaction_means.mean_weightgain[interaction_means.source .== source]\n",
    "    \n",
    "    # Check if means are available\n",
    "    if !isempty(means)\n",
    "        # Plot with lines for each source\n",
    "        plot!(interaction_means.type[interaction_means.source .== source], means, \n",
    "              label=source, \n",
    "              line=:solid,  # Solid line for clarity\n",
    "              legend=:topleft)  # Position of the legend\n",
    "    end\n",
    "end\n",
    "\n",
    "hline!([mean(weightgain.weightgain)], label=\"Overall Mean\", color=:red, linestyle=:dash)\n"
   ]
  },
  {
   "cell_type": "markdown",
   "id": "7fe6780b",
   "metadata": {},
   "source": [
    "### Foster Feeding of Rats (Two-Way ANOVA and Tukey HSD)\n"
   ]
  },
  {
   "cell_type": "code",
   "execution_count": 42,
   "id": "5c63e851",
   "metadata": {},
   "outputs": [
    {
     "data": {
      "text/html": [
       "<div><div style = \"float: left;\"><span>61×3 DataFrame</span></div><div style = \"float: right;\"><span style = \"font-style: italic;\">36 rows omitted</span></div><div style = \"clear: both;\"></div></div><div class = \"data-frame\" style = \"overflow-x: scroll;\"><table class = \"data-frame\" style = \"margin-bottom: 6px;\"><thead><tr class = \"header\"><th class = \"rowNumber\" style = \"font-weight: bold; text-align: right;\">Row</th><th style = \"text-align: left;\">litgen</th><th style = \"text-align: left;\">motgen</th><th style = \"text-align: left;\">weight</th></tr><tr class = \"subheader headerLastRow\"><th class = \"rowNumber\" style = \"font-weight: bold; text-align: right;\"></th><th title = \"String1\" style = \"text-align: left;\">String1</th><th title = \"String1\" style = \"text-align: left;\">String1</th><th title = \"Float64\" style = \"text-align: left;\">Float64</th></tr></thead><tbody><tr><td class = \"rowNumber\" style = \"font-weight: bold; text-align: right;\">1</td><td style = \"text-align: left;\">A</td><td style = \"text-align: left;\">A</td><td style = \"text-align: right;\">61.5</td></tr><tr><td class = \"rowNumber\" style = \"font-weight: bold; text-align: right;\">2</td><td style = \"text-align: left;\">A</td><td style = \"text-align: left;\">A</td><td style = \"text-align: right;\">68.2</td></tr><tr><td class = \"rowNumber\" style = \"font-weight: bold; text-align: right;\">3</td><td style = \"text-align: left;\">A</td><td style = \"text-align: left;\">A</td><td style = \"text-align: right;\">64.0</td></tr><tr><td class = \"rowNumber\" style = \"font-weight: bold; text-align: right;\">4</td><td style = \"text-align: left;\">A</td><td style = \"text-align: left;\">A</td><td style = \"text-align: right;\">65.0</td></tr><tr><td class = \"rowNumber\" style = \"font-weight: bold; text-align: right;\">5</td><td style = \"text-align: left;\">A</td><td style = \"text-align: left;\">A</td><td style = \"text-align: right;\">59.7</td></tr><tr><td class = \"rowNumber\" style = \"font-weight: bold; text-align: right;\">6</td><td style = \"text-align: left;\">A</td><td style = \"text-align: left;\">B</td><td style = \"text-align: right;\">55.0</td></tr><tr><td class = \"rowNumber\" style = \"font-weight: bold; text-align: right;\">7</td><td style = \"text-align: left;\">A</td><td style = \"text-align: left;\">B</td><td style = \"text-align: right;\">42.0</td></tr><tr><td class = \"rowNumber\" style = \"font-weight: bold; text-align: right;\">8</td><td style = \"text-align: left;\">A</td><td style = \"text-align: left;\">B</td><td style = \"text-align: right;\">60.2</td></tr><tr><td class = \"rowNumber\" style = \"font-weight: bold; text-align: right;\">9</td><td style = \"text-align: left;\">A</td><td style = \"text-align: left;\">I</td><td style = \"text-align: right;\">52.5</td></tr><tr><td class = \"rowNumber\" style = \"font-weight: bold; text-align: right;\">10</td><td style = \"text-align: left;\">A</td><td style = \"text-align: left;\">I</td><td style = \"text-align: right;\">61.8</td></tr><tr><td class = \"rowNumber\" style = \"font-weight: bold; text-align: right;\">11</td><td style = \"text-align: left;\">A</td><td style = \"text-align: left;\">I</td><td style = \"text-align: right;\">49.5</td></tr><tr><td class = \"rowNumber\" style = \"font-weight: bold; text-align: right;\">12</td><td style = \"text-align: left;\">A</td><td style = \"text-align: left;\">I</td><td style = \"text-align: right;\">52.7</td></tr><tr><td class = \"rowNumber\" style = \"font-weight: bold; text-align: right;\">13</td><td style = \"text-align: left;\">A</td><td style = \"text-align: left;\">J</td><td style = \"text-align: right;\">42.0</td></tr><tr><td style = \"text-align: right;\">&vellip;</td><td style = \"text-align: right;\">&vellip;</td><td style = \"text-align: right;\">&vellip;</td><td style = \"text-align: right;\">&vellip;</td></tr><tr><td class = \"rowNumber\" style = \"font-weight: bold; text-align: right;\">50</td><td style = \"text-align: left;\">J</td><td style = \"text-align: left;\">A</td><td style = \"text-align: right;\">47.0</td></tr><tr><td class = \"rowNumber\" style = \"font-weight: bold; text-align: right;\">51</td><td style = \"text-align: left;\">J</td><td style = \"text-align: left;\">B</td><td style = \"text-align: right;\">59.5</td></tr><tr><td class = \"rowNumber\" style = \"font-weight: bold; text-align: right;\">52</td><td style = \"text-align: left;\">J</td><td style = \"text-align: left;\">B</td><td style = \"text-align: right;\">52.8</td></tr><tr><td class = \"rowNumber\" style = \"font-weight: bold; text-align: right;\">53</td><td style = \"text-align: left;\">J</td><td style = \"text-align: left;\">B</td><td style = \"text-align: right;\">56.0</td></tr><tr><td class = \"rowNumber\" style = \"font-weight: bold; text-align: right;\">54</td><td style = \"text-align: left;\">J</td><td style = \"text-align: left;\">I</td><td style = \"text-align: right;\">45.2</td></tr><tr><td class = \"rowNumber\" style = \"font-weight: bold; text-align: right;\">55</td><td style = \"text-align: left;\">J</td><td style = \"text-align: left;\">I</td><td style = \"text-align: right;\">57.0</td></tr><tr><td class = \"rowNumber\" style = \"font-weight: bold; text-align: right;\">56</td><td style = \"text-align: left;\">J</td><td style = \"text-align: left;\">I</td><td style = \"text-align: right;\">61.4</td></tr><tr><td class = \"rowNumber\" style = \"font-weight: bold; text-align: right;\">57</td><td style = \"text-align: left;\">J</td><td style = \"text-align: left;\">J</td><td style = \"text-align: right;\">44.8</td></tr><tr><td class = \"rowNumber\" style = \"font-weight: bold; text-align: right;\">58</td><td style = \"text-align: left;\">J</td><td style = \"text-align: left;\">J</td><td style = \"text-align: right;\">51.5</td></tr><tr><td class = \"rowNumber\" style = \"font-weight: bold; text-align: right;\">59</td><td style = \"text-align: left;\">J</td><td style = \"text-align: left;\">J</td><td style = \"text-align: right;\">53.0</td></tr><tr><td class = \"rowNumber\" style = \"font-weight: bold; text-align: right;\">60</td><td style = \"text-align: left;\">J</td><td style = \"text-align: left;\">J</td><td style = \"text-align: right;\">42.0</td></tr><tr><td class = \"rowNumber\" style = \"font-weight: bold; text-align: right;\">61</td><td style = \"text-align: left;\">J</td><td style = \"text-align: left;\">J</td><td style = \"text-align: right;\">54.0</td></tr></tbody></table></div>"
      ],
      "text/latex": [
       "\\begin{tabular}{r|ccc}\n",
       "\t& litgen & motgen & weight\\\\\n",
       "\t\\hline\n",
       "\t& String1 & String1 & Float64\\\\\n",
       "\t\\hline\n",
       "\t1 & A & A & 61.5 \\\\\n",
       "\t2 & A & A & 68.2 \\\\\n",
       "\t3 & A & A & 64.0 \\\\\n",
       "\t4 & A & A & 65.0 \\\\\n",
       "\t5 & A & A & 59.7 \\\\\n",
       "\t6 & A & B & 55.0 \\\\\n",
       "\t7 & A & B & 42.0 \\\\\n",
       "\t8 & A & B & 60.2 \\\\\n",
       "\t9 & A & I & 52.5 \\\\\n",
       "\t10 & A & I & 61.8 \\\\\n",
       "\t11 & A & I & 49.5 \\\\\n",
       "\t12 & A & I & 52.7 \\\\\n",
       "\t13 & A & J & 42.0 \\\\\n",
       "\t14 & A & J & 54.0 \\\\\n",
       "\t15 & A & J & 61.0 \\\\\n",
       "\t16 & A & J & 48.2 \\\\\n",
       "\t17 & A & J & 39.6 \\\\\n",
       "\t18 & B & A & 60.3 \\\\\n",
       "\t19 & B & A & 51.7 \\\\\n",
       "\t20 & B & A & 49.3 \\\\\n",
       "\t21 & B & A & 48.0 \\\\\n",
       "\t22 & B & B & 50.8 \\\\\n",
       "\t23 & B & B & 64.7 \\\\\n",
       "\t24 & B & B & 61.7 \\\\\n",
       "\t25 & B & B & 64.0 \\\\\n",
       "\t26 & B & B & 62.0 \\\\\n",
       "\t27 & B & I & 56.5 \\\\\n",
       "\t28 & B & I & 59.0 \\\\\n",
       "\t29 & B & I & 47.2 \\\\\n",
       "\t30 & B & I & 53.0 \\\\\n",
       "\t$\\dots$ & $\\dots$ & $\\dots$ & $\\dots$ \\\\\n",
       "\\end{tabular}\n"
      ],
      "text/plain": [
       "\u001b[1m61×3 DataFrame\u001b[0m\n",
       "\u001b[1m Row \u001b[0m│\u001b[1m litgen  \u001b[0m\u001b[1m motgen  \u001b[0m\u001b[1m weight  \u001b[0m\n",
       "     │\u001b[90m String1 \u001b[0m\u001b[90m String1 \u001b[0m\u001b[90m Float64 \u001b[0m\n",
       "─────┼───────────────────────────\n",
       "   1 │ A        A           61.5\n",
       "   2 │ A        A           68.2\n",
       "   3 │ A        A           64.0\n",
       "   4 │ A        A           65.0\n",
       "   5 │ A        A           59.7\n",
       "   6 │ A        B           55.0\n",
       "   7 │ A        B           42.0\n",
       "   8 │ A        B           60.2\n",
       "   9 │ A        I           52.5\n",
       "  10 │ A        I           61.8\n",
       "  11 │ A        I           49.5\n",
       "  ⋮  │    ⋮        ⋮        ⋮\n",
       "  52 │ J        B           52.8\n",
       "  53 │ J        B           56.0\n",
       "  54 │ J        I           45.2\n",
       "  55 │ J        I           57.0\n",
       "  56 │ J        I           61.4\n",
       "  57 │ J        J           44.8\n",
       "  58 │ J        J           51.5\n",
       "  59 │ J        J           53.0\n",
       "  60 │ J        J           42.0\n",
       "  61 │ J        J           54.0\n",
       "\u001b[36m                  40 rows omitted\u001b[0m"
      ]
     },
     "execution_count": 42,
     "metadata": {},
     "output_type": "execute_result"
    }
   ],
   "source": [
    "foster = CSV.read(\"/Users/VSR/Desktop/Capstone/ANOVA/foster.csv\", DataFrame)"
   ]
  },
  {
   "cell_type": "code",
   "execution_count": 43,
   "id": "b582fcff",
   "metadata": {},
   "outputs": [
    {
     "name": "stdout",
     "output_type": "stream",
     "text": [
      "StatsModels.TableRegressionModel{LinearModel{GLM.LmResp{Vector{Float64}}, GLM.DensePredChol{Float64, LinearAlgebra.CholeskyPivoted{Float64, Matrix{Float64}, Vector{Int64}}}}, Matrix{Float64}}\n"
     ]
    }
   ],
   "source": [
    "using CSV\n",
    "using DataFrames\n",
    "using GLM\n",
    "using Statistics\n",
    "\n",
    "# Load the dataset\n",
    "foster = CSV.read(\"/Users/VSR/Desktop/Capstone/ANOVA/foster.csv\", DataFrame)\n",
    "\n",
    "# Fit the model (two-way ANOVA)\n",
    "model = lm(@formula(weight ~ litgen * motgen), foster)\n",
    "\n",
    "# Display the summary which includes the ANOVA results\n",
    "println(summary(model))\n",
    "\n"
   ]
  },
  {
   "cell_type": "code",
   "execution_count": 44,
   "id": "c100c080",
   "metadata": {},
   "outputs": [
    {
     "data": {
      "text/html": [
       "<div><div style = \"float: left;\"><span>16×3 DataFrame</span></div><div style = \"clear: both;\"></div></div><div class = \"data-frame\" style = \"overflow-x: scroll;\"><table class = \"data-frame\" style = \"margin-bottom: 6px;\"><thead><tr class = \"header\"><th class = \"rowNumber\" style = \"font-weight: bold; text-align: right;\">Row</th><th style = \"text-align: left;\">litgen</th><th style = \"text-align: left;\">motgen</th><th style = \"text-align: left;\">mean_weight</th></tr><tr class = \"subheader headerLastRow\"><th class = \"rowNumber\" style = \"font-weight: bold; text-align: right;\"></th><th title = \"String1\" style = \"text-align: left;\">String1</th><th title = \"String1\" style = \"text-align: left;\">String1</th><th title = \"Float64\" style = \"text-align: left;\">Float64</th></tr></thead><tbody><tr><td class = \"rowNumber\" style = \"font-weight: bold; text-align: right;\">1</td><td style = \"text-align: left;\">A</td><td style = \"text-align: left;\">A</td><td style = \"text-align: right;\">63.68</td></tr><tr><td class = \"rowNumber\" style = \"font-weight: bold; text-align: right;\">2</td><td style = \"text-align: left;\">A</td><td style = \"text-align: left;\">B</td><td style = \"text-align: right;\">52.4</td></tr><tr><td class = \"rowNumber\" style = \"font-weight: bold; text-align: right;\">3</td><td style = \"text-align: left;\">A</td><td style = \"text-align: left;\">I</td><td style = \"text-align: right;\">54.125</td></tr><tr><td class = \"rowNumber\" style = \"font-weight: bold; text-align: right;\">4</td><td style = \"text-align: left;\">A</td><td style = \"text-align: left;\">J</td><td style = \"text-align: right;\">48.96</td></tr><tr><td class = \"rowNumber\" style = \"font-weight: bold; text-align: right;\">5</td><td style = \"text-align: left;\">B</td><td style = \"text-align: left;\">A</td><td style = \"text-align: right;\">52.325</td></tr><tr><td class = \"rowNumber\" style = \"font-weight: bold; text-align: right;\">6</td><td style = \"text-align: left;\">B</td><td style = \"text-align: left;\">B</td><td style = \"text-align: right;\">60.64</td></tr><tr><td class = \"rowNumber\" style = \"font-weight: bold; text-align: right;\">7</td><td style = \"text-align: left;\">B</td><td style = \"text-align: left;\">I</td><td style = \"text-align: right;\">53.925</td></tr><tr><td class = \"rowNumber\" style = \"font-weight: bold; text-align: right;\">8</td><td style = \"text-align: left;\">B</td><td style = \"text-align: left;\">J</td><td style = \"text-align: right;\">45.9</td></tr><tr><td class = \"rowNumber\" style = \"font-weight: bold; text-align: right;\">9</td><td style = \"text-align: left;\">I</td><td style = \"text-align: left;\">A</td><td style = \"text-align: right;\">47.1</td></tr><tr><td class = \"rowNumber\" style = \"font-weight: bold; text-align: right;\">10</td><td style = \"text-align: left;\">I</td><td style = \"text-align: left;\">B</td><td style = \"text-align: right;\">64.3667</td></tr><tr><td class = \"rowNumber\" style = \"font-weight: bold; text-align: right;\">11</td><td style = \"text-align: left;\">I</td><td style = \"text-align: left;\">I</td><td style = \"text-align: right;\">51.6</td></tr><tr><td class = \"rowNumber\" style = \"font-weight: bold; text-align: right;\">12</td><td style = \"text-align: left;\">I</td><td style = \"text-align: left;\">J</td><td style = \"text-align: right;\">49.4333</td></tr><tr><td class = \"rowNumber\" style = \"font-weight: bold; text-align: right;\">13</td><td style = \"text-align: left;\">J</td><td style = \"text-align: left;\">A</td><td style = \"text-align: right;\">54.35</td></tr><tr><td class = \"rowNumber\" style = \"font-weight: bold; text-align: right;\">14</td><td style = \"text-align: left;\">J</td><td style = \"text-align: left;\">B</td><td style = \"text-align: right;\">56.1</td></tr><tr><td class = \"rowNumber\" style = \"font-weight: bold; text-align: right;\">15</td><td style = \"text-align: left;\">J</td><td style = \"text-align: left;\">I</td><td style = \"text-align: right;\">54.5333</td></tr><tr><td class = \"rowNumber\" style = \"font-weight: bold; text-align: right;\">16</td><td style = \"text-align: left;\">J</td><td style = \"text-align: left;\">J</td><td style = \"text-align: right;\">49.06</td></tr></tbody></table></div>"
      ],
      "text/latex": [
       "\\begin{tabular}{r|ccc}\n",
       "\t& litgen & motgen & mean\\_weight\\\\\n",
       "\t\\hline\n",
       "\t& String1 & String1 & Float64\\\\\n",
       "\t\\hline\n",
       "\t1 & A & A & 63.68 \\\\\n",
       "\t2 & A & B & 52.4 \\\\\n",
       "\t3 & A & I & 54.125 \\\\\n",
       "\t4 & A & J & 48.96 \\\\\n",
       "\t5 & B & A & 52.325 \\\\\n",
       "\t6 & B & B & 60.64 \\\\\n",
       "\t7 & B & I & 53.925 \\\\\n",
       "\t8 & B & J & 45.9 \\\\\n",
       "\t9 & I & A & 47.1 \\\\\n",
       "\t10 & I & B & 64.3667 \\\\\n",
       "\t11 & I & I & 51.6 \\\\\n",
       "\t12 & I & J & 49.4333 \\\\\n",
       "\t13 & J & A & 54.35 \\\\\n",
       "\t14 & J & B & 56.1 \\\\\n",
       "\t15 & J & I & 54.5333 \\\\\n",
       "\t16 & J & J & 49.06 \\\\\n",
       "\\end{tabular}\n"
      ],
      "text/plain": [
       "\u001b[1m16×3 DataFrame\u001b[0m\n",
       "\u001b[1m Row \u001b[0m│\u001b[1m litgen  \u001b[0m\u001b[1m motgen  \u001b[0m\u001b[1m mean_weight \u001b[0m\n",
       "     │\u001b[90m String1 \u001b[0m\u001b[90m String1 \u001b[0m\u001b[90m Float64     \u001b[0m\n",
       "─────┼───────────────────────────────\n",
       "   1 │ A        A            63.68\n",
       "   2 │ A        B            52.4\n",
       "   3 │ A        I            54.125\n",
       "   4 │ A        J            48.96\n",
       "   5 │ B        A            52.325\n",
       "   6 │ B        B            60.64\n",
       "   7 │ B        I            53.925\n",
       "   8 │ B        J            45.9\n",
       "   9 │ I        A            47.1\n",
       "  10 │ I        B            64.3667\n",
       "  11 │ I        I            51.6\n",
       "  12 │ I        J            49.4333\n",
       "  13 │ J        A            54.35\n",
       "  14 │ J        B            56.1\n",
       "  15 │ J        I            54.5333\n",
       "  16 │ J        J            49.06"
      ]
     },
     "execution_count": 44,
     "metadata": {},
     "output_type": "execute_result"
    }
   ],
   "source": [
    "# Calculate ANOVA-like statistics manually\n",
    "# First, calculate the overall mean\n",
    "overall_mean = mean(foster.weight)\n",
    "\n",
    "# Calculate means for each level of litgen and motgen\n",
    "means_litgen = combine(groupby(foster, :litgen), :weight => mean => :mean_weight)\n",
    "means_motgen = combine(groupby(foster, :motgen), :weight => mean => :mean_weight)\n",
    "means_interaction = combine(groupby(foster, [:litgen, :motgen]), :weight => mean => :mean_weight)\n",
    "\n"
   ]
  },
  {
   "cell_type": "code",
   "execution_count": 45,
   "id": "7442c99e",
   "metadata": {},
   "outputs": [
    {
     "data": {
      "text/plain": [
       "61"
      ]
     },
     "execution_count": 45,
     "metadata": {},
     "output_type": "execute_result"
    }
   ],
   "source": [
    "n = nrow(foster)"
   ]
  },
  {
   "cell_type": "code",
   "execution_count": 46,
   "id": "d58bfe55",
   "metadata": {},
   "outputs": [
    {
     "data": {
      "text/plain": [
       "60"
      ]
     },
     "execution_count": 46,
     "metadata": {},
     "output_type": "execute_result"
    }
   ],
   "source": [
    "# Degrees of freedom using length(unique(...))\n",
    "df_total = n - 1"
   ]
  },
  {
   "cell_type": "code",
   "execution_count": 47,
   "id": "3cf5722e",
   "metadata": {},
   "outputs": [
    {
     "data": {
      "text/plain": [
       "3"
      ]
     },
     "execution_count": 47,
     "metadata": {},
     "output_type": "execute_result"
    }
   ],
   "source": [
    "df_litgen = length(unique(foster.litgen)) - 1\n"
   ]
  },
  {
   "cell_type": "code",
   "execution_count": 48,
   "id": "1d7fb54f",
   "metadata": {},
   "outputs": [
    {
     "data": {
      "text/plain": [
       "3"
      ]
     },
     "execution_count": 48,
     "metadata": {},
     "output_type": "execute_result"
    }
   ],
   "source": [
    "df_motgen = length(unique(foster.motgen)) - 1\n"
   ]
  },
  {
   "cell_type": "code",
   "execution_count": 49,
   "id": "f9602fe6",
   "metadata": {},
   "outputs": [
    {
     "data": {
      "text/plain": [
       "9"
      ]
     },
     "execution_count": 49,
     "metadata": {},
     "output_type": "execute_result"
    }
   ],
   "source": [
    "df_interaction = df_litgen * df_motgen\n"
   ]
  },
  {
   "cell_type": "code",
   "execution_count": 50,
   "id": "2491d194",
   "metadata": {},
   "outputs": [
    {
     "data": {
      "text/plain": [
       "4100.1268852459025"
      ]
     },
     "execution_count": 50,
     "metadata": {},
     "output_type": "execute_result"
    }
   ],
   "source": [
    "# Calculate the sum of squares for each factor and interaction\n",
    "SS_total = sum((foster.weight .- overall_mean).^2)\n"
   ]
  },
  {
   "cell_type": "code",
   "execution_count": 51,
   "id": "ef176c58",
   "metadata": {},
   "outputs": [
    {
     "data": {
      "text/plain": [
       "60.15728580612596"
      ]
     },
     "execution_count": 51,
     "metadata": {},
     "output_type": "execute_result"
    }
   ],
   "source": [
    "SS_litgen = sum([count(foster.litgen .== l) * (mean(foster.weight[foster.litgen .== l]) - overall_mean)^2 for l in unique(foster.litgen)])\n"
   ]
  },
  {
   "cell_type": "code",
   "execution_count": 52,
   "id": "7c3209b7",
   "metadata": {},
   "outputs": [
    {
     "data": {
      "text/plain": [
       "771.6053852459012"
      ]
     },
     "execution_count": 52,
     "metadata": {},
     "output_type": "execute_result"
    }
   ],
   "source": [
    "SS_motgen = sum([count(foster.motgen .== m) * (mean(foster.weight[foster.motgen .== m]) - overall_mean)^2 for m in unique(foster.motgen)])\n"
   ]
  },
  {
   "cell_type": "code",
   "execution_count": 53,
   "id": "f555300e",
   "metadata": {},
   "outputs": [
    {
     "data": {
      "text/plain": [
       "61-element Vector{Float64}:\n",
       " 63.6800000000001\n",
       " 63.6800000000001\n",
       " 63.6800000000001\n",
       " 63.6800000000001\n",
       " 63.6800000000001\n",
       " 52.39999999999992\n",
       " 52.39999999999992\n",
       " 52.39999999999992\n",
       " 54.124999999999986\n",
       " 54.124999999999986\n",
       " 54.124999999999986\n",
       " 54.124999999999986\n",
       " 48.96000000000001\n",
       "  ⋮\n",
       " 54.349999999999994\n",
       " 56.10000000000001\n",
       " 56.10000000000001\n",
       " 56.10000000000001\n",
       " 54.53333333333332\n",
       " 54.53333333333332\n",
       " 54.53333333333332\n",
       " 49.06\n",
       " 49.06\n",
       " 49.06\n",
       " 49.06\n",
       " 49.06"
      ]
     },
     "execution_count": 53,
     "metadata": {},
     "output_type": "execute_result"
    }
   ],
   "source": [
    "predicted_values = predict(model)\n"
   ]
  },
  {
   "cell_type": "code",
   "execution_count": 54,
   "id": "db4fb624",
   "metadata": {},
   "outputs": [
    {
     "data": {
      "text/plain": [
       "2440.8165"
      ]
     },
     "execution_count": 54,
     "metadata": {},
     "output_type": "execute_result"
    }
   ],
   "source": [
    "residuals = foster.weight .- predicted_values\n",
    "SS_residual = sum(residuals.^2)"
   ]
  },
  {
   "cell_type": "code",
   "execution_count": 55,
   "id": "250146f0",
   "metadata": {},
   "outputs": [
    {
     "data": {
      "text/plain": [
       "827.5477141938754"
      ]
     },
     "execution_count": 55,
     "metadata": {},
     "output_type": "execute_result"
    }
   ],
   "source": [
    "SS_interaction = SS_total - (SS_litgen + SS_motgen + SS_residual)\n"
   ]
  },
  {
   "cell_type": "code",
   "execution_count": 68,
   "id": "96504f96",
   "metadata": {},
   "outputs": [
    {
     "data": {
      "text/plain": [
       "20.05242860204199"
      ]
     },
     "execution_count": 68,
     "metadata": {},
     "output_type": "execute_result"
    }
   ],
   "source": [
    "MS_litgen = SS_litgen / df_litgen\n"
   ]
  },
  {
   "cell_type": "code",
   "execution_count": 69,
   "id": "4645d661",
   "metadata": {},
   "outputs": [
    {
     "data": {
      "text/plain": [
       "257.2017950819671"
      ]
     },
     "execution_count": 69,
     "metadata": {},
     "output_type": "execute_result"
    }
   ],
   "source": [
    "MS_motgen = SS_motgen / df_motgen\n"
   ]
  },
  {
   "cell_type": "code",
   "execution_count": 70,
   "id": "341d23cf",
   "metadata": {},
   "outputs": [
    {
     "data": {
      "text/plain": [
       "98.17777777777762"
      ]
     },
     "execution_count": 70,
     "metadata": {},
     "output_type": "execute_result"
    }
   ],
   "source": [
    "MS_interaction = SS_between_interaction / df_interaction\n"
   ]
  },
  {
   "cell_type": "code",
   "execution_count": 71,
   "id": "3791fa5b",
   "metadata": {},
   "outputs": [
    {
     "data": {
      "text/plain": [
       "45.20030555555555"
      ]
     },
     "execution_count": 71,
     "metadata": {},
     "output_type": "execute_result"
    }
   ],
   "source": [
    "MS_residual = SS_residual / (nrow(foster) - df_litgen - df_motgen - 1)\n"
   ]
  },
  {
   "cell_type": "code",
   "execution_count": 72,
   "id": "7f9a3741",
   "metadata": {},
   "outputs": [
    {
     "data": {
      "text/plain": [
       "2.172060046300077"
      ]
     },
     "execution_count": 72,
     "metadata": {},
     "output_type": "execute_result"
    }
   ],
   "source": [
    "F_litgen = MS_litgen / MS_residual\n",
    "F_motgen = MS_motgen / MS_residual\n",
    "F_interaction = MS_interaction / MS_residual"
   ]
  },
  {
   "cell_type": "code",
   "execution_count": 74,
   "id": "99de9c06",
   "metadata": {},
   "outputs": [
    {
     "name": "stdout",
     "output_type": "stream",
     "text": [
      "Source        Df   Sum Sq   Mean Sq   F value\n",
      "litgen        3   60.15728580612596   20.05242860204199   0.443634801923974\n",
      "motgen        3   771.6053852459012   257.2017950819671   5.69026673427774\n",
      "litgen:motgen 9   827.5477141938754   98.17777777777762   2.172060046300077\n",
      "Residuals     45   2440.8165   45.20030555555555\n"
     ]
    }
   ],
   "source": [
    "\n",
    "# Display ANOVA-like table\n",
    "println(\"Source        Df   Sum Sq   Mean Sq   F value\")\n",
    "println(\"litgen        \", df_litgen, \"   \", SS_litgen, \"   \", MS_litgen, \"   \", F_litgen)\n",
    "println(\"motgen        \", df_motgen, \"   \", SS_motgen, \"   \", MS_motgen, \"   \", F_motgen)\n",
    "println(\"litgen:motgen \", df_interaction, \"   \", SS_interaction, \"   \", MS_interaction, \"   \", F_interaction)\n",
    "println(\"Residuals     \", (n - df_litgen - df_motgen - df_interaction - 1), \"   \", SS_residual, \"   \", MS_residual)"
   ]
  },
  {
   "cell_type": "code",
   "execution_count": 75,
   "id": "afb9f4b0",
   "metadata": {},
   "outputs": [
    {
     "name": "stdout",
     "output_type": "stream",
     "text": [
      "StatsModels.TableRegressionModel{LinearModel{GLM.LmResp{Vector{Float64}}, GLM.DensePredChol{Float64, LinearAlgebra.CholeskyPivoted{Float64, Matrix{Float64}, Vector{Int64}}}}, Matrix{Float64}}\n",
      "Tukey's Honest Significant Differences (HSD) Results:\n",
      "Comparison   |   Diff   |   Lwr   |   Upr   |   p adj\n",
      "A-B | -3.29999999999999 | -9.587395162312735 | 2.9873951623127555 | 0.2976880386391001\n",
      "A-I | 2.0374999999999943 | -3.873897507597058 | 7.948897507597047 | 0.4928717135772249\n",
      "A-J | 6.720000000000006 | 0.7946024067299549 | 12.645397593270058 | 0.02694259488907691\n",
      "B-I | 5.337499999999984 | 0.2919744490794871 | 10.383025550920483 | 0.03851761297628031\n",
      "B-J | 10.019999999999996 | 4.958078997999128 | 15.081921002000865 | 0.00020789840054602493\n",
      "I-J | 4.682500000000012 | 0.09596243924152681 | 9.269037560758496 | 0.045546736881964645\n"
     ]
    }
   ],
   "source": [
    "using CSV\n",
    "using DataFrames\n",
    "using GLM\n",
    "using Statistics\n",
    "using Distributions\n",
    "\n",
    "# Load the dataset\n",
    "foster = CSV.read(\"/Users/VSR/Desktop/Capstone/ANOVA/foster.csv\", DataFrame)\n",
    "\n",
    "# Fit the model (two-way ANOVA)\n",
    "model = lm(@formula(weight ~ litgen * motgen), foster)\n",
    "\n",
    "# Display the summary which includes the ANOVA results\n",
    "println(summary(model))\n",
    "\n",
    "# Extract unique levels of 'motgen'\n",
    "motgen_levels = levels(foster.motgen)\n",
    "\n",
    "# Get the group means and sizes\n",
    "group_means = [mean(foster.weight[foster.motgen .== level]) for level in motgen_levels]\n",
    "group_sizes = [count(foster.motgen .== level) for level in motgen_levels]\n",
    "\n",
    "# Calculate the overall mean\n",
    "overall_mean = mean(foster.weight)\n",
    "\n",
    "# Calculate the standard error for the pairwise differences\n",
    "n = nrow(foster)\n",
    "alpha = 0.05  # Significance level\n",
    "q_crit = quantile(TDist(n - length(motgen_levels)), 1 - alpha / 2)  # Critical value for Tukey's HSD\n",
    "\n",
    "# Prepare to store results\n",
    "results = []\n",
    "\n",
    "# Compute pairwise comparisons\n",
    "for i in 1:length(motgen_levels)\n",
    "    for j in i+1:length(motgen_levels)\n",
    "        diff = group_means[i] - group_means[j]\n",
    "        std_err = sqrt((var(foster.weight[foster.motgen .== motgen_levels[i]]) / group_sizes[i]) +\n",
    "                        (var(foster.weight[foster.motgen .== motgen_levels[j]]) / group_sizes[j]))\n",
    "        \n",
    "        lwr = diff - q_crit * std_err\n",
    "        upr = diff + q_crit * std_err\n",
    "        \n",
    "        # Calculate p-value (two-tailed)\n",
    "        t_stat = abs(diff) / std_err\n",
    "        p_val = 2 * (1 - cdf(TDist(n - length(motgen_levels)), t_stat))\n",
    "\n",
    "        # Store the results\n",
    "        push!(results, (motgen_levels[i], motgen_levels[j], diff, lwr, upr, p_val))\n",
    "    end\n",
    "end\n",
    "\n",
    "# Display results in a formatted way\n",
    "println(\"Tukey's Honest Significant Differences (HSD) Results:\")\n",
    "println(\"Comparison   |   Diff   |   Lwr   |   Upr   |   p adj\")\n",
    "for (level1, level2, diff, lwr, upr, p_adj) in results\n",
    "    println(\"$level1-$level2 | $diff | $lwr | $upr | $p_adj\")\n",
    "end"
   ]
  },
  {
   "cell_type": "code",
   "execution_count": null,
   "id": "1bd1588b-11a2-43e8-920c-adb3eac76f11",
   "metadata": {},
   "outputs": [],
   "source": []
  }
 ],
 "metadata": {
  "kernelspec": {
   "display_name": "Julia 1.10.5",
   "language": "julia",
   "name": "julia-1.10"
  },
  "language_info": {
   "file_extension": ".jl",
   "mimetype": "application/julia",
   "name": "julia",
   "version": "1.10.5"
  }
 },
 "nbformat": 4,
 "nbformat_minor": 5
}
