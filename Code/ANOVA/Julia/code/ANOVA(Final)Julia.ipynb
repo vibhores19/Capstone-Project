{
 "cells": [
  {
   "cell_type": "code",
   "execution_count": 1,
   "id": "dd3c2b43-4025-4cf3-a890-070e9fa4570b",
   "metadata": {},
   "outputs": [
    {
     "name": "stderr",
     "output_type": "stream",
     "text": [
      "\u001b[32m\u001b[1m   Resolving\u001b[22m\u001b[39m package versions...\n",
      "\u001b[32m\u001b[1m  No Changes\u001b[22m\u001b[39m to `~/.julia/environments/v1.10/Project.toml`\n",
      "\u001b[32m\u001b[1m  No Changes\u001b[22m\u001b[39m to `~/.julia/environments/v1.10/Manifest.toml`\n",
      "\u001b[32m\u001b[1m   Resolving\u001b[22m\u001b[39m package versions...\n",
      "\u001b[32m\u001b[1m  No Changes\u001b[22m\u001b[39m to `~/.julia/environments/v1.10/Project.toml`\n",
      "\u001b[32m\u001b[1m  No Changes\u001b[22m\u001b[39m to `~/.julia/environments/v1.10/Manifest.toml`\n",
      "\u001b[32m\u001b[1m   Resolving\u001b[22m\u001b[39m package versions...\n",
      "\u001b[32m\u001b[1m  No Changes\u001b[22m\u001b[39m to `~/.julia/environments/v1.10/Project.toml`\n",
      "\u001b[32m\u001b[1m  No Changes\u001b[22m\u001b[39m to `~/.julia/environments/v1.10/Manifest.toml`\n"
     ]
    }
   ],
   "source": [
    "using Pkg\n",
    "Pkg.add(\"MultivariateStats\")\n",
    "Pkg.add(\"CSV\")\n",
    "Pkg.add(\"DataFrames\")\n"
   ]
  },
  {
   "cell_type": "code",
   "execution_count": 24,
   "id": "48891492-fdb9-4008-9e98-a60658e1b7ca",
   "metadata": {},
   "outputs": [],
   "source": [
    "using CSV, DataFrames,GLM"
   ]
  },
  {
   "cell_type": "markdown",
   "id": "6a9e62a1-928a-4755-b7a1-059c9f79a95c",
   "metadata": {},
   "source": [
    "## Weight Gain"
   ]
  },
  {
   "cell_type": "code",
   "execution_count": 19,
   "id": "1d500a3d-b6de-4263-9b95-bc99334a6e24",
   "metadata": {},
   "outputs": [
    {
     "data": {
      "text/html": [
       "<div><div style = \"float: left;\"><span>40×3 DataFrame</span></div><div style = \"float: right;\"><span style = \"font-style: italic;\">15 rows omitted</span></div><div style = \"clear: both;\"></div></div><div class = \"data-frame\" style = \"overflow-x: scroll;\"><table class = \"data-frame\" style = \"margin-bottom: 6px;\"><thead><tr class = \"header\"><th class = \"rowNumber\" style = \"font-weight: bold; text-align: right;\">Row</th><th style = \"text-align: left;\">source</th><th style = \"text-align: left;\">type</th><th style = \"text-align: left;\">weightgain</th></tr><tr class = \"subheader headerLastRow\"><th class = \"rowNumber\" style = \"font-weight: bold; text-align: right;\"></th><th title = \"String7\" style = \"text-align: left;\">String7</th><th title = \"String7\" style = \"text-align: left;\">String7</th><th title = \"Int64\" style = \"text-align: left;\">Int64</th></tr></thead><tbody><tr><td class = \"rowNumber\" style = \"font-weight: bold; text-align: right;\">1</td><td style = \"text-align: left;\">Beef</td><td style = \"text-align: left;\">Low</td><td style = \"text-align: right;\">90</td></tr><tr><td class = \"rowNumber\" style = \"font-weight: bold; text-align: right;\">2</td><td style = \"text-align: left;\">Beef</td><td style = \"text-align: left;\">Low</td><td style = \"text-align: right;\">76</td></tr><tr><td class = \"rowNumber\" style = \"font-weight: bold; text-align: right;\">3</td><td style = \"text-align: left;\">Beef</td><td style = \"text-align: left;\">Low</td><td style = \"text-align: right;\">90</td></tr><tr><td class = \"rowNumber\" style = \"font-weight: bold; text-align: right;\">4</td><td style = \"text-align: left;\">Beef</td><td style = \"text-align: left;\">Low</td><td style = \"text-align: right;\">64</td></tr><tr><td class = \"rowNumber\" style = \"font-weight: bold; text-align: right;\">5</td><td style = \"text-align: left;\">Beef</td><td style = \"text-align: left;\">Low</td><td style = \"text-align: right;\">86</td></tr><tr><td class = \"rowNumber\" style = \"font-weight: bold; text-align: right;\">6</td><td style = \"text-align: left;\">Beef</td><td style = \"text-align: left;\">Low</td><td style = \"text-align: right;\">51</td></tr><tr><td class = \"rowNumber\" style = \"font-weight: bold; text-align: right;\">7</td><td style = \"text-align: left;\">Beef</td><td style = \"text-align: left;\">Low</td><td style = \"text-align: right;\">72</td></tr><tr><td class = \"rowNumber\" style = \"font-weight: bold; text-align: right;\">8</td><td style = \"text-align: left;\">Beef</td><td style = \"text-align: left;\">Low</td><td style = \"text-align: right;\">90</td></tr><tr><td class = \"rowNumber\" style = \"font-weight: bold; text-align: right;\">9</td><td style = \"text-align: left;\">Beef</td><td style = \"text-align: left;\">Low</td><td style = \"text-align: right;\">95</td></tr><tr><td class = \"rowNumber\" style = \"font-weight: bold; text-align: right;\">10</td><td style = \"text-align: left;\">Beef</td><td style = \"text-align: left;\">Low</td><td style = \"text-align: right;\">78</td></tr><tr><td class = \"rowNumber\" style = \"font-weight: bold; text-align: right;\">11</td><td style = \"text-align: left;\">Beef</td><td style = \"text-align: left;\">High</td><td style = \"text-align: right;\">73</td></tr><tr><td class = \"rowNumber\" style = \"font-weight: bold; text-align: right;\">12</td><td style = \"text-align: left;\">Beef</td><td style = \"text-align: left;\">High</td><td style = \"text-align: right;\">102</td></tr><tr><td class = \"rowNumber\" style = \"font-weight: bold; text-align: right;\">13</td><td style = \"text-align: left;\">Beef</td><td style = \"text-align: left;\">High</td><td style = \"text-align: right;\">118</td></tr><tr><td style = \"text-align: right;\">&vellip;</td><td style = \"text-align: right;\">&vellip;</td><td style = \"text-align: right;\">&vellip;</td><td style = \"text-align: right;\">&vellip;</td></tr><tr><td class = \"rowNumber\" style = \"font-weight: bold; text-align: right;\">29</td><td style = \"text-align: left;\">Cereal</td><td style = \"text-align: left;\">Low</td><td style = \"text-align: right;\">89</td></tr><tr><td class = \"rowNumber\" style = \"font-weight: bold; text-align: right;\">30</td><td style = \"text-align: left;\">Cereal</td><td style = \"text-align: left;\">Low</td><td style = \"text-align: right;\">58</td></tr><tr><td class = \"rowNumber\" style = \"font-weight: bold; text-align: right;\">31</td><td style = \"text-align: left;\">Cereal</td><td style = \"text-align: left;\">High</td><td style = \"text-align: right;\">98</td></tr><tr><td class = \"rowNumber\" style = \"font-weight: bold; text-align: right;\">32</td><td style = \"text-align: left;\">Cereal</td><td style = \"text-align: left;\">High</td><td style = \"text-align: right;\">74</td></tr><tr><td class = \"rowNumber\" style = \"font-weight: bold; text-align: right;\">33</td><td style = \"text-align: left;\">Cereal</td><td style = \"text-align: left;\">High</td><td style = \"text-align: right;\">56</td></tr><tr><td class = \"rowNumber\" style = \"font-weight: bold; text-align: right;\">34</td><td style = \"text-align: left;\">Cereal</td><td style = \"text-align: left;\">High</td><td style = \"text-align: right;\">111</td></tr><tr><td class = \"rowNumber\" style = \"font-weight: bold; text-align: right;\">35</td><td style = \"text-align: left;\">Cereal</td><td style = \"text-align: left;\">High</td><td style = \"text-align: right;\">95</td></tr><tr><td class = \"rowNumber\" style = \"font-weight: bold; text-align: right;\">36</td><td style = \"text-align: left;\">Cereal</td><td style = \"text-align: left;\">High</td><td style = \"text-align: right;\">88</td></tr><tr><td class = \"rowNumber\" style = \"font-weight: bold; text-align: right;\">37</td><td style = \"text-align: left;\">Cereal</td><td style = \"text-align: left;\">High</td><td style = \"text-align: right;\">82</td></tr><tr><td class = \"rowNumber\" style = \"font-weight: bold; text-align: right;\">38</td><td style = \"text-align: left;\">Cereal</td><td style = \"text-align: left;\">High</td><td style = \"text-align: right;\">77</td></tr><tr><td class = \"rowNumber\" style = \"font-weight: bold; text-align: right;\">39</td><td style = \"text-align: left;\">Cereal</td><td style = \"text-align: left;\">High</td><td style = \"text-align: right;\">86</td></tr><tr><td class = \"rowNumber\" style = \"font-weight: bold; text-align: right;\">40</td><td style = \"text-align: left;\">Cereal</td><td style = \"text-align: left;\">High</td><td style = \"text-align: right;\">92</td></tr></tbody></table></div>"
      ],
      "text/latex": [
       "\\begin{tabular}{r|ccc}\n",
       "\t& source & type & weightgain\\\\\n",
       "\t\\hline\n",
       "\t& String7 & String7 & Int64\\\\\n",
       "\t\\hline\n",
       "\t1 & Beef & Low & 90 \\\\\n",
       "\t2 & Beef & Low & 76 \\\\\n",
       "\t3 & Beef & Low & 90 \\\\\n",
       "\t4 & Beef & Low & 64 \\\\\n",
       "\t5 & Beef & Low & 86 \\\\\n",
       "\t6 & Beef & Low & 51 \\\\\n",
       "\t7 & Beef & Low & 72 \\\\\n",
       "\t8 & Beef & Low & 90 \\\\\n",
       "\t9 & Beef & Low & 95 \\\\\n",
       "\t10 & Beef & Low & 78 \\\\\n",
       "\t11 & Beef & High & 73 \\\\\n",
       "\t12 & Beef & High & 102 \\\\\n",
       "\t13 & Beef & High & 118 \\\\\n",
       "\t14 & Beef & High & 104 \\\\\n",
       "\t15 & Beef & High & 81 \\\\\n",
       "\t16 & Beef & High & 107 \\\\\n",
       "\t17 & Beef & High & 100 \\\\\n",
       "\t18 & Beef & High & 87 \\\\\n",
       "\t19 & Beef & High & 117 \\\\\n",
       "\t20 & Beef & High & 111 \\\\\n",
       "\t21 & Cereal & Low & 107 \\\\\n",
       "\t22 & Cereal & Low & 95 \\\\\n",
       "\t23 & Cereal & Low & 97 \\\\\n",
       "\t24 & Cereal & Low & 80 \\\\\n",
       "\t25 & Cereal & Low & 98 \\\\\n",
       "\t26 & Cereal & Low & 74 \\\\\n",
       "\t27 & Cereal & Low & 74 \\\\\n",
       "\t28 & Cereal & Low & 67 \\\\\n",
       "\t29 & Cereal & Low & 89 \\\\\n",
       "\t30 & Cereal & Low & 58 \\\\\n",
       "\t$\\dots$ & $\\dots$ & $\\dots$ & $\\dots$ \\\\\n",
       "\\end{tabular}\n"
      ],
      "text/plain": [
       "\u001b[1m40×3 DataFrame\u001b[0m\n",
       "\u001b[1m Row \u001b[0m│\u001b[1m source  \u001b[0m\u001b[1m type    \u001b[0m\u001b[1m weightgain \u001b[0m\n",
       "     │\u001b[90m String7 \u001b[0m\u001b[90m String7 \u001b[0m\u001b[90m Int64      \u001b[0m\n",
       "─────┼──────────────────────────────\n",
       "   1 │ Beef     Low              90\n",
       "   2 │ Beef     Low              76\n",
       "   3 │ Beef     Low              90\n",
       "   4 │ Beef     Low              64\n",
       "   5 │ Beef     Low              86\n",
       "   6 │ Beef     Low              51\n",
       "   7 │ Beef     Low              72\n",
       "   8 │ Beef     Low              90\n",
       "   9 │ Beef     Low              95\n",
       "  10 │ Beef     Low              78\n",
       "  11 │ Beef     High             73\n",
       "  ⋮  │    ⋮        ⋮         ⋮\n",
       "  31 │ Cereal   High             98\n",
       "  32 │ Cereal   High             74\n",
       "  33 │ Cereal   High             56\n",
       "  34 │ Cereal   High            111\n",
       "  35 │ Cereal   High             95\n",
       "  36 │ Cereal   High             88\n",
       "  37 │ Cereal   High             82\n",
       "  38 │ Cereal   High             77\n",
       "  39 │ Cereal   High             86\n",
       "  40 │ Cereal   High             92\n",
       "\u001b[36m                     19 rows omitted\u001b[0m"
      ]
     },
     "execution_count": 19,
     "metadata": {},
     "output_type": "execute_result"
    }
   ],
   "source": [
    "weightgain = CSV.read(\"/Users/VSR/Desktop/Capstone/ANOVA/weightgain.csv\", DataFrame)"
   ]
  },
  {
   "cell_type": "code",
   "execution_count": 20,
   "id": "2cd0a214-f16a-45a5-a12f-2fae38c98d7d",
   "metadata": {},
   "outputs": [
    {
     "name": "stdout",
     "output_type": "stream",
     "text": [
      "\u001b[1m4×3 DataFrame\u001b[0m\n",
      "\u001b[1m Row \u001b[0m│\u001b[1m source  \u001b[0m\u001b[1m type    \u001b[0m\u001b[1m Mean    \u001b[0m\n",
      "     │\u001b[90m String7 \u001b[0m\u001b[90m String7 \u001b[0m\u001b[90m Float64 \u001b[0m\n",
      "─────┼───────────────────────────\n",
      "   1 │ Beef     Low         79.2\n",
      "   2 │ Beef     High       100.0\n",
      "   3 │ Cereal   Low         83.9\n",
      "   4 │ Cereal   High        85.9\n",
      "\u001b[1m4×3 DataFrame\u001b[0m\n",
      "\u001b[1m Row \u001b[0m│\u001b[1m source  \u001b[0m\u001b[1m type    \u001b[0m\u001b[1m SD      \u001b[0m\n",
      "     │\u001b[90m String7 \u001b[0m\u001b[90m String7 \u001b[0m\u001b[90m Float64 \u001b[0m\n",
      "─────┼───────────────────────────\n",
      "   1 │ Beef     Low      13.8868\n",
      "   2 │ Beef     High     15.1364\n",
      "   3 │ Cereal   Low      15.7088\n",
      "   4 │ Cereal   High     15.0218\n"
     ]
    }
   ],
   "source": [
    "using Statistics\n",
    "\n",
    "# Calculate mean\n",
    "mean_stats = combine(groupby(weightgain, [:source, :type]), :weightgain => mean => :Mean)\n",
    "\n",
    "# Calculate standard deviation\n",
    "std_stats = combine(groupby(weightgain, [:source, :type]), :weightgain => std => :SD)\n",
    "\n",
    "# Display results\n",
    "println(mean_stats)\n",
    "println(std_stats)\n"
   ]
  },
  {
   "cell_type": "code",
   "execution_count": 21,
   "id": "8fe5bbe8-74a9-4f8c-b0df-bd4d8bbac1e3",
   "metadata": {},
   "outputs": [
    {
     "name": "stdout",
     "output_type": "stream",
     "text": [
      "\n",
      "Analysis of Variance Results\n",
      "\n",
      "       Effect       SS  DF        MS         F          p            ω²\n",
      "-----------------------------------------------------------------------\n",
      "        Total  10453.5  39                                             \n",
      "         type   1299.6   1  1299.6    5.81231   0.0211449   0.107388   \n",
      "       source    220.9   1   220.9    0.987949  0.326878   -0.000301355\n",
      "type × source    883.6   1   883.6    3.9518    0.0544676   0.0687235  \n",
      "        Error   8049.4  36   223.594                                   \n",
      "\n"
     ]
    }
   ],
   "source": [
    "using SimpleANOVA\n",
    "\n",
    "# Perform two-way ANOVA with SimpleANOVA\n",
    "anova_results = anova(weightgain, :weightgain, [:source, :type])\n",
    "\n",
    "# Display the results\n",
    "println(anova_results)\n"
   ]
  },
  {
   "cell_type": "markdown",
   "id": "b1a4dae7-d7ca-40c6-8b07-c89acee863b3",
   "metadata": {},
   "source": [
    "## Foster"
   ]
  },
  {
   "cell_type": "code",
   "execution_count": 22,
   "id": "b3ac12df-8a79-4516-aaa4-cfc03000dd5d",
   "metadata": {},
   "outputs": [
    {
     "data": {
      "text/html": [
       "<div><div style = \"float: left;\"><span>61×3 DataFrame</span></div><div style = \"float: right;\"><span style = \"font-style: italic;\">36 rows omitted</span></div><div style = \"clear: both;\"></div></div><div class = \"data-frame\" style = \"overflow-x: scroll;\"><table class = \"data-frame\" style = \"margin-bottom: 6px;\"><thead><tr class = \"header\"><th class = \"rowNumber\" style = \"font-weight: bold; text-align: right;\">Row</th><th style = \"text-align: left;\">litgen</th><th style = \"text-align: left;\">motgen</th><th style = \"text-align: left;\">weight</th></tr><tr class = \"subheader headerLastRow\"><th class = \"rowNumber\" style = \"font-weight: bold; text-align: right;\"></th><th title = \"String1\" style = \"text-align: left;\">String1</th><th title = \"String1\" style = \"text-align: left;\">String1</th><th title = \"Float64\" style = \"text-align: left;\">Float64</th></tr></thead><tbody><tr><td class = \"rowNumber\" style = \"font-weight: bold; text-align: right;\">1</td><td style = \"text-align: left;\">A</td><td style = \"text-align: left;\">A</td><td style = \"text-align: right;\">61.5</td></tr><tr><td class = \"rowNumber\" style = \"font-weight: bold; text-align: right;\">2</td><td style = \"text-align: left;\">A</td><td style = \"text-align: left;\">A</td><td style = \"text-align: right;\">68.2</td></tr><tr><td class = \"rowNumber\" style = \"font-weight: bold; text-align: right;\">3</td><td style = \"text-align: left;\">A</td><td style = \"text-align: left;\">A</td><td style = \"text-align: right;\">64.0</td></tr><tr><td class = \"rowNumber\" style = \"font-weight: bold; text-align: right;\">4</td><td style = \"text-align: left;\">A</td><td style = \"text-align: left;\">A</td><td style = \"text-align: right;\">65.0</td></tr><tr><td class = \"rowNumber\" style = \"font-weight: bold; text-align: right;\">5</td><td style = \"text-align: left;\">A</td><td style = \"text-align: left;\">A</td><td style = \"text-align: right;\">59.7</td></tr><tr><td class = \"rowNumber\" style = \"font-weight: bold; text-align: right;\">6</td><td style = \"text-align: left;\">A</td><td style = \"text-align: left;\">B</td><td style = \"text-align: right;\">55.0</td></tr><tr><td class = \"rowNumber\" style = \"font-weight: bold; text-align: right;\">7</td><td style = \"text-align: left;\">A</td><td style = \"text-align: left;\">B</td><td style = \"text-align: right;\">42.0</td></tr><tr><td class = \"rowNumber\" style = \"font-weight: bold; text-align: right;\">8</td><td style = \"text-align: left;\">A</td><td style = \"text-align: left;\">B</td><td style = \"text-align: right;\">60.2</td></tr><tr><td class = \"rowNumber\" style = \"font-weight: bold; text-align: right;\">9</td><td style = \"text-align: left;\">A</td><td style = \"text-align: left;\">I</td><td style = \"text-align: right;\">52.5</td></tr><tr><td class = \"rowNumber\" style = \"font-weight: bold; text-align: right;\">10</td><td style = \"text-align: left;\">A</td><td style = \"text-align: left;\">I</td><td style = \"text-align: right;\">61.8</td></tr><tr><td class = \"rowNumber\" style = \"font-weight: bold; text-align: right;\">11</td><td style = \"text-align: left;\">A</td><td style = \"text-align: left;\">I</td><td style = \"text-align: right;\">49.5</td></tr><tr><td class = \"rowNumber\" style = \"font-weight: bold; text-align: right;\">12</td><td style = \"text-align: left;\">A</td><td style = \"text-align: left;\">I</td><td style = \"text-align: right;\">52.7</td></tr><tr><td class = \"rowNumber\" style = \"font-weight: bold; text-align: right;\">13</td><td style = \"text-align: left;\">A</td><td style = \"text-align: left;\">J</td><td style = \"text-align: right;\">42.0</td></tr><tr><td style = \"text-align: right;\">&vellip;</td><td style = \"text-align: right;\">&vellip;</td><td style = \"text-align: right;\">&vellip;</td><td style = \"text-align: right;\">&vellip;</td></tr><tr><td class = \"rowNumber\" style = \"font-weight: bold; text-align: right;\">50</td><td style = \"text-align: left;\">J</td><td style = \"text-align: left;\">A</td><td style = \"text-align: right;\">47.0</td></tr><tr><td class = \"rowNumber\" style = \"font-weight: bold; text-align: right;\">51</td><td style = \"text-align: left;\">J</td><td style = \"text-align: left;\">B</td><td style = \"text-align: right;\">59.5</td></tr><tr><td class = \"rowNumber\" style = \"font-weight: bold; text-align: right;\">52</td><td style = \"text-align: left;\">J</td><td style = \"text-align: left;\">B</td><td style = \"text-align: right;\">52.8</td></tr><tr><td class = \"rowNumber\" style = \"font-weight: bold; text-align: right;\">53</td><td style = \"text-align: left;\">J</td><td style = \"text-align: left;\">B</td><td style = \"text-align: right;\">56.0</td></tr><tr><td class = \"rowNumber\" style = \"font-weight: bold; text-align: right;\">54</td><td style = \"text-align: left;\">J</td><td style = \"text-align: left;\">I</td><td style = \"text-align: right;\">45.2</td></tr><tr><td class = \"rowNumber\" style = \"font-weight: bold; text-align: right;\">55</td><td style = \"text-align: left;\">J</td><td style = \"text-align: left;\">I</td><td style = \"text-align: right;\">57.0</td></tr><tr><td class = \"rowNumber\" style = \"font-weight: bold; text-align: right;\">56</td><td style = \"text-align: left;\">J</td><td style = \"text-align: left;\">I</td><td style = \"text-align: right;\">61.4</td></tr><tr><td class = \"rowNumber\" style = \"font-weight: bold; text-align: right;\">57</td><td style = \"text-align: left;\">J</td><td style = \"text-align: left;\">J</td><td style = \"text-align: right;\">44.8</td></tr><tr><td class = \"rowNumber\" style = \"font-weight: bold; text-align: right;\">58</td><td style = \"text-align: left;\">J</td><td style = \"text-align: left;\">J</td><td style = \"text-align: right;\">51.5</td></tr><tr><td class = \"rowNumber\" style = \"font-weight: bold; text-align: right;\">59</td><td style = \"text-align: left;\">J</td><td style = \"text-align: left;\">J</td><td style = \"text-align: right;\">53.0</td></tr><tr><td class = \"rowNumber\" style = \"font-weight: bold; text-align: right;\">60</td><td style = \"text-align: left;\">J</td><td style = \"text-align: left;\">J</td><td style = \"text-align: right;\">42.0</td></tr><tr><td class = \"rowNumber\" style = \"font-weight: bold; text-align: right;\">61</td><td style = \"text-align: left;\">J</td><td style = \"text-align: left;\">J</td><td style = \"text-align: right;\">54.0</td></tr></tbody></table></div>"
      ],
      "text/latex": [
       "\\begin{tabular}{r|ccc}\n",
       "\t& litgen & motgen & weight\\\\\n",
       "\t\\hline\n",
       "\t& String1 & String1 & Float64\\\\\n",
       "\t\\hline\n",
       "\t1 & A & A & 61.5 \\\\\n",
       "\t2 & A & A & 68.2 \\\\\n",
       "\t3 & A & A & 64.0 \\\\\n",
       "\t4 & A & A & 65.0 \\\\\n",
       "\t5 & A & A & 59.7 \\\\\n",
       "\t6 & A & B & 55.0 \\\\\n",
       "\t7 & A & B & 42.0 \\\\\n",
       "\t8 & A & B & 60.2 \\\\\n",
       "\t9 & A & I & 52.5 \\\\\n",
       "\t10 & A & I & 61.8 \\\\\n",
       "\t11 & A & I & 49.5 \\\\\n",
       "\t12 & A & I & 52.7 \\\\\n",
       "\t13 & A & J & 42.0 \\\\\n",
       "\t14 & A & J & 54.0 \\\\\n",
       "\t15 & A & J & 61.0 \\\\\n",
       "\t16 & A & J & 48.2 \\\\\n",
       "\t17 & A & J & 39.6 \\\\\n",
       "\t18 & B & A & 60.3 \\\\\n",
       "\t19 & B & A & 51.7 \\\\\n",
       "\t20 & B & A & 49.3 \\\\\n",
       "\t21 & B & A & 48.0 \\\\\n",
       "\t22 & B & B & 50.8 \\\\\n",
       "\t23 & B & B & 64.7 \\\\\n",
       "\t24 & B & B & 61.7 \\\\\n",
       "\t25 & B & B & 64.0 \\\\\n",
       "\t26 & B & B & 62.0 \\\\\n",
       "\t27 & B & I & 56.5 \\\\\n",
       "\t28 & B & I & 59.0 \\\\\n",
       "\t29 & B & I & 47.2 \\\\\n",
       "\t30 & B & I & 53.0 \\\\\n",
       "\t$\\dots$ & $\\dots$ & $\\dots$ & $\\dots$ \\\\\n",
       "\\end{tabular}\n"
      ],
      "text/plain": [
       "\u001b[1m61×3 DataFrame\u001b[0m\n",
       "\u001b[1m Row \u001b[0m│\u001b[1m litgen  \u001b[0m\u001b[1m motgen  \u001b[0m\u001b[1m weight  \u001b[0m\n",
       "     │\u001b[90m String1 \u001b[0m\u001b[90m String1 \u001b[0m\u001b[90m Float64 \u001b[0m\n",
       "─────┼───────────────────────────\n",
       "   1 │ A        A           61.5\n",
       "   2 │ A        A           68.2\n",
       "   3 │ A        A           64.0\n",
       "   4 │ A        A           65.0\n",
       "   5 │ A        A           59.7\n",
       "   6 │ A        B           55.0\n",
       "   7 │ A        B           42.0\n",
       "   8 │ A        B           60.2\n",
       "   9 │ A        I           52.5\n",
       "  10 │ A        I           61.8\n",
       "  11 │ A        I           49.5\n",
       "  ⋮  │    ⋮        ⋮        ⋮\n",
       "  52 │ J        B           52.8\n",
       "  53 │ J        B           56.0\n",
       "  54 │ J        I           45.2\n",
       "  55 │ J        I           57.0\n",
       "  56 │ J        I           61.4\n",
       "  57 │ J        J           44.8\n",
       "  58 │ J        J           51.5\n",
       "  59 │ J        J           53.0\n",
       "  60 │ J        J           42.0\n",
       "  61 │ J        J           54.0\n",
       "\u001b[36m                  40 rows omitted\u001b[0m"
      ]
     },
     "execution_count": 22,
     "metadata": {},
     "output_type": "execute_result"
    }
   ],
   "source": [
    "\n",
    "# Load the foster dataset (assuming it's saved as a CSV file)\n",
    "foster = CSV.read(\"/Users/VSR/Desktop/Capstone/ANOVA/foster.csv\", DataFrame)\n"
   ]
  },
  {
   "cell_type": "code",
   "execution_count": 27,
   "id": "9c6500f2-2113-47e7-afe2-dce315a4f07f",
   "metadata": {
    "scrolled": true
   },
   "outputs": [
    {
     "data": {
      "text/plain": [
       "StatsModels.TableRegressionModel{LinearModel{GLM.LmResp{Vector{Float64}}, GLM.DensePredChol{Float64, CholeskyPivoted{Float64, Matrix{Float64}, Vector{Int64}}}}, Matrix{Float64}}\n",
       "\n",
       "weight ~ 1 + litgen + motgen + litgen & motgen\n",
       "\n",
       "Coefficients:\n",
       "────────────────────────────────────────────────────────────────────────────────────\n",
       "                           Coef.  Std. Error      t  Pr(>|t|)   Lower 95%  Upper 95%\n",
       "────────────────────────────────────────────────────────────────────────────────────\n",
       "(Intercept)             63.68        3.29364  19.33    <1e-22   57.0463    70.3137\n",
       "litgen: B              -11.355       4.94046  -2.30    0.0262  -21.3056    -1.4044\n",
       "litgen: I              -16.58        5.37849  -3.08    0.0035  -27.4128    -5.74716\n",
       "litgen: J               -9.33        4.94046  -1.89    0.0654  -19.2806     0.620601\n",
       "motgen: B              -11.28        5.37849  -2.10    0.0416  -22.1128    -0.447157\n",
       "motgen: I               -9.555       4.94046  -1.93    0.0594  -19.5056     0.395601\n",
       "motgen: J              -14.72        4.65791  -3.16    0.0028  -24.1015    -5.33848\n",
       "litgen: B & motgen: B   19.595       7.30317   2.68    0.0102    4.88565   34.3043\n",
       "litgen: I & motgen: B   28.5467      8.06774   3.54    0.0009   12.2974    44.7959\n",
       "litgen: J & motgen: B   13.03        7.78257   1.67    0.1010   -2.6449    28.7049\n",
       "litgen: B & motgen: I   11.155       7.17832   1.55    0.1272   -3.30289   25.6129\n",
       "litgen: I & motgen: I   14.055       7.30317   1.92    0.0606   -0.654349  28.7643\n",
       "litgen: J & motgen: I    9.73833     7.48655   1.30    0.2000   -5.34035   24.817\n",
       "litgen: B & motgen: J    8.295       7.89787   1.05    0.2992   -7.61214   24.2021\n",
       "litgen: I & motgen: J   17.0533      7.60634   2.24    0.0299    1.73338   32.3733\n",
       "litgen: J & motgen: J    9.43        6.79002   1.39    0.1717   -4.24579   23.1058\n",
       "────────────────────────────────────────────────────────────────────────────────────"
      ]
     },
     "execution_count": 27,
     "metadata": {},
     "output_type": "execute_result"
    }
   ],
   "source": [
    "using GLM\n",
    "\n",
    "using GLM\n",
    "\n",
    "# Fit the two-way ANOVA model with interaction between litgen and motgen\n",
    "foster_model = fit(LinearModel, @formula(weight ~ litgen * motgen), foster)\n"
   ]
  },
  {
   "cell_type": "code",
   "execution_count": 29,
   "id": "338e094e-8503-4dc8-b594-644885bb8cd8",
   "metadata": {},
   "outputs": [
    {
     "ename": "LoadError",
     "evalue": "MethodError: no method matching anova(::StatsModels.TableRegressionModel{LinearModel{GLM.LmResp{Vector{Float64}}, GLM.DensePredChol{Float64, CholeskyPivoted{Float64, Matrix{Float64}, Vector{Int64}}}}, Matrix{Float64}})\n\n\u001b[0mClosest candidates are:\n\u001b[0m  anova(\u001b[91m::DataFrame\u001b[39m, \u001b[91m::Symbol\u001b[39m, \u001b[91m::Vector{Symbol}\u001b[39m, \u001b[91m::Vector{FactorType}\u001b[39m; factornames)\n\u001b[0m\u001b[90m   @\u001b[39m \u001b[32mSimpleANOVA\u001b[39m \u001b[90m~/.julia/packages/SimpleANOVA/lj0VA/src/\u001b[39m\u001b[90m\u001b[4manova_dataframes.jl:3\u001b[24m\u001b[39m\n\u001b[0m  anova(\u001b[91m::DataFrame\u001b[39m, \u001b[91m::Symbol\u001b[39m, \u001b[91m::Vector{Symbol}\u001b[39m; ...)\n\u001b[0m\u001b[90m   @\u001b[39m \u001b[32mSimpleANOVA\u001b[39m \u001b[90m~/.julia/packages/SimpleANOVA/lj0VA/src/\u001b[39m\u001b[90m\u001b[4manova_dataframes.jl:3\u001b[24m\u001b[39m\n\u001b[0m  anova(\u001b[91m::AbstractArray{T}\u001b[39m, \u001b[91m::Vector{FactorType}\u001b[39m; factornames, hasreplicates) where T<:Union{Number, AbstractVector{<:Number}}\n\u001b[0m\u001b[90m   @\u001b[39m \u001b[32mSimpleANOVA\u001b[39m \u001b[90m~/.julia/packages/SimpleANOVA/lj0VA/src/\u001b[39m\u001b[90m\u001b[4manova.jl:98\u001b[24m\u001b[39m\n\u001b[0m  ...\n",
     "output_type": "error",
     "traceback": [
      "MethodError: no method matching anova(::StatsModels.TableRegressionModel{LinearModel{GLM.LmResp{Vector{Float64}}, GLM.DensePredChol{Float64, CholeskyPivoted{Float64, Matrix{Float64}, Vector{Int64}}}}, Matrix{Float64}})\n\n\u001b[0mClosest candidates are:\n\u001b[0m  anova(\u001b[91m::DataFrame\u001b[39m, \u001b[91m::Symbol\u001b[39m, \u001b[91m::Vector{Symbol}\u001b[39m, \u001b[91m::Vector{FactorType}\u001b[39m; factornames)\n\u001b[0m\u001b[90m   @\u001b[39m \u001b[32mSimpleANOVA\u001b[39m \u001b[90m~/.julia/packages/SimpleANOVA/lj0VA/src/\u001b[39m\u001b[90m\u001b[4manova_dataframes.jl:3\u001b[24m\u001b[39m\n\u001b[0m  anova(\u001b[91m::DataFrame\u001b[39m, \u001b[91m::Symbol\u001b[39m, \u001b[91m::Vector{Symbol}\u001b[39m; ...)\n\u001b[0m\u001b[90m   @\u001b[39m \u001b[32mSimpleANOVA\u001b[39m \u001b[90m~/.julia/packages/SimpleANOVA/lj0VA/src/\u001b[39m\u001b[90m\u001b[4manova_dataframes.jl:3\u001b[24m\u001b[39m\n\u001b[0m  anova(\u001b[91m::AbstractArray{T}\u001b[39m, \u001b[91m::Vector{FactorType}\u001b[39m; factornames, hasreplicates) where T<:Union{Number, AbstractVector{<:Number}}\n\u001b[0m\u001b[90m   @\u001b[39m \u001b[32mSimpleANOVA\u001b[39m \u001b[90m~/.julia/packages/SimpleANOVA/lj0VA/src/\u001b[39m\u001b[90m\u001b[4manova.jl:98\u001b[24m\u001b[39m\n\u001b[0m  ...\n",
      "",
      "Stacktrace:",
      " [1] top-level scope",
      "   @ In[29]:2"
     ]
    }
   ],
   "source": [
    "# Compute the ANOVA table\n",
    "foster_anova = anova(foster_model)\n",
    "\n",
    "\n"
   ]
  },
  {
   "cell_type": "code",
   "execution_count": null,
   "id": "9765be32-5cae-40c6-9456-25529769e9cd",
   "metadata": {},
   "outputs": [],
   "source": []
  },
  {
   "cell_type": "code",
   "execution_count": null,
   "id": "82ddf591-95a1-4106-a0c2-f436aa37281a",
   "metadata": {},
   "outputs": [],
   "source": []
  },
  {
   "cell_type": "markdown",
   "id": "7cf9117f-f9bc-4c35-aa74-95d4f311b25c",
   "metadata": {},
   "source": [
    "## WATER"
   ]
  },
  {
   "cell_type": "code",
   "execution_count": 1,
   "id": "70e4e7d4-b197-46a6-8fe7-2fad794c4a31",
   "metadata": {},
   "outputs": [
    {
     "data": {
      "text/html": [
       "<div><div style = \"float: left;\"><span>61×4 DataFrame</span></div><div style = \"float: right;\"><span style = \"font-style: italic;\">36 rows omitted</span></div><div style = \"clear: both;\"></div></div><div class = \"data-frame\" style = \"overflow-x: scroll;\"><table class = \"data-frame\" style = \"margin-bottom: 6px;\"><thead><tr class = \"header\"><th class = \"rowNumber\" style = \"font-weight: bold; text-align: right;\">Row</th><th style = \"text-align: left;\">location</th><th style = \"text-align: left;\">town</th><th style = \"text-align: left;\">mortality</th><th style = \"text-align: left;\">hardness</th></tr><tr class = \"subheader headerLastRow\"><th class = \"rowNumber\" style = \"font-weight: bold; text-align: right;\"></th><th title = \"String7\" style = \"text-align: left;\">String7</th><th title = \"String15\" style = \"text-align: left;\">String15</th><th title = \"Int64\" style = \"text-align: left;\">Int64</th><th title = \"Int64\" style = \"text-align: left;\">Int64</th></tr></thead><tbody><tr><td class = \"rowNumber\" style = \"font-weight: bold; text-align: right;\">1</td><td style = \"text-align: left;\">South</td><td style = \"text-align: left;\">Bath</td><td style = \"text-align: right;\">1247</td><td style = \"text-align: right;\">105</td></tr><tr><td class = \"rowNumber\" style = \"font-weight: bold; text-align: right;\">2</td><td style = \"text-align: left;\">North</td><td style = \"text-align: left;\">Birkenhead</td><td style = \"text-align: right;\">1668</td><td style = \"text-align: right;\">17</td></tr><tr><td class = \"rowNumber\" style = \"font-weight: bold; text-align: right;\">3</td><td style = \"text-align: left;\">South</td><td style = \"text-align: left;\">Birmingham</td><td style = \"text-align: right;\">1466</td><td style = \"text-align: right;\">5</td></tr><tr><td class = \"rowNumber\" style = \"font-weight: bold; text-align: right;\">4</td><td style = \"text-align: left;\">North</td><td style = \"text-align: left;\">Blackburn</td><td style = \"text-align: right;\">1800</td><td style = \"text-align: right;\">14</td></tr><tr><td class = \"rowNumber\" style = \"font-weight: bold; text-align: right;\">5</td><td style = \"text-align: left;\">North</td><td style = \"text-align: left;\">Blackpool</td><td style = \"text-align: right;\">1609</td><td style = \"text-align: right;\">18</td></tr><tr><td class = \"rowNumber\" style = \"font-weight: bold; text-align: right;\">6</td><td style = \"text-align: left;\">North</td><td style = \"text-align: left;\">Bolton</td><td style = \"text-align: right;\">1558</td><td style = \"text-align: right;\">10</td></tr><tr><td class = \"rowNumber\" style = \"font-weight: bold; text-align: right;\">7</td><td style = \"text-align: left;\">North</td><td style = \"text-align: left;\">Bootle</td><td style = \"text-align: right;\">1807</td><td style = \"text-align: right;\">15</td></tr><tr><td class = \"rowNumber\" style = \"font-weight: bold; text-align: right;\">8</td><td style = \"text-align: left;\">South</td><td style = \"text-align: left;\">Bournemouth</td><td style = \"text-align: right;\">1299</td><td style = \"text-align: right;\">78</td></tr><tr><td class = \"rowNumber\" style = \"font-weight: bold; text-align: right;\">9</td><td style = \"text-align: left;\">North</td><td style = \"text-align: left;\">Bradford</td><td style = \"text-align: right;\">1637</td><td style = \"text-align: right;\">10</td></tr><tr><td class = \"rowNumber\" style = \"font-weight: bold; text-align: right;\">10</td><td style = \"text-align: left;\">South</td><td style = \"text-align: left;\">Brighton</td><td style = \"text-align: right;\">1359</td><td style = \"text-align: right;\">84</td></tr><tr><td class = \"rowNumber\" style = \"font-weight: bold; text-align: right;\">11</td><td style = \"text-align: left;\">South</td><td style = \"text-align: left;\">Bristol</td><td style = \"text-align: right;\">1392</td><td style = \"text-align: right;\">73</td></tr><tr><td class = \"rowNumber\" style = \"font-weight: bold; text-align: right;\">12</td><td style = \"text-align: left;\">North</td><td style = \"text-align: left;\">Burnley</td><td style = \"text-align: right;\">1755</td><td style = \"text-align: right;\">12</td></tr><tr><td class = \"rowNumber\" style = \"font-weight: bold; text-align: right;\">13</td><td style = \"text-align: left;\">South</td><td style = \"text-align: left;\">Cardiff</td><td style = \"text-align: right;\">1519</td><td style = \"text-align: right;\">21</td></tr><tr><td style = \"text-align: right;\">&vellip;</td><td style = \"text-align: right;\">&vellip;</td><td style = \"text-align: right;\">&vellip;</td><td style = \"text-align: right;\">&vellip;</td><td style = \"text-align: right;\">&vellip;</td></tr><tr><td class = \"rowNumber\" style = \"font-weight: bold; text-align: right;\">50</td><td style = \"text-align: left;\">North</td><td style = \"text-align: left;\">Southport</td><td style = \"text-align: right;\">1587</td><td style = \"text-align: right;\">75</td></tr><tr><td class = \"rowNumber\" style = \"font-weight: bold; text-align: right;\">51</td><td style = \"text-align: left;\">North</td><td style = \"text-align: left;\">South Shields</td><td style = \"text-align: right;\">1713</td><td style = \"text-align: right;\">71</td></tr><tr><td class = \"rowNumber\" style = \"font-weight: bold; text-align: right;\">52</td><td style = \"text-align: left;\">North</td><td style = \"text-align: left;\">Stockport</td><td style = \"text-align: right;\">1557</td><td style = \"text-align: right;\">13</td></tr><tr><td class = \"rowNumber\" style = \"font-weight: bold; text-align: right;\">53</td><td style = \"text-align: left;\">North</td><td style = \"text-align: left;\">Stoke</td><td style = \"text-align: right;\">1640</td><td style = \"text-align: right;\">57</td></tr><tr><td class = \"rowNumber\" style = \"font-weight: bold; text-align: right;\">54</td><td style = \"text-align: left;\">North</td><td style = \"text-align: left;\">Sunderland</td><td style = \"text-align: right;\">1709</td><td style = \"text-align: right;\">71</td></tr><tr><td class = \"rowNumber\" style = \"font-weight: bold; text-align: right;\">55</td><td style = \"text-align: left;\">South</td><td style = \"text-align: left;\">Swansea</td><td style = \"text-align: right;\">1625</td><td style = \"text-align: right;\">13</td></tr><tr><td class = \"rowNumber\" style = \"font-weight: bold; text-align: right;\">56</td><td style = \"text-align: left;\">North</td><td style = \"text-align: left;\">Wallasey</td><td style = \"text-align: right;\">1625</td><td style = \"text-align: right;\">20</td></tr><tr><td class = \"rowNumber\" style = \"font-weight: bold; text-align: right;\">57</td><td style = \"text-align: left;\">South</td><td style = \"text-align: left;\">Walsall</td><td style = \"text-align: right;\">1527</td><td style = \"text-align: right;\">60</td></tr><tr><td class = \"rowNumber\" style = \"font-weight: bold; text-align: right;\">58</td><td style = \"text-align: left;\">South</td><td style = \"text-align: left;\">West Bromwich</td><td style = \"text-align: right;\">1627</td><td style = \"text-align: right;\">53</td></tr><tr><td class = \"rowNumber\" style = \"font-weight: bold; text-align: right;\">59</td><td style = \"text-align: left;\">South</td><td style = \"text-align: left;\">West Ham</td><td style = \"text-align: right;\">1486</td><td style = \"text-align: right;\">122</td></tr><tr><td class = \"rowNumber\" style = \"font-weight: bold; text-align: right;\">60</td><td style = \"text-align: left;\">South</td><td style = \"text-align: left;\">Wolverhampton</td><td style = \"text-align: right;\">1485</td><td style = \"text-align: right;\">81</td></tr><tr><td class = \"rowNumber\" style = \"font-weight: bold; text-align: right;\">61</td><td style = \"text-align: left;\">North</td><td style = \"text-align: left;\">York</td><td style = \"text-align: right;\">1378</td><td style = \"text-align: right;\">71</td></tr></tbody></table></div>"
      ],
      "text/latex": [
       "\\begin{tabular}{r|cccc}\n",
       "\t& location & town & mortality & hardness\\\\\n",
       "\t\\hline\n",
       "\t& String7 & String15 & Int64 & Int64\\\\\n",
       "\t\\hline\n",
       "\t1 & South & Bath & 1247 & 105 \\\\\n",
       "\t2 & North & Birkenhead & 1668 & 17 \\\\\n",
       "\t3 & South & Birmingham & 1466 & 5 \\\\\n",
       "\t4 & North & Blackburn & 1800 & 14 \\\\\n",
       "\t5 & North & Blackpool & 1609 & 18 \\\\\n",
       "\t6 & North & Bolton & 1558 & 10 \\\\\n",
       "\t7 & North & Bootle & 1807 & 15 \\\\\n",
       "\t8 & South & Bournemouth & 1299 & 78 \\\\\n",
       "\t9 & North & Bradford & 1637 & 10 \\\\\n",
       "\t10 & South & Brighton & 1359 & 84 \\\\\n",
       "\t11 & South & Bristol & 1392 & 73 \\\\\n",
       "\t12 & North & Burnley & 1755 & 12 \\\\\n",
       "\t13 & South & Cardiff & 1519 & 21 \\\\\n",
       "\t14 & South & Coventry & 1307 & 78 \\\\\n",
       "\t15 & South & Croydon & 1254 & 96 \\\\\n",
       "\t16 & North & Darlington & 1491 & 20 \\\\\n",
       "\t17 & North & Derby & 1555 & 39 \\\\\n",
       "\t18 & North & Doncaster & 1428 & 39 \\\\\n",
       "\t19 & South & East Ham & 1318 & 122 \\\\\n",
       "\t20 & South & Exeter & 1260 & 21 \\\\\n",
       "\t21 & North & Gateshead & 1723 & 44 \\\\\n",
       "\t22 & North & Grimsby & 1379 & 94 \\\\\n",
       "\t23 & North & Halifax & 1742 & 8 \\\\\n",
       "\t24 & North & Huddersfield & 1574 & 9 \\\\\n",
       "\t25 & North & Hull & 1569 & 91 \\\\\n",
       "\t26 & South & Ipswich & 1096 & 138 \\\\\n",
       "\t27 & North & Leeds & 1591 & 16 \\\\\n",
       "\t28 & South & Leicester & 1402 & 37 \\\\\n",
       "\t29 & North & Liverpool & 1772 & 15 \\\\\n",
       "\t30 & North & Manchester & 1828 & 8 \\\\\n",
       "\t$\\dots$ & $\\dots$ & $\\dots$ & $\\dots$ & $\\dots$ \\\\\n",
       "\\end{tabular}\n"
      ],
      "text/plain": [
       "\u001b[1m61×4 DataFrame\u001b[0m\n",
       "\u001b[1m Row \u001b[0m│\u001b[1m location \u001b[0m\u001b[1m town          \u001b[0m\u001b[1m mortality \u001b[0m\u001b[1m hardness \u001b[0m\n",
       "     │\u001b[90m String7  \u001b[0m\u001b[90m String15      \u001b[0m\u001b[90m Int64     \u001b[0m\u001b[90m Int64    \u001b[0m\n",
       "─────┼──────────────────────────────────────────────\n",
       "   1 │ South     Bath                1247       105\n",
       "   2 │ North     Birkenhead          1668        17\n",
       "   3 │ South     Birmingham          1466         5\n",
       "   4 │ North     Blackburn           1800        14\n",
       "   5 │ North     Blackpool           1609        18\n",
       "   6 │ North     Bolton              1558        10\n",
       "   7 │ North     Bootle              1807        15\n",
       "   8 │ South     Bournemouth         1299        78\n",
       "   9 │ North     Bradford            1637        10\n",
       "  10 │ South     Brighton            1359        84\n",
       "  11 │ South     Bristol             1392        73\n",
       "  ⋮  │    ⋮            ⋮            ⋮         ⋮\n",
       "  52 │ North     Stockport           1557        13\n",
       "  53 │ North     Stoke               1640        57\n",
       "  54 │ North     Sunderland          1709        71\n",
       "  55 │ South     Swansea             1625        13\n",
       "  56 │ North     Wallasey            1625        20\n",
       "  57 │ South     Walsall             1527        60\n",
       "  58 │ South     West Bromwich       1627        53\n",
       "  59 │ South     West Ham            1486       122\n",
       "  60 │ South     Wolverhampton       1485        81\n",
       "  61 │ North     York                1378        71\n",
       "\u001b[36m                                     40 rows omitted\u001b[0m"
      ]
     },
     "execution_count": 1,
     "metadata": {},
     "output_type": "execute_result"
    }
   ],
   "source": [
    "\n",
    "# Load the water dataset (assuming you saved it as a CSV file)\n",
    "water = CSV.read(\"/Users/VSR/Desktop/Capstone/ANOVA/water.csv\", DataFrame)\n"
   ]
  },
  {
   "cell_type": "code",
   "execution_count": 3,
   "id": "e367496c-4242-40bb-9d1f-0ff4ccad7d7c",
   "metadata": {},
   "outputs": [
    {
     "data": {
      "text/plain": [
       "61×2 Matrix{Any}:\n",
       " 1.0  String7(\"South\")\n",
       " 1.0  String7(\"North\")\n",
       " 1.0  String7(\"South\")\n",
       " 1.0  String7(\"North\")\n",
       " 1.0  String7(\"North\")\n",
       " 1.0  String7(\"North\")\n",
       " 1.0  String7(\"North\")\n",
       " 1.0  String7(\"South\")\n",
       " 1.0  String7(\"North\")\n",
       " 1.0  String7(\"South\")\n",
       " 1.0  String7(\"South\")\n",
       " 1.0  String7(\"North\")\n",
       " 1.0  String7(\"South\")\n",
       " ⋮    \n",
       " 1.0  String7(\"North\")\n",
       " 1.0  String7(\"North\")\n",
       " 1.0  String7(\"North\")\n",
       " 1.0  String7(\"North\")\n",
       " 1.0  String7(\"North\")\n",
       " 1.0  String7(\"South\")\n",
       " 1.0  String7(\"North\")\n",
       " 1.0  String7(\"South\")\n",
       " 1.0  String7(\"South\")\n",
       " 1.0  String7(\"South\")\n",
       " 1.0  String7(\"South\")\n",
       " 1.0  String7(\"North\")"
      ]
     },
     "execution_count": 3,
     "metadata": {},
     "output_type": "execute_result"
    }
   ],
   "source": [
    "using MultivariateStats, LinearAlgebra, CategoricalArrays\n",
    "\n",
    "using Statistics\n",
    "\n",
    "# Response matrix Y (dependent variables: hardness and mortality)\n",
    "Y = Matrix(water[:, [:hardness, :mortality]])\n",
    "\n",
    "# Encode location as dummy variables\n",
    "water.location = categorical(water.location)\n",
    "X = hcat(ones(nrow(water)), Matrix(water[:, [:location]]))\n",
    "\n"
   ]
  },
  {
   "cell_type": "code",
   "execution_count": 6,
   "id": "9b0da8df-c685-4946-bf52-2576d38476ee",
   "metadata": {},
   "outputs": [
    {
     "data": {
      "text/plain": [
       "2×2 Matrix{Float64}:\n",
       " 23122.0        -1.50817e5\n",
       "    -1.50817e5   9.83729e5"
      ]
     },
     "execution_count": 6,
     "metadata": {},
     "output_type": "execute_result"
    }
   ],
   "source": [
    "# Mean vector of Y\n",
    "Y_bar = mean(Y, dims=1)\n",
    "\n",
    "# Compute the total SSCP matrix\n",
    "T = (Y .- Y_bar)' * (Y .- Y_bar)\n",
    "\n",
    "# Compute the within-group SSCP matrix\n",
    "groups = groupby(water, :location)\n",
    "W = zeros(2, 2)\n",
    "for g in groups\n",
    "    Y_g = Matrix(g[:, [:hardness, :mortality]])\n",
    "    Y_g_bar = mean(Y_g, dims=1)\n",
    "    W += (Y_g .- Y_g_bar)' * (Y_g .- Y_g_bar)\n",
    "end\n",
    "\n",
    "# Between-group SSCP matrix\n",
    "B = T - W\n"
   ]
  },
  {
   "cell_type": "code",
   "execution_count": 8,
   "id": "57500ca4-eac1-4d3b-80ed-f3557ab27eca",
   "metadata": {},
   "outputs": [
    {
     "name": "stdout",
     "output_type": "stream",
     "text": [
      "Hotelling-Lawley Trace: 0.9002148133569229\n"
     ]
    }
   ],
   "source": [
    "using LinearAlgebra\n",
    "\n",
    "# Ensure to use LinearAlgebra's eigvals function\n",
    "eigvals_ = LinearAlgebra.eigvals\n",
    "\n",
    "# Compute the Hotelling-Lawley trace\n",
    "W_inv = inv(W)\n",
    "eigvals_result = eigvals_(W_inv * B)  # Use the alias eigvals_\n",
    "hotelling_lawley_trace = sum(eigvals_result)\n",
    "\n",
    "println(\"Hotelling-Lawley Trace: \", hotelling_lawley_trace)\n"
   ]
  },
  {
   "cell_type": "markdown",
   "id": "92cc13be-ccd8-4102-a12c-ad76c298da5a",
   "metadata": {},
   "source": [
    "## Skulls"
   ]
  },
  {
   "cell_type": "code",
   "execution_count": 9,
   "id": "6a9e7cad-b0a1-478c-929b-bf45ff862678",
   "metadata": {},
   "outputs": [
    {
     "data": {
      "text/html": [
       "<div><div style = \"float: left;\"><span>150×5 DataFrame</span></div><div style = \"float: right;\"><span style = \"font-style: italic;\">125 rows omitted</span></div><div style = \"clear: both;\"></div></div><div class = \"data-frame\" style = \"overflow-x: scroll;\"><table class = \"data-frame\" style = \"margin-bottom: 6px;\"><thead><tr class = \"header\"><th class = \"rowNumber\" style = \"font-weight: bold; text-align: right;\">Row</th><th style = \"text-align: left;\">epoch</th><th style = \"text-align: left;\">mb</th><th style = \"text-align: left;\">bh</th><th style = \"text-align: left;\">bl</th><th style = \"text-align: left;\">nh</th></tr><tr class = \"subheader headerLastRow\"><th class = \"rowNumber\" style = \"font-weight: bold; text-align: right;\"></th><th title = \"String7\" style = \"text-align: left;\">String7</th><th title = \"Int64\" style = \"text-align: left;\">Int64</th><th title = \"Int64\" style = \"text-align: left;\">Int64</th><th title = \"Int64\" style = \"text-align: left;\">Int64</th><th title = \"Int64\" style = \"text-align: left;\">Int64</th></tr></thead><tbody><tr><td class = \"rowNumber\" style = \"font-weight: bold; text-align: right;\">1</td><td style = \"text-align: left;\">c4000BC</td><td style = \"text-align: right;\">131</td><td style = \"text-align: right;\">138</td><td style = \"text-align: right;\">89</td><td style = \"text-align: right;\">49</td></tr><tr><td class = \"rowNumber\" style = \"font-weight: bold; text-align: right;\">2</td><td style = \"text-align: left;\">c4000BC</td><td style = \"text-align: right;\">125</td><td style = \"text-align: right;\">131</td><td style = \"text-align: right;\">92</td><td style = \"text-align: right;\">48</td></tr><tr><td class = \"rowNumber\" style = \"font-weight: bold; text-align: right;\">3</td><td style = \"text-align: left;\">c4000BC</td><td style = \"text-align: right;\">131</td><td style = \"text-align: right;\">132</td><td style = \"text-align: right;\">99</td><td style = \"text-align: right;\">50</td></tr><tr><td class = \"rowNumber\" style = \"font-weight: bold; text-align: right;\">4</td><td style = \"text-align: left;\">c4000BC</td><td style = \"text-align: right;\">119</td><td style = \"text-align: right;\">132</td><td style = \"text-align: right;\">96</td><td style = \"text-align: right;\">44</td></tr><tr><td class = \"rowNumber\" style = \"font-weight: bold; text-align: right;\">5</td><td style = \"text-align: left;\">c4000BC</td><td style = \"text-align: right;\">136</td><td style = \"text-align: right;\">143</td><td style = \"text-align: right;\">100</td><td style = \"text-align: right;\">54</td></tr><tr><td class = \"rowNumber\" style = \"font-weight: bold; text-align: right;\">6</td><td style = \"text-align: left;\">c4000BC</td><td style = \"text-align: right;\">138</td><td style = \"text-align: right;\">137</td><td style = \"text-align: right;\">89</td><td style = \"text-align: right;\">56</td></tr><tr><td class = \"rowNumber\" style = \"font-weight: bold; text-align: right;\">7</td><td style = \"text-align: left;\">c4000BC</td><td style = \"text-align: right;\">139</td><td style = \"text-align: right;\">130</td><td style = \"text-align: right;\">108</td><td style = \"text-align: right;\">48</td></tr><tr><td class = \"rowNumber\" style = \"font-weight: bold; text-align: right;\">8</td><td style = \"text-align: left;\">c4000BC</td><td style = \"text-align: right;\">125</td><td style = \"text-align: right;\">136</td><td style = \"text-align: right;\">93</td><td style = \"text-align: right;\">48</td></tr><tr><td class = \"rowNumber\" style = \"font-weight: bold; text-align: right;\">9</td><td style = \"text-align: left;\">c4000BC</td><td style = \"text-align: right;\">131</td><td style = \"text-align: right;\">134</td><td style = \"text-align: right;\">102</td><td style = \"text-align: right;\">51</td></tr><tr><td class = \"rowNumber\" style = \"font-weight: bold; text-align: right;\">10</td><td style = \"text-align: left;\">c4000BC</td><td style = \"text-align: right;\">134</td><td style = \"text-align: right;\">134</td><td style = \"text-align: right;\">99</td><td style = \"text-align: right;\">51</td></tr><tr><td class = \"rowNumber\" style = \"font-weight: bold; text-align: right;\">11</td><td style = \"text-align: left;\">c4000BC</td><td style = \"text-align: right;\">129</td><td style = \"text-align: right;\">138</td><td style = \"text-align: right;\">95</td><td style = \"text-align: right;\">50</td></tr><tr><td class = \"rowNumber\" style = \"font-weight: bold; text-align: right;\">12</td><td style = \"text-align: left;\">c4000BC</td><td style = \"text-align: right;\">134</td><td style = \"text-align: right;\">121</td><td style = \"text-align: right;\">95</td><td style = \"text-align: right;\">53</td></tr><tr><td class = \"rowNumber\" style = \"font-weight: bold; text-align: right;\">13</td><td style = \"text-align: left;\">c4000BC</td><td style = \"text-align: right;\">126</td><td style = \"text-align: right;\">129</td><td style = \"text-align: right;\">109</td><td style = \"text-align: right;\">51</td></tr><tr><td style = \"text-align: right;\">&vellip;</td><td style = \"text-align: right;\">&vellip;</td><td style = \"text-align: right;\">&vellip;</td><td style = \"text-align: right;\">&vellip;</td><td style = \"text-align: right;\">&vellip;</td><td style = \"text-align: right;\">&vellip;</td></tr><tr><td class = \"rowNumber\" style = \"font-weight: bold; text-align: right;\">139</td><td style = \"text-align: left;\">cAD150</td><td style = \"text-align: right;\">133</td><td style = \"text-align: right;\">125</td><td style = \"text-align: right;\">92</td><td style = \"text-align: right;\">50</td></tr><tr><td class = \"rowNumber\" style = \"font-weight: bold; text-align: right;\">140</td><td style = \"text-align: left;\">cAD150</td><td style = \"text-align: right;\">145</td><td style = \"text-align: right;\">129</td><td style = \"text-align: right;\">89</td><td style = \"text-align: right;\">47</td></tr><tr><td class = \"rowNumber\" style = \"font-weight: bold; text-align: right;\">141</td><td style = \"text-align: left;\">cAD150</td><td style = \"text-align: right;\">138</td><td style = \"text-align: right;\">136</td><td style = \"text-align: right;\">92</td><td style = \"text-align: right;\">46</td></tr><tr><td class = \"rowNumber\" style = \"font-weight: bold; text-align: right;\">142</td><td style = \"text-align: left;\">cAD150</td><td style = \"text-align: right;\">131</td><td style = \"text-align: right;\">129</td><td style = \"text-align: right;\">97</td><td style = \"text-align: right;\">44</td></tr><tr><td class = \"rowNumber\" style = \"font-weight: bold; text-align: right;\">143</td><td style = \"text-align: left;\">cAD150</td><td style = \"text-align: right;\">143</td><td style = \"text-align: right;\">126</td><td style = \"text-align: right;\">88</td><td style = \"text-align: right;\">54</td></tr><tr><td class = \"rowNumber\" style = \"font-weight: bold; text-align: right;\">144</td><td style = \"text-align: left;\">cAD150</td><td style = \"text-align: right;\">134</td><td style = \"text-align: right;\">124</td><td style = \"text-align: right;\">91</td><td style = \"text-align: right;\">55</td></tr><tr><td class = \"rowNumber\" style = \"font-weight: bold; text-align: right;\">145</td><td style = \"text-align: left;\">cAD150</td><td style = \"text-align: right;\">132</td><td style = \"text-align: right;\">127</td><td style = \"text-align: right;\">97</td><td style = \"text-align: right;\">52</td></tr><tr><td class = \"rowNumber\" style = \"font-weight: bold; text-align: right;\">146</td><td style = \"text-align: left;\">cAD150</td><td style = \"text-align: right;\">137</td><td style = \"text-align: right;\">125</td><td style = \"text-align: right;\">85</td><td style = \"text-align: right;\">57</td></tr><tr><td class = \"rowNumber\" style = \"font-weight: bold; text-align: right;\">147</td><td style = \"text-align: left;\">cAD150</td><td style = \"text-align: right;\">129</td><td style = \"text-align: right;\">128</td><td style = \"text-align: right;\">81</td><td style = \"text-align: right;\">52</td></tr><tr><td class = \"rowNumber\" style = \"font-weight: bold; text-align: right;\">148</td><td style = \"text-align: left;\">cAD150</td><td style = \"text-align: right;\">140</td><td style = \"text-align: right;\">135</td><td style = \"text-align: right;\">103</td><td style = \"text-align: right;\">48</td></tr><tr><td class = \"rowNumber\" style = \"font-weight: bold; text-align: right;\">149</td><td style = \"text-align: left;\">cAD150</td><td style = \"text-align: right;\">147</td><td style = \"text-align: right;\">129</td><td style = \"text-align: right;\">87</td><td style = \"text-align: right;\">48</td></tr><tr><td class = \"rowNumber\" style = \"font-weight: bold; text-align: right;\">150</td><td style = \"text-align: left;\">cAD150</td><td style = \"text-align: right;\">136</td><td style = \"text-align: right;\">133</td><td style = \"text-align: right;\">97</td><td style = \"text-align: right;\">51</td></tr></tbody></table></div>"
      ],
      "text/latex": [
       "\\begin{tabular}{r|ccccc}\n",
       "\t& epoch & mb & bh & bl & nh\\\\\n",
       "\t\\hline\n",
       "\t& String7 & Int64 & Int64 & Int64 & Int64\\\\\n",
       "\t\\hline\n",
       "\t1 & c4000BC & 131 & 138 & 89 & 49 \\\\\n",
       "\t2 & c4000BC & 125 & 131 & 92 & 48 \\\\\n",
       "\t3 & c4000BC & 131 & 132 & 99 & 50 \\\\\n",
       "\t4 & c4000BC & 119 & 132 & 96 & 44 \\\\\n",
       "\t5 & c4000BC & 136 & 143 & 100 & 54 \\\\\n",
       "\t6 & c4000BC & 138 & 137 & 89 & 56 \\\\\n",
       "\t7 & c4000BC & 139 & 130 & 108 & 48 \\\\\n",
       "\t8 & c4000BC & 125 & 136 & 93 & 48 \\\\\n",
       "\t9 & c4000BC & 131 & 134 & 102 & 51 \\\\\n",
       "\t10 & c4000BC & 134 & 134 & 99 & 51 \\\\\n",
       "\t11 & c4000BC & 129 & 138 & 95 & 50 \\\\\n",
       "\t12 & c4000BC & 134 & 121 & 95 & 53 \\\\\n",
       "\t13 & c4000BC & 126 & 129 & 109 & 51 \\\\\n",
       "\t14 & c4000BC & 132 & 136 & 100 & 50 \\\\\n",
       "\t15 & c4000BC & 141 & 140 & 100 & 51 \\\\\n",
       "\t16 & c4000BC & 131 & 134 & 97 & 54 \\\\\n",
       "\t17 & c4000BC & 135 & 137 & 103 & 50 \\\\\n",
       "\t18 & c4000BC & 132 & 133 & 93 & 53 \\\\\n",
       "\t19 & c4000BC & 139 & 136 & 96 & 50 \\\\\n",
       "\t20 & c4000BC & 132 & 131 & 101 & 49 \\\\\n",
       "\t21 & c4000BC & 126 & 133 & 102 & 51 \\\\\n",
       "\t22 & c4000BC & 135 & 135 & 103 & 47 \\\\\n",
       "\t23 & c4000BC & 134 & 124 & 93 & 53 \\\\\n",
       "\t24 & c4000BC & 128 & 134 & 103 & 50 \\\\\n",
       "\t25 & c4000BC & 130 & 130 & 104 & 49 \\\\\n",
       "\t26 & c4000BC & 138 & 135 & 100 & 55 \\\\\n",
       "\t27 & c4000BC & 128 & 132 & 93 & 53 \\\\\n",
       "\t28 & c4000BC & 127 & 129 & 106 & 48 \\\\\n",
       "\t29 & c4000BC & 131 & 136 & 114 & 54 \\\\\n",
       "\t30 & c4000BC & 124 & 138 & 101 & 46 \\\\\n",
       "\t$\\dots$ & $\\dots$ & $\\dots$ & $\\dots$ & $\\dots$ & $\\dots$ \\\\\n",
       "\\end{tabular}\n"
      ],
      "text/plain": [
       "\u001b[1m150×5 DataFrame\u001b[0m\n",
       "\u001b[1m Row \u001b[0m│\u001b[1m epoch   \u001b[0m\u001b[1m mb    \u001b[0m\u001b[1m bh    \u001b[0m\u001b[1m bl    \u001b[0m\u001b[1m nh    \u001b[0m\n",
       "     │\u001b[90m String7 \u001b[0m\u001b[90m Int64 \u001b[0m\u001b[90m Int64 \u001b[0m\u001b[90m Int64 \u001b[0m\u001b[90m Int64 \u001b[0m\n",
       "─────┼─────────────────────────────────────\n",
       "   1 │ c4000BC    131    138     89     49\n",
       "   2 │ c4000BC    125    131     92     48\n",
       "   3 │ c4000BC    131    132     99     50\n",
       "   4 │ c4000BC    119    132     96     44\n",
       "   5 │ c4000BC    136    143    100     54\n",
       "   6 │ c4000BC    138    137     89     56\n",
       "   7 │ c4000BC    139    130    108     48\n",
       "   8 │ c4000BC    125    136     93     48\n",
       "   9 │ c4000BC    131    134    102     51\n",
       "  10 │ c4000BC    134    134     99     51\n",
       "  11 │ c4000BC    129    138     95     50\n",
       "  ⋮  │    ⋮       ⋮      ⋮      ⋮      ⋮\n",
       " 141 │ cAD150     138    136     92     46\n",
       " 142 │ cAD150     131    129     97     44\n",
       " 143 │ cAD150     143    126     88     54\n",
       " 144 │ cAD150     134    124     91     55\n",
       " 145 │ cAD150     132    127     97     52\n",
       " 146 │ cAD150     137    125     85     57\n",
       " 147 │ cAD150     129    128     81     52\n",
       " 148 │ cAD150     140    135    103     48\n",
       " 149 │ cAD150     147    129     87     48\n",
       " 150 │ cAD150     136    133     97     51\n",
       "\u001b[36m                           129 rows omitted\u001b[0m"
      ]
     },
     "execution_count": 9,
     "metadata": {},
     "output_type": "execute_result"
    }
   ],
   "source": [
    "using CSV, DataFrames\n",
    "\n",
    "# Load the skulls dataset\n",
    "skulls = CSV.read(\"/Users/VSR/Desktop/Capstone/ANOVA/skulls.csv\", DataFrame)\n"
   ]
  },
  {
   "cell_type": "code",
   "execution_count": 10,
   "id": "29e73297-04ef-4b04-9b54-07afd293bb1a",
   "metadata": {},
   "outputs": [
    {
     "data": {
      "text/plain": [
       "150×2 Matrix{Any}:\n",
       " 1.0  String7(\"c4000BC\")\n",
       " 1.0  String7(\"c4000BC\")\n",
       " 1.0  String7(\"c4000BC\")\n",
       " 1.0  String7(\"c4000BC\")\n",
       " 1.0  String7(\"c4000BC\")\n",
       " 1.0  String7(\"c4000BC\")\n",
       " 1.0  String7(\"c4000BC\")\n",
       " 1.0  String7(\"c4000BC\")\n",
       " 1.0  String7(\"c4000BC\")\n",
       " 1.0  String7(\"c4000BC\")\n",
       " 1.0  String7(\"c4000BC\")\n",
       " 1.0  String7(\"c4000BC\")\n",
       " 1.0  String7(\"c4000BC\")\n",
       " ⋮    \n",
       " 1.0  String7(\"cAD150\")\n",
       " 1.0  String7(\"cAD150\")\n",
       " 1.0  String7(\"cAD150\")\n",
       " 1.0  String7(\"cAD150\")\n",
       " 1.0  String7(\"cAD150\")\n",
       " 1.0  String7(\"cAD150\")\n",
       " 1.0  String7(\"cAD150\")\n",
       " 1.0  String7(\"cAD150\")\n",
       " 1.0  String7(\"cAD150\")\n",
       " 1.0  String7(\"cAD150\")\n",
       " 1.0  String7(\"cAD150\")\n",
       " 1.0  String7(\"cAD150\")"
      ]
     },
     "execution_count": 10,
     "metadata": {},
     "output_type": "execute_result"
    }
   ],
   "source": [
    "using Statistics\n",
    "\n",
    "# Response matrix Y (dependent variables: mb, bh, bl, nh)\n",
    "Y = Matrix(skulls[:, [:mb, :bh, :bl, :nh]])\n",
    "\n",
    "# Encode epoch as categorical\n",
    "skulls.epoch = categorical(skulls.epoch)\n",
    "X = hcat(ones(nrow(skulls)), Matrix(skulls[:, [:epoch]]))\n"
   ]
  },
  {
   "cell_type": "code",
   "execution_count": 11,
   "id": "62f33ab3-7ecd-4059-a4ec-7629ce8571a9",
   "metadata": {},
   "outputs": [
    {
     "data": {
      "text/plain": [
       "4×4 Matrix{Float64}:\n",
       "  502.827  -228.147   -626.627   135.433\n",
       " -228.147   229.907    292.28    -66.0667\n",
       " -626.627   292.28     803.293  -180.733\n",
       "  135.433   -66.0667  -180.733    61.2"
      ]
     },
     "execution_count": 11,
     "metadata": {},
     "output_type": "execute_result"
    }
   ],
   "source": [
    "# Mean vector of Y\n",
    "Y_bar = mean(Y, dims=1)\n",
    "\n",
    "# Compute the total SSCP matrix\n",
    "T = (Y .- Y_bar)' * (Y .- Y_bar)\n",
    "\n",
    "# Compute the within-group SSCP matrix\n",
    "groups = groupby(skulls, :epoch)\n",
    "W = zeros(4, 4)  # There are 4 measurements: mb, bh, bl, nh\n",
    "for g in groups\n",
    "    Y_g = Matrix(g[:, [:mb, :bh, :bl, :nh]])\n",
    "    Y_g_bar = mean(Y_g, dims=1)\n",
    "    W += (Y_g .- Y_g_bar)' * (Y_g .- Y_g_bar)\n",
    "end\n",
    "\n",
    "# Between-group SSCP matrix\n",
    "B = T - W\n"
   ]
  },
  {
   "cell_type": "code",
   "execution_count": 12,
   "id": "522540a5-ef44-49a0-a25f-34e0c621d756",
   "metadata": {},
   "outputs": [
    {
     "name": "stdout",
     "output_type": "stream",
     "text": [
      "Hotelling-Lawley Trace: 0.48181907888097136\n"
     ]
    }
   ],
   "source": [
    "using LinearAlgebra\n",
    "\n",
    "# Compute the Hotelling-Lawley trace\n",
    "W_inv = inv(W)\n",
    "eigvals_ = LinearAlgebra.eigvals\n",
    "\n",
    "# Compute the eigenvalues of W⁻¹B\n",
    "eigvals_result = eigvals_(W_inv * B)\n",
    "\n",
    "# Hotelling-Lawley trace is the sum of the eigenvalues\n",
    "hotelling_lawley_trace = sum(eigvals_result)\n",
    "\n",
    "println(\"Hotelling-Lawley Trace: \", hotelling_lawley_trace)\n"
   ]
  },
  {
   "cell_type": "code",
   "execution_count": 15,
   "id": "82e9a50f-1467-48a2-9091-7efef7f2d6bd",
   "metadata": {},
   "outputs": [
    {
     "name": "stdout",
     "output_type": "stream",
     "text": [
      "Pillai's Trace: 0.3533055662224513\n"
     ]
    }
   ],
   "source": [
    "using LinearAlgebra\n",
    "\n",
    "# Define trace function (sum of diagonal elements)\n",
    "trace(M) = sum(diag(M))\n",
    "\n",
    "# Compute the matrix (W + B)\n",
    "W_plus_B = W + B\n",
    "\n",
    "# Invert the (W + B) matrix\n",
    "W_plus_B_inv = inv(W_plus_B)\n",
    "\n",
    "# Compute the product (W + B)⁻¹ * B\n",
    "product_matrix = W_plus_B_inv * B\n",
    "\n",
    "# Compute Pillai's trace (sum of the diagonal elements)\n",
    "pillai_trace = trace(product_matrix)\n",
    "\n",
    "println(\"Pillai's Trace: \", pillai_trace)\n"
   ]
  },
  {
   "cell_type": "code",
   "execution_count": 16,
   "id": "0cda77e6-d2c5-4b2e-a06b-f10ba47793c1",
   "metadata": {},
   "outputs": [
    {
     "name": "stdout",
     "output_type": "stream",
     "text": [
      "Wilks' Lambda: 0.6635857985781096\n"
     ]
    }
   ],
   "source": [
    "using LinearAlgebra\n",
    "\n",
    "# Compute the total SSCP matrix (W + B)\n",
    "W_plus_B = W + B\n",
    "\n",
    "# Compute the determinant of W and (W + B)\n",
    "det_W = det(W)\n",
    "det_W_plus_B = det(W_plus_B)\n",
    "\n",
    "# Compute Wilks' Lambda\n",
    "wilks_lambda = det_W / det_W_plus_B\n",
    "\n",
    "println(\"Wilks' Lambda: \", wilks_lambda)\n"
   ]
  },
  {
   "cell_type": "code",
   "execution_count": 17,
   "id": "238d7cc0-f4b8-4043-b559-43787f3099ea",
   "metadata": {},
   "outputs": [
    {
     "name": "stdout",
     "output_type": "stream",
     "text": [
      "ANOVA for mb:\n",
      "\n",
      "Analysis of Variance Results\n",
      "\n",
      "Effect        SS   DF        MS        F            p        ω²\n",
      "---------------------------------------------------------------\n",
      " Total  3563.89   149                                          \n",
      " epoch   502.827    4  125.707   5.95461  0.000182632  0.116704\n",
      " Error  3061.07   145   21.1108                                \n",
      "\n",
      "\n",
      "ANOVA for bh:\n",
      "\n",
      "Analysis of Variance Results\n",
      "\n",
      "Effect        SS   DF       MS        F          p         ω²\n",
      "-------------------------------------------------------------\n",
      " Total  3635.17   149                                        \n",
      " epoch   229.907    4  57.4767  2.44742  0.0489699  0.0371634\n",
      " Error  3405.27   145  23.4846                               \n",
      "\n",
      "\n",
      "ANOVA for bl:\n",
      "\n",
      "Analysis of Variance Results\n",
      "\n",
      "Effect        SS   DF        MS        F           p        ω²\n",
      "--------------------------------------------------------------\n",
      " Total  4309.26   149                                         \n",
      " epoch   803.293    4  200.823   8.30566  4.63639e-6  0.163052\n",
      " Error  3505.97   145   24.1791                               \n",
      "\n",
      "\n",
      "ANOVA for nh:\n",
      "\n",
      "Analysis of Variance Results\n",
      "\n",
      "Effect       SS   DF       MS      F         p         ω²\n",
      "---------------------------------------------------------\n",
      " Total  1533.33  149                                     \n",
      " epoch    61.2     4  15.3     1.507  0.203179  0.0133396\n",
      " Error  1472.13  145  10.1526                            \n",
      "\n"
     ]
    }
   ],
   "source": [
    "using SimpleANOVA, DataFrames\n",
    "\n",
    "# Perform ANOVA for each dependent variable (mb, bh, bl, nh)\n",
    "\n",
    "# ANOVA for mb\n",
    "anova_mb = anova(skulls, :mb, [:epoch])\n",
    "\n",
    "# ANOVA for bh\n",
    "anova_bh = anova(skulls, :bh, [:epoch])\n",
    "\n",
    "# ANOVA for bl\n",
    "anova_bl = anova(skulls, :bl, [:epoch])\n",
    "\n",
    "# ANOVA for nh\n",
    "anova_nh = anova(skulls, :nh, [:epoch])\n",
    "\n",
    "# Display results\n",
    "println(\"ANOVA for mb:\")\n",
    "println(anova_mb)\n",
    "println(\"\\nANOVA for bh:\")\n",
    "println(anova_bh)\n",
    "println(\"\\nANOVA for bl:\")\n",
    "println(anova_bl)\n",
    "println(\"\\nANOVA for nh:\")\n",
    "println(anova_nh)\n"
   ]
  },
  {
   "cell_type": "code",
   "execution_count": null,
   "id": "40549a45-6f44-43ed-803e-5b4a4bca487b",
   "metadata": {},
   "outputs": [],
   "source": []
  },
  {
   "cell_type": "code",
   "execution_count": null,
   "id": "8929a4f8-5db0-4968-9ff0-1020898ace1a",
   "metadata": {},
   "outputs": [],
   "source": []
  }
 ],
 "metadata": {
  "kernelspec": {
   "display_name": "Julia 1.10.5",
   "language": "julia",
   "name": "julia-1.10"
  },
  "language_info": {
   "file_extension": ".jl",
   "mimetype": "application/julia",
   "name": "julia",
   "version": "1.10.5"
  }
 },
 "nbformat": 4,
 "nbformat_minor": 5
}
